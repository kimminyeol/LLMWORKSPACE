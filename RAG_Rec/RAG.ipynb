{
 "cells": [
  {
   "cell_type": "code",
   "execution_count": 1,
   "metadata": {},
   "outputs": [],
   "source": [
    "import os\n",
    "import sys\n",
    "from langchain_community.document_loaders.csv_loader import CSVLoader\n",
    "from pathlib import Path\n",
    "from langchain_openai import ChatOpenAI,OpenAIEmbeddings\n",
    "import os\n",
    "from dotenv import load_dotenv\n",
    "load_dotenv()\n",
    "from langchain.document_loaders import CSVLoader\n",
    "from langchain.text_splitter import TextSplitter\n",
    "from langchain.vectorstores import FAISS\n",
    "from langchain.embeddings import HuggingFaceEmbeddings\n",
    "from langchain.prompts import PromptTemplate\n",
    "\n",
    "\n",
    "os.chdir('/Users/mac/AIworkspace/LLMWORKSPACE/RAG_Rec')\n",
    "# Set the OpenAI API key environment variable\n",
    "os.environ[\"OPENAI_API_KEY\"] = os.getenv('OPENAI_API_KEY')"
   ]
  },
  {
   "cell_type": "code",
   "execution_count": 2,
   "metadata": {},
   "outputs": [
    {
     "name": "stdout",
     "output_type": "stream",
     "text": [
      "/Users/mac/AIworkspace/LLMWORKSPACE/RAG_Rec\n"
     ]
    }
   ],
   "source": [
    "import os\n",
    "print(os.getcwd())"
   ]
  },
  {
   "cell_type": "code",
   "execution_count": 3,
   "metadata": {},
   "outputs": [
    {
     "data": {
      "text/plain": [
       "\"Girl, Interrupted (1999) (Drama) ratings: 4 // Back to the Future (1985) (Comedy|Sci-Fi) ratings: 5 // Titanic (1997) (Drama|Romance) ratings: 4 // Cinderella (1950) (Animation|Children's|Musical) ratings: 5 // Meet Joe Black (1998) (Romance) ratings: 3 // Last Days of Disco, The (1998) (Drama) ratings: 5 // Erin Brockovich (2000) (Drama) ratings: 4 // Christmas Story, A (1983) (Comedy|Drama) ratings: 5 // To Kill a Mockingbird (1962) (Drama) ratings: 4 // One Flew Over the Cuckoo's Nest (1975) (Drama) ratings: 5 // Wallace & Gromit: The Best of Aardman Animation (1996) (Animation) ratings: 3 // Star Wars: Episode IV - A New Hope (1977) (Action|Adventure|Fantasy|Sci-Fi) ratings: 4 // Wizard of Oz, The (1939) (Adventure|Children's|Drama|Musical) ratings: 4 // Fargo (1996) (Crime|Drama|Thriller) ratings: 4 // Run Lola Run (Lola rennt) (1998) (Action|Crime|Romance) ratings: 4 // Rain Man (1988) (Drama) ratings: 5 // Saving Private Ryan (1998) (Action|Drama|War) ratings: 5 // Awakenings (1990) (Drama) ratings: 5 // Gigi (1958) (Musical) ratings: 4 // Sound of Music, The (1965) (Musical) ratings: 5 // Driving Miss Daisy (1989) (Drama) ratings: 4 // Bambi (1942) (Animation|Children's) ratings: 4 // Apollo 13 (1995) (Drama) ratings: 5 // Mary Poppins (1964) (Children's|Comedy|Musical) ratings: 5 // E.T. the Extra-Terrestrial (1982) (Children's|Drama|Fantasy|Sci-Fi) ratings: 4 // My Fair Lady (1964) (Musical|Romance) ratings: 3 // Ben-Hur (1959) (Action|Adventure|Drama) ratings: 5 // Big (1988) (Comedy|Fantasy) ratings: 4 // Sixth Sense, The (1999) (Thriller) ratings: 4 // Dead Poets Society (1989) (Drama) ratings: 4 // James and the Giant Peach (1996) (Animation|Children's|Musical) ratings: 3 // Ferris Bueller's Day Off (1986) (Comedy) ratings: 4 // Secret Garden, The (1993) (Children's|Drama) ratings: 4 // Toy Story 2 (1999) (Animation|Children's|Comedy) ratings: 4 // Airplane! (1980) (Comedy) ratings: 4 // Pleasantville (1998) (Comedy) ratings: 3 // Dumbo (1941) (Animation|Children's|Musical) ratings: 5 // Princess Bride, The (1987) (Action|Adventure|Comedy|Romance) ratings: 3 // Snow White and the Seven Dwarfs (1937) (Animation|Children's|Musical) ratings: 4 // Miracle on 34th Street (1947) (Drama) ratings: 4 // Ponette (1996) (Drama) ratings: 4 // Schindler's List (1993) (Drama|War) ratings: 5 // Beauty and the Beast (1991) (Animation|Children's|Musical) ratings: 5 // Tarzan (1999) (Animation|Children's) ratings: 3 // Close Shave, A (1995) (Animation|Comedy|Thriller) ratings: 3 // Aladdin (1992) (Animation|Children's|Comedy|Musical) ratings: 4 // Toy Story (1995) (Animation|Children's|Comedy) ratings: 5 // Bug's Life, A (1998) (Animation|Children's|Comedy) ratings: 5 // Antz (1998) (Animation|Children's) ratings: 4 // Hunchback of Notre Dame, The (1996) (Animation|Children's|Musical) ratings: 4 // Hercules (1997) (Adventure|Animation|Children's|Comedy|Musical) ratings: 4 // Mulan (1998) (Animation|Children's) ratings: 4\""
      ]
     },
     "execution_count": 3,
     "metadata": {},
     "output_type": "execute_result"
    }
   ],
   "source": [
    "import pandas as pd\n",
    "\n",
    "# file_path = ('data/movie_record_per_user.csv')\n",
    "file_path='data/train_movie.csv'\n",
    "file_path_test='data/test_movie.csv'\n",
    "\n",
    "data = pd.read_csv(file_path)\n",
    "data['movie_explain'][0]"
   ]
  },
  {
   "cell_type": "code",
   "execution_count": 4,
   "metadata": {},
   "outputs": [
    {
     "name": "stdout",
     "output_type": "stream",
     "text": [
      "평균 글자 수: 9210.526158940398\n"
     ]
    }
   ],
   "source": [
    "# 각 텍스트 데이터의 길이 계산\n",
    "data['text_length'] = data['movie_explain'].apply(len)\n",
    "\n",
    "# 평균 글자 수 계산\n",
    "average_length = data['text_length'].mean()\n",
    "\n",
    "# 결과 출력\n",
    "print(f\"평균 글자 수: {average_length}\")\n"
   ]
  },
  {
   "cell_type": "code",
   "execution_count": null,
   "metadata": {},
   "outputs": [],
   "source": [
    "data['movie_explain'].mean()"
   ]
  },
  {
   "cell_type": "code",
   "execution_count": 30,
   "metadata": {},
   "outputs": [],
   "source": [
    "\n",
    "# // 를 기준으로 자르기 \n",
    "class CustomDelimiterTextSplitter(TextSplitter):\n",
    "    def __init__(self, delimiter=\"//\", chunk_size=500, chunk_overlap=200):\n",
    "        self.delimiter = delimiter\n",
    "        self.chunk_size = chunk_size\n",
    "        self.chunk_overlap = chunk_overlap\n",
    "\n",
    "    def split_text(self, text):\n",
    "        sections = text.split(self.delimiter)\n",
    "        chunks = []\n",
    "        current_chunk = \"\"\n",
    "\n",
    "        for section in sections:\n",
    "            # 현재 청크에 텍스트를 추가할 수 있으면 추가\n",
    "            if len(current_chunk) + len(section) + len(self.delimiter) <= self.chunk_size:\n",
    "                if current_chunk:\n",
    "                    current_chunk += self.delimiter + section\n",
    "                else:\n",
    "                    current_chunk = section\n",
    "            else:\n",
    "                # 청크가 가득 찬 경우 저장하고 초기화\n",
    "                chunks.append(current_chunk.strip())\n",
    "                current_chunk = section\n",
    "\n",
    "        # 마지막 청크 추가\n",
    "        if current_chunk:\n",
    "            chunks.append(current_chunk.strip())\n",
    "\n",
    "        return chunks\n",
    "\n",
    "# CSV 파일 로드\n",
    "loader = CSVLoader(file_path=file_path)\n",
    "documents = loader.load()\n",
    "\n",
    "# 각 행에 대해 청킹 수행 및 임베딩\n",
    "text_splitter = CustomDelimiterTextSplitter(delimiter=\"//\", chunk_size=500, chunk_overlap=200)\n",
    "all_chunks = []  # 모든 유저의 청킹 결과를 저장할 리스트\n",
    "\n",
    "for document in documents:\n",
    "    page_content = document.page_content  # 현재 유저의 텍스트\n",
    "    chunks = text_splitter.split_text(page_content)  # 유저별 청킹\n",
    "    all_chunks.extend(chunks)  # 청킹된 모든 텍스트를 리스트에 추가\n",
    "\n",
    "# 임베딩 생성\n",
    "embeddings = HuggingFaceEmbeddings(model_name=\"sentence-transformers/all-MiniLM-L6-v2\")\n",
    "\n",
    "# 벡터 스토어 생성\n",
    "vectorstore = FAISS.from_texts(all_chunks, embeddings)\n",
    "\n",
    "# 벡터 스토어 저장 (옵션)\n",
    "vectorstore.save_local(\"vectorstore_index_ratings_500\")\n"
   ]
  },
  {
   "cell_type": "markdown",
   "metadata": {},
   "source": [
    "- 벡터스토어 불러오기"
   ]
  },
  {
   "cell_type": "code",
   "execution_count": 23,
   "metadata": {},
   "outputs": [
    {
     "name": "stderr",
     "output_type": "stream",
     "text": [
      "/opt/anaconda3/envs/kmy_env/lib/python3.12/site-packages/transformers/tokenization_utils_base.py:1601: FutureWarning: `clean_up_tokenization_spaces` was not set. It will be set to `True` by default. This behavior will be depracted in transformers v4.45, and will be then set to `False` by default. For more details check this issue: https://github.com/huggingface/transformers/issues/31884\n",
      "  warnings.warn(\n"
     ]
    }
   ],
   "source": [
    "# 동일한 임베딩 모델 설정 (저장 시 사용한 것과 동일해야 함)\n",
    "embeddings = HuggingFaceEmbeddings(model_name=\"sentence-transformers/all-MiniLM-L6-v2\")\n",
    "\n",
    "# 저장된 벡터스토어 불러오기\n",
    "vectorstore = FAISS.load_local(\"vectorstore_index_ratings_500\", embeddings, allow_dangerous_deserialization=True)\n"
   ]
  },
  {
   "cell_type": "markdown",
   "metadata": {},
   "source": [
    "### test\n",
    " Transformers: The Movie, The (1986)Action|Animation|Children's|Sci-Fi|Thriller|War // How I Won the War (1967)Comedy|War // Peacemaker, The (1997)Action|Thriller|War // Devil's Own, The (1997)Action|Drama|Thriller|War // Heartbreak Ridge (1986)Action|War // Hot Shots! Part Deux (1993)Action|Comedy|War // Devil's Brigade, The (1968)War // Canadian Bacon (1994)Comedy|War // Renaissance Man (1994)Comedy|Drama|War // Heaven & Earth (1993)Action|Drama|War"
   ]
  },
  {
   "cell_type": "code",
   "execution_count": 5,
   "metadata": {},
   "outputs": [
    {
     "data": {
      "text/plain": [
       "\"Breakfast Club, The (1985) (Comedy|Drama) ratings: 4 // North by Northwest (1959) (Drama|Thriller) ratings: 4 // Home Alone (1990) (Children's|Comedy) ratings: 3 // Saving Private Ryan (1998) (Action|Drama|War) ratings: 5 // Little Shop of Horrors (1986) (Comedy|Horror|Musical) ratings: 4 // Cyrano de Bergerac (1990) (Action|Drama|Romance) ratings: 5 // Room with a View, A (1986) (Drama|Romance) ratings: 4 // Shop Around the Corner, The (1940) (Comedy|Romance) ratings: 4 // Singin' in the Rain (1952) (Musical|Romance) ratings: 5 // Shakespeare in Love (1998) (Comedy|Romance) ratings: 5 // Strictly Ballroom (1992) (Comedy|Romance) ratings: 5 // Roman Holiday (1953) (Comedy|Romance) ratings: 4 // Rebecca (1940) (Romance|Thriller) ratings: 4 // Like Water for Chocolate (Como agua para chocolate) (1992) (Drama|Romance) ratings: 4 // Persuasion (1995) (Romance) ratings: 5 // Broadcast News (1987) (Comedy|Drama|Romance) ratings: 4 // Gone with the Wind (1939) (Drama|Romance|War) ratings: 5 // Top Hat (1935) (Comedy|Musical|Romance) ratings: 4 // African Queen, The (1951) (Action|Adventure|Romance|War) ratings: 4 // Crying Game, The (1992) (Drama|Romance|War) ratings: 4 // Much Ado About Nothing (1993) (Comedy|Romance) ratings: 4 // Chasing Amy (1997) (Drama|Romance) ratings: 2 // Witness (1985) (Drama|Romance|Thriller) ratings: 5 // Dangerous Liaisons (1988) (Drama|Romance) ratings: 4 // When Harry Met Sally... (1989) (Comedy|Romance) ratings: 5 // Four Weddings and a Funeral (1994) (Comedy|Romance) ratings: 3 // Lady and the Tramp (1955) (Animation|Children's|Comedy|Musical|Romance) ratings: 4 // Emma (1996) (Comedy|Drama|Romance) ratings: 4 // Dead Again (1991) (Mystery|Romance|Thriller) ratings: 4 // Breakfast at Tiffany's (1961) (Drama|Romance) ratings: 3 // Charade (1963) (Comedy|Mystery|Romance|Thriller) ratings: 4 // To Catch a Thief (1955) (Comedy|Romance|Thriller) ratings: 4 // Shadowlands (1993) (Drama|Romance) ratings: 3 // Prizzi's Honor (1985) (Comedy|Drama|Romance) ratings: 3 // Splash (1984) (Comedy|Fantasy|Romance) ratings: 4 // Little Mermaid, The (1989) (Animation|Children's|Comedy|Musical|Romance) ratings: 5 // Sabrina (1954) (Comedy|Romance) ratings: 5 // Groundhog Day (1993) (Comedy|Romance) ratings: 4 // My Fair Lady (1964) (Musical|Romance) ratings: 5 // William Shakespeare's Romeo and Juliet (1996) (Drama|Romance) ratings: 3 // Star Wars: Episode VI - Return of the Jedi (1983) (Action|Adventure|Romance|Sci-Fi|War) ratings: 5 // English Patient, The (1996) (Drama|Romance|War) ratings: 3 // Dave (1993) (Comedy|Romance) ratings: 4 // Purple Rose of Cairo, The (1985) (Comedy|Drama|Romance) ratings: 4 // Shine (1996) (Drama|Romance) ratings: 3 // Speed (1994) (Action|Romance|Thriller) ratings: 3\""
      ]
     },
     "execution_count": 5,
     "metadata": {},
     "output_type": "execute_result"
    }
   ],
   "source": [
    "\n",
    "len(data.iloc[105]['movie_explain'])\n",
    "purchase_history=data.iloc[105]['movie_explain']\n",
    "purchase_history"
   ]
  },
  {
   "cell_type": "code",
   "execution_count": 36,
   "metadata": {},
   "outputs": [
    {
     "data": {
      "text/plain": [
       "movie_explain    Starman (1984) (Adventure|Drama|Romance|Sci-Fi) ratings: 3\n",
       "Name: 105, dtype: object"
      ]
     },
     "execution_count": 36,
     "metadata": {},
     "output_type": "execute_result"
    }
   ],
   "source": [
    "df_test=pd.read_csv(file_path_test)\n",
    "pd.set_option('display.max_colwidth', None)\n",
    "df_test.iloc[105]"
   ]
  },
  {
   "cell_type": "code",
   "execution_count": 16,
   "metadata": {},
   "outputs": [],
   "source": [
    "# query = f\"Movies similar to those in this list: {purchase_history}\"\n",
    "# purchase_history=data.iloc[105]['movie_explain']\n",
    "# # query = f\"What movies do users watch after these: {purchase_history}?\""
   ]
  },
  {
   "cell_type": "code",
   "execution_count": 53,
   "metadata": {},
   "outputs": [
    {
     "data": {
      "text/plain": [
       "\"Sabrina (1954) (Comedy|Romance) ratings: 4 // Star Wars: Episode VI - Return of the Jedi (1983) (Action|Adventure|Romance|Sci-Fi|War) ratings: 4 // Last of the Mohicans, The (1992) (Action|Romance|War) ratings: 1 // Walking and Talking (1996) (Romance) ratings: 3 // Emma (1996) (Comedy|Drama|Romance) ratings: 4 // Living Out Loud (1998) (Comedy|Romance) ratings: 3 // Mrs. Brown (Her Majesty, Mrs. Brown) (1997) (Drama|Romance) ratings: 3 // Splash (1984) (Comedy|Fantasy|Romance) ratings: 4\\nSabrina (1954) (Comedy|Romance) ratings: 5 // Cinema Paradiso (1988) (Comedy|Drama|Romance) ratings: 5 // Bell, Book and Candle (1958) (Comedy|Romance) ratings: 4 // Gay Divorcee, The (1934) (Comedy|Musical|Romance) ratings: 4 // American President, The (1995) (Comedy|Drama|Romance) ratings: 4 // Clueless (1995) (Comedy|Romance) ratings: 4 // English Patient, The (1996) (Drama|Romance|War) ratings: 5 // Chasing Amy (1997) (Drama|Romance) ratings: 4\\nSabrina (1954) (Comedy|Romance) ratings: 5 // Romeo and Juliet (1968) (Drama|Romance) ratings: 5 // Wings of the Dove, The (1997) (Drama|Romance|Thriller) ratings: 4 // Next Stop, Wonderland (1998) (Comedy|Drama|Romance) ratings: 5 // Little Mermaid, The (1989) (Animation|Children's|Comedy|Musical|Romance) ratings: 5 // Four Weddings and a Funeral (1994) (Comedy|Romance) ratings: 5 // Titanic (1997) (Drama|Romance) ratings: 5 // Shampoo (1975) (Comedy|Romance) ratings: 4\\nSabrina (1954) (Comedy|Romance) ratings: 5 // Waiting for Guffman (1996) (Comedy) ratings: 5 // Wings of Desire (Der Himmel über Berlin) (1987) (Comedy|Drama|Romance) ratings: 4 // Groundhog Day (1993) (Comedy|Romance) ratings: 5 // Return of the Pink Panther, The (1974) (Comedy) ratings: 4 // Bullets Over Broadway (1994) (Comedy) ratings: 4 // French Twist (Gazon maudit) (1995) (Comedy|Romance) ratings: 4 // Broadcast News (1987) (Comedy|Drama|Romance) ratings: 2\\nSabrina (1954) (Comedy|Romance) ratings: 4 // Star Wars: Episode V - The Empire Strikes Back (1980) (Action|Adventure|Drama|Sci-Fi|War) ratings: 4 // Chicken Run (2000) (Animation|Children's|Comedy) ratings: 4 // Killing Fields, The (1984) (Drama|War) ratings: 4 // It's a Wonderful Life (1946) (Drama) ratings: 5 // Goodbye Girl, The (1977) (Comedy|Romance) ratings: 4 // Meet Me in St. Louis (1944) (Musical) ratings: 5 // Quiet Man, The (1952) (Comedy|Romance) ratings: 4\\nSabrina (1954) (Comedy|Romance) ratings: 5 // Dirty Dancing (1987) (Musical|Romance) ratings: 3 // L.A. Story (1991) (Comedy|Romance) ratings: 4 // Phenomenon (1996) (Drama|Romance) ratings: 4 // Absolute Power (1997) (Mystery|Thriller) ratings: 4 // Devil's Advocate, The (1997) (Crime|Horror|Mystery|Thriller) ratings: 4 // Manhattan Murder Mystery (1993) (Comedy|Mystery) ratings: 5 // Wild Things (1998) (Crime|Drama|Mystery|Thriller) ratings: 4\\nmovie_explain: Sabrina (1995) (Comedy|Romance) ratings: 3 // Irma la Douce (1963) (Comedy) ratings: 3 // One Flew Over the Cuckoo's Nest (1975) (Drama) ratings: 3 // Pollyanna (1960) (Children's|Comedy|Drama) ratings: 5 // Star Wars: Episode VI - Return of the Jedi (1983) (Action|Adventure|Romance|Sci-Fi|War) ratings: 5 // Duck Soup (1933) (Comedy|War) ratings: 4 // Groundhog Day (1993) (Comedy|Romance) ratings: 5 // They Might Be Giants (1971) (Comedy|Romance) ratings: 3\\nSabrina (1954) (Comedy|Romance) ratings: 4 // Starman (1984) (Adventure|Drama|Romance|Sci-Fi) ratings: 3 // Romancing the Stone (1984) (Action|Adventure|Comedy|Romance) ratings: 3 // Grease (1978) (Comedy|Musical|Romance) ratings: 3 // Splash (1984) (Comedy|Fantasy|Romance) ratings: 3 // Fabulous Baker Boys, The (1989) (Drama|Romance) ratings: 4 // Tin Cup (1996) (Comedy|Romance) ratings: 4 // City of Angels (1998) (Romance) ratings: 4 // Flashdance (1983) (Drama|Romance) ratings: 4\\nSabrina (1954) (Comedy|Romance) ratings: 3 // Harvey (1950) (Comedy) ratings: 5 // Pleasantville (1998) (Comedy) ratings: 4 // Waking Ned Devine (1998) (Comedy) ratings: 4 // Mary Poppins (1964) (Children's|Comedy|Musical) ratings: 4 // Arsenic and Old Lace (1944) (Comedy|Mystery|Thriller) ratings: 5 // To Catch a Thief (1955) (Comedy|Romance|Thriller) ratings: 4 // Top Hat (1935) (Comedy|Musical|Romance) ratings: 5 // Life Is Beautiful (La Vita è bella) (1997) (Comedy|Drama) ratings: 4\\nSabrina (1954) (Comedy|Romance) ratings: 5 // Year of Living Dangerously (1982) (Drama|Romance) ratings: 5 // Sabrina (1995) (Comedy|Romance) ratings: 4 // Incredibly True Adventure of Two Girls in Love, The (1995) (Comedy|Romance) ratings: 4 // Like Water for Chocolate (Como agua para chocolate) (1992) (Drama|Romance) ratings: 5 // Prizzi's Honor (1985) (Comedy|Drama|Romance) ratings: 4 // Splash (1984) (Comedy|Fantasy|Romance) ratings: 4 // Witness (1985) (Drama|Romance|Thriller) ratings: 5\""
      ]
     },
     "execution_count": 53,
     "metadata": {},
     "output_type": "execute_result"
    }
   ],
   "source": [
    "# query = f\"Movies similar to those in this list: {purchase_history}\"\n",
    "purchase_history=data.iloc[105]['movie_explain']\n",
    "query = \" // \".join(purchase_history.split(\" // \")[-10:])\n",
    "\n",
    "retriever = vectorstore.as_retriever(search_kwargs={\"k\": 10})\n",
    "record = retriever.get_relevant_documents(query)\n",
    "# `record`에서 내용을 추출하여 요약\n",
    "record_summary = \"\\n\".join([doc.page_content for doc in record])\n",
    "record_summary"
   ]
  },
  {
   "cell_type": "code",
   "execution_count": 54,
   "metadata": {},
   "outputs": [
    {
     "data": {
      "text/plain": [
       "[Document(metadata={}, page_content='Sabrina (1954) (Comedy|Romance) ratings: 4 // Star Wars: Episode VI - Return of the Jedi (1983) (Action|Adventure|Romance|Sci-Fi|War) ratings: 4 // Last of the Mohicans, The (1992) (Action|Romance|War) ratings: 1 // Walking and Talking (1996) (Romance) ratings: 3 // Emma (1996) (Comedy|Drama|Romance) ratings: 4 // Living Out Loud (1998) (Comedy|Romance) ratings: 3 // Mrs. Brown (Her Majesty, Mrs. Brown) (1997) (Drama|Romance) ratings: 3 // Splash (1984) (Comedy|Fantasy|Romance) ratings: 4'),\n",
       " Document(metadata={}, page_content='Sabrina (1954) (Comedy|Romance) ratings: 5 // Cinema Paradiso (1988) (Comedy|Drama|Romance) ratings: 5 // Bell, Book and Candle (1958) (Comedy|Romance) ratings: 4 // Gay Divorcee, The (1934) (Comedy|Musical|Romance) ratings: 4 // American President, The (1995) (Comedy|Drama|Romance) ratings: 4 // Clueless (1995) (Comedy|Romance) ratings: 4 // English Patient, The (1996) (Drama|Romance|War) ratings: 5 // Chasing Amy (1997) (Drama|Romance) ratings: 4'),\n",
       " Document(metadata={}, page_content=\"Sabrina (1954) (Comedy|Romance) ratings: 5 // Romeo and Juliet (1968) (Drama|Romance) ratings: 5 // Wings of the Dove, The (1997) (Drama|Romance|Thriller) ratings: 4 // Next Stop, Wonderland (1998) (Comedy|Drama|Romance) ratings: 5 // Little Mermaid, The (1989) (Animation|Children's|Comedy|Musical|Romance) ratings: 5 // Four Weddings and a Funeral (1994) (Comedy|Romance) ratings: 5 // Titanic (1997) (Drama|Romance) ratings: 5 // Shampoo (1975) (Comedy|Romance) ratings: 4\"),\n",
       " Document(metadata={}, page_content='Sabrina (1954) (Comedy|Romance) ratings: 5 // Waiting for Guffman (1996) (Comedy) ratings: 5 // Wings of Desire (Der Himmel über Berlin) (1987) (Comedy|Drama|Romance) ratings: 4 // Groundhog Day (1993) (Comedy|Romance) ratings: 5 // Return of the Pink Panther, The (1974) (Comedy) ratings: 4 // Bullets Over Broadway (1994) (Comedy) ratings: 4 // French Twist (Gazon maudit) (1995) (Comedy|Romance) ratings: 4 // Broadcast News (1987) (Comedy|Drama|Romance) ratings: 2'),\n",
       " Document(metadata={}, page_content=\"Sabrina (1954) (Comedy|Romance) ratings: 4 // Star Wars: Episode V - The Empire Strikes Back (1980) (Action|Adventure|Drama|Sci-Fi|War) ratings: 4 // Chicken Run (2000) (Animation|Children's|Comedy) ratings: 4 // Killing Fields, The (1984) (Drama|War) ratings: 4 // It's a Wonderful Life (1946) (Drama) ratings: 5 // Goodbye Girl, The (1977) (Comedy|Romance) ratings: 4 // Meet Me in St. Louis (1944) (Musical) ratings: 5 // Quiet Man, The (1952) (Comedy|Romance) ratings: 4\"),\n",
       " Document(metadata={}, page_content=\"Sabrina (1954) (Comedy|Romance) ratings: 5 // Dirty Dancing (1987) (Musical|Romance) ratings: 3 // L.A. Story (1991) (Comedy|Romance) ratings: 4 // Phenomenon (1996) (Drama|Romance) ratings: 4 // Absolute Power (1997) (Mystery|Thriller) ratings: 4 // Devil's Advocate, The (1997) (Crime|Horror|Mystery|Thriller) ratings: 4 // Manhattan Murder Mystery (1993) (Comedy|Mystery) ratings: 5 // Wild Things (1998) (Crime|Drama|Mystery|Thriller) ratings: 4\"),\n",
       " Document(metadata={}, page_content=\"movie_explain: Sabrina (1995) (Comedy|Romance) ratings: 3 // Irma la Douce (1963) (Comedy) ratings: 3 // One Flew Over the Cuckoo's Nest (1975) (Drama) ratings: 3 // Pollyanna (1960) (Children's|Comedy|Drama) ratings: 5 // Star Wars: Episode VI - Return of the Jedi (1983) (Action|Adventure|Romance|Sci-Fi|War) ratings: 5 // Duck Soup (1933) (Comedy|War) ratings: 4 // Groundhog Day (1993) (Comedy|Romance) ratings: 5 // They Might Be Giants (1971) (Comedy|Romance) ratings: 3\"),\n",
       " Document(metadata={}, page_content='Sabrina (1954) (Comedy|Romance) ratings: 4 // Starman (1984) (Adventure|Drama|Romance|Sci-Fi) ratings: 3 // Romancing the Stone (1984) (Action|Adventure|Comedy|Romance) ratings: 3 // Grease (1978) (Comedy|Musical|Romance) ratings: 3 // Splash (1984) (Comedy|Fantasy|Romance) ratings: 3 // Fabulous Baker Boys, The (1989) (Drama|Romance) ratings: 4 // Tin Cup (1996) (Comedy|Romance) ratings: 4 // City of Angels (1998) (Romance) ratings: 4 // Flashdance (1983) (Drama|Romance) ratings: 4'),\n",
       " Document(metadata={}, page_content=\"Sabrina (1954) (Comedy|Romance) ratings: 3 // Harvey (1950) (Comedy) ratings: 5 // Pleasantville (1998) (Comedy) ratings: 4 // Waking Ned Devine (1998) (Comedy) ratings: 4 // Mary Poppins (1964) (Children's|Comedy|Musical) ratings: 4 // Arsenic and Old Lace (1944) (Comedy|Mystery|Thriller) ratings: 5 // To Catch a Thief (1955) (Comedy|Romance|Thriller) ratings: 4 // Top Hat (1935) (Comedy|Musical|Romance) ratings: 5 // Life Is Beautiful (La Vita è bella) (1997) (Comedy|Drama) ratings: 4\"),\n",
       " Document(metadata={}, page_content=\"Sabrina (1954) (Comedy|Romance) ratings: 5 // Year of Living Dangerously (1982) (Drama|Romance) ratings: 5 // Sabrina (1995) (Comedy|Romance) ratings: 4 // Incredibly True Adventure of Two Girls in Love, The (1995) (Comedy|Romance) ratings: 4 // Like Water for Chocolate (Como agua para chocolate) (1992) (Drama|Romance) ratings: 5 // Prizzi's Honor (1985) (Comedy|Drama|Romance) ratings: 4 // Splash (1984) (Comedy|Fantasy|Romance) ratings: 4 // Witness (1985) (Drama|Romance|Thriller) ratings: 5\")]"
      ]
     },
     "execution_count": 54,
     "metadata": {},
     "output_type": "execute_result"
    }
   ],
   "source": [
    "record"
   ]
  },
  {
   "cell_type": "code",
   "execution_count": 59,
   "metadata": {},
   "outputs": [
    {
     "name": "stdout",
     "output_type": "stream",
     "text": [
      "input_variables=['purchase_history', 'query', 'record_summary'] input_types={} partial_variables={} messages=[HumanMessagePromptTemplate(prompt=PromptTemplate(input_variables=['purchase_history', 'query', 'record_summary'], input_types={}, partial_variables={}, template=\"\\n## item ## \\nHere is the movie history list of user1: {query} \\n## role ## \\nBased on the other people's watching record: {record_summary}, recommend exactly 10 movies that user1 is likely to watch next. \\nYou must prioritize movies that appear directly in the given watching record summary ({record_summary}) and are not already in user1's history.\\nDo not recommend any movies that are already in user1's history {purchase_history}.\\nEnsure that the recommendations take into account movies from all parts of the {record_summary} (start, middle, and end), not just the initial sections.\\nProvide the recommendations as a numbered list.\\n\"), additional_kwargs={})]\n"
     ]
    }
   ],
   "source": [
    "from langchain.prompts import ChatPromptTemplate\n",
    "\n",
    "template = \"\"\"\n",
    "## item ## \n",
    "Here is the movie history list of user1: {query} \n",
    "## role ## \n",
    "Based on the other people's watching record: {record_summary}, recommend exactly 10 movies that user1 is likely to watch next. \n",
    "You must prioritize movies that appear directly in the given watching record summary ({record_summary}) and are not already in user1's history.\n",
    "Do not recommend any movies that are already in user1's history {purchase_history}.\n",
    "Ensure that the recommendations take into account movies from all parts of the {record_summary} (start, middle, and end), not just the initial sections.\n",
    "Provide the recommendations as a numbered list.\n",
    "\"\"\"\n",
    "\n",
    "# 템플릿에서 ChatPromptTemplate 생성\n",
    "prompt = ChatPromptTemplate.from_template(template)\n",
    "\n",
    "# 템플릿 내용 확인\n",
    "print(prompt)\n"
   ]
  },
  {
   "cell_type": "code",
   "execution_count": 60,
   "metadata": {},
   "outputs": [
    {
     "data": {
      "text/plain": [
       "\"Sabrina (1954) (Comedy|Romance) ratings: 4 // Star Wars: Episode VI - Return of the Jedi (1983) (Action|Adventure|Romance|Sci-Fi|War) ratings: 4 // Last of the Mohicans, The (1992) (Action|Romance|War) ratings: 1 // Walking and Talking (1996) (Romance) ratings: 3 // Emma (1996) (Comedy|Drama|Romance) ratings: 4 // Living Out Loud (1998) (Comedy|Romance) ratings: 3 // Mrs. Brown (Her Majesty, Mrs. Brown) (1997) (Drama|Romance) ratings: 3 // Splash (1984) (Comedy|Fantasy|Romance) ratings: 4\\nSabrina (1954) (Comedy|Romance) ratings: 5 // Cinema Paradiso (1988) (Comedy|Drama|Romance) ratings: 5 // Bell, Book and Candle (1958) (Comedy|Romance) ratings: 4 // Gay Divorcee, The (1934) (Comedy|Musical|Romance) ratings: 4 // American President, The (1995) (Comedy|Drama|Romance) ratings: 4 // Clueless (1995) (Comedy|Romance) ratings: 4 // English Patient, The (1996) (Drama|Romance|War) ratings: 5 // Chasing Amy (1997) (Drama|Romance) ratings: 4\\nSabrina (1954) (Comedy|Romance) ratings: 5 // Romeo and Juliet (1968) (Drama|Romance) ratings: 5 // Wings of the Dove, The (1997) (Drama|Romance|Thriller) ratings: 4 // Next Stop, Wonderland (1998) (Comedy|Drama|Romance) ratings: 5 // Little Mermaid, The (1989) (Animation|Children's|Comedy|Musical|Romance) ratings: 5 // Four Weddings and a Funeral (1994) (Comedy|Romance) ratings: 5 // Titanic (1997) (Drama|Romance) ratings: 5 // Shampoo (1975) (Comedy|Romance) ratings: 4\\nSabrina (1954) (Comedy|Romance) ratings: 5 // Waiting for Guffman (1996) (Comedy) ratings: 5 // Wings of Desire (Der Himmel über Berlin) (1987) (Comedy|Drama|Romance) ratings: 4 // Groundhog Day (1993) (Comedy|Romance) ratings: 5 // Return of the Pink Panther, The (1974) (Comedy) ratings: 4 // Bullets Over Broadway (1994) (Comedy) ratings: 4 // French Twist (Gazon maudit) (1995) (Comedy|Romance) ratings: 4 // Broadcast News (1987) (Comedy|Drama|Romance) ratings: 2\\nSabrina (1954) (Comedy|Romance) ratings: 4 // Star Wars: Episode V - The Empire Strikes Back (1980) (Action|Adventure|Drama|Sci-Fi|War) ratings: 4 // Chicken Run (2000) (Animation|Children's|Comedy) ratings: 4 // Killing Fields, The (1984) (Drama|War) ratings: 4 // It's a Wonderful Life (1946) (Drama) ratings: 5 // Goodbye Girl, The (1977) (Comedy|Romance) ratings: 4 // Meet Me in St. Louis (1944) (Musical) ratings: 5 // Quiet Man, The (1952) (Comedy|Romance) ratings: 4\\nSabrina (1954) (Comedy|Romance) ratings: 5 // Dirty Dancing (1987) (Musical|Romance) ratings: 3 // L.A. Story (1991) (Comedy|Romance) ratings: 4 // Phenomenon (1996) (Drama|Romance) ratings: 4 // Absolute Power (1997) (Mystery|Thriller) ratings: 4 // Devil's Advocate, The (1997) (Crime|Horror|Mystery|Thriller) ratings: 4 // Manhattan Murder Mystery (1993) (Comedy|Mystery) ratings: 5 // Wild Things (1998) (Crime|Drama|Mystery|Thriller) ratings: 4\\nmovie_explain: Sabrina (1995) (Comedy|Romance) ratings: 3 // Irma la Douce (1963) (Comedy) ratings: 3 // One Flew Over the Cuckoo's Nest (1975) (Drama) ratings: 3 // Pollyanna (1960) (Children's|Comedy|Drama) ratings: 5 // Star Wars: Episode VI - Return of the Jedi (1983) (Action|Adventure|Romance|Sci-Fi|War) ratings: 5 // Duck Soup (1933) (Comedy|War) ratings: 4 // Groundhog Day (1993) (Comedy|Romance) ratings: 5 // They Might Be Giants (1971) (Comedy|Romance) ratings: 3\\nSabrina (1954) (Comedy|Romance) ratings: 4 // Starman (1984) (Adventure|Drama|Romance|Sci-Fi) ratings: 3 // Romancing the Stone (1984) (Action|Adventure|Comedy|Romance) ratings: 3 // Grease (1978) (Comedy|Musical|Romance) ratings: 3 // Splash (1984) (Comedy|Fantasy|Romance) ratings: 3 // Fabulous Baker Boys, The (1989) (Drama|Romance) ratings: 4 // Tin Cup (1996) (Comedy|Romance) ratings: 4 // City of Angels (1998) (Romance) ratings: 4 // Flashdance (1983) (Drama|Romance) ratings: 4\\nSabrina (1954) (Comedy|Romance) ratings: 3 // Harvey (1950) (Comedy) ratings: 5 // Pleasantville (1998) (Comedy) ratings: 4 // Waking Ned Devine (1998) (Comedy) ratings: 4 // Mary Poppins (1964) (Children's|Comedy|Musical) ratings: 4 // Arsenic and Old Lace (1944) (Comedy|Mystery|Thriller) ratings: 5 // To Catch a Thief (1955) (Comedy|Romance|Thriller) ratings: 4 // Top Hat (1935) (Comedy|Musical|Romance) ratings: 5 // Life Is Beautiful (La Vita è bella) (1997) (Comedy|Drama) ratings: 4\\nSabrina (1954) (Comedy|Romance) ratings: 5 // Year of Living Dangerously (1982) (Drama|Romance) ratings: 5 // Sabrina (1995) (Comedy|Romance) ratings: 4 // Incredibly True Adventure of Two Girls in Love, The (1995) (Comedy|Romance) ratings: 4 // Like Water for Chocolate (Como agua para chocolate) (1992) (Drama|Romance) ratings: 5 // Prizzi's Honor (1985) (Comedy|Drama|Romance) ratings: 4 // Splash (1984) (Comedy|Fantasy|Romance) ratings: 4 // Witness (1985) (Drama|Romance|Thriller) ratings: 5\""
      ]
     },
     "execution_count": 60,
     "metadata": {},
     "output_type": "execute_result"
    }
   ],
   "source": [
    "record_summary"
   ]
  },
  {
   "cell_type": "code",
   "execution_count": 61,
   "metadata": {},
   "outputs": [],
   "source": [
    "from langchain_core.output_parsers import StrOutputParser\n",
    "\n",
    "\n",
    "llm = ChatOpenAI(model_name=\"gpt-4o\", temperature=0)\n",
    "chain = prompt | llm | StrOutputParser()\n",
    "reesponse= chain.invoke({\"purchase_history\":purchase_history, \"record_summary\": record_summary, \"query\":query})"
   ]
  },
  {
   "cell_type": "code",
   "execution_count": 62,
   "metadata": {},
   "outputs": [
    {
     "data": {
      "text/plain": [
       "\"Based on the given watching record summary and user1's movie history, here are 10 movie recommendations for user1:\\n\\n1. **Cinema Paradiso (1988)** - Comedy|Drama|Romance\\n2. **Bell, Book and Candle (1958)** - Comedy|Romance\\n3. **Gay Divorcee, The (1934)** - Comedy|Musical|Romance\\n4. **American President, The (1995)** - Comedy|Drama|Romance\\n5. **Clueless (1995)** - Comedy|Romance\\n6. **Romeo and Juliet (1968)** - Drama|Romance\\n7. **Wings of the Dove, The (1997)** - Drama|Romance|Thriller\\n8. **Next Stop, Wonderland (1998)** - Comedy|Drama|Romance\\n9. **Titanic (1997)** - Drama|Romance\\n10. **Shampoo (1975)** - Comedy|Romance\\n\\nThese recommendations are based on the preferences and ratings patterns observed in user1's history and the watching record summary provided.\""
      ]
     },
     "execution_count": 62,
     "metadata": {},
     "output_type": "execute_result"
    }
   ],
   "source": [
    "reesponse"
   ]
  },
  {
   "cell_type": "code",
   "execution_count": 47,
   "metadata": {},
   "outputs": [
    {
     "name": "stdout",
     "output_type": "stream",
     "text": [
      "['Cinema Paradiso', 'Bell, Book and Candle', 'Gay Divorcee, The', 'American President, The', 'Clueless']\n"
     ]
    }
   ],
   "source": [
    "import re\n",
    "movie_titles = re.findall(r\"\\d+\\.\\s\\*\\*(.*?)\\s\\(\\d{4}\\)\", reesponse)\n",
    "print(movie_titles)"
   ]
  },
  {
   "cell_type": "code",
   "execution_count": 48,
   "metadata": {},
   "outputs": [
    {
     "name": "stdout",
     "output_type": "stream",
     "text": [
      "Starman\n"
     ]
    }
   ],
   "source": [
    "tset_answer=df_test.iloc[105]['movie_explain']\n",
    "movie_name = re.match(r\"^(.*?)\\s\\(\\d{4}\\)\", tset_answer).group(1)\n",
    "print(movie_name)"
   ]
  },
  {
   "cell_type": "markdown",
   "metadata": {},
   "source": [
    "## 수정해야 할 부분\n",
    "1. 청킹이 잘 되가고 있는지\n",
    "2. retrieve가 잘 되고 있는지\n",
    "3. generate가 잘 되고 있는지"
   ]
  },
  {
   "cell_type": "code",
   "execution_count": null,
   "metadata": {},
   "outputs": [],
   "source": [
    "# query = f\"Movies similar to those in this list: {purchase_history}\"\n",
    "purchase_history=data.iloc[105]['movie_explain']\n",
    "query = \" // \".join(purchase_history.split(\" // \")[-10:])\n",
    "\n",
    "# query = f\"What movies do users watch after these: {purchase_history}?\"\n",
    "retriever = vectorstore.as_retriever(search_kwargs={\"k\": 10})\n",
    "record = retriever.get_relevant_documents(query)\n",
    "# `record`에서 내용을 추출하여 요약\n",
    "record_summary = \"\\n\".join([doc.page_content for doc in record])\n",
    "record_summary"
   ]
  },
  {
   "cell_type": "code",
   "execution_count": 48,
   "metadata": {},
   "outputs": [],
   "source": [
    "import re\n",
    "import pandas as pd\n",
    "\n",
    "# 결과를 저장할 리스트\n",
    "results = []\n",
    "retriever = vectorstore.as_retriever(search_kwargs={\"k\": 10})\n",
    "\n",
    "# 1부터 100까지 반복\n",
    "for idx in range(1, 30):\n",
    "    # movie_explain 추출\n",
    "    tset_answer = df_test.iloc[idx]['movie_explain']\n",
    "    \n",
    "    # movie_name 추출\n",
    "    try:\n",
    "        movie_name = re.match(r\"^(.*?)\\s\\(\\d{4}\\)\", tset_answer).group(1)\n",
    "    except AttributeError:\n",
    "        movie_name = None  # 매칭 실패 시 None으로 처리\n",
    "\n",
    "    # 쿼리 생성\n",
    "    purchase_history=data.iloc[idx]['movie_explain']\n",
    "    query = \" // \".join(purchase_history.split(\" // \")[-10:])\n",
    "    # query = f\"Movies similar to those in this list: {purchase_history}\"\n",
    "    # query\n",
    "    # 벡터스토어에서 관련 문서 검색\n",
    "    record = retriever.get_relevant_documents(query)\n",
    "    \n",
    "    # 검색 결과 요약\n",
    "    record_summary = \"\\n\".join([doc.page_content for doc in record])\n",
    "\n",
    "    # LLM에 입력\n",
    "    reesponse = chain.invoke({\"purchase_history\": purchase_history, \"record_summary\": record_summary})\n",
    "    \n",
    "    # movie_title 추출\n",
    "    movie_titles = re.findall(r\"\\d+\\.\\s\\*\\*(.*?)\\s\\(\\d{4}\\)\", reesponse)\n",
    "    \n",
    "    # movie_name이 movie_titles에 포함되는지 여부\n",
    "    is_included = movie_name in movie_titles if movie_name else False\n",
    "\n",
    "    # 결과 저장\n",
    "    results.append({\n",
    "        \"movie_title\": movie_titles,\n",
    "        \"movie_name\": movie_name,\n",
    "        \"is_included\": is_included\n",
    "    })\n",
    "\n",
    "# 결과를 DataFrame으로 변환\n",
    "results_df = pd.DataFrame(results)"
   ]
  },
  {
   "cell_type": "code",
   "execution_count": 42,
   "metadata": {},
   "outputs": [
    {
     "data": {
      "text/plain": [
       "\"Breakfast Club, The (1985) (Comedy|Drama) ratings: 4 // North by Northwest (1959) (Drama|Thriller) ratings: 4 // Home Alone (1990) (Children's|Comedy) ratings: 3 // Saving Private Ryan (1998) (Action|Drama|War) ratings: 5 // Little Shop of Horrors (1986) (Comedy|Horror|Musical) ratings: 4 // Cyrano de Bergerac (1990) (Action|Drama|Romance) ratings: 5 // Room with a View, A (1986) (Drama|Romance) ratings: 4 // Shop Around the Corner, The (1940) (Comedy|Romance) ratings: 4 // Singin' in the Rain (1952) (Musical|Romance) ratings: 5 // Shakespeare in Love (1998) (Comedy|Romance) ratings: 5 // Strictly Ballroom (1992) (Comedy|Romance) ratings: 5 // Roman Holiday (1953) (Comedy|Romance) ratings: 4 // Rebecca (1940) (Romance|Thriller) ratings: 4 // Like Water for Chocolate (Como agua para chocolate) (1992) (Drama|Romance) ratings: 4 // Persuasion (1995) (Romance) ratings: 5 // Broadcast News (1987) (Comedy|Drama|Romance) ratings: 4 // Gone with the Wind (1939) (Drama|Romance|War) ratings: 5 // Top Hat (1935) (Comedy|Musical|Romance) ratings: 4 // African Queen, The (1951) (Action|Adventure|Romance|War) ratings: 4 // Crying Game, The (1992) (Drama|Romance|War) ratings: 4 // Much Ado About Nothing (1993) (Comedy|Romance) ratings: 4 // Chasing Amy (1997) (Drama|Romance) ratings: 2 // Witness (1985) (Drama|Romance|Thriller) ratings: 5 // Dangerous Liaisons (1988) (Drama|Romance) ratings: 4 // When Harry Met Sally... (1989) (Comedy|Romance) ratings: 5 // Four Weddings and a Funeral (1994) (Comedy|Romance) ratings: 3 // Lady and the Tramp (1955) (Animation|Children's|Comedy|Musical|Romance) ratings: 4 // Emma (1996) (Comedy|Drama|Romance) ratings: 4 // Dead Again (1991) (Mystery|Romance|Thriller) ratings: 4 // Breakfast at Tiffany's (1961) (Drama|Romance) ratings: 3 // Charade (1963) (Comedy|Mystery|Romance|Thriller) ratings: 4 // To Catch a Thief (1955) (Comedy|Romance|Thriller) ratings: 4 // Shadowlands (1993) (Drama|Romance) ratings: 3 // Prizzi's Honor (1985) (Comedy|Drama|Romance) ratings: 3 // Splash (1984) (Comedy|Fantasy|Romance) ratings: 4 // Little Mermaid, The (1989) (Animation|Children's|Comedy|Musical|Romance) ratings: 5 // Sabrina (1954) (Comedy|Romance) ratings: 5 // Groundhog Day (1993) (Comedy|Romance) ratings: 4 // My Fair Lady (1964) (Musical|Romance) ratings: 5 // William Shakespeare's Romeo and Juliet (1996) (Drama|Romance) ratings: 3 // Star Wars: Episode VI - Return of the Jedi (1983) (Action|Adventure|Romance|Sci-Fi|War) ratings: 5 // English Patient, The (1996) (Drama|Romance|War) ratings: 3 // Dave (1993) (Comedy|Romance) ratings: 4 // Purple Rose of Cairo, The (1985) (Comedy|Drama|Romance) ratings: 4 // Shine (1996) (Drama|Romance) ratings: 3 // Speed (1994) (Action|Romance|Thriller) ratings: 3\""
      ]
     },
     "execution_count": 42,
     "metadata": {},
     "output_type": "execute_result"
    }
   ],
   "source": [
    "purchase_history"
   ]
  },
  {
   "cell_type": "markdown",
   "metadata": {},
   "source": [
    "## Evaluation"
   ]
  },
  {
   "cell_type": "code",
   "execution_count": 49,
   "metadata": {},
   "outputs": [
    {
     "data": {
      "text/html": [
       "<div>\n",
       "<style scoped>\n",
       "    .dataframe tbody tr th:only-of-type {\n",
       "        vertical-align: middle;\n",
       "    }\n",
       "\n",
       "    .dataframe tbody tr th {\n",
       "        vertical-align: top;\n",
       "    }\n",
       "\n",
       "    .dataframe thead th {\n",
       "        text-align: right;\n",
       "    }\n",
       "</style>\n",
       "<table border=\"1\" class=\"dataframe\">\n",
       "  <thead>\n",
       "    <tr style=\"text-align: right;\">\n",
       "      <th></th>\n",
       "      <th>movie_title</th>\n",
       "      <th>movie_name</th>\n",
       "      <th>is_included</th>\n",
       "    </tr>\n",
       "  </thead>\n",
       "  <tbody>\n",
       "    <tr>\n",
       "      <th>0</th>\n",
       "      <td>[Arrival, The, Mimic, Cliffhanger, Young Guns,...</td>\n",
       "      <td>Armageddon</td>\n",
       "      <td>False</td>\n",
       "    </tr>\n",
       "    <tr>\n",
       "      <th>1</th>\n",
       "      <td>[Murphy's Romance, Cocoon, Real Genius, Weird ...</td>\n",
       "      <td>Little Mermaid, The</td>\n",
       "      <td>False</td>\n",
       "    </tr>\n",
       "    <tr>\n",
       "      <th>2</th>\n",
       "      <td>[Rocky IV, Fugitive, The, Untouchables, The, R...</td>\n",
       "      <td>Rocky</td>\n",
       "      <td>False</td>\n",
       "    </tr>\n",
       "    <tr>\n",
       "      <th>3</th>\n",
       "      <td>[Mission: Impossible, Escape from New York, Di...</td>\n",
       "      <td>Natural Born Killers</td>\n",
       "      <td>False</td>\n",
       "    </tr>\n",
       "    <tr>\n",
       "      <th>4</th>\n",
       "      <td>[Sleepless in Seattle, You've Got Mail, Nottin...</td>\n",
       "      <td>Pretty Woman</td>\n",
       "      <td>False</td>\n",
       "    </tr>\n",
       "    <tr>\n",
       "      <th>5</th>\n",
       "      <td>[Backdraft, Client, The, GoldenEye, True Lies,...</td>\n",
       "      <td>Backdraft</td>\n",
       "      <td>True</td>\n",
       "    </tr>\n",
       "    <tr>\n",
       "      <th>6</th>\n",
       "      <td>[Bird on a Wire, Fly Away Home, Walk in the Cl...</td>\n",
       "      <td>Bodyguard, The</td>\n",
       "      <td>False</td>\n",
       "    </tr>\n",
       "    <tr>\n",
       "      <th>7</th>\n",
       "      <td>[Willy Wonka and the Chocolate Factory, Beauty...</td>\n",
       "      <td>Antz</td>\n",
       "      <td>False</td>\n",
       "    </tr>\n",
       "    <tr>\n",
       "      <th>8</th>\n",
       "      <td>[Up Close and Personal, Hot Shots! Part Deux, ...</td>\n",
       "      <td>Hero</td>\n",
       "      <td>False</td>\n",
       "    </tr>\n",
       "    <tr>\n",
       "      <th>9</th>\n",
       "      <td>[Buena Vista Social Club, Trekkies, Stop Makin...</td>\n",
       "      <td>Mr. Death: The Rise and Fall of Fred A. Leucht...</td>\n",
       "      <td>False</td>\n",
       "    </tr>\n",
       "    <tr>\n",
       "      <th>10</th>\n",
       "      <td>[Close Encounters of the Third Kind, Network, ...</td>\n",
       "      <td>Dog Day Afternoon</td>\n",
       "      <td>False</td>\n",
       "    </tr>\n",
       "    <tr>\n",
       "      <th>11</th>\n",
       "      <td>[Medicine Man, Brassed Off, Walk in the Clouds...</td>\n",
       "      <td>Medicine Man</td>\n",
       "      <td>True</td>\n",
       "    </tr>\n",
       "    <tr>\n",
       "      <th>12</th>\n",
       "      <td>[Sophie's Choice, Killing Fields, The, Last Em...</td>\n",
       "      <td>Amadeus</td>\n",
       "      <td>False</td>\n",
       "    </tr>\n",
       "    <tr>\n",
       "      <th>13</th>\n",
       "      <td>[U-571, Here on Earth, Green Mile, The, Rules ...</td>\n",
       "      <td>Frequency</td>\n",
       "      <td>False</td>\n",
       "    </tr>\n",
       "    <tr>\n",
       "      <th>14</th>\n",
       "      <td>[Hurricane, The, Wild Wild West, Wild Wild Wes...</td>\n",
       "      <td>Wild Wild West</td>\n",
       "      <td>True</td>\n",
       "    </tr>\n",
       "    <tr>\n",
       "      <th>15</th>\n",
       "      <td>[True Crime, Godfather: Part II, The, Sting, T...</td>\n",
       "      <td>Mulholland Falls</td>\n",
       "      <td>False</td>\n",
       "    </tr>\n",
       "    <tr>\n",
       "      <th>16</th>\n",
       "      <td>[Wings of the Dove, The, U Turn, Firm, The, Mu...</td>\n",
       "      <td>Wings of the Dove, The</td>\n",
       "      <td>True</td>\n",
       "    </tr>\n",
       "    <tr>\n",
       "      <th>17</th>\n",
       "      <td>[Spy Who Loved Me, The, Philadelphia Story, Th...</td>\n",
       "      <td>Sting, The</td>\n",
       "      <td>False</td>\n",
       "    </tr>\n",
       "    <tr>\n",
       "      <th>18</th>\n",
       "      <td>[Towering Inferno, The, Fantastic Voyage, Deli...</td>\n",
       "      <td>Star Trek: The Motion Picture</td>\n",
       "      <td>True</td>\n",
       "    </tr>\n",
       "    <tr>\n",
       "      <th>19</th>\n",
       "      <td>[Little Nemo: Adventures in Slumberland, Night...</td>\n",
       "      <td>Little Nemo: Adventures in Slumberland</td>\n",
       "      <td>True</td>\n",
       "    </tr>\n",
       "    <tr>\n",
       "      <th>20</th>\n",
       "      <td>[Some Like It Hot, Cinema Paradiso, Annie Hall...</td>\n",
       "      <td>Some Like It Hot</td>\n",
       "      <td>True</td>\n",
       "    </tr>\n",
       "    <tr>\n",
       "      <th>21</th>\n",
       "      <td>[Gladiator, Christmas Story, A, Princess Bride...</td>\n",
       "      <td>Superman IV: The Quest for Peace</td>\n",
       "      <td>False</td>\n",
       "    </tr>\n",
       "    <tr>\n",
       "      <th>22</th>\n",
       "      <td>[Return to Me, Jurassic Park, Men in Black, Un...</td>\n",
       "      <td>Rocky Horror Picture Show, The</td>\n",
       "      <td>False</td>\n",
       "    </tr>\n",
       "    <tr>\n",
       "      <th>23</th>\n",
       "      <td>[Pelican Brief, The, Final Destination, eXiste...</td>\n",
       "      <td>What Lies Beneath</td>\n",
       "      <td>False</td>\n",
       "    </tr>\n",
       "    <tr>\n",
       "      <th>24</th>\n",
       "      <td>[Austin Powers: International Man of Mystery, ...</td>\n",
       "      <td>Austin Powers: The Spy Who Shagged Me</td>\n",
       "      <td>True</td>\n",
       "    </tr>\n",
       "    <tr>\n",
       "      <th>25</th>\n",
       "      <td>[Godfather, The, Third Man, The, Deliverance, ...</td>\n",
       "      <td>Lawrence of Arabia</td>\n",
       "      <td>False</td>\n",
       "    </tr>\n",
       "    <tr>\n",
       "      <th>26</th>\n",
       "      <td>[Who's Afraid of Virginia Woolf?, Raging Bull,...</td>\n",
       "      <td>Who's Afraid of Virginia Woolf?</td>\n",
       "      <td>True</td>\n",
       "    </tr>\n",
       "    <tr>\n",
       "      <th>27</th>\n",
       "      <td>[Night of the Living Dead, American Werewolf i...</td>\n",
       "      <td>Haunting, The</td>\n",
       "      <td>False</td>\n",
       "    </tr>\n",
       "    <tr>\n",
       "      <th>28</th>\n",
       "      <td>[Best in Show, To Be or Not to Be, East is Eas...</td>\n",
       "      <td>Love and Basketball</td>\n",
       "      <td>False</td>\n",
       "    </tr>\n",
       "  </tbody>\n",
       "</table>\n",
       "</div>"
      ],
      "text/plain": [
       "                                          movie_title  \\\n",
       "0   [Arrival, The, Mimic, Cliffhanger, Young Guns,...   \n",
       "1   [Murphy's Romance, Cocoon, Real Genius, Weird ...   \n",
       "2   [Rocky IV, Fugitive, The, Untouchables, The, R...   \n",
       "3   [Mission: Impossible, Escape from New York, Di...   \n",
       "4   [Sleepless in Seattle, You've Got Mail, Nottin...   \n",
       "5   [Backdraft, Client, The, GoldenEye, True Lies,...   \n",
       "6   [Bird on a Wire, Fly Away Home, Walk in the Cl...   \n",
       "7   [Willy Wonka and the Chocolate Factory, Beauty...   \n",
       "8   [Up Close and Personal, Hot Shots! Part Deux, ...   \n",
       "9   [Buena Vista Social Club, Trekkies, Stop Makin...   \n",
       "10  [Close Encounters of the Third Kind, Network, ...   \n",
       "11  [Medicine Man, Brassed Off, Walk in the Clouds...   \n",
       "12  [Sophie's Choice, Killing Fields, The, Last Em...   \n",
       "13  [U-571, Here on Earth, Green Mile, The, Rules ...   \n",
       "14  [Hurricane, The, Wild Wild West, Wild Wild Wes...   \n",
       "15  [True Crime, Godfather: Part II, The, Sting, T...   \n",
       "16  [Wings of the Dove, The, U Turn, Firm, The, Mu...   \n",
       "17  [Spy Who Loved Me, The, Philadelphia Story, Th...   \n",
       "18  [Towering Inferno, The, Fantastic Voyage, Deli...   \n",
       "19  [Little Nemo: Adventures in Slumberland, Night...   \n",
       "20  [Some Like It Hot, Cinema Paradiso, Annie Hall...   \n",
       "21  [Gladiator, Christmas Story, A, Princess Bride...   \n",
       "22  [Return to Me, Jurassic Park, Men in Black, Un...   \n",
       "23  [Pelican Brief, The, Final Destination, eXiste...   \n",
       "24  [Austin Powers: International Man of Mystery, ...   \n",
       "25  [Godfather, The, Third Man, The, Deliverance, ...   \n",
       "26  [Who's Afraid of Virginia Woolf?, Raging Bull,...   \n",
       "27  [Night of the Living Dead, American Werewolf i...   \n",
       "28  [Best in Show, To Be or Not to Be, East is Eas...   \n",
       "\n",
       "                                           movie_name  is_included  \n",
       "0                                          Armageddon        False  \n",
       "1                                 Little Mermaid, The        False  \n",
       "2                                               Rocky        False  \n",
       "3                                Natural Born Killers        False  \n",
       "4                                        Pretty Woman        False  \n",
       "5                                           Backdraft         True  \n",
       "6                                      Bodyguard, The        False  \n",
       "7                                                Antz        False  \n",
       "8                                                Hero        False  \n",
       "9   Mr. Death: The Rise and Fall of Fred A. Leucht...        False  \n",
       "10                                  Dog Day Afternoon        False  \n",
       "11                                       Medicine Man         True  \n",
       "12                                            Amadeus        False  \n",
       "13                                          Frequency        False  \n",
       "14                                     Wild Wild West         True  \n",
       "15                                   Mulholland Falls        False  \n",
       "16                             Wings of the Dove, The         True  \n",
       "17                                         Sting, The        False  \n",
       "18                      Star Trek: The Motion Picture         True  \n",
       "19             Little Nemo: Adventures in Slumberland         True  \n",
       "20                                   Some Like It Hot         True  \n",
       "21                   Superman IV: The Quest for Peace        False  \n",
       "22                     Rocky Horror Picture Show, The        False  \n",
       "23                                  What Lies Beneath        False  \n",
       "24              Austin Powers: The Spy Who Shagged Me         True  \n",
       "25                                 Lawrence of Arabia        False  \n",
       "26                    Who's Afraid of Virginia Woolf?         True  \n",
       "27                                      Haunting, The        False  \n",
       "28                                Love and Basketball        False  "
      ]
     },
     "execution_count": 49,
     "metadata": {},
     "output_type": "execute_result"
    }
   ],
   "source": [
    "results_df"
   ]
  },
  {
   "cell_type": "markdown",
   "metadata": {},
   "source": [
    "### HIT@5"
   ]
  },
  {
   "cell_type": "code",
   "execution_count": 51,
   "metadata": {},
   "outputs": [
    {
     "name": "stdout",
     "output_type": "stream",
     "text": [
      "Hit@5: 0.4827586206896552\n"
     ]
    }
   ],
   "source": [
    "import pandas as pd\n",
    "\n",
    "# CSV 파일 읽기\n",
    "df =results_df\n",
    "\n",
    "# Hit@k 계산 (k=5)\n",
    "k = 5\n",
    "df['hit'] = df.apply(lambda row: row['movie_name'] in row['movie_title'][:k], axis=1)\n",
    "\n",
    "# 전체 Hit@k 계산\n",
    "hit_at_k = df['hit'].mean()  # Hit@k 비율\n",
    "print(f\"Hit@{k}: {hit_at_k}\")\n"
   ]
  },
  {
   "cell_type": "code",
   "execution_count": null,
   "metadata": {},
   "outputs": [],
   "source": []
  }
 ],
 "metadata": {
  "kernelspec": {
   "display_name": "kmy_env",
   "language": "python",
   "name": "python3"
  },
  "language_info": {
   "codemirror_mode": {
    "name": "ipython",
    "version": 3
   },
   "file_extension": ".py",
   "mimetype": "text/x-python",
   "name": "python",
   "nbconvert_exporter": "python",
   "pygments_lexer": "ipython3",
   "version": "3.12.7"
  }
 },
 "nbformat": 4,
 "nbformat_minor": 2
}
