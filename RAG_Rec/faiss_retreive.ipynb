{
 "cells": [
  {
   "cell_type": "code",
   "execution_count": 14,
   "metadata": {},
   "outputs": [],
   "source": [
    "import  torch\n",
    "from transformers import CLIPProcessor, CLIPModel\n",
    "import faiss\n",
    "import pickle"
   ]
  },
  {
   "cell_type": "code",
   "execution_count": 15,
   "metadata": {},
   "outputs": [
    {
     "name": "stderr",
     "output_type": "stream",
     "text": [
      "huggingface/tokenizers: The current process just got forked, after parallelism has already been used. Disabling parallelism to avoid deadlocks...\n",
      "To disable this warning, you can either:\n",
      "\t- Avoid using `tokenizers` before the fork if possible\n",
      "\t- Explicitly set the environment variable TOKENIZERS_PARALLELISM=(true | false)\n"
     ]
    },
    {
     "data": {
      "application/vnd.jupyter.widget-view+json": {
       "model_id": "518525a519894f49ab5189e7e95fdba0",
       "version_major": 2,
       "version_minor": 0
      },
      "text/plain": [
       "config.json:   0%|          | 0.00/4.52k [00:00<?, ?B/s]"
      ]
     },
     "metadata": {},
     "output_type": "display_data"
    },
    {
     "data": {
      "application/vnd.jupyter.widget-view+json": {
       "model_id": "f27604e399534755acbd5ee3567526ee",
       "version_major": 2,
       "version_minor": 0
      },
      "text/plain": [
       "model.safetensors:   0%|          | 0.00/1.71G [00:00<?, ?B/s]"
      ]
     },
     "metadata": {},
     "output_type": "display_data"
    },
    {
     "name": "stderr",
     "output_type": "stream",
     "text": [
      "/opt/anaconda3/envs/kmy_env/lib/python3.12/site-packages/transformers/tokenization_utils_base.py:1601: FutureWarning: `clean_up_tokenization_spaces` was not set. It will be set to `True` by default. This behavior will be depracted in transformers v4.45, and will be then set to `False` by default. For more details check this issue: https://github.com/huggingface/transformers/issues/31884\n",
      "  warnings.warn(\n"
     ]
    }
   ],
   "source": [
    "# CLIP 모델 로드\n",
    "device = torch.device(\"mps\") # 해당 부분 쿠다로 변경하시면 됩니다~\n",
    "clip_model = CLIPModel.from_pretrained(\"openai/clip-vit-large-patch14\").to(device)\n",
    "processor = CLIPProcessor.from_pretrained(\"openai/clip-vit-base-patch32\")"
   ]
  },
  {
   "cell_type": "code",
   "execution_count": 16,
   "metadata": {},
   "outputs": [],
   "source": [
    "IMAGE_FAISS_PATH = \"faiss_image.index\"\n",
    "IMAGE_PATHS_FILE = \"image_paths.pkl\""
   ]
  },
  {
   "cell_type": "code",
   "execution_count": 17,
   "metadata": {},
   "outputs": [],
   "source": [
    "def encode_text(text):\n",
    "    inputs = processor(text=[text], return_tensors=\"pt\").to(device)\n",
    "\n",
    "    with torch.no_grad():\n",
    "        text_features = clip_model.get_text_features(**inputs)\n",
    "\n",
    "    return text_features.cpu().numpy().astype(\"float32\")\n",
    "\n",
    "def search_similar_images(text, top_k=5):\n",
    "    global image_index, image_paths  \n",
    "    text_vec = encode_text(text)\n",
    "    distances, indices = image_index.search(text_vec, top_k)\n",
    "    results = [image_paths[idx] for idx in indices[0]]\n",
    "\n",
    "    return results, distances[0]  # 이미지 경로와 거리 반환\n"
   ]
  },
  {
   "cell_type": "code",
   "execution_count": 13,
   "metadata": {},
   "outputs": [
    {
     "name": "stdout",
     "output_type": "stream",
     "text": [
      "Rank 1: /root/.cache/kagglehub/datasets/abhinavnayak/catsvdogs-transformed/versions/1/train_transformed/dog846.jpg (Distance: 131.2417)\n",
      "Rank 2: /root/.cache/kagglehub/datasets/abhinavnayak/catsvdogs-transformed/versions/1/train_transformed/dog510.jpg (Distance: 134.7405)\n",
      "Rank 3: /root/.cache/kagglehub/datasets/abhinavnayak/catsvdogs-transformed/versions/1/train_transformed/dog493.jpg (Distance: 135.7166)\n",
      "Rank 4: /root/.cache/kagglehub/datasets/abhinavnayak/catsvdogs-transformed/versions/1/train_transformed/dog135.jpg (Distance: 136.0946)\n",
      "Rank 5: /root/.cache/kagglehub/datasets/abhinavnayak/catsvdogs-transformed/versions/1/train_transformed/dog552.jpg (Distance: 137.2330)\n"
     ]
    }
   ],
   "source": [
    "# FAISS 인덱스 및 이미지 경로 로드\n",
    "image_index = faiss.read_index(IMAGE_FAISS_PATH)\n",
    "with open(IMAGE_PATHS_FILE, \"rb\") as f:\n",
    "    image_paths = pickle.load(f)\n",
    "\n",
    "query_text = \"a dog running in a park\"\n",
    "\n",
    "similar_images, distances = search_similar_images(query_text)\n",
    "\n",
    "for i, (img, dist) in enumerate(zip(similar_images, distances)):\n",
    "    print(f\"Rank {i+1}: {img} (Distance: {dist:.4f})\")\n"
   ]
  },
  {
   "cell_type": "code",
   "execution_count": null,
   "metadata": {},
   "outputs": [],
   "source": []
  },
  {
   "cell_type": "code",
   "execution_count": null,
   "metadata": {},
   "outputs": [],
   "source": []
  }
 ],
 "metadata": {
  "kernelspec": {
   "display_name": "kmy_env",
   "language": "python",
   "name": "python3"
  },
  "language_info": {
   "codemirror_mode": {
    "name": "ipython",
    "version": 3
   },
   "file_extension": ".py",
   "mimetype": "text/x-python",
   "name": "python",
   "nbconvert_exporter": "python",
   "pygments_lexer": "ipython3",
   "version": "3.12.7"
  }
 },
 "nbformat": 4,
 "nbformat_minor": 2
}
