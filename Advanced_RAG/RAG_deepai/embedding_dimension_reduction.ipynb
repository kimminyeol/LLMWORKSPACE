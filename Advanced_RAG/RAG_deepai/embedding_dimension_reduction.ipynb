{
 "cells": [
  {
   "cell_type": "code",
   "execution_count": 1,
   "metadata": {},
   "outputs": [
    {
     "name": "stderr",
     "output_type": "stream",
     "text": [
      "/var/folders/gl/6qlsk6x94klgs54qzsg9q1jm0000gn/T/ipykernel_2143/4226604946.py:7: LangChainDeprecationWarning: As of langchain-core 0.3.0, LangChain uses pydantic v2 internally. The langchain_core.pydantic_v1 module was a compatibility shim for pydantic v1, and should no longer be used. Please update the code to import from Pydantic directly.\n",
      "\n",
      "For example, replace imports like: `from langchain_core.pydantic_v1 import BaseModel`\n",
      "with: `from pydantic import BaseModel`\n",
      "or the v1 compatibility namespace if you are working in a code base that has not been fully upgraded to pydantic 2 yet. \tfrom pydantic.v1 import BaseModel\n",
      "\n",
      "  from helper_functions import *\n",
      "/opt/anaconda3/envs/kmy_env/lib/python3.12/site-packages/deepeval/__init__.py:49: UserWarning: You are using deepeval version 1.4.5, however version 1.5.4 is available. You should consider upgrading via the \"pip install --upgrade deepeval\" command.\n",
      "  warnings.warn(\n"
     ]
    }
   ],
   "source": [
    "import os\n",
    "import sys\n",
    "from dotenv import load_dotenv\n",
    "\n",
    "\n",
    "sys.path.append(os.path.abspath(os.path.join(os.getcwd(), '..'))) # Add the parent directory to the path since we work with notebooks\n",
    "from helper_functions import *\n",
    "from evaluation.evalute_rag import *\n",
    "\n",
    "# Load environment variables from a .env file\n",
    "load_dotenv()\n",
    "\n",
    "# Set the OpenAI API key environment variable\n",
    "os.environ[\"OPENAI_API_KEY\"] = os.getenv('OPENAI_API_KEY')"
   ]
  },
  {
   "cell_type": "markdown",
   "metadata": {},
   "source": [
    "## 1. 기본"
   ]
  },
  {
   "cell_type": "code",
   "execution_count": 19,
   "metadata": {},
   "outputs": [],
   "source": [
    "from pypdf import PdfReader\n",
    "\n",
    "reader= PdfReader(\"/Users/mac/AIworkspace/LLMWORKSPACE/Advanced_RAG/data/Understanding_Climate_Change.pdf\")"
   ]
  },
  {
   "cell_type": "code",
   "execution_count": 20,
   "metadata": {},
   "outputs": [],
   "source": [
    "pdf_texts = [p.extract_text().strip() for p in reader.pages]\n",
    "pdf_texts = [text for text in pdf_texts if text]"
   ]
  },
  {
   "cell_type": "code",
   "execution_count": 21,
   "metadata": {},
   "outputs": [],
   "source": [
    "from langchain.text_splitter import RecursiveCharacterTextSplitter, SentenceTransformersTokenTextSplitter\n",
    "character_splitter = RecursiveCharacterTextSplitter(\n",
    "    separators=[\"\\n\\n\", \"\\n\", \". \", \" \", \"\"],\n",
    "    chunk_size=1000,\n",
    "    chunk_overlap=0\n",
    ")\n",
    "character_split_texts = character_splitter.split_text('\\n\\n'.join(pdf_texts))\n"
   ]
  },
  {
   "cell_type": "code",
   "execution_count": 22,
   "metadata": {},
   "outputs": [
    {
     "data": {
      "text/plain": [
       "97"
      ]
     },
     "execution_count": 22,
     "metadata": {},
     "output_type": "execute_result"
    }
   ],
   "source": [
    "len(character_split_texts)"
   ]
  },
  {
   "cell_type": "markdown",
   "metadata": {},
   "source": [
    "- 청킹 후에 딕셔너리에 청킹된 문장들을 집어넣음"
   ]
  },
  {
   "cell_type": "code",
   "execution_count": 23,
   "metadata": {},
   "outputs": [
    {
     "name": "stderr",
     "output_type": "stream",
     "text": [
      "/opt/anaconda3/envs/kmy_env/lib/python3.12/site-packages/transformers/tokenization_utils_base.py:1601: FutureWarning: `clean_up_tokenization_spaces` was not set. It will be set to `True` by default. This behavior will be depracted in transformers v4.45, and will be then set to `False` by default. For more details check this issue: https://github.com/huggingface/transformers/issues/31884\n",
      "  warnings.warn(\n"
     ]
    },
    {
     "name": "stdout",
     "output_type": "stream",
     "text": [
      "\n",
      "Total chunks: 97\n"
     ]
    }
   ],
   "source": [
    "token_splitter = SentenceTransformersTokenTextSplitter(chunk_overlap=0, tokens_per_chunk=256)\n",
    "\n",
    "token_split_texts = []\n",
    "for text in character_split_texts:\n",
    "    token_split_texts += token_splitter.split_text(text)\n",
    "print(f\"\\nTotal chunks: {len(token_split_texts)}\")"
   ]
  },
  {
   "cell_type": "markdown",
   "metadata": {},
   "source": [
    "- chromadb 사용"
   ]
  },
  {
   "cell_type": "code",
   "execution_count": 24,
   "metadata": {},
   "outputs": [],
   "source": [
    "import chromadb\n",
    "from chromadb.utils.embedding_functions import SentenceTransformerEmbeddingFunction\n",
    "\n",
    "embedding_function = SentenceTransformerEmbeddingFunction()\n",
    "# print(embedding_function([token_split_texts[10]]))"
   ]
  },
  {
   "cell_type": "code",
   "execution_count": 26,
   "metadata": {},
   "outputs": [
    {
     "data": {
      "text/plain": [
       "97"
      ]
     },
     "execution_count": 26,
     "metadata": {},
     "output_type": "execute_result"
    }
   ],
   "source": [
    "chroma_client = chromadb.Client()\n",
    "chroma_collection = chroma_client.create_collection(\"climate_change\", embedding_function=embedding_function)\n",
    "\n",
    "ids = [str(i) for i in range(len(token_split_texts))]\n",
    "\n",
    "chroma_collection.add(ids=ids, documents=token_split_texts)\n",
    "chroma_collection.count()"
   ]
  },
  {
   "cell_type": "code",
   "execution_count": 33,
   "metadata": {},
   "outputs": [
    {
     "name": "stdout",
     "output_type": "stream",
     "text": [
      "\n",
      "\n",
      "began at the end of the last ice age, human societies f lourished, but the industrial era has seen unprecedented changes. modern observations modern scientific observations indicate a rapid increase in global temperatures, sea levels, and extreme weather events. the intergovernmental panel on climate change ( ipcc ) has documented these changes extensively. ice core samples, tree rings, and ocean sediments provide a historical record that scientists use to understand past climate conditions and predict future trends. the evidence overwhelmingly shows that recent changes are primarily driven by human activities, particularly the emission of greenhou se gases. chapter 2 : causes of climate change greenhouse gases the primary cause of recent climate change is the increase in greenhouse gases in the atmosphere. greenhouse gases, such as carbon dioxide ( co2 ), methane ( ch4 ), and nitrous\n",
      "\n",
      "\n",
      "the effects of climate change are already being felt around the world and are projected to intensify in the coming decades. these effects include : rising temperatures global temperatures have risen by about 1. 2 degrees celsius ( 2. 2 degrees fahrenheit ) since the late 19th century. this warming is not uniform, with some regions experiencing more significant increases than others. heatwaves heatwaves are becoming more frequent and severe, posing risks to human health, agriculture, and infrastructure. cities are particularly vulnerable due to the \" urban heat island \" effect. heatwaves can lead to heat - related illnesses and exacerbate existing h ealth conditions. changing seasons climate change is altering the timing and length of seasons, affecting ecosystems and human activities. for example, spring is arriving earlier, and winters are becoming shorter and milder in many regions. this shift disrupts plant and animal life cycles a nd agricultural practices.\n",
      "\n",
      "\n",
      "understanding climate change chapter 1 : introduction to climate change climate change refers to significant, long - term changes in the global climate. the term \" global climate \" encompasses the planet's overall weather patterns, including temperature, precipitation, and wind patterns, over an extended period. over the past cent ury, human activities, particularly the burning of fossil fuels and deforestation, have significantly contributed to climate change. historical context the earth's climate has changed throughout history. over the past 650, 000 years, there have been seven cycles of glacial advance and retreat, with the abrupt end of the last ice age about 11, 700 years ago marking the beginning of the modern climate era and human civilization. most of these climate changes are attributed to very small variations in earth's orbit that change the amount of solar energy our planet receives. during the holocene epoch, which\n",
      "\n",
      "\n",
      "crucial role in sequestering carbon. logging and land - use changes in these regions contribute to climate change. these forests are vital for regulating the earth's climate and supporting indigenous communities and wildlife. agriculture agriculture contributes to climate change through methane emissions from livestock, rice paddies, and the use of synthetic fertilizers. methane is a potent greenhouse gas with a much higher heat - trapping capability than co2, albeit in smaller quantities. livestock emissions\n",
      "\n",
      "\n",
      "the arctic is warming at more than twice the global average rate, leading to significant ice loss. antarctic ice sheets are also losing mass, contributing to sea level rise. this melting affects global ocean currents and weather patterns. glacial retreat glaciers around the world are retreating, affecting water supplies for millions of people. regions dependent on glacial meltwater, such as the himalayas and the andes, face particular risks. glacial melt also impacts hydropower generation and agriculture. coastal erosion rising sea levels and increased storm surges are accelerating coastal erosion, threatening homes, infrastructure, and ecosystems. low - lying islands and coastal regions are especially vulnerable. coastal communities must invest in adaptation measures like s ea walls and managed retreats. extreme weather events climate change is linked to an increase in the frequency and severity of extreme weather\n"
     ]
    }
   ],
   "source": [
    "query = \"What is the main cause of climate change?\"\n",
    "\n",
    "results = chroma_collection.query(query_texts=[query], n_results=5)\n",
    "retrieved_documents = results['documents'][0]\n",
    "\n",
    "for document in retrieved_documents:\n",
    "    print('\\n')\n",
    "    print(document)"
   ]
  },
  {
   "cell_type": "markdown",
   "metadata": {},
   "source": [
    "## 2. 잘 검색이 안 될 때 할 수 있는 방법1\n",
    "- 질문과 검색한 내용 사이의 거리를 2차원으로 확보한 후에 그려서 확인해보기"
   ]
  },
  {
   "cell_type": "markdown",
   "metadata": {},
   "source": [
    "- chromadb 저장"
   ]
  },
  {
   "cell_type": "code",
   "execution_count": 35,
   "metadata": {},
   "outputs": [],
   "source": [
    "# import chromadb\n",
    "\n",
    "# # Define a persistent client with a directory to store the data\n",
    "# chroma_client = chromadb.Client(\n",
    "#     chromadb.config.Settings(persist_directory=\"climate_chromadb\")\n",
    "# )\n",
    "\n",
    "# # Create a collection\n",
    "# chroma_collection = chroma_client.create_collection(\"climate_change\", embedding_function=embedding_function)\n",
    "\n",
    "# # Add documents to the collection\n",
    "# ids = [str(i) for i in range(len(token_split_texts))]\n",
    "# chroma_collection.add(ids=ids, documents=token_split_texts)\n",
    "\n",
    "# # Persist the data to disk\n",
    "# chroma_client.persist()"
   ]
  },
  {
   "cell_type": "markdown",
   "metadata": {},
   "source": [
    "- 임베딩 벡터(chromadb)를 2차원으로 축소함 "
   ]
  },
  {
   "cell_type": "code",
   "execution_count": 36,
   "metadata": {},
   "outputs": [
    {
     "name": "stderr",
     "output_type": "stream",
     "text": [
      "/opt/anaconda3/envs/kmy_env/lib/python3.12/site-packages/umap/umap_.py:1952: UserWarning: n_jobs value 1 overridden to 1 by setting random_state. Use no seed for parallelism.\n",
      "  warn(\n",
      "OMP: Info #276: omp_set_nested routine deprecated, please use omp_set_max_active_levels instead.\n"
     ]
    }
   ],
   "source": [
    "import umap\n",
    "import numpy as np\n",
    "from tqdm import tqdm\n",
    "\n",
    "# 임베딩 벡터를 2차원으로 축소 \n",
    "embeddings = chroma_collection.get(include=['embeddings'])['embeddings']\n",
    "umap_transform = umap.UMAP(random_state=0, transform_seed=0).fit(embeddings)"
   ]
  },
  {
   "cell_type": "code",
   "execution_count": 40,
   "metadata": {},
   "outputs": [],
   "source": [
    "def project_embeddings(embeddings, umap_transform):\n",
    "    umap_embeddings = np.empty((len(embeddings),2))\n",
    "    for i, embedding in enumerate(tqdm(embeddings)): \n",
    "        umap_embeddings[i] = umap_transform.transform([embedding])\n",
    "    return umap_embeddings   "
   ]
  },
  {
   "cell_type": "code",
   "execution_count": 41,
   "metadata": {},
   "outputs": [
    {
     "name": "stderr",
     "output_type": "stream",
     "text": [
      "100%|██████████| 97/97 [00:01<00:00, 49.16it/s]\n"
     ]
    }
   ],
   "source": [
    "projected_dataset_embeddings = project_embeddings(embeddings, umap_transform)"
   ]
  },
  {
   "cell_type": "code",
   "execution_count": 42,
   "metadata": {},
   "outputs": [
    {
     "data": {
      "text/plain": [
       "(7.014299726486206, 14.08623948097229, 0.9086940228939056, 7.100990897417068)"
      ]
     },
     "execution_count": 42,
     "metadata": {},
     "output_type": "execute_result"
    },
    {
     "data": {
      "image/png": "[encoded data removed]",
      "text/plain": [
       "<Figure size 640x480 with 1 Axes>"
      ]
     },
     "metadata": {},
     "output_type": "display_data"
    }
   ],
   "source": [
    "import matplotlib.pyplot as plt\n",
    "\n",
    "plt.figure()\n",
    "plt.scatter(projected_dataset_embeddings[:, 0], projected_dataset_embeddings[:, 1], s=10)\n",
    "plt.gca().set_aspect('equal', 'datalim')\n",
    "plt.title('Projected Embeddings')\n",
    "plt.axis('off')"
   ]
  },
  {
   "cell_type": "markdown",
   "metadata": {},
   "source": [
    "- 축소 후 질문 \n"
   ]
  },
  {
   "cell_type": "code",
   "execution_count": 43,
   "metadata": {},
   "outputs": [
    {
     "name": "stdout",
     "output_type": "stream",
     "text": [
      "began at the end of the last ice age, human societies f lourished, but the industrial era has seen unprecedented changes. modern observations modern scientific observations indicate a rapid increase in global temperatures, sea levels, and extreme weather events. the intergovernmental panel on climate change ( ipcc ) has documented these changes extensively. ice core samples, tree rings, and ocean sediments provide a historical record that scientists use to understand past climate conditions and predict future trends. the evidence overwhelmingly shows that recent changes are primarily driven by human activities, particularly the emission of greenhou se gases. chapter 2 : causes of climate change greenhouse gases the primary cause of recent climate change is the increase in greenhouse gases in the atmosphere. greenhouse gases, such as carbon dioxide ( co2 ), methane ( ch4 ), and nitrous\n",
      "\n",
      "the effects of climate change are already being felt around the world and are projected to intensify in the coming decades. these effects include : rising temperatures global temperatures have risen by about 1. 2 degrees celsius ( 2. 2 degrees fahrenheit ) since the late 19th century. this warming is not uniform, with some regions experiencing more significant increases than others. heatwaves heatwaves are becoming more frequent and severe, posing risks to human health, agriculture, and infrastructure. cities are particularly vulnerable due to the \" urban heat island \" effect. heatwaves can lead to heat - related illnesses and exacerbate existing h ealth conditions. changing seasons climate change is altering the timing and length of seasons, affecting ecosystems and human activities. for example, spring is arriving earlier, and winters are becoming shorter and milder in many regions. this shift disrupts plant and animal life cycles a nd agricultural practices.\n",
      "\n",
      "understanding climate change chapter 1 : introduction to climate change climate change refers to significant, long - term changes in the global climate. the term \" global climate \" encompasses the planet's overall weather patterns, including temperature, precipitation, and wind patterns, over an extended period. over the past cent ury, human activities, particularly the burning of fossil fuels and deforestation, have significantly contributed to climate change. historical context the earth's climate has changed throughout history. over the past 650, 000 years, there have been seven cycles of glacial advance and retreat, with the abrupt end of the last ice age about 11, 700 years ago marking the beginning of the modern climate era and human civilization. most of these climate changes are attributed to very small variations in earth's orbit that change the amount of solar energy our planet receives. during the holocene epoch, which\n",
      "\n",
      "crucial role in sequestering carbon. logging and land - use changes in these regions contribute to climate change. these forests are vital for regulating the earth's climate and supporting indigenous communities and wildlife. agriculture agriculture contributes to climate change through methane emissions from livestock, rice paddies, and the use of synthetic fertilizers. methane is a potent greenhouse gas with a much higher heat - trapping capability than co2, albeit in smaller quantities. livestock emissions\n",
      "\n",
      "the arctic is warming at more than twice the global average rate, leading to significant ice loss. antarctic ice sheets are also losing mass, contributing to sea level rise. this melting affects global ocean currents and weather patterns. glacial retreat glaciers around the world are retreating, affecting water supplies for millions of people. regions dependent on glacial meltwater, such as the himalayas and the andes, face particular risks. glacial melt also impacts hydropower generation and agriculture. coastal erosion rising sea levels and increased storm surges are accelerating coastal erosion, threatening homes, infrastructure, and ecosystems. low - lying islands and coastal regions are especially vulnerable. coastal communities must invest in adaptation measures like s ea walls and managed retreats. extreme weather events climate change is linked to an increase in the frequency and severity of extreme weather\n",
      "\n"
     ]
    }
   ],
   "source": [
    "query = \"What is the main cause of climate change?\"\n",
    "\n",
    "results = chroma_collection.query(query_texts=query, n_results=5, include=['documents', 'embeddings'])\n",
    "\n",
    "retrieved_documents = results['documents'][0]\n",
    "\n",
    "for document in results['documents'][0]:\n",
    "    print(document)\n",
    "    print('')"
   ]
  },
  {
   "cell_type": "code",
   "execution_count": 44,
   "metadata": {},
   "outputs": [
    {
     "name": "stderr",
     "output_type": "stream",
     "text": [
      "100%|██████████| 1/1 [00:00<00:00, 200.24it/s]\n",
      "100%|██████████| 5/5 [00:00<00:00, 311.66it/s]\n"
     ]
    }
   ],
   "source": [
    "query_embedding = embedding_function([query])[0] # 질문을 임베딩하여 벡터화\n",
    "retrieved_embeddings = results['embeddings'][0] # 검색문서들의 임베딩 리스트를 가져옴 \n",
    "\n",
    "projected_query_embedding = project_embeddings([query_embedding], umap_transform)\n",
    "projected_retrieved_embeddings = project_embeddings(retrieved_embeddings, umap_transform)\n",
    "# 쿼리와 검색문서들에 대해 임베딩된 것을 투영함 \n"
   ]
  },
  {
   "cell_type": "code",
   "execution_count": 46,
   "metadata": {},
   "outputs": [
    {
     "data": {
      "text/plain": [
       "(7.014299726486206, 14.08623948097229, 0.9086940228939056, 7.100990897417068)"
      ]
     },
     "execution_count": 46,
     "metadata": {},
     "output_type": "execute_result"
    },
    {
     "data": {
      "image/png": "[encoded data removed]",
      "text/plain": [
       "<Figure size 640x480 with 1 Axes>"
      ]
     },
     "metadata": {},
     "output_type": "display_data"
    }
   ],
   "source": [
    "# Plot the projected query and retrieved documents in the embedding space\n",
    "plt.figure()\n",
    "# 전체 데이터에 대한 임베딩 결과 \n",
    "plt.scatter(projected_dataset_embeddings[:, 0], projected_dataset_embeddings[:, 1], s=10, color='gray')\n",
    "# 질문에 대한 임베딩 결과를 x로 표시 \n",
    "plt.scatter(projected_query_embedding[:, 0], projected_query_embedding[:, 1], s=150, marker='X', color='r')\n",
    "# 검색 데이터에 대해 결과를 동그라미 표시 \n",
    "plt.scatter(projected_retrieved_embeddings[:, 0], projected_retrieved_embeddings[:, 1], s=100, facecolors='none', edgecolors='g')\n",
    "\n",
    "plt.gca().set_aspect('equal', 'datalim')\n",
    "plt.title(f'{query}')\n",
    "plt.axis('off')"
   ]
  },
  {
   "cell_type": "code",
   "execution_count": 48,
   "metadata": {},
   "outputs": [
    {
     "name": "stdout",
     "output_type": "stream",
     "text": [
      "\n",
      "the effects of climate change are already being felt around the world and are projected to intensify in the coming decades. these effects include : rising temperatures global temperatures have risen by about 1. 2 degrees celsius ( 2. 2 degrees fahrenheit ) since the late 19th century. this warming is not uniform, with some regions experiencing more significant increases than others. heatwaves heatwaves are becoming more frequent and severe, posing risks to human health, agriculture, and infrastructure. cities are particularly vulnerable due to the \" urban heat island \" effect. heatwaves can lead to heat - related illnesses and exacerbate existing h ealth conditions. changing seasons climate change is altering the timing and length of seasons, affecting ecosystems and human activities. for example, spring is arriving earlier, and winters are becoming shorter and milder in many regions. this shift disrupts plant and animal life cycles a nd agricultural practices.\n",
      "\n",
      "local communities are often on the front lines of climate impacts and can be powerful agents of change. community - based conservation projects involve residents in protecting and restoring natural resources, such as forests, wetlands, and coastal areas. the se projects enhance local resilience and biodiversity. education and awareness raising public awareness about climate change and sustainability is crucial for driving action. educational programs, media campaigns, and community events can inform and inspire individuals to adopt environmentally friendly practices. schools, ngos, and l ocal governments play key roles in these efforts. chapter 7 : the economics of climate change costs of inaction economic impacts of climate change the economic costs of climate change include damage to infrastructure, reduced agricultural productivity, health care costs, and lost labor productivity. extreme weather events, such as\n",
      "\n",
      "marine ecosystems are highly vulnerable to climate change. rising sea temperatures, ocean acidification, and changing currents affect marine biodiversity, from coral reefs to deep - sea habitats. species migration and changes in reproductive cycles can disru pt marine food webs and fisheries.\n",
      "\n",
      "crucial role in sequestering carbon. logging and land - use changes in these regions contribute to climate change. these forests are vital for regulating the earth's climate and supporting indigenous communities and wildlife. agriculture agriculture contributes to climate change through methane emissions from livestock, rice paddies, and the use of synthetic fertilizers. methane is a potent greenhouse gas with a much higher heat - trapping capability than co2, albeit in smaller quantities. livestock emissions\n",
      "\n",
      "began at the end of the last ice age, human societies f lourished, but the industrial era has seen unprecedented changes. modern observations modern scientific observations indicate a rapid increase in global temperatures, sea levels, and extreme weather events. the intergovernmental panel on climate change ( ipcc ) has documented these changes extensively. ice core samples, tree rings, and ocean sediments provide a historical record that scientists use to understand past climate conditions and predict future trends. the evidence overwhelmingly shows that recent changes are primarily driven by human activities, particularly the emission of greenhou se gases. chapter 2 : causes of climate change greenhouse gases the primary cause of recent climate change is the increase in greenhouse gases in the atmosphere. greenhouse gases, such as carbon dioxide ( co2 ), methane ( ch4 ), and nitrous\n"
     ]
    }
   ],
   "source": [
    "query = \"What are the impacts of climate change on the environment?\"\n",
    "results = chroma_collection.query(query_texts=query, n_results=5, include=['documents', 'embeddings'])\n",
    "\n",
    "retrieved_documents = results['documents'][0]\n",
    "\n",
    "for document in results['documents'][0]:\n",
    "    print('')\n",
    "    print(document)"
   ]
  },
  {
   "cell_type": "code",
   "execution_count": 49,
   "metadata": {},
   "outputs": [
    {
     "name": "stderr",
     "output_type": "stream",
     "text": [
      "100%|██████████| 1/1 [00:00<00:00, 273.89it/s]\n",
      "100%|██████████| 5/5 [00:00<00:00, 349.57it/s]\n"
     ]
    }
   ],
   "source": [
    "query_embedding = embedding_function([query])[0]\n",
    "retrieved_embeddings = results['embeddings'][0]\n",
    "\n",
    "projected_query_embedding = project_embeddings([query_embedding], umap_transform)\n",
    "projected_retrieved_embeddings = project_embeddings(retrieved_embeddings, umap_transform)\n"
   ]
  },
  {
   "cell_type": "code",
   "execution_count": 50,
   "metadata": {},
   "outputs": [
    {
     "data": {
      "text/plain": [
       "(7.014299726486206, 14.08623948097229, 0.9086940228939056, 7.100990897417068)"
      ]
     },
     "execution_count": 50,
     "metadata": {},
     "output_type": "execute_result"
    },
    {
     "data": {
      "image/png": "[encoded data removed]",
      "text/plain": [
       "<Figure size 640x480 with 1 Axes>"
      ]
     },
     "metadata": {},
     "output_type": "display_data"
    }
   ],
   "source": [
    "# Plot the projected query and retrieved documents in the embedding space\n",
    "plt.figure()\n",
    "plt.scatter(projected_dataset_embeddings[:, 0], projected_dataset_embeddings[:, 1], s=10, color='gray')\n",
    "plt.scatter(projected_query_embedding[:, 0], projected_query_embedding[:, 1], s=150, marker='X', color='r')\n",
    "plt.scatter(projected_retrieved_embeddings[:, 0], projected_retrieved_embeddings[:, 1], s=100, facecolors='none', edgecolors='g')\n",
    "\n",
    "plt.gca().set_aspect('equal', 'datalim')\n",
    "plt.title(f'{query}')\n",
    "plt.axis('off')"
   ]
  },
  {
   "cell_type": "markdown",
   "metadata": {},
   "source": [
    "## 3. embedding adaptor "
   ]
  },
  {
   "cell_type": "code",
   "execution_count": 56,
   "metadata": {},
   "outputs": [],
   "source": [
    "import torch"
   ]
  },
  {
   "cell_type": "code",
   "execution_count": 59,
   "metadata": {},
   "outputs": [],
   "source": [
    "from langchain.chat_models import ChatOpenAI\n",
    "from langchain.prompts import PromptTemplate\n",
    "import openai\n",
    "import os\n",
    "from dotenv import load_dotenv\n",
    "from openai import OpenAI\n",
    "\n",
    "# Load environment variables from a .env file\n",
    "load_dotenv()\n",
    "\n",
    "# Set the OpenAI API key environment variable\n",
    "os.environ[\"OPENAI_API_KEY\"] = os.getenv('OPENAI_API_KEY')\n",
    "openai.api_key = os.getenv(\"OPENAI_API_KEY\")\n",
    "openai_client = OpenAI()\n"
   ]
  },
  {
   "cell_type": "code",
   "execution_count": 60,
   "metadata": {},
   "outputs": [],
   "source": [
    "def generate_queries(model=\"gpt-3.5-turbo\"):\n",
    "    messages = [\n",
    "        {\n",
    "            \"role\": \"system\",\n",
    "            \"content\": \"You are a helpful expert climate research assistant. You help users understand climate statements to better understand reader. \"\n",
    "            \"Suggest 10 to 15 short questions that are important to ask when understanding climate change. \"\n",
    "            \"Do not output any compound questions (questions with multiple sentences or conjunctions).\"\n",
    "            \"Output each question on a separate line divided by a newline.\"\n",
    "        },\n",
    "    ]\n",
    "\n",
    "    response = openai_client.chat.completions.create(\n",
    "        model=model,\n",
    "        messages=messages,\n",
    "    )\n",
    "    content = response.choices[0].message.content\n",
    "    content = content.split(\"\\n\")\n",
    "    return content"
   ]
  },
  {
   "cell_type": "markdown",
   "metadata": {},
   "source": [
    "- 새로운 질문 15가지 생성"
   ]
  },
  {
   "cell_type": "code",
   "execution_count": 61,
   "metadata": {},
   "outputs": [
    {
     "name": "stdout",
     "output_type": "stream",
     "text": [
      "1. What is the greenhouse effect and how does it contribute to climate change?\n",
      "2. What evidence supports the idea that the Earth’s climate is changing?\n",
      "3. How do human activities, such as burning fossil fuels, impact the climate?\n",
      "4. What are the potential impacts of climate change on ecosystems and biodiversity?\n",
      "5. How does climate change affect extreme weather events, such as hurricanes and droughts?\n",
      "6. What is the role of the ocean in regulating the Earth’s climate?\n",
      "7. How are scientists able to predict future climate scenarios?\n",
      "8. What are some strategies we can implement to mitigate the effects of climate change?\n",
      "9. How can individuals make a difference in combating climate change?\n",
      "10. What are the differences between weather and climate?\n",
      "11. How does deforestation contribute to climate change?\n",
      "12. What is the relationship between climate change and sea-level rise?\n",
      "13. What are the impacts of climate change on global food security?\n",
      "14. How do changing climate patterns affect vulnerable populations, such as communities in developing countries?\n",
      "15. What is the significance of international agreements, like the Paris Agreement, in addressing climate change?\n"
     ]
    }
   ],
   "source": [
    "generated_queries = generate_queries()\n",
    "for query in generated_queries:\n",
    "    print(query)"
   ]
  },
  {
   "cell_type": "markdown",
   "metadata": {},
   "source": [
    "- chroma에서 질문에 대한 답변 생성 10가지씩"
   ]
  },
  {
   "cell_type": "code",
   "execution_count": 67,
   "metadata": {},
   "outputs": [],
   "source": [
    "results = chroma_collection.query(query_texts=generated_queries, n_results=10, include=['documents', 'embeddings'])\n",
    "retrieved_documents = results['documents']"
   ]
  },
  {
   "cell_type": "code",
   "execution_count": 90,
   "metadata": {},
   "outputs": [],
   "source": [
    "def evaluate_results(query, statement, model=\"gpt-3.5-turbo\"):\n",
    "    messages = [\n",
    "    {\n",
    "        \"role\": \"system\",\n",
    "        \"content\": (\n",
    "            \"You are a helpful expert climate research assistant. \"\n",
    "            \"You analyze documents and evaluate their relevance to a given query. \"\n",
    "            \"For the given query, evaluate whether the following statement is relevant to answering the query. \"\n",
    "            \"Respond strictly with the single word 'yes' or 'no'.\"\n",
    "        )\n",
    "    },\n",
    "    {\n",
    "        \"role\": \"user\",\n",
    "        \"content\": f\"Query: {query}\\nStatement: {statement}\"\n",
    "    }\n",
    "    ]\n",
    "\n",
    "    response = openai_client.chat.completions.create(\n",
    "        model=model,\n",
    "        messages=messages,\n",
    "        max_tokens=1\n",
    "    )\n",
    "    content = response.choices[0].message.content.strip().lower()\n",
    "    if content == \"yes\":\n",
    "        return 1\n",
    "    return -1"
   ]
  },
  {
   "cell_type": "code",
   "execution_count": 91,
   "metadata": {},
   "outputs": [],
   "source": [
    "retrieved_embeddings = results['embeddings']\n",
    "query_embeddings = embedding_function(generated_queries)"
   ]
  },
  {
   "cell_type": "code",
   "execution_count": 92,
   "metadata": {},
   "outputs": [
    {
     "name": "stderr",
     "output_type": "stream",
     "text": [
      "100%|██████████| 15/15 [01:35<00:00,  6.37s/it]\n"
     ]
    }
   ],
   "source": [
    "adapter_query_embeddings = []\n",
    "adapter_doc_embeddings = []\n",
    "adapter_labels = []\n",
    "# 15가지 생서된 질문 \n",
    "for q, query in enumerate(tqdm(generated_queries)):\n",
    "    # 10가지 반환된 문서들 \n",
    "    for d, document in enumerate(retrieved_documents[q]):\n",
    "        # 질문 임베딩 , 질문에 대한 답변 임베딩, 답변에 대한 평가까지 \n",
    "        adapter_query_embeddings.append(query_embeddings[q])\n",
    "        adapter_doc_embeddings.append(retrieved_embeddings[q][d])\n",
    "        adapter_labels.append(evaluate_results(query, document))"
   ]
  },
  {
   "cell_type": "code",
   "execution_count": 95,
   "metadata": {},
   "outputs": [
    {
     "data": {
      "text/plain": [
       "150"
      ]
     },
     "execution_count": 95,
     "metadata": {},
     "output_type": "execute_result"
    }
   ],
   "source": [
    "len(adapter_labels)\n",
    "# adapter_labels"
   ]
  },
  {
   "cell_type": "markdown",
   "metadata": {},
   "source": [
    "- 쿼리, 문서, 평가 임베딩을 하나로 결합"
   ]
  },
  {
   "cell_type": "code",
   "execution_count": 96,
   "metadata": {},
   "outputs": [],
   "source": [
    "adapter_query_embeddings = torch.Tensor(np.array(adapter_query_embeddings))\n",
    "adapter_doc_embeddings = torch.Tensor(np.array(adapter_doc_embeddings))\n",
    "adapter_labels = torch.Tensor(np.expand_dims(np.array(adapter_labels),1))"
   ]
  },
  {
   "cell_type": "code",
   "execution_count": 110,
   "metadata": {},
   "outputs": [
    {
     "data": {
      "text/plain": [
       "384"
      ]
     },
     "execution_count": 110,
     "metadata": {},
     "output_type": "execute_result"
    }
   ],
   "source": [
    "adapter_query_embeddings.shape\n",
    "adapter_doc_embeddings.shape\n",
    "mat_size"
   ]
  },
  {
   "cell_type": "code",
   "execution_count": 97,
   "metadata": {},
   "outputs": [],
   "source": [
    "dataset = torch.utils.data.TensorDataset(adapter_query_embeddings, adapter_doc_embeddings, adapter_labels)"
   ]
  },
  {
   "cell_type": "markdown",
   "metadata": {},
   "source": [
    "1. 질문 임베딩을 변환하여 문서 임베딩\n",
    "- 질문 임베딩을 어댑터 행렬 shape으로 변환하여 문서 임베딩과 공간에 맞게 변환시킴\n",
    "- 변환된 임베딩으로 코사인 유사도를 계산했기 때문에 정확성이 올라감\n"
   ]
  },
  {
   "cell_type": "code",
   "execution_count": 99,
   "metadata": {},
   "outputs": [],
   "source": [
    "def model(query_embedding, document_embedding, adaptor_matrix):\n",
    "    # adaptor행렬로 질문 행렬을 변환하여 질문과 문서 간의 유사도를 반환 함 \n",
    "    updated_query_embedding = torch.matmul(adaptor_matrix, query_embedding)\n",
    "    return torch.cosine_similarity(updated_query_embedding, document_embedding, dim=0)\n",
    "\n",
    "# 실제 레이블과 계산된 유사도 간의 차이를 계산함 \n",
    "def mse_loss(query_embedding, document_embedding, adaptor_matrix, label):\n",
    "    return torch.nn.MSELoss()(model(query_embedding, document_embedding, adaptor_matrix), label)"
   ]
  },
  {
   "cell_type": "code",
   "execution_count": 100,
   "metadata": {},
   "outputs": [],
   "source": [
    "# 384 차원으로 임베딩함 \n",
    "mat_size = len(adapter_query_embeddings[0])\n",
    "adapter_matrix = torch.randn(mat_size, mat_size, requires_grad=True)"
   ]
  },
  {
   "cell_type": "code",
   "execution_count": 101,
   "metadata": {},
   "outputs": [
    {
     "name": "stderr",
     "output_type": "stream",
     "text": [
      "  0%|          | 0/100 [00:00<?, ?it/s]/opt/anaconda3/envs/kmy_env/lib/python3.12/site-packages/torch/nn/modules/loss.py:538: UserWarning: Using a target size (torch.Size([1])) that is different to the input size (torch.Size([])). This will likely lead to incorrect results due to broadcasting. Please ensure they have the same size.\n",
      "  return F.mse_loss(input, target, reduction=self.reduction)\n",
      "100%|██████████| 100/100 [00:05<00:00, 16.74it/s]\n"
     ]
    }
   ],
   "source": [
    "min_loss = float('inf')\n",
    "best_matrix = None\n",
    "\n",
    "for epoch in tqdm(range(100)):\n",
    "    for query_embedding, document_embedding, label in dataset:\n",
    "        loss = mse_loss(query_embedding, document_embedding, adapter_matrix, label)\n",
    "\n",
    "        if loss < min_loss:\n",
    "            min_loss = loss\n",
    "            best_matrix = adapter_matrix.clone().detach().numpy()\n",
    "\n",
    "        loss.backward()\n",
    "        with torch.no_grad():\n",
    "            adapter_matrix -= 0.01 * adapter_matrix.grad\n",
    "            adapter_matrix.grad.zero_()\n",
    "        "
   ]
  },
  {
   "cell_type": "code",
   "execution_count": 102,
   "metadata": {},
   "outputs": [
    {
     "name": "stdout",
     "output_type": "stream",
     "text": [
      "Best loss: 0.587549090385437\n"
     ]
    }
   ],
   "source": [
    "print(f\"Best loss: {min_loss.detach().numpy()}\")"
   ]
  },
  {
   "cell_type": "code",
   "execution_count": 103,
   "metadata": {},
   "outputs": [],
   "source": [
    "test_vector = torch.ones((mat_size,1))\n",
    "scaled_vector = np.matmul(best_matrix, test_vector).numpy()"
   ]
  },
  {
   "cell_type": "code",
   "execution_count": 104,
   "metadata": {},
   "outputs": [
    {
     "data": {
      "image/png": "[encoded data removed]",
      "text/plain": [
       "<Figure size 640x480 with 1 Axes>"
      ]
     },
     "metadata": {},
     "output_type": "display_data"
    }
   ],
   "source": [
    "import matplotlib.pyplot as plt\n",
    "plt.bar(range(len(scaled_vector)), scaled_vector.flatten())\n",
    "plt.show()\n"
   ]
  },
  {
   "cell_type": "code",
   "execution_count": 105,
   "metadata": {},
   "outputs": [
    {
     "name": "stderr",
     "output_type": "stream",
     "text": [
      "100%|██████████| 15/15 [00:00<00:00, 84.13it/s] \n",
      "100%|██████████| 15/15 [00:00<00:00, 115.10it/s]\n"
     ]
    }
   ],
   "source": [
    "query_embeddings = embedding_function(generated_queries)\n",
    "adapted_query_embeddings = np.matmul(best_matrix, np.array(query_embeddings).T).T\n",
    "\n",
    "projected_query_embeddings = project_embeddings(query_embeddings, umap_transform)\n",
    "projected_adapted_query_embeddings = project_embeddings(adapted_query_embeddings, umap_transform)"
   ]
  },
  {
   "cell_type": "code",
   "execution_count": 106,
   "metadata": {},
   "outputs": [
    {
     "data": {
      "text/plain": [
       "<matplotlib.legend.Legend at 0x37b83b2c0>"
      ]
     },
     "execution_count": 106,
     "metadata": {},
     "output_type": "execute_result"
    },
    {
     "data": {
      "image/png": "[encoded data removed]",
      "text/plain": [
       "<Figure size 640x480 with 1 Axes>"
      ]
     },
     "metadata": {},
     "output_type": "display_data"
    }
   ],
   "source": [
    "# Plot the projected query and retrieved documents in the embedding space\n",
    "plt.figure()\n",
    "plt.scatter(projected_dataset_embeddings[:, 0], projected_dataset_embeddings[:, 1], s=10, color='gray')\n",
    "plt.scatter(projected_query_embeddings[:, 0], projected_query_embeddings[:, 1], s=150, marker='X', color='r', label=\"original\")\n",
    "plt.scatter(projected_adapted_query_embeddings[:, 0], projected_adapted_query_embeddings[:, 1], s=150, marker='X', color='green', label=\"adapted\")\n",
    "\n",
    "plt.gca().set_aspect('equal', 'datalim')\n",
    "plt.title(\"Adapted Queries\")\n",
    "plt.axis('off')\n",
    "plt.legend()"
   ]
  },
  {
   "cell_type": "code",
   "execution_count": 112,
   "metadata": {},
   "outputs": [
    {
     "data": {
      "text/plain": [
       "<matplotlib.collections.PathCollection at 0x37b951af0>"
      ]
     },
     "execution_count": 112,
     "metadata": {},
     "output_type": "execute_result"
    },
    {
     "data": {
      "image/png": "[encoded data removed]",
      "text/plain": [
       "<Figure size 640x480 with 1 Axes>"
      ]
     },
     "metadata": {},
     "output_type": "display_data"
    }
   ],
   "source": [
    "plt.figure()\n",
    "plt.scatter(projected_dataset_embeddings[:, 0], projected_dataset_embeddings[:, 1], s=10, color='gray')\n"
   ]
  },
  {
   "cell_type": "markdown",
   "metadata": {},
   "source": [
    "- 결론: 초록색이 빨간색보다 문서 임베딩과 더 유사하게 변형되었기 때문에 임베딩 변환의 효과가 있었다고 할 수 있다."
   ]
  },
  {
   "cell_type": "code",
   "execution_count": null,
   "metadata": {},
   "outputs": [],
   "source": []
  }
 ],
 "metadata": {
  "kernelspec": {
   "display_name": "kmy_env",
   "language": "python",
   "name": "python3"
  },
  "language_info": {
   "codemirror_mode": {
    "name": "ipython",
    "version": 3
   },
   "file_extension": ".py",
   "mimetype": "text/x-python",
   "name": "python",
   "nbconvert_exporter": "python",
   "pygments_lexer": "ipython3",
   "version": "3.12.7"
  }
 },
 "nbformat": 4,
 "nbformat_minor": 2
}
