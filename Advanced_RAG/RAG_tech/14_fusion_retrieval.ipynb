{
 "cells": [
  {
   "cell_type": "markdown",
   "metadata": {},
   "source": [
    "# Fusion Retrieval을 활용한 문서 검색\n",
    "\n",
    "## 개요\n",
    "\n",
    "이 코드는 벡터 기반의 유사도 검색과 키워드 기반의 BM25 검색을 결합한 Fusion Retrieval 시스템을 구현합니다. 이 접근 방식은 두 방법의 강점을 활용하여 문서 검색의 전반적인 품질과 관련성을 향상시키는 것을 목표로 합니다.\n",
    "\n",
    "## 동기\n",
    "\n",
    "전통적인 검색 방법은 주로 의미적 이해(벡터 기반) 또는 키워드 매칭(BM25)에 의존합니다. 각 접근 방식에는 장단점이 존재하며, Fusion Retrieval은 이러한 방법들을 결합하여 보다 견고하고 정확한 검색 시스템을 구축하려는 시도입니다. 이를 통해 다양한 유형의 쿼리를 효과적으로 처리할 수 있습니다.\n",
    "\n",
    "## 주요 구성 요소\n",
    "\n",
    "1. PDF 처리 및 텍스트 청크 분할\n",
    "2. FAISS와 OpenAI 임베딩을 활용한 벡터 스토어 생성\n",
    "3. 키워드 기반 검색을 위한 BM25 인덱스 생성\n",
    "4. 두 가지 방법을 결합하는 커스텀 Fusion Retrieval 함수\n",
    "\n",
    "## 방법 상세 설명\n",
    "\n",
    "### 문서 전처리\n",
    "\n",
    "1. PDF 파일을 로드하고 RecursiveCharacterTextSplitter를 사용해 텍스트를 청크로 분할합니다.\n",
    "2. 텍스트 청크의 형식 문제를 해결하기 위해 't'를 공백으로 교체하여 청크를 정리합니다.\n",
    "\n",
    "### 벡터 스토어 생성\n",
    "\n",
    "1. OpenAI 임베딩을 사용해 텍스트 청크의 벡터 표현을 생성합니다.\n",
    "2. 생성된 임베딩을 활용하여 FAISS 벡터 스토어를 생성하고 효율적인 유사도 검색을 수행합니다.\n",
    "\n",
    "### BM25 인덱스 생성\n",
    "\n",
    "1. 벡터 스토어에 사용된 동일한 텍스트 청크를 바탕으로 BM25 인덱스를 생성합니다.\n",
    "2. 이를 통해 벡터 기반 검색과 함께 키워드 기반 검색을 수행할 수 있습니다.\n",
    "\n",
    "### Fusion Retrieval 함수\n",
    "\n",
    "`fusion_retrieval` 함수는 이 구현의 핵심입니다:\n",
    "\n",
    "1. 쿼리를 입력받아 벡터 기반과 BM25 기반 검색을 모두 수행합니다.\n",
    "2. 두 검색 방법에서 얻은 점수를 공통된 척도로 정규화합니다.\n",
    "3. 이러한 점수들을 가중치(`alpha` 파라미터)를 사용하여 결합합니다.\n",
    "4. 결합된 점수를 기반으로 문서들을 랭킹하고, 상위 k개의 결과를 반환합니다.\n",
    "\n",
    "## 접근 방식의 장점\n",
    "\n",
    "1. **향상된 검색 품질**: 의미와 키워드 기반 검색을 결합함으로써 개념적 유사성과 정확한 키워드 매칭을 모두 포착할 수 있습니다.\n",
    "2. **유연성**: `alpha` 파라미터를 조정하여 벡터와 키워드 검색의 균형을 사용 사례나 쿼리 유형에 맞게 조절할 수 있습니다.\n",
    "3. **견고성**: 결합된 접근 방식은 개별 방법의 약점을 보완하며 다양한 쿼리에 효과적으로 대응할 수 있습니다.\n",
    "4. **사용자 정의 가능성**: 이 시스템은 다른 벡터 스토어나 키워드 기반 검색 방법을 쉽게 적용할 수 있어 적응성이 높습니다.\n",
    "\n",
    "## 결론\n",
    "\n",
    "Fusion Retrieval은 의미적 이해와 키워드 매칭의 강점을 결합한 강력한 문서 검색 접근 방식입니다. 벡터 기반과 BM25 검색 방법을 모두 활용함으로써 정보 검색 작업에 대해 더 포괄적이고 유연한 솔루션을 제공합니다. 이 접근 방식은 학술 연구, 법률 문서 검색, 일반적인 검색 엔진 등 개념적 유사성과 키워드 관련성이 중요한 다양한 분야에서 활용 가능성이 있습니다.\n"
   ]
  },
  {
   "cell_type": "markdown",
   "metadata": {},
   "source": [
    "<div style=\"text-align: center;\">\n",
    "\n",
    "<img src=\"../images/fusion_retrieval.svg\" alt=\"Fusion Retrieval\" style=\"width:100%; height:auto;\">\n",
    "</div>"
   ]
  },
  {
   "cell_type": "markdown",
   "metadata": {},
   "source": [
    "### Import libraries "
   ]
  },
  {
   "cell_type": "code",
   "execution_count": 1,
   "metadata": {},
   "outputs": [
    {
     "name": "stderr",
     "output_type": "stream",
     "text": [
      "/var/folders/gl/6qlsk6x94klgs54qzsg9q1jm0000gn/T/ipykernel_4345/3231833842.py:12: LangChainDeprecationWarning: As of langchain-core 0.3.0, LangChain uses pydantic v2 internally. The langchain_core.pydantic_v1 module was a compatibility shim for pydantic v1, and should no longer be used. Please update the code to import from Pydantic directly.\n",
      "\n",
      "For example, replace imports like: `from langchain_core.pydantic_v1 import BaseModel`\n",
      "with: `from pydantic import BaseModel`\n",
      "or the v1 compatibility namespace if you are working in a code base that has not been fully upgraded to pydantic 2 yet. \tfrom pydantic.v1 import BaseModel\n",
      "\n",
      "  from helper_functions import *\n",
      "/opt/anaconda3/envs/kmy_env/lib/python3.12/site-packages/deepeval/__init__.py:49: UserWarning: You are using deepeval version 1.4.5, however version 1.4.7 is available. You should consider upgrading via the \"pip install --upgrade deepeval\" command.\n",
      "  warnings.warn(\n"
     ]
    }
   ],
   "source": [
    "import os\n",
    "import sys\n",
    "from dotenv import load_dotenv\n",
    "from langchain.docstore.document import Document\n",
    "\n",
    "from typing import List\n",
    "from rank_bm25 import BM25Okapi\n",
    "import numpy as np\n",
    "\n",
    "\n",
    "sys.path.append(os.path.abspath(os.path.join(os.getcwd(), '..'))) # Add the parent directory to the path sicnce we work with notebooks\n",
    "from helper_functions import *\n",
    "from evaluation.evalute_rag import *\n",
    "\n",
    "# Load environment variables from a .env file\n",
    "load_dotenv()\n",
    "\n",
    "# Set the OpenAI API key environment variable\n",
    "os.environ[\"OPENAI_API_KEY\"] = os.getenv('OPENAI_API_KEY')"
   ]
  },
  {
   "cell_type": "markdown",
   "metadata": {},
   "source": [
    "### Define document path"
   ]
  },
  {
   "cell_type": "code",
   "execution_count": 2,
   "metadata": {},
   "outputs": [],
   "source": [
    "path = \"../data/Understanding_Climate_Change.pdf\""
   ]
  },
  {
   "cell_type": "markdown",
   "metadata": {},
   "source": [
    "### Encode the pdf to vector store and return split document from the step before to create BM25 instance\n",
    "### pdf를 벡터 스토어에 인코딩하고 문서를 분리하여 반환함. "
   ]
  },
  {
   "cell_type": "code",
   "execution_count": 4,
   "metadata": {},
   "outputs": [],
   "source": [
    "def encode_pdf_and_get_split_documents(path, chunk_size=1000, chunk_overlap=200):\n",
    "    \"\"\"\n",
    "    Encodes a PDF book into a vector store using OpenAI embeddings.\n",
    "\n",
    "    Args:\n",
    "        path: The path to the PDF file.\n",
    "        chunk_size: The desired size of each text chunk.\n",
    "        chunk_overlap: The amount of overlap between consecutive chunks.\n",
    "\n",
    "    Returns:\n",
    "        A FAISS vector store containing the encoded book content.\n",
    "    \"\"\"\n",
    "\n",
    "    # Load PDF documents\n",
    "    loader = PyPDFLoader(path)\n",
    "    documents = loader.load()\n",
    "\n",
    "    # Split documents into chunks\n",
    "    text_splitter = RecursiveCharacterTextSplitter(\n",
    "        chunk_size=chunk_size, chunk_overlap=chunk_overlap, length_function=len\n",
    "    )\n",
    "    texts = text_splitter.split_documents(documents)\n",
    "    cleaned_texts = replace_t_with_space(texts)\n",
    "\n",
    "    # Create embeddings and vector store\n",
    "    embeddings = OpenAIEmbeddings()\n",
    "    vectorstore = FAISS.from_documents(cleaned_texts, embeddings)\n",
    "\n",
    "    return vectorstore, cleaned_texts"
   ]
  },
  {
   "cell_type": "markdown",
   "metadata": {},
   "source": [
    "### 청킹된 문서를 임베딩하여 벡터스토어에 넣음 "
   ]
  },
  {
   "cell_type": "code",
   "execution_count": 5,
   "metadata": {},
   "outputs": [],
   "source": [
    "vectorstore, cleaned_texts = encode_pdf_and_get_split_documents(path)"
   ]
  },
  {
   "cell_type": "code",
   "execution_count": 6,
   "metadata": {},
   "outputs": [
    {
     "data": {
      "text/plain": [
       "[Document(metadata={'source': '../data/Understanding_Climate_Change.pdf', 'page': 0}, page_content='Understanding Climate Change  \\nChapter 1: Introduction to Climate Change  \\nClimate change refers to significant, long -term changes in the global climate. The term \\n\"global climate\" encompasses the planet\\'s overall weather patterns, including temperature, \\nprecipitation, and wind patterns, over an extended period. Over the past cent ury, human \\nactivities, particularly the burning of fossil fuels and deforestation, have significantly \\ncontributed to climate change.  \\nHistorical Context  \\nThe Earth\\'s climate has changed throughout history. Over the past 650,000 years, there have \\nbeen seven cycles of glacial advance and retreat, with the abrupt end of the last ice age about \\n11,700 years ago marking the beginning of the modern climate era and  human civilization. \\nMost of these climate changes are attributed to very small variations in Earth\\'s orbit that \\nchange the amount of solar energy our planet receives. During the Holocene epoch, which'),\n",
       " Document(metadata={'source': '../data/Understanding_Climate_Change.pdf', 'page': 0}, page_content=\"Most of these climate changes are attributed to very small variations in Earth's orbit that \\nchange the amount of solar energy our planet receives. During the Holocene epoch, which \\nbegan at the end of the last ice age, human societies f lourished, but the industrial era has seen \\nunprecedented changes.  \\nModern Observations  \\nModern scientific observations indicate a rapid increase in global temperatures, sea levels, \\nand extreme weather events. The Intergovernmental Panel on Climate Change (IPCC) has \\ndocumented these changes extensively. Ice core samples, tree rings, and ocean sediments \\nprovide a historical record that scientists use to understand past climate conditions and \\npredict future trends. The evidence overwhelmingly shows that recent changes are primarily \\ndriven by human activities, particularly the emission of greenhou se gases.  \\nChapter 2: Causes of Climate Change  \\nGreenhouse Gases\"),\n",
       " Document(metadata={'source': '../data/Understanding_Climate_Change.pdf', 'page': 0}, page_content='driven by human activities, particularly the emission of greenhou se gases.  \\nChapter 2: Causes of Climate Change  \\nGreenhouse Gases  \\nThe primary cause of recent climate change is the increase in greenhouse gases in the \\natmosphere. Greenhouse gases, such as carbon dioxide (CO2), methane (CH4), and nitrous \\noxide (N2O), trap heat from the sun, creating a \"greenhouse effect.\" This effect is  essential \\nfor life on Earth, as it keeps the planet warm enough to support life. However, human \\nactivities have intensified this natural process, leading to a warmer climate.  \\nFossil Fuels  \\nBurning fossil fuels for energy releases large amounts of CO2. This includes coal, oil, and \\nnatural gas used for electricity, heating, and transportation. The industrial revolution marked \\nthe beginning of a significant increase in fossil fuel consumption, which continues to rise \\ntoday.  \\nCoal'),\n",
       " Document(metadata={'source': '../data/Understanding_Climate_Change.pdf', 'page': 1}, page_content='Coal is the most carbon -intensive fossil fuel, and its use for electricity generation is a major \\nsource of CO2 emissions. Despite a decline in some regions, coal remains a significant \\nenergy source globally. It is mined extensively in countries like China,  India, and the United \\nStates, contributing significantly to their energy supplies and CO2 footprints.  \\nOil \\nOil is used primarily for transportation fuels, such as gasoline and diesel. The combustion of \\noil products releases significant amounts of CO2 and other pollutants, contributing to climate \\nchange and air quality issues. The global oil industry is vast, in volving extraction, refining, \\nand distribution, with significant geopolitical and economic implications.  \\nNatural Gas  \\nNatural gas is the least carbon -intensive fossil fuel and is often seen as a \"bridge fuel\" to a \\nlower -carbon future. However, its extraction and use still contribute to greenhouse gas'),\n",
       " Document(metadata={'source': '../data/Understanding_Climate_Change.pdf', 'page': 1}, page_content='Natural gas is the least carbon -intensive fossil fuel and is often seen as a \"bridge fuel\" to a \\nlower -carbon future. However, its extraction and use still contribute to greenhouse gas \\nemissions, particularly methane, which is a potent greenhouse gas. Innov ations in fracking \\ntechnology have made natural gas more accessible, but this comes with environmental and \\nhealth concerns.  \\nDeforestation  \\nForests act as carbon sinks, absorbing CO2 from the atmosphere. When trees are cut down \\nfor timber or to clear land for agriculture, this stored carbon is released back into the \\natmosphere. Deforestation reduces the number of trees that can absorb CO2, exa cerbating the \\ngreenhouse effect.  \\nTropical Deforestation  \\nTropical rainforests are particularly important for carbon storage. Deforestation in the \\nAmazon, Congo Basin, and Southeast Asia has significant impacts on global carbon cycles'),\n",
       " Document(metadata={'source': '../data/Understanding_Climate_Change.pdf', 'page': 1}, page_content=\"Tropical rainforests are particularly important for carbon storage. Deforestation in the \\nAmazon, Congo Basin, and Southeast Asia has significant impacts on global carbon cycles \\nand biodiversity. These regions are often cleared for agriculture, logging, and  mining, leading \\nto habitat loss and species extinction.  \\nBoreal Forests  \\nBoreal forests, found in the northern regions of North America, Europe, and Asia, also play a \\ncrucial role in sequestering carbon. Logging and land -use changes in these regions contribute \\nto climate change. These forests are vital for regulating the Earth' s climate and supporting \\nindigenous communities and wildlife.  \\nAgriculture  \\nAgriculture contributes to climate change through methane emissions from livestock, rice \\npaddies, and the use of synthetic fertilizers. Methane is a potent greenhouse gas with a much \\nhigher heat -trapping capability than CO2, albeit in smaller quantities.  \\nLivestock Emissions\"),\n",
       " Document(metadata={'source': '../data/Understanding_Climate_Change.pdf', 'page': 2}, page_content=\"Ruminant animals, such as cows and sheep, produce methane during digestion. Manure \\nmanagement practices also contribute to methane and nitrous oxide emissions. Innovations in \\nlivestock feeding and waste management can help mitigate these emissions.  \\nRice Cultivation  \\nFlooded rice paddies create anaerobic conditions that lead to methane production. Improved \\nwater management and rice varieties can help reduce these emissions. Research into \\nsustainable rice farming practices is crucial for balancing food security and clim ate goals.  \\nFertilizers  \\nThe use of synthetic fertilizers in agriculture releases nitrous oxide, a potent greenhouse gas. \\nPractices such as precision farming and organic fertilizers can mitigate these emissions. The \\ndevelopment of eco -friendly fertilizers and farming techniques is  essential for reducing the \\nagricultural sector's carbon footprint.  \\nChapter 3: Effects of Climate Change\"),\n",
       " Document(metadata={'source': '../data/Understanding_Climate_Change.pdf', 'page': 2}, page_content='development of eco -friendly fertilizers and farming techniques is  essential for reducing the \\nagricultural sector\\'s carbon footprint.  \\nChapter 3: Effects of Climate Change  \\nThe effects of climate change are already being felt around the world and are projected to \\nintensify in the coming decades. These effects include:  \\nRising Temperatures  \\nGlobal temperatures have risen by about 1.2 degrees Celsius (2.2 degrees Fahrenheit) since \\nthe late 19th century. This warming is not uniform, with some regions experiencing more \\nsignificant increases than others.  \\nHeatwaves  \\nHeatwaves are becoming more frequent and severe, posing risks to human health, agriculture, \\nand infrastructure. Cities are particularly vulnerable due to the \"urban heat island\" effect. \\nHeatwaves can lead to heat -related illnesses and exacerbate existing h ealth conditions.  \\nChanging Seasons  \\nClimate change is altering the timing and length of seasons, affecting ecosystems and human'),\n",
       " Document(metadata={'source': '../data/Understanding_Climate_Change.pdf', 'page': 2}, page_content='Changing Seasons  \\nClimate change is altering the timing and length of seasons, affecting ecosystems and human \\nactivities. For example, spring is arriving earlier, and winters are becoming shorter and \\nmilder in many regions. This shift disrupts plant and animal life cycles a nd agricultural \\npractices.  \\nMelting Ice and Rising Sea Levels  \\nWarmer temperatures are causing polar ice caps and glaciers to melt, contributing to rising \\nsea levels. Sea levels have risen by about 20 centimeters (8 inches) in the past century, \\nthreatening coastal communities and ecosystems.  \\nPolar Ice Melt'),\n",
       " Document(metadata={'source': '../data/Understanding_Climate_Change.pdf', 'page': 3}, page_content='The Arctic is warming at more than twice the global average rate, leading to significant ice \\nloss. Antarctic ice sheets are also losing mass, contributing to sea level rise. This melting \\naffects global ocean currents and weather patterns.  \\nGlacial Retreat  \\nGlaciers around the world are retreating, affecting water supplies for millions of people. \\nRegions dependent on glacial meltwater, such as the Himalayas and the Andes, face \\nparticular risks. Glacial melt also impacts hydropower generation and agriculture.  \\nCoastal Erosion  \\nRising sea levels and increased storm surges are accelerating coastal erosion, threatening \\nhomes, infrastructure, and ecosystems. Low -lying islands and coastal regions are especially \\nvulnerable. Coastal communities must invest in adaptation measures like s ea walls and \\nmanaged retreats.  \\nExtreme Weather Events  \\nClimate change is linked to an increase in the frequency and severity of extreme weather'),\n",
       " Document(metadata={'source': '../data/Understanding_Climate_Change.pdf', 'page': 3}, page_content='managed retreats.  \\nExtreme Weather Events  \\nClimate change is linked to an increase in the frequency and severity of extreme weather \\nevents, such as hurricanes, heatwaves, droughts, and heavy rainfall. These events can have \\ndevastating impacts on communities, economies, and ecosystems.  \\nHurricanes and Typhoons  \\nWarmer ocean temperatures can intensify hurricanes and typhoons, leading to more \\ndestructive storms. Coastal regions are at heightened risk of storm surge and flooding. Early \\nwarning systems and resilient infrastructure are critical for mitigating these ri sks. \\nDroughts  \\nIncreased temperatures and changing precipitation patterns are contributing to more frequent \\nand severe droughts. This affects agriculture, water supply, and ecosystems, particularly in \\narid and semi -arid regions. Droughts can lead to food and water shorta ges and exacerbate \\nconflicts.  \\nFlooding  \\nHeavy rainfall events are becoming more common, leading to increased flooding. Urban'),\n",
       " Document(metadata={'source': '../data/Understanding_Climate_Change.pdf', 'page': 3}, page_content='conflicts.  \\nFlooding  \\nHeavy rainfall events are becoming more common, leading to increased flooding. Urban \\nareas with poor drainage and infrastructure are particularly at risk. Flood management \\nstrategies include improved drainage systems, green infrastructure, and floodplain r estoration.  \\nOcean Acidification  \\nIncreased CO2 levels in the atmosphere lead to higher concentrations of CO2 in the oceans. \\nThis causes the water to become more acidic, which can harm marine life, particularly \\norganisms with calcium carbonate shells or skeletons, such as corals and some s hellfish.  \\nCoral Reefs'),\n",
       " Document(metadata={'source': '../data/Understanding_Climate_Change.pdf', 'page': 4}, page_content='Coral reefs are highly sensitive to changes in temperature and acidity. Ocean acidification \\nand warming waters contribute to coral bleaching and mortality, threatening biodiversity and \\nfisheries. Protecting and restoring coral reefs is essential for marine  conservation.  \\nMarine Ecosystems  \\nAcidification affects the health and survival of various marine species, disrupting food webs \\nand ecosystems. This has implications for commercial fisheries and the livelihoods of people \\nwho depend on the ocean. Efforts to reduce CO2 emissions and enhance marine protected \\nareas are vital.  \\nChapter 4: Mitigation and Adaptation  \\nAddressing climate change requires a two -pronged approach: mitigation and adaptation. \\nMitigation involves reducing or preventing the emission of greenhouse gases, while \\nadaptation involves making adjustments to social, economic, and environmental practices  to \\nminimize the damage caused by climate change.  \\nRenewable Energy'),\n",
       " Document(metadata={'source': '../data/Understanding_Climate_Change.pdf', 'page': 4}, page_content='adaptation involves making adjustments to social, economic, and environmental practices  to \\nminimize the damage caused by climate change.  \\nRenewable Energy  \\nTransitioning to renewable energy sources, such as wind, solar, and hydroelectric power, is \\ncrucial for reducing greenhouse gas emissions. These sources produce little to no emissions \\nand are sustainable in the long term.  \\nSolar Power  \\nSolar power harnesses energy from the sun using photovoltaic cells or solar thermal systems. \\nIt is a versatile and scalable solution for reducing carbon emissions. Advances in solar \\ntechnology and decreasing costs make it an attractive option for many regi ons. \\nWind Power  \\nWind power generates electricity using wind turbines. It is one of the fastest -growing \\nrenewable energy sources and has significant potential for large -scale deployment. Offshore \\nwind farms offer substantial opportunities for expansion.  \\nHydroelectric Power'),\n",
       " Document(metadata={'source': '../data/Understanding_Climate_Change.pdf', 'page': 4}, page_content='renewable energy sources and has significant potential for large -scale deployment. Offshore \\nwind farms offer substantial opportunities for expansion.  \\nHydroelectric Power  \\nHydroelectric power generates electricity by harnessing the energy of flowing water. It is a \\nmature and widely used technology, although it can have environmental impacts on river \\necosystems. Balancing energy needs with ecological conservation is essential . \\nEnergy Efficiency  \\nImproving energy efficiency in buildings, transportation, and industry can significantly \\nreduce emissions. This includes using energy -efficient appliances, improving insulation, and \\ndeveloping more fuel -efficient vehicles.  \\nBuilding Efficiency'),\n",
       " Document(metadata={'source': '../data/Understanding_Climate_Change.pdf', 'page': 5}, page_content='Energy -efficient buildings use less energy for heating, cooling, and lighting. This can be \\nachieved through better insulation, energy -efficient windows, and smart building \\ntechnologies. Retrofitting existing buildings is also crucial for enhancing efficien cy. \\nTransportation Efficiency  \\nImproving the fuel efficiency of vehicles, promoting public transportation, and supporting \\nelectric vehicles can reduce emissions from the transportation sector. Investments in \\nsustainable transport infrastructure are vital for reducing carbon footprints.  \\nIndustrial Efficiency  \\nEnhancing the energy efficiency of industrial processes and equipment can reduce emissions \\nand lower operating costs. This includes upgrading machinery, optimizing production \\nprocesses, and recovering waste heat. Innovations in industrial practices are key  to achieving \\nsustainability goals.  \\nReforestation and Afforestation'),\n",
       " Document(metadata={'source': '../data/Understanding_Climate_Change.pdf', 'page': 5}, page_content='processes, and recovering waste heat. Innovations in industrial practices are key  to achieving \\nsustainability goals.  \\nReforestation and Afforestation  \\nPlanting trees and restoring forests can help absorb CO2 from the atmosphere. Reforestation \\ninvolves replanting trees in deforested areas, while afforestation involves planting trees in \\nareas that were not previously forested.  \\nReforestation Projects  \\nReforestation projects aim to restore degraded lands and increase forest cover. These projects \\ncan provide additional benefits, such as biodiversity conservation and improved water \\nmanagement. Community involvement and sustainable practices are crucial for  successful \\nreforestation.  \\nAfforestation Initiatives  \\nAfforestation initiatives involve creating new forests on lands that have not been forested for \\na long time. These projects can help sequester carbon and provide new habitats for wildlife.'),\n",
       " Document(metadata={'source': '../data/Understanding_Climate_Change.pdf', 'page': 5}, page_content='Afforestation initiatives involve creating new forests on lands that have not been forested for \\na long time. These projects can help sequester carbon and provide new habitats for wildlife. \\nStrategic planning and ecological considerations are essential for maximizing benefits.  \\nClimate Policy  \\nEffective climate policy is essential for driving large -scale change. International agreements, \\nsuch as the Paris Agreement, aim to limit global warming to well below 2 degrees Celsius \\nabove pre -industrial levels. National and local policies also play a cr itical role in \\nimplementing mitigation and adaptation strategies.  \\nInternational Agreements  \\nInternational climate agreements, such as the Kyoto Protocol and the Paris Agreement, set \\ntargets and frameworks for reducing greenhouse gas emissions globally. Cooperation and \\ncommitment from all countries are necessary for achieving climate goals.  \\nNational Policies'),\n",
       " Document(metadata={'source': '../data/Understanding_Climate_Change.pdf', 'page': 6}, page_content='Countries implement various policies to meet their climate goals, including carbon pricing, \\nrenewable energy incentives, and emissions regulations. National strategies must align with \\nglobal targets while addressing local needs and capacities.  \\nLocal Initiatives  \\nLocal governments and communities play a crucial role in climate action. Local initiatives \\ncan include urban planning, public transportation improvements, and community -based \\nconservation. Grassroots movements and public awareness campaigns are also import ant for \\ndriving change at the local level.  \\nResearch and Innovation  \\nContinuous research and innovation are vital for developing new technologies and strategies \\nto combat climate change. This includes advancements in renewable energy, carbon capture \\nand storage, and sustainable agriculture. Collaboration between governments , industries, and \\nacademia is essential for fostering innovation.  \\nRenewable Energy Technology'),\n",
       " Document(metadata={'source': '../data/Understanding_Climate_Change.pdf', 'page': 6}, page_content='and storage, and sustainable agriculture. Collaboration between governments , industries, and \\nacademia is essential for fostering innovation.  \\nRenewable Energy Technology  \\nInvesting in research and development of renewable energy technologies can lead to more \\nefficient and cost -effective solutions. Emerging technologies, such as advanced solar cells \\nand wind turbine designs, hold promise for the future.  \\nCarbon Capture and Storage  \\nCarbon capture and storage (CCS) technologies aim to capture CO2 emissions from industrial \\nsources and store them underground. These technologies are critical for reducing emissions \\nfrom hard -to-abate sectors and achieving net -zero targets.  \\nSustainable Agriculture  \\nInnovations in sustainable agriculture can help reduce emissions, enhance food security, and \\nprotect ecosystems. Practices such as agroforestry, precision farming, and regenerative \\nagriculture offer pathways to a more sustainable and resilient food system.'),\n",
       " Document(metadata={'source': '../data/Understanding_Climate_Change.pdf', 'page': 6}, page_content='protect ecosystems. Practices such as agroforestry, precision farming, and regenerative \\nagriculture offer pathways to a more sustainable and resilient food system.  \\nBy understanding the causes, effects, and potential solutions to climate change, we can take \\ninformed actions to protect our planet for future generations. Global cooperation, innovation, \\nand commitment are key to addressing this pressing challenge.  \\n \\nChapter 5: The Role of Technology in Climate Change \\nMitigation  \\nAdvanced Renewable Energy Solutions  \\nNext -Generation Solar Technologies'),\n",
       " Document(metadata={'source': '../data/Understanding_Climate_Change.pdf', 'page': 7}, page_content='New advancements in solar technology, such as perovskite solar cells and solar paint, \\npromise higher efficiency and lower costs. These innovations could significantly enhance the \\nadoption of solar energy globally, making it a more viable option for a broad er range of \\napplications, including residential, commercial, and industrial uses.  \\nFloating Solar Farms  \\nFloating solar farms, installed on water bodies, offer a way to generate solar power without \\nusing valuable land space. These systems can also reduce evaporation from water bodies and \\nimprove solar panel efficiency due to the cooling effect of water.  \\nOffshore Wind Farms  \\nOffshore wind farms have the potential to generate vast amounts of electricity. They are \\ntypically located far from shore, where winds are stronger and more consistent. Innovations \\nin turbine design and installation methods are making offshore wind an incr easingly cost -\\ncompetitive option.  \\nEnergy Storage and Grid Management  \\nBattery Storage'),\n",
       " Document(metadata={'source': '../data/Understanding_Climate_Change.pdf', 'page': 7}, page_content='in turbine design and installation methods are making offshore wind an incr easingly cost -\\ncompetitive option.  \\nEnergy Storage and Grid Management  \\nBattery Storage  \\nAdvances in battery technology, particularly in lithium -ion and solid -state batteries, are \\nimproving energy storage capacity and efficiency. Large -scale battery storage systems can \\nhelp balance supply and demand, making renewable energy sources like solar and wind more \\nreliable.  \\nSmart Grids  \\nSmart grids use digital technology to manage electricity more efficiently. They can integrate \\nvarious renewable energy sources, respond to demand fluctuations, and reduce energy waste. \\nSmart meters, sensors, and advanced analytics play crucial roles in the se systems.  \\nPumped Hydro Storage  \\nPumped hydro storage involves storing energy by moving water between two reservoirs at \\ndifferent elevations. During periods of high electricity demand, water is released from the'),\n",
       " Document(metadata={'source': '../data/Understanding_Climate_Change.pdf', 'page': 7}, page_content='Pumped hydro storage involves storing energy by moving water between two reservoirs at \\ndifferent elevations. During periods of high electricity demand, water is released from the \\nupper reservoir to generate electricity. This method provides a large -scale, long-duration \\nstorage solution.  \\nCarbon Capture and Utilization  \\nDirect Air Capture  \\nDirect air capture (DAC) technology involves removing CO2 directly from the atmosphere. \\nThe captured CO2 can be stored underground or used in various industrial processes. DAC is \\nan emerging technology with the potential to play a significant role in achie ving net -zero \\nemissions.  \\nCarbon Utilization'),\n",
       " Document(metadata={'source': '../data/Understanding_Climate_Change.pdf', 'page': 8}, page_content='Captured CO2 can be used to produce building materials, synthetic fuels, and other products. \\nThis process not only reduces emissions but also creates value from waste CO2. Research \\ninto carbon utilization technologies is expanding rapidly, with promising a pplications in \\nmultiple industries.  \\nSustainable Transportation  \\nElectric Vehicles  \\nElectric vehicles (EVs) produce zero tailpipe emissions and can be powered by renewable \\nenergy. Advances in battery technology are extending EV range and reducing costs, making \\nthem a more attractive option for consumers and businesses. Infrastructure deve lopment, such \\nas charging stations, is crucial for widespread EV adoption.  \\nHydrogen Fuel Cells  \\nHydrogen fuel cells generate electricity by combining hydrogen with oxygen, producing only \\nwater as a byproduct. Fuel cell vehicles (FCVs) offer a clean alternative to conventional \\nvehicles, particularly for heavy -duty applications like trucks and buses. D eveloping a robust'),\n",
       " Document(metadata={'source': '../data/Understanding_Climate_Change.pdf', 'page': 8}, page_content='water as a byproduct. Fuel cell vehicles (FCVs) offer a clean alternative to conventional \\nvehicles, particularly for heavy -duty applications like trucks and buses. D eveloping a robust \\nhydrogen infrastructure is essential for their success.  \\nPublic Transportation Innovations  \\nInvestments in efficient and reliable public transportation systems can reduce the number of \\nprivate vehicles on the road, lowering emissions. Innovations include electric buses, light rail \\nsystems, and bike -sharing programs. Urban planning that prioritize s public transportation and \\nnon-motorized transit is key.  \\nSustainable Agriculture and Land Use  \\nPrecision Agriculture  \\nPrecision agriculture uses technology to monitor and manage crop production more \\neffectively. Techniques include GPS -guided equipment, soil sensors, and data analytics. \\nThese methods can optimize resource use, reduce emissions, and increase yields.  \\nAgroforestry'),\n",
       " Document(metadata={'source': '../data/Understanding_Climate_Change.pdf', 'page': 8}, page_content='effectively. Techniques include GPS -guided equipment, soil sensors, and data analytics. \\nThese methods can optimize resource use, reduce emissions, and increase yields.  \\nAgroforestry  \\nAgroforestry integrates trees and shrubs into agricultural landscapes. This practice enhances \\nbiodiversity, improves soil health, and sequesters carbon. It offers a sustainable alternative to \\nconventional monoculture farming.  \\nRegenerative Agriculture  \\nRegenerative agriculture focuses on restoring soil health through practices like crop rotation, \\ncover cropping, and reduced tillage. Healthy soils store more carbon and support resilient \\necosystems. This approach can help mitigate climate change while impr oving farm \\nproductivity.'),\n",
       " Document(metadata={'source': '../data/Understanding_Climate_Change.pdf', 'page': 9}, page_content='Chapter 6: Global and Local Climate Action  \\nInternational Collaboration  \\nUnited Nations Framework Convention on Climate Change (UNFCCC)  \\nThe UNFCCC is an international treaty aimed at addressing climate change. It provides a \\nframework for negotiating specific protocols and agreements, such as the Kyoto Protocol and \\nthe Paris Agreement. Global cooperation under the UNFCCC is crucial for coor dinated \\nclimate action.  \\nParis Agreement  \\nThe Paris Agreement, adopted in 2015, aims to limit global warming to well below 2 degrees \\nCelsius above pre -industrial levels, with efforts to limit the increase to 1.5 degrees Celsius. \\nCountries submit nationally determined contributions (NDCs) outlining  their climate action \\nplans and targets.  \\nNational Strategies  \\nCarbon Pricing  \\nCarbon pricing mechanisms, such as carbon taxes and cap -and-trade systems, incentivize \\nemission reductions by assigning a cost to carbon emissions. These policies encourage'),\n",
       " Document(metadata={'source': '../data/Understanding_Climate_Change.pdf', 'page': 9}, page_content='Carbon Pricing  \\nCarbon pricing mechanisms, such as carbon taxes and cap -and-trade systems, incentivize \\nemission reductions by assigning a cost to carbon emissions. These policies encourage \\nbusinesses and individuals to reduce their carbon footprints and invest in cleaner \\ntechnologies.  \\nRenewable Energy Targets  \\nMany countries have set ambitious targets for renewable energy adoption. These targets are \\nsupported by policies such as subsidies, tax incentives, and mandates for renewable energy \\nuse. Achieving these targets requires robust infrastructure and market dev elopment.  \\nEmission Reduction Regulations  \\nGovernments implement regulations to limit emissions from key sectors such as energy, \\ntransportation, and industry. These regulations can include efficiency standards, emission \\ncaps, and pollution controls. Enforcement and compliance are critical for their  effectiveness.  \\nLocal and Community Initiatives  \\nUrban Climate Action'),\n",
       " Document(metadata={'source': '../data/Understanding_Climate_Change.pdf', 'page': 9}, page_content='caps, and pollution controls. Enforcement and compliance are critical for their  effectiveness.  \\nLocal and Community Initiatives  \\nUrban Climate Action  \\nCities play a pivotal role in climate action due to their high population densities and \\neconomic activities. Urban climate initiatives include sustainable transportation systems, \\ngreen building standards, and climate -resilient infrastructure. Community eng agement and \\nparticipatory planning are essential for successful implementation.  \\nCommunity -Based Conservation'),\n",
       " Document(metadata={'source': '../data/Understanding_Climate_Change.pdf', 'page': 10}, page_content='Local communities are often on the front lines of climate impacts and can be powerful agents \\nof change. Community -based conservation projects involve residents in protecting and \\nrestoring natural resources, such as forests, wetlands, and coastal areas. The se projects \\nenhance local resilience and biodiversity.  \\nEducation and Awareness  \\nRaising public awareness about climate change and sustainability is crucial for driving action. \\nEducational programs, media campaigns, and community events can inform and inspire \\nindividuals to adopt environmentally friendly practices. Schools, NGOs, and l ocal \\ngovernments play key roles in these efforts.  \\nChapter 7: The Economics of Climate Change  \\nCosts of Inaction  \\nEconomic Impacts of Climate Change  \\nThe economic costs of climate change include damage to infrastructure, reduced agricultural \\nproductivity, health care costs, and lost labor productivity. Extreme weather events, such as'),\n",
       " Document(metadata={'source': '../data/Understanding_Climate_Change.pdf', 'page': 10}, page_content='The economic costs of climate change include damage to infrastructure, reduced agricultural \\nproductivity, health care costs, and lost labor productivity. Extreme weather events, such as \\nhurricanes and floods, can cause significant economic disruption. Inve sting in climate action \\nnow can prevent much higher costs in the future.  \\nSocial and Environmental Costs  \\nClimate change exacerbates social inequalities, with marginalized communities often bearing \\nthe brunt of its impacts. Environmental costs include loss of biodiversity, ecosystem \\ndegradation, and decreased availability of natural resources. Addressing these  issues requires \\nintegrated, equitable solutions.  \\nBenefits of Climate Action  \\nEconomic Opportunities  \\nInvesting in renewable energy, energy efficiency, and sustainable practices creates jobs and \\nstimulates economic growth. The transition to a green economy can drive innovation and'),\n",
       " Document(metadata={'source': '../data/Understanding_Climate_Change.pdf', 'page': 10}, page_content='Investing in renewable energy, energy efficiency, and sustainable practices creates jobs and \\nstimulates economic growth. The transition to a green economy can drive innovation and \\ncompetitiveness. Sectors such as clean technology, sustainable agriculture, and green finance \\nare emerging as significant economic drivers.  \\nHealth Benefits  \\nReducing emissions and pollution improves public health by decreasing respiratory and \\ncardiovascular diseases. Cleaner air and water contribute to overall well -being and reduce \\nhealthcare costs. Healthier environments support more active lifestyles and com munity well -\\nbeing.  \\nEcosystem Services'),\n",
       " Document(metadata={'source': '../data/Understanding_Climate_Change.pdf', 'page': 11}, page_content='Healthy ecosystems provide services such as water filtration, pollination, and climate \\nregulation. Protecting and restoring ecosystems enhances their ability to support human life \\nand biodiversity. Ecosystem -based approaches to climate action can deliver m ultiple benefits.  \\nChapter 8: Future Directions and Innovations  \\nEmerging Technologies  \\nArtificial Intelligence and Machine Learning  \\nAI and machine learning can optimize energy use, predict climate patterns, and enhance \\nclimate resilience. Applications include smart grids, climate modeling, and precision \\nagriculture. These technologies can also improve disaster response and resource man agement.  \\nBlockchain for Climate Action  \\nBlockchain technology can enhance transparency and accountability in climate action efforts. \\nIt can be used for tracking carbon credits, verifying renewable energy transactions, and \\nensuring the integrity of supply chains. Blockchain -based solutions are be ing explored for'),\n",
       " Document(metadata={'source': '../data/Understanding_Climate_Change.pdf', 'page': 11}, page_content='It can be used for tracking carbon credits, verifying renewable energy transactions, and \\nensuring the integrity of supply chains. Blockchain -based solutions are be ing explored for \\nvarious climate -related applications.  \\nBioengineering  \\nBioengineering approaches, such as biochar production and algae cultivation, offer \\ninnovative solutions for carbon sequestration and sustainable resource management. These \\ntechnologies have the potential to enhance soil health, improve agricultural yields,  and reduce \\nemissions.  \\nPolicy and Governance  \\nIntegrated Climate Policies  \\nEffective climate policies integrate mitigation and adaptation strategies across sectors and \\nscales. Coordination between government agencies, businesses, and civil society is essential \\nfor comprehensive climate action. Policies must be flexible and respon sive to evolving \\nscientific knowledge and socio -economic conditions.  \\nInternational Cooperation'),\n",
       " Document(metadata={'source': '../data/Understanding_Climate_Change.pdf', 'page': 11}, page_content='for comprehensive climate action. Policies must be flexible and respon sive to evolving \\nscientific knowledge and socio -economic conditions.  \\nInternational Cooperation  \\nGlobal cooperation is crucial for addressing the transboundary nature of climate change. \\nStrengthening international institutions and agreements, sharing technology and knowledge, \\nand providing financial support to developing countries are key components o f global climate \\ngovernance.  \\nPublic -Private Partnerships  \\nCollaborations between the public and private sectors can accelerate climate action. Public -\\nprivate partnerships (PPPs) can leverage resources, expertise, and innovation to implement'),\n",
       " Document(metadata={'source': '../data/Understanding_Climate_Change.pdf', 'page': 12}, page_content='large -scale climate solutions. PPPs are particularly effective in areas such as infrastructure \\ndevelopment, renewable energy projects, and sustainable urban planning.  \\nSocial and Cultural Change  \\nBehavioral Shifts  \\nChanging individual and collective behaviors is essential for achieving climate goals. \\nEncouraging sustainable lifestyles, reducing consumption, and promoting circular economy \\npractices can significantly reduce emissions. Public campaigns and educational i nitiatives \\nplay crucial roles in driving these behavioral shifts.  \\nCultural Transformations  \\nCultural values and norms influence how societies respond to climate change. Promoting a \\nculture of sustainability, resilience, and stewardship can foster long -term climate action. \\nEngaging artists, storytellers, and community leaders in climate conversati ons can help shift \\ncultural perceptions.  \\nYouth Engagement  \\nYouth are vital stakeholders in climate action. Empowering young people through education,'),\n",
       " Document(metadata={'source': '../data/Understanding_Climate_Change.pdf', 'page': 12}, page_content='cultural perceptions.  \\nYouth Engagement  \\nYouth are vital stakeholders in climate action. Empowering young people through education, \\nactivism, and leadership opportunities can drive transformative change. Youth movements, \\nsuch as Fridays for Future, demonstrate the power of young voices in advocat ing for a \\nsustainable future.  \\nBy continuing to innovate, collaborate, and commit to sustainable practices, we can mitigate \\nthe impacts of climate change and build a resilient, equitable, and thriving world for future \\ngenerations. The journey ahead requires dedication, creativity, and c ollective effort from all \\nsectors of society.  \\nChapter 9: Climate Change and Biodiversity  \\nImpact on Ecosystems  \\nTerrestrial Ecosystems  \\nClimate change is altering terrestrial ecosystems by shifting habitat ranges, changing species \\ndistributions, and impacting ecosystem functions. Forests, grasslands, and deserts are'),\n",
       " Document(metadata={'source': '../data/Understanding_Climate_Change.pdf', 'page': 12}, page_content='Climate change is altering terrestrial ecosystems by shifting habitat ranges, changing species \\ndistributions, and impacting ecosystem functions. Forests, grasslands, and deserts are \\nexperiencing shifts in plant and animal species composition. These changes  can lead to a loss \\nof biodiversity and disrupt ecological balance.  \\nMarine Ecosystems  \\nMarine ecosystems are highly vulnerable to climate change. Rising sea temperatures, ocean \\nacidification, and changing currents affect marine biodiversity, from coral reefs to deep -sea \\nhabitats. Species migration and changes in reproductive cycles can disru pt marine food webs \\nand fisheries.'),\n",
       " Document(metadata={'source': '../data/Understanding_Climate_Change.pdf', 'page': 13}, page_content='Freshwater Ecosystems  \\nFreshwater ecosystems, including rivers, lakes, and wetlands, are affected by changes in \\nprecipitation patterns, temperature, and water flow. These changes can lead to altered water \\nquality, habitat loss, and reduced biodiversity. Freshwater species, inclu ding fish and \\namphibians, are particularly at risk.  \\nConservation Strategies  \\nProtected Areas  \\nEstablishing and managing protected areas is crucial for conserving biodiversity. These areas \\nprovide refuges for species, help maintain ecosystem services, and offer opportunities for \\nscientific research and education. Expanding and connecting protected a reas can enhance \\ntheir effectiveness.  \\nHabitat Restoration  \\nRestoring degraded habitats can help reverse biodiversity loss and improve ecosystem \\nresilience. Restoration efforts may include reforestation, wetland reconstruction, and soil \\nrehabilitation. Engaging local communities in restoration projects ensures sust ainability and \\nlong-term success.'),\n",
       " Document(metadata={'source': '../data/Understanding_Climate_Change.pdf', 'page': 13}, page_content='rehabilitation. Engaging local communities in restoration projects ensures sust ainability and \\nlong-term success.  \\nEx-Situ Conservation  \\nEx-situ conservation involves protecting species outside their natural habitats, such as in \\nzoos, botanical gardens, and seed banks. These efforts can preserve genetic diversity, support \\nbreeding programs, and facilitate reintroduction into the wild. Ex -situ conservation \\ncomplements in -situ efforts.  \\nIntegrating Biodiversity and Climate Action  \\nNature -Based Solutions  \\nNature -based solutions leverage natural processes to address climate change while enhancing \\nbiodiversity. Examples include reforestation, mangrove restoration, and sustainable \\nagriculture. These solutions provide multiple benefits, such as carbon sequestra tion, flood \\nprotection, and habitat creation.  \\nClimate -Resilient Conservation  \\nConservation strategies must account for climate change impacts to be effective. This'),\n",
       " Document(metadata={'source': '../data/Understanding_Climate_Change.pdf', 'page': 13}, page_content='protection, and habitat creation.  \\nClimate -Resilient Conservation  \\nConservation strategies must account for climate change impacts to be effective. This \\nincludes identifying climate refugia, areas less affected by climate change, and prioritizing \\nthem for protection. Adaptive management practices ensure that conservation efforts remain \\neffective under changing conditions.  \\nBiodiversity in Climate Policy  \\nIncorporating biodiversity considerations into climate policies enhances their effectiveness. \\nProtecting and restoring ecosystems can contribute to climate mitigation and adaptation'),\n",
       " Document(metadata={'source': '../data/Understanding_Climate_Change.pdf', 'page': 14}, page_content='goals. Policies should promote synergies between biodiversity conservation and climate \\naction.  \\nChapter 10: Climate Change and Human Health  \\nHealth Impacts  \\nHeat -Related Illnesses  \\nRising temperatures and more frequent heatwaves increase the risk of heat -related illnesses, \\nsuch as heat exhaustion and heatstroke. Vulnerable populations, including the elderly, \\nchildren, and outdoor workers, are particularly at risk. Heat mitigation str ategies, such as \\ncooling centers and public health campaigns, are essential.  \\nVector -Borne Diseases  \\nClimate change affects the distribution and prevalence of vector -borne diseases, such as \\nmalaria, dengue fever, and Lyme disease. Warmer temperatures and changing precipitation \\npatterns can expand the habitats of disease -carrying insects, increasing the ri sk of outbreaks. \\nIntegrated pest management and disease surveillance are critical for prevention and control.  \\nRespiratory and Cardiovascular Diseases'),\n",
       " Document(metadata={'source': '../data/Understanding_Climate_Change.pdf', 'page': 14}, page_content='Integrated pest management and disease surveillance are critical for prevention and control.  \\nRespiratory and Cardiovascular Diseases  \\nAir pollution, exacerbated by climate change, contributes to respiratory and cardiovascular \\ndiseases. Increased levels of ground -level ozone and particulate matter can worsen conditions \\nlike asthma and heart disease. Reducing emissions from vehicles, indus tries, and power \\nplants improves air quality and public health.  \\nFood and Water Security  \\nClimate change affects food production and water availability, impacting nutrition and health. \\nDroughts, floods, and changing growing seasons can reduce crop yields and disrupt food \\nsupply chains. Ensuring food and water security requires resilient agricul tural practices, \\nefficient water management, and emergency preparedness.  \\nHealth Adaptation Strategies  \\nPublic Health Infrastructure  \\nStrengthening public health infrastructure is vital for adapting to climate change. This'),\n",
       " Document(metadata={'source': '../data/Understanding_Climate_Change.pdf', 'page': 14}, page_content='Health Adaptation Strategies  \\nPublic Health Infrastructure  \\nStrengthening public health infrastructure is vital for adapting to climate change. This \\nincludes enhancing healthcare facilities, improving disease surveillance systems, and training \\nhealthcare professionals. Community health programs can increase resilie nce and \\npreparedness for climate -related health risks.  \\nCommunity Engagement  \\nEngaging communities in health adaptation efforts ensures that strategies are relevant and \\neffective. Public awareness campaigns, participatory planning, and local health initiatives'),\n",
       " Document(metadata={'source': '../data/Understanding_Climate_Change.pdf', 'page': 15}, page_content='empower communities to take action. Building social cohesion and support networks \\nenhances community resilience.  \\nClimate -Smart Healthcare  \\nIntegrating climate considerations into healthcare planning and operations can reduce \\nvulnerabilities. This includes designing climate -resilient healthcare facilities, promoting \\nsustainable practices, and incorporating climate change into health education and policies. \\nClimate -smart healthcare improves both health outcomes and environmental sustainability.  \\nGlobal Health Initiatives  \\nInternational Collaboration  \\nGlobal health organizations, such as the World Health Organization (WHO), play a crucial \\nrole in addressing climate -related health issues. International collaboration facilitates the \\nsharing of knowledge, resources, and best practices. Joint efforts can en hance global health \\nsecurity and resilience.  \\nResearch and Innovation  \\nInvesting in research and innovation is essential for understanding and addressing the health'),\n",
       " Document(metadata={'source': '../data/Understanding_Climate_Change.pdf', 'page': 15}, page_content='security and resilience.  \\nResearch and Innovation  \\nInvesting in research and innovation is essential for understanding and addressing the health \\nimpacts of climate change. This includes studying the links between climate and health, \\ndeveloping new technologies and treatments, and improving health data syst ems. Research \\ninforms evidence -based policies and interventions.  \\nChapter 11: Education and Advocacy  \\nClimate Education  \\nCurriculum Development  \\nIntegrating climate change into educational curricula is essential for raising awareness and \\nbuilding knowledge. Schools, colleges, and universities can incorporate climate science, \\nsustainability, and environmental ethics into their programs. Educating th e next generation \\nfosters informed and engaged citizens.  \\nTeacher Training  \\nProviding training and resources for educators helps them effectively teach about climate \\nchange. Professional development programs, workshops, and online courses can enhance'),\n",
       " Document(metadata={'source': '../data/Understanding_Climate_Change.pdf', 'page': 15}, page_content=\"Teacher Training  \\nProviding training and resources for educators helps them effectively teach about climate \\nchange. Professional development programs, workshops, and online courses can enhance \\nteachers' knowledge and skills. Supportive networks and communities of practice e nable the \\nsharing of ideas and experiences.  \\nCommunity Education  \\nCommunity education initiatives raise awareness and promote action at the local level. \\nWorkshops, seminars, and public events can engage diverse audiences and encourage\"),\n",
       " Document(metadata={'source': '../data/Understanding_Climate_Change.pdf', 'page': 16}, page_content='community involvement. Partnerships with local organizations, businesses, and governments \\nenhance the reach and impact of these efforts.  \\nAdvocacy and Activism  \\nGrassroots Movements  \\nGrassroots movements, driven by passiona te individuals and groups, play a critical role in \\nadvocating for climate action. These movements can raise awareness, influence policy, and \\nmobilize communities. Successful campaigns often use creative and innovative approaches to \\nengage and inspire.  \\nPolicy Advocacy  \\nAdvocating for strong climate policies at the local, national, and international levels is \\nessential for driving systemic change. This includes lobbying, public campaigns, and forming \\ncoalitions with like -minded organizations. Effective advocacy can lead t o the adoption of \\nambitious and equitable climate policies.  \\nYouth Leadership  \\nYouth are powerful advocates for climate action. Empowering young people through'),\n",
       " Document(metadata={'source': '../data/Understanding_Climate_Change.pdf', 'page': 16}, page_content='ambitious and equitable climate policies.  \\nYouth Leadership  \\nYouth are powerful advocates for climate action. Empowering young people through \\neducation, mentorship, and leadership opportunities enables them to drive change. Youth -led \\ninitiatives, such as school strikes for climate, demonstrate the potential of young  voices to \\ninfluence public opinion and policy.  \\nMedia and Communication  \\nClimate Communication  \\nEffective climate communication is crucial for raising awareness and inspiring action. This \\ninvolves using clear, compelling messages tailored to different audiences. Storytelling, visual \\nmedia, and social media platforms can make complex information acces sible and engaging.  \\nJournalism and Media Coverage  \\nJournalists and media organizations play a key role in informing the public about climate \\nchange. Investigative reporting, in -depth analysis, and human -interest stories can highlight'),\n",
       " Document(metadata={'source': '../data/Understanding_Climate_Change.pdf', 'page': 16}, page_content='Journalists and media organizations play a key role in informing the public about climate \\nchange. Investigative reporting, in -depth analysis, and human -interest stories can highlight \\nthe urgency and impacts of climate change. Media coverage can also hold p olicymakers and \\nbusinesses accountable.  \\nPublic Engagement  \\nPublic engagement initiatives, such as citizen science projects, forums, and dialogues, \\nencourage active participation in climate action. These initiatives provide platforms for \\nsharing knowledge, experiences, and ideas. Engaging the public fosters a sense  of ownership \\nand responsibility.  \\nChapter 12: The Path Forward'),\n",
       " Document(metadata={'source': '../data/Understanding_Climate_Change.pdf', 'page': 17}, page_content='Vision for a Sustainable Future  \\nHolistic Approach  \\nAddressing climate change requires a holistic approach that integrates environmental, social, \\nand economic dimensions. Sustainable development, circular economy, and ecological justice \\nare key principles guiding this approach. Collaboration across sectors and scales is essential \\nfor achieving a sustainable future.  \\nInnovation and Creativity  \\nInnovation and creativity are vital for developing new solutions to climate challenges. This \\nincludes technological advancements, policy innovations, and creative approaches to \\neducation and communication. Fostering a culture of innovation supports continu ous \\nimprovement and adaptation.  \\nGlobal Solidarity  \\nGlobal solidarity and cooperation are fundamental for addressing the global challenge of \\nclimate change. This includes supporting vulnerable countries and communities, sharing \\nresources and technologies, and promoting equitable solutions. Solidarity streng thens global'),\n",
       " Document(metadata={'source': '../data/Understanding_Climate_Change.pdf', 'page': 17}, page_content='climate change. This includes supporting vulnerable countries and communities, sharing \\nresources and technologies, and promoting equitable solutions. Solidarity streng thens global \\nresilience and ensures a just transition.  \\nTaking Action  \\nIndividual Actions  \\nIndividuals can make a difference by adopting sustainable practices in their daily lives. This \\nincludes reducing energy consumption, minimizing waste, supporting renewable energy, and \\nadvocating for climate action. Collective individual actions contribute to broader systemic \\nchange.  \\nCommunity Initiatives  \\nCommunities can lead climate action through local projects and initiatives. This includes \\ncreating green spaces, promoting sustainable transportation, supporting local food systems, \\nand enhancing resilience. Community -led efforts build social cohesion and drive local \\nsustainability.  \\nPolicy and Governance  \\nEffective policies and governance are crucial for driving climate action. This includes setting'),\n",
       " Document(metadata={'source': '../data/Understanding_Climate_Change.pdf', 'page': 17}, page_content='sustainability.  \\nPolicy and Governance  \\nEffective policies and governance are crucial for driving climate action. This includes setting \\nambitious targets, implementing robust regulations, and ensuring accountability. Participatory \\ngovernance and inclusive decision -making processes enhance policy  effectiveness and public \\ntrust.  \\nCommitment to Future Generations  \\nIntergenerational Equity'),\n",
       " Document(metadata={'source': '../data/Understanding_Climate_Change.pdf', 'page': 18}, page_content='Ensuring intergenerational equity means taking actions today that protect the rights and well -\\nbeing of future generations. This involves long -term thinking, sustainable resource \\nmanagement, and responsible stewardship. Committing to intergenerational equit y aligns \\nwith principles of justice and fairness.  \\nEducation and Empowerment  \\nEducating and empowering young people equips them with the knowledge and skills to \\ntackle climate challenges. This includes integrating climate education into all levels of \\nschooling, supporting youth leadership, and fostering a culture of sustainability. Empowered \\nyouth are catalysts for positive change.  \\nGlobal Vision  \\nA shared global vision for a sustainable future inspires collective action and fosters hope. \\nThis vision includes a healthy planet, thriving ecosystems, and equitable societies. Working \\ntogether towards this vision creates a sense of purpose and motivation .'),\n",
       " Document(metadata={'source': '../data/Understanding_Climate_Change.pdf', 'page': 18}, page_content='This vision includes a healthy planet, thriving ecosystems, and equitable societies. Working \\ntogether towards this vision creates a sense of purpose and motivation . \\nBy embracing these principles and taking concerted action, we can address the urgent \\nchallenge of climate change and build a sustainable, resilient, and equitable world for all. The \\npath forward requires courage, commitment, and collaboration, but the rewa rds are \\nimmense—a thriving planet and a prosperous future for generations to come.  \\nChapter 13: Climate Change and Social Justice  \\nClimate Justice  \\nUnderstanding Climate Justice  \\nClimate justice emphasizes the ethical dimensions of climate change, recognizing that its \\nimpacts are not evenly distributed. Vulnerable populations, including low -income \\ncommunities, indigenous peoples, and marginalized groups, often face the greatest ris ks \\nwhile contributing the least to greenhouse gas emissions. Climate justice advocates for'),\n",
       " Document(metadata={'source': '../data/Understanding_Climate_Change.pdf', 'page': 18}, page_content='communities, indigenous peoples, and marginalized groups, often face the greatest ris ks \\nwhile contributing the least to greenhouse gas emissions. Climate justice advocates for \\nequitable solutions that address these disparities.  \\nEnvironmental Racism  \\nEnvironmental racism refers to the disproportionate exposure of communities of color to \\nenvironmental hazards, including those exacerbated by climate change. Addressing \\nenvironmental racism involves identifying and mitigating the sources of pollution and \\nensuring that all communities have access to clean air, water, and safe living conditions.  \\nInclusive Policies  \\nInclusive climate policies consider the needs and voices of all affected populations. This \\nincludes engaging diverse stakeholders in decision -making processes and designing policies \\nthat promote equity. Measures such as targeted support for vulnerable comm unities and \\nequitable access to climate adaptation resources are essential.'),\n",
       " Document(metadata={'source': '../data/Understanding_Climate_Change.pdf', 'page': 19}, page_content='Indigenous Knowledge and Leadership  \\nRole of Indigenous Knowledge  \\nIndigenous knowledge systems offer valuable insights into sustainable land and resource \\nmanagement. Indigenous practices, such as controlled burning and agroforestry, have \\nsustained ecosystems for generations. Integrating indigenous knowledge into climate \\nstrategies enhances resilience and sustainability.  \\nIndigenous Leadership  \\nIndigenous communities are at the forefront of climate action, advocating for the protection \\nof their lands and rights. Indigenous leaders play a crucial role in global climate movements, \\nbringing attention to the impacts of climate change on their communi ties and promoting \\nholistic solutions. Supporting indigenous leadership is vital for effective climate action.  \\nLand Rights and Protection  \\nSecuring land rights for indigenous and local communities is essential for climate justice. \\nRecognizing and protecting these rights ensures that communities can manage their lands'),\n",
       " Document(metadata={'source': '../data/Understanding_Climate_Change.pdf', 'page': 19}, page_content=\"Securing land rights for indigenous and local communities is essential for climate justice. \\nRecognizing and protecting these rights ensures that communities can manage their lands \\nsustainably and resist exploitation. Legal frameworks and international agre ements must \\nuphold the rights of indigenous peoples.  \\nGender and Climate Change  \\nGendered Impacts  \\nClimate change affects men and women differently, often exacerbating existing gender \\ninequalities. Women, particularly in developing countries, are more likely to experience the \\nadverse effects of climate change due to their roles in agriculture, water col lection, and \\ncaregiving. Addressing these gendered impacts requires targeted interventions.  \\nWomen's Leadership  \\nEmpowering women as leaders in climate action can drive transformative change. Women \\nbring unique perspectives and solutions to climate challenges, often prioritizing community\"),\n",
       " Document(metadata={'source': '../data/Understanding_Climate_Change.pdf', 'page': 19}, page_content=\"Women's Leadership  \\nEmpowering women as leaders in climate action can drive transformative change. Women \\nbring unique perspectives and solutions to climate challenges, often prioritizing community \\nwell-being and sustainability. Promoting gender equality in climate governance ensures \\ndiverse and inclusive decision -making.  \\nGender -Responsive Policies  \\nGender -responsive climate policies address the specific needs and contributions of women. \\nThis includes ensuring women's participation in climate decision -making, supporting female \\nfarmers and entrepreneurs, and providing access to education and resources.  Gender equality \\nis a cornerstone of effective climate action.  \\nChapter 14: Climate Change and the Economy  \\nEconomic Transformation\"),\n",
       " Document(metadata={'source': '../data/Understanding_Climate_Change.pdf', 'page': 20}, page_content='Green Economy  \\nA green economy prioritizes sustainability and reduces environmental risks. It encompasses \\nrenewable energy, sustainable agriculture, green building, and low -carbon technologies. \\nTransitioning to a green economy involves restructuring industries, investing  in clean \\ntechnologies, and promoting sustainable practices.  \\nCircular Economy  \\nThe circular economy model minimizes waste and maximizes resource efficiency by \\npromoting reuse, recycling, and remanufacturing. This approach contrasts with the traditional \\nlinear economy, which follows a take -make -dispose pattern. Circular economy strate gies can \\nreduce environmental impact and create economic opportunities.  \\nSustainable Finance  \\nSustainable finance integrates environmental, social, and governance (ESG) criteria into \\ninvestment decisions. It supports projects and companies that contribute to sustainability and \\nclimate goals. Green bonds, climate funds, and impact investing are exam ples of sustainable'),\n",
       " Document(metadata={'source': '../data/Understanding_Climate_Change.pdf', 'page': 20}, page_content='investment decisions. It supports projects and companies that contribute to sustainability and \\nclimate goals. Green bonds, climate funds, and impact investing are exam ples of sustainable \\nfinance instruments.  \\nJob Creation and Workforce Development  \\nGreen Jobs  \\nThe transition to a green economy creates job opportunities in renewable energy, energy \\nefficiency, sustainable agriculture, and other sectors. Green jobs contribute to economic \\ngrowth and environmental sustainability. Ensuring just transition policies sup port workers in \\ntraditional industries moving to green jobs is crucial.  \\nSkill Development  \\nWorkforce development programs can equip workers with the skills needed for green jobs. \\nThis includes training in renewable energy technologies, sustainable farming practices, and \\nenvironmental management. Investing in education and vocational training sup ports \\neconomic resilience and adaptation.  \\nEconomic Resilience'),\n",
       " Document(metadata={'source': '../data/Understanding_Climate_Change.pdf', 'page': 20}, page_content='environmental management. Investing in education and vocational training sup ports \\neconomic resilience and adaptation.  \\nEconomic Resilience  \\nBuilding economic resilience involves creating diverse and sustainable economies that can \\nwithstand climate impacts. This includes supporting small businesses, fostering innovation, \\nand promoting local economic development. Resilient economies are better e quipped to adapt \\nto changing conditions and recover from disruptions.  \\nSustainable Business Practices  \\nCorporate Responsibility  \\nBusinesses play a significant role in addressing climate change through corporate social \\nresponsibility (CSR) initiatives. This includes reducing emissions, enhancing energy'),\n",
       " Document(metadata={'source': '../data/Understanding_Climate_Change.pdf', 'page': 21}, page_content='efficiency, and adopting sustainable supply chain practices. Transparent reporting and \\naccountability are key to effective corporate climate action.  \\nInnovation and Entrepreneurship  \\nInnovation and entrepreneurship drive the development of new technologies and solutions for \\nclimate challenges. Startups and small businesses are often at the forefront of innovation, \\nbringing fresh ideas and approaches. Supporting a vibrant ecosystem of i nnovators can \\naccelerate climate solutions.  \\nConsumer Choices  \\nConsumers have the power to influence business practices through their purchasing decisions. \\nSupporting sustainable products and companies encourages businesses to adopt greener \\npractices. Consumer awareness campaigns can educate the public on the environm ental \\nimpact of their choices.  \\nChapter 15: Climate Change and Technology  \\nClean Energy Technologies  \\nSolar and Wind Energy  \\nAdvancements in solar and wind energy technologies have made these sources more efficient'),\n",
       " Document(metadata={'source': '../data/Understanding_Climate_Change.pdf', 'page': 21}, page_content=\"Chapter 15: Climate Change and Technology  \\nClean Energy Technologies  \\nSolar and Wind Energy  \\nAdvancements in solar and wind energy technologies have made these sources more efficient \\nand cost -effective. Innovations such as bifacial solar panels, floating wind turbines, and \\nenergy storage systems are expanding the potential of renewable energy. Con tinued research \\nand development are essential for scaling these technologies.  \\nEnergy Storage  \\nEnergy storage technologies, such as batteries and pumped hydro storage, are crucial for \\nintegrating renewable energy into the grid. They provide flexibility and reliability, ensuring a \\nsteady supply of electricity even when the sun isn't shining or the wi nd isn't blowing. \\nAdvances in battery technology are reducing costs and increasing storage capacity.  \\nHydrogen Energy  \\nHydrogen energy has the potential to decarbonize sectors that are difficult to electrify, such\"),\n",
       " Document(metadata={'source': '../data/Understanding_Climate_Change.pdf', 'page': 21}, page_content='Advances in battery technology are reducing costs and increasing storage capacity.  \\nHydrogen Energy  \\nHydrogen energy has the potential to decarbonize sectors that are difficult to electrify, such \\nas heavy industry and long -haul transport. Electrolysis, which uses renewable electricity to \\nproduce hydrogen from water, is a promising method for generating gr een hydrogen. \\nDeveloping hydrogen infrastructure and reducing production costs are key challenges.  \\nDigital Technologies  \\nSmart Grids  \\nSmart grids use digital technology to manage electricity distribution more efficiently. They \\nenable real -time monitoring, demand response, and integration of distributed energy'),\n",
       " Document(metadata={'source': '../data/Understanding_Climate_Change.pdf', 'page': 22}, page_content='resources. Smart grids enhance grid reliability, reduce energy waste, and support the \\ntransition to renewable energy.  \\nInternet of Things (IoT)  \\nIoT devices can optimize energy use in homes, buildings, and industries. Smart thermostats, \\nlighting systems, and appliances can adjust their operation based on occupancy and usage \\npatterns, reducing energy consumption. IoT also enables predictive maintena nce and efficient \\nresource management.  \\nArtificial Intelligence (AI)  \\nAI can analyze large datasets to optimize energy systems, predict climate impacts, and \\nenhance climate resilience. Applications include smart grid management, climate modeling, \\nand precision agriculture. AI -driven solutions can improve efficiency, reduce c osts, and \\nsupport data -driven decision -making.  \\nCarbon Capture and Utilization  \\nCarbon Capture and Storage (CCS)  \\nCCS technology captures CO2 emissions from industrial processes and power plants and'),\n",
       " Document(metadata={'source': '../data/Understanding_Climate_Change.pdf', 'page': 22}, page_content='support data -driven decision -making.  \\nCarbon Capture and Utilization  \\nCarbon Capture and Storage (CCS)  \\nCCS technology captures CO2 emissions from industrial processes and power plants and \\nstores it underground. This technology is critical for reducing emissions from hard -to-abate \\nsectors. Developing cost -effective and scalable CCS solutions is essential for  achieving \\nclimate goals.  \\nCarbon Utilization  \\nUtilizing captured CO2 to produce valuable products, such as synthetic fuels, chemicals, and \\nbuilding materials, can create economic opportunities and reduce emissions. Research into \\ncarbon utilization technologies is advancing, with potential applications  in various industries.  \\nDirect Air Capture (DAC)  \\nDAC technology removes CO2 directly from the atmosphere, offering a way to achieve \\nnegative emissions. The captured CO2 can be stored or used in various applications. Scaling \\nDAC technology and reducing costs are critical for its widespread adoption.'),\n",
       " Document(metadata={'source': '../data/Understanding_Climate_Change.pdf', 'page': 22}, page_content=\"negative emissions. The captured CO2 can be stored or used in various applications. Scaling \\nDAC technology and reducing costs are critical for its widespread adoption.  \\nChapter 16: Global Cooperation and Governance  \\nInternational Agreements  \\nParis Agreement  \\nThe Paris Agreement is a landmark international accord that aims to limit global warming to \\nwell below 2 degrees Celsius above pre -industrial levels, with efforts to limit the increase to \\n1.5 degrees Celsius. Countries submit nationally determined contribu tions (NDCs) outlining \\ntheir climate action plans. Regular reviews and updates of NDCs are essential for meeting the \\nagreement's goals.\"),\n",
       " Document(metadata={'source': '../data/Understanding_Climate_Change.pdf', 'page': 23}, page_content=\"Kyoto Protocol  \\nThe Kyoto Protocol, adopted in 1997, set binding emission reduction targets for developed \\ncountries. It was the first major international treaty to address climate change. The protocol \\nlaid the groundwork for subsequent agreements, highlighting the importa nce of collective \\naction.  \\nMontreal Protocol  \\nThe Montreal Protocol, designed to protect the ozone layer by phasing out ozone -depleting \\nsubstances, has also contributed to climate mitigation. The Kigali Amendment to the protocol \\ntargets hydrofluorocarbons (HFCs), potent greenhouse gases, demonstrating  the treaty's \\nevolving role in climate protection.  \\nRegional and National Initiatives  \\nEuropean Green Deal  \\nThe European Green Deal is an ambitious plan to make Europe the first climate -neutral \\ncontinent by 2050. It includes measures to reduce emissions, promote clean energy, and \\nsupport sustainable agriculture and biodiversity. The deal also aims to create jobs  and \\nenhance economic resilience.\"),\n",
       " Document(metadata={'source': '../data/Understanding_Climate_Change.pdf', 'page': 23}, page_content=\"support sustainable agriculture and biodiversity. The deal also aims to create jobs  and \\nenhance economic resilience.  \\nUnited States Climate Action  \\nThe United States has committed to rejoining the Paris Agreement and advancing domestic \\nclimate policies. Initiatives include setting emission reduction targets, investing in renewable \\nenergy, and promoting electric vehicles. State and local governments al so play crucial roles \\nin climate action.  \\nChina's Climate Strategy  \\nChina, the world's largest emitter, has set ambitious targets to peak CO2 emissions before \\n2030 and achieve carbon neutrality by 2060. China's strategy includes expanding renewable \\nenergy, improving energy efficiency, and investing in low -carbon technologi es. International \\ncooperation and domestic policy alignment are key to achieving these goals.  \\nGlobal Climate Finance  \\nGreen Climate Fund  \\nThe Green Climate Fund (GCF) supports climate mitigation and adaptation projects in\"),\n",
       " Document(metadata={'source': '../data/Understanding_Climate_Change.pdf', 'page': 23}, page_content=\"Global Climate Finance  \\nGreen Climate Fund  \\nThe Green Climate Fund (GCF) supports climate mitigation and adaptation projects in \\ndeveloping countries. It provides financial resources to help vulnerable nations build \\nresilience, reduce emissions, and transition to sustainable development. Ensuring ade quate \\nand predictable funding is critical for the GCF's effectiveness.  \\nClimate Bonds  \\nClimate bonds finance projects that contribute to climate mitigation and adaptation. These \\nbonds attract private investment for renewable energy, energy efficiency, and sustainable\"),\n",
       " Document(metadata={'source': '../data/Understanding_Climate_Change.pdf', 'page': 24}, page_content='infrastructure projects. Expanding the climate bond market can mobilize significant resources \\nfor climate action.  \\nDevelopment Banks  \\nMultilateral development banks (MDBs) play a crucial role in financing climate projects. \\nThey provide loans, grants, and technical assistance to support sustainable development and \\nclimate resilience. MDBs are increasingly integrating climate consideration s into their \\ninvestment portfolios.  \\nCapacity Building and Technology Transfer  \\nCapacity Building  \\nCapacity building enhances the ability of countries and communities to address climate \\nchange. This includes providing training, resources, and technical assistance to develop and \\nimplement climate policies and projects. Capacity building efforts should fo cus on vulnerable \\npopulations and regions.  \\nTechnology Transfer  \\nTransferring climate -friendly technologies to developing countries is essential for global'),\n",
       " Document(metadata={'source': '../data/Understanding_Climate_Change.pdf', 'page': 24}, page_content='populations and regions.  \\nTechnology Transfer  \\nTransferring climate -friendly technologies to developing countries is essential for global \\nclimate action. This involves sharing knowledge, providing financial support, and creating \\nenabling environments for technology adoption. International cooperation a nd partnerships \\nare vital for effective technology transfer.  \\nResearch and Development  \\nInvesting in research and development (R&D) accelerates the discovery of new climate \\nsolutions. Collaboration between governments, academia, and the private sector can drive \\ninnovation and bring new technologies to market. Supporting R&D initiatives ensure s \\ncontinuous progress in addressing climate challenges.  \\nChapter 17: Building Climate Resilience  \\nResilient Infrastructure  \\nClimate -Resilient Design  \\nDesigning infrastructure to withstand climate impacts is crucial for resilience. This includes \\nusing materials and construction methods that are durable and adaptable to changing'),\n",
       " Document(metadata={'source': '../data/Understanding_Climate_Change.pdf', 'page': 24}, page_content='Designing infrastructure to withstand climate impacts is crucial for resilience. This includes \\nusing materials and construction methods that are durable and adaptable to changing \\nconditions. Resilient infrastructure reduces the risk of damage and ensures t he continued \\nprovision of essential services.  \\nGreen Infrastructure  \\nGreen infrastructure, such as parks, wetlands, and green roofs, enhances urban resilience by \\nmanaging stormwater, reducing heat, and improving air quality. Integrating green \\ninfrastructure into urban planning supports ecosystem services and community well -being.'),\n",
       " Document(metadata={'source': '../data/Understanding_Climate_Change.pdf', 'page': 25}, page_content='Adaptation Planning  \\nAdaptation planning involves assessing climate risks and developing strategies to mitigate \\nthem. This includes conducting vulnerability assessments, implementing risk reduction \\nmeasures, and integrating adaptation into development plans. Adaptive managemen t ensures \\nthat strategies remain effective under changing conditions.  \\nCommunity Resilience  \\nLocal Climate Action Plans  \\nCommunities can develop local climate action plans to address specific risks and \\nopportunities. These plans involve setting targets, implementing projects, and engaging \\nstakeholders. Community -based approaches ensure that actions are relevant and inclusive . \\nEmergency Preparedness  \\nPreparing for climate -related emergencies, such as floods, hurricanes, and heatwaves, \\nenhances community resilience. This includes developing early warning systems, conducting \\ndrills, and creating response plans. Building social networks and support system s is also'),\n",
       " Document(metadata={'source': '../data/Understanding_Climate_Change.pdf', 'page': 25}, page_content='enhances community resilience. This includes developing early warning systems, conducting \\ndrills, and creating response plans. Building social networks and support system s is also \\nessential for effective emergency response.  \\nSocial Equity  \\nEnsuring social equity in resilience planning addresses the needs of vulnerable populations. \\nThis includes providing resources, support, and opportunities for marginalized groups. \\nEquitable resilience strategies promote social cohesion and reduce dispariti es. \\nNature -Based Solutions  \\nEcosystem Restoration  \\nRestoring degraded ecosystems enhances their ability to provide services such as flood \\nprotection, carbon sequestration, and habitat provision. Ecosystem restoration projects can \\ninvolve reforestation, wetland rehabilitation, and coral reef restoration. En gaging local \\ncommunities in restoration efforts ensures sustainability.  \\nSustainable Land Management'),\n",
       " Document(metadata={'source': '../data/Understanding_Climate_Change.pdf', 'page': 25}, page_content='involve reforestation, wetland rehabilitation, and coral reef restoration. En gaging local \\ncommunities in restoration efforts ensures sustainability.  \\nSustainable Land Management  \\nSustainable land management practices, such as agroforestry, conservation agriculture, and \\nsustainable forestry, support ecosystem health and resilience. These practices improve soil \\nhealth, enhance biodiversity, and reduce greenhouse gas emissions. Integr ating sustainable \\nland management into policies and programs is essential for climate resilience.  \\nCoastal Protection  \\nProtecting and restoring coastal ecosystems, such as mangroves, salt marshes, and seagrasses, \\nreduces the impacts of sea level rise and storm surges. These ecosystems act as natural \\nbarriers, protecting coastal communities and infrastructure. Coastal prote ction measures \\nshould combine natural and engineered solutions.'),\n",
       " Document(metadata={'source': '../data/Understanding_Climate_Change.pdf', 'page': 26}, page_content='Innovative Adaptation Strategies  \\nClimate -Resilient Agriculture  \\nClimate -resilient agriculture involves adopting practices that enhance the ability of farming \\nsystems to withstand climate impacts. This includes diversifying crops, improving soil health, \\nand using water -efficient irrigation techniques. Supporting farmers  with training, resources, \\nand technology is crucial for resilience.  \\nWater Management  \\nEffective water management strategies ensure reliable water supplies under changing climate \\nconditions. This includes enhancing water storage, improving distribution systems, and \\npromoting water conservation. Integrated water resource management supports s ustainable \\nand equitable water use.  \\nUrban Resilience  \\nBuilding urban resilience involves creating cities that can adapt to and recover from climate \\nimpacts. This includes designing resilient infrastructure, enhancing green spaces, and'),\n",
       " Document(metadata={'source': '../data/Understanding_Climate_Change.pdf', 'page': 26}, page_content='Building urban resilience involves creating cities that can adapt to and recover from climate \\nimpacts. This includes designing resilient infrastructure, enhancing green spaces, and \\npromoting sustainable transportation. Engaging residents in resilience plan ning fosters \\ncommunity ownership and action.  \\nChapter 18: Moving Forward Together  \\nCollective Action  \\nGlobal Collaboration  \\nGlobal collaboration is essential for addressing the interconnected and transboundary nature \\nof climate change. This includes participating in international agreements, sharing knowledge \\nand resources, and supporting climate action in developing countries.  Collective action \\nstrengthens global resilience and ensures a more sustainable future.  \\nInterdisciplinary Approaches  \\nInterdisciplinary approaches integrate diverse perspectives and expertise to address climate \\nchallenges. This includes collaboration between scientists, policymakers, businesses, and'),\n",
       " Document(metadata={'source': '../data/Understanding_Climate_Change.pdf', 'page': 26}, page_content='Interdisciplinary approaches integrate diverse perspectives and expertise to address climate \\nchallenges. This includes collaboration between scientists, policymakers, businesses, and \\ncommunities. Interdisciplinary research and solutions are more holistic a nd effective.  \\nCitizen Science  \\nCitizen science involves engaging the public in scientific research and data collection. This \\nempowers individuals to contribute to climate knowledge and action. Citizen science projects \\ncan enhance data accuracy, raise awareness, and foster community enga gement.  \\nHope and Inspiration  \\nPositive Narratives'),\n",
       " Document(metadata={'source': '../data/Understanding_Climate_Change.pdf', 'page': 27}, page_content='Positive narratives highlight the successes and opportunities in climate action. This includes \\nsharing stories of innovative solutions, resilient communities, and environmental stewardship. \\nInspiring narratives motivate individuals and communities to take action.  \\nRole Models and Champions  \\nRole models and champions in climate action, including activists, scientists, and community \\nleaders, inspire others to get involved. Recognizing and celebrating their contributions raises \\nawareness and encourages broader participation. Building a diverse n etwork of climate \\nchampions strengthens the movement.  \\nEmpowerment and Agency  \\nEmpowering individuals and communities to take action fosters a sense of agency and \\nresponsibility. Providing education, resources, and support enables people to make \\nmeaningful contributions to climate solutions. Collective empowerment drives systemic \\nchange. \\nVision for the Future  \\nSustainable Development Goals'),\n",
       " Document(metadata={'source': '../data/Understanding_Climate_Change.pdf', 'page': 27}, page_content='meaningful contributions to climate solutions. Collective empowerment drives systemic \\nchange. \\nVision for the Future  \\nSustainable Development Goals  \\nThe Sustainable Development Goals (SDGs) provide a comprehensive framework for \\naddressing global challenges, including climate change. Achieving the SDGs requires \\nintegrating climate action with efforts to reduce poverty, improve health, and promote \\nequali ty. A holistic approach ensures sustainable and inclusive development.  \\nResilient and Equitable World  \\nA resilient and equitable world is one where all communities can thrive despite climate \\nchallenges. This vision includes healthy ecosystems, sustainable economies, and social \\njustice. Achieving this vision requires commitment, innovation, and collective ef fort. \\nLegacy for Future Generations  \\nOur actions today shape the world for future generations. Ensuring a sustainable and resilient'),\n",
       " Document(metadata={'source': '../data/Understanding_Climate_Change.pdf', 'page': 27}, page_content='Legacy for Future Generations  \\nOur actions today shape the world for future generations. Ensuring a sustainable and resilient \\nplanet is our responsibility to future generations. By working together, we can create a legacy \\nof environmental stewardship, social equity, and global solidarit y. \\nChapter 19: Climate Change and Policy  \\nPolicy Development and Implementation  \\nNational Climate Policies  \\nCountries around the world are developing and implementing national climate policies to \\naddress climate change. These policies set emission reduction targets, promote renewable \\nenergy, and support adaptation measures. Effective policy implementation requir es'),\n",
       " Document(metadata={'source': '../data/Understanding_Climate_Change.pdf', 'page': 28}, page_content='coordination across government agencies, stakeholder engagement, and regular monitoring \\nand evaluation.  \\nPolicy Instruments  \\nVarious policy instruments are used to address climate change, including regulations, market -\\nbased mechanisms, and voluntary agreements. Regulations set mandatory standards for \\nemissions and energy efficiency. Market -based mechanisms, such as carbon pricin g and \\nemissions trading, create economic incentives for reducing emissions. Voluntary agreements \\nencourage businesses and industries to commit to sustainability goals.  \\nMonitoring and Enforcement  \\nEnsuring compliance with climate policies requires robust monitoring and enforcement \\nmechanisms. This includes tracking emissions, verifying data, and imposing penalties for \\nnon-compliance. Transparent reporting and accountability are essential for maintai ning public \\ntrust and achieving policy objectives.  \\nInternational Climate Negotiations  \\nConference of the Parties (COP)'),\n",
       " Document(metadata={'source': '../data/Understanding_Climate_Change.pdf', 'page': 28}, page_content='trust and achieving policy objectives.  \\nInternational Climate Negotiations  \\nConference of the Parties (COP)  \\nThe Conference of the Parties (COP) is the supreme decision -making body of the United \\nNations Framework Convention on Climate Change (UNFCCC). COP meetings bring \\ntogether representatives from all signatory countries to negotiate and review progress on \\nclimate agreements. These meetings play a crucial role in advancing global climate action.  \\nClimate Finance Commitments  \\nDeveloped countries have committed to providing financial support to developing countries \\nto help them mitigate and adapt to climate change. Climate finance is essential for \\nimplementing projects, building capacity, and fostering sustainable development. E nsuring \\nadequate and predictable funding is a key focus of international negotiations.  \\nTechnology Transfer and Capacity Building  \\nInternational agreements emphasize the importance of technology transfer and capacity'),\n",
       " Document(metadata={'source': '../data/Understanding_Climate_Change.pdf', 'page': 28}, page_content='Technology Transfer and Capacity Building  \\nInternational agreements emphasize the importance of technology transfer and capacity \\nbuilding to support climate action in developing countries. This includes sharing climate -\\nfriendly technologies, providing technical assistance, and enhancing institution al capacities. \\nCollaborative efforts enhance global resilience and equity.  \\nNational and Local Leadership  \\nInnovative Policies and Programs  \\nNational and local governments are implementing innovative policies and programs to \\naddress climate change. Examples include renewable energy mandates, green building codes, \\nand sustainable transportation initiatives. Local leadership is crucial for tailor ing solutions to \\nspecific contexts and engaging communities in climate action.'),\n",
       " Document(metadata={'source': '../data/Understanding_Climate_Change.pdf', 'page': 29}, page_content='Public Participation  \\nEngaging the public in climate policy development and implementation enhances \\ntransparency and effectiveness. Public participation ensures that policies reflect diverse \\nperspectives and address community needs. Mechanisms for public input, such as \\nconsulta tions, hearings, and participatory planning, foster inclusivity and ownership.  \\nCross -Sector Collaboration  \\nEffective climate action requires collaboration across sectors, including government, \\nbusiness, academia, and civil society. Cross -sector partnerships leverage resources, expertise, \\nand innovation to develop and implement comprehensive climate solutions. B uilding \\nnetworks and alliances strengthens climate resilience and sustainability.  \\nChapter 20: Climate Change and Innovation  \\nTechnological Innovation  \\nRenewable Energy Innovations  \\nContinuous advancements in renewable energy technologies are critical for reducing'),\n",
       " Document(metadata={'source': '../data/Understanding_Climate_Change.pdf', 'page': 29}, page_content='Chapter 20: Climate Change and Innovation  \\nTechnological Innovation  \\nRenewable Energy Innovations  \\nContinuous advancements in renewable energy technologies are critical for reducing \\ngreenhouse gas emissions. Innovations in solar power, wind energy, and bioenergy are \\nmaking renewable energy more efficient and cost -competitive. Research and development \\nefforts are focused on improving energy storage, grid integration, and smart technologies.  \\nCarbon Sequestration Technologies  \\nInnovative carbon sequestration technologies capture and store CO2 emissions from \\nindustrial processes and power plants. These technologies include bioenergy with carbon \\ncapture and storage (BECCS), direct air capture, and mineral carbonation. Scaling up t hese \\ntechnologies is essential for achieving net -zero emissions.  \\nAdvanced Materials  \\nDeveloping advanced materials that enhance energy efficiency and reduce emissions is a key'),\n",
       " Document(metadata={'source': '../data/Understanding_Climate_Change.pdf', 'page': 29}, page_content='technologies is essential for achieving net -zero emissions.  \\nAdvanced Materials  \\nDeveloping advanced materials that enhance energy efficiency and reduce emissions is a key \\narea of innovation. Examples include high -performance insulation materials, lightweight \\ncomposites for transportation, and sustainable building materials. These inno vations \\ncontribute to energy savings and lower carbon footprints.  \\nSocial Innovation  \\nBehavioral Change Programs  \\nPrograms that encourage behavioral change towards more sustainable lifestyles are vital for \\nreducing emissions and promoting resilience. This includes initiatives that promote energy \\nconservation, sustainable consumption, and waste reduction. Behavioral ch ange programs \\noften use social marketing, education, and incentives to influence actions.  \\nCommunity -Based Solutions'),\n",
       " Document(metadata={'source': '../data/Understanding_Climate_Change.pdf', 'page': 30}, page_content='Community -based solutions leverage local knowledge and resources to address climate \\nchallenges. Examples include community -led renewable energy projects, urban gardening, \\nand local conservation efforts. Empowering communities to develop and implement their  \\nown solutions fosters ownership and sustainability.  \\nInnovative Financing Models  \\nNew financing models are emerging to support climate action and sustainable development. \\nExamples include green bonds, impact investing, and crowdfunding. These models mobilize \\nprivate capital for public goods and enable innovative projects to scale. Ensur ing financial \\ninclusion and access to capital is crucial for widespread impact.  \\nGovernance Innovation  \\nAdaptive Governance  \\nAdaptive governance involves flexible and responsive decision -making processes that can \\nadjust to changing conditions and new information. This approach is essential for managing'),\n",
       " Document(metadata={'source': '../data/Understanding_Climate_Change.pdf', 'page': 30}, page_content='Adaptive governance involves flexible and responsive decision -making processes that can \\nadjust to changing conditions and new information. This approach is essential for managing \\nthe uncertainties and complexities of climate change. Adaptive governance emp hasizes \\nlearning, experimentation, and stakeholder engagement.  \\nParticipatory Governance  \\nParticipatory governance involves actively engaging citizens and stakeholders in decision -\\nmaking processes. This approach enhances transparency, accountability, and inclusivity. \\nParticipatory governance can take various forms, such as citizen assemblies, p articipatory \\nbudgeting, and co -management of natural resources.  \\nCollaborative Platforms  \\nCollaborative platforms facilitate coordination and cooperation among diverse actors working \\non climate action. These platforms provide spaces for sharing knowledge, building \\npartnerships, and developing joint initiatives. Digital tools and online networks  are'),\n",
       " Document(metadata={'source': '../data/Understanding_Climate_Change.pdf', 'page': 30}, page_content='on climate action. These platforms provide spaces for sharing knowledge, building \\npartnerships, and developing joint initiatives. Digital tools and online networks  are \\nincreasingly used to support collaborative governance.  \\nChapter 21: Climate Change and Cultural Shifts  \\nChanging Cultural Narratives  \\nClimate Stories  \\nStorytelling is a powerful tool for changing cultural narratives around climate change. \\nPersonal stories, documentaries, and artistic expressions can humanize climate impacts and \\ninspire action. Climate stories highlight the experiences of individuals and communities, \\nfostering empathy and connection.  \\nCultural Movements'),\n",
       " Document(metadata={'source': '../data/Understanding_Climate_Change.pdf', 'page': 31}, page_content='Cultural movements play a crucial role in mobilizing public support for climate action. \\nMovements such as Fridays for Future, Extinction Rebellion, and the Sunrise Movement have \\nbrought climate issues to the forefront of public discourse. These movements u se creative \\ntactics, direct action, and grassroots organizing to drive change.  \\nMedia and Arts  \\nThe media and arts sectors have significant influence on public perceptions and attitudes \\ntowards climate change. Films, literature, music, and visual arts can raise awareness, provoke \\nthought, and inspire action. Collaborations between artists, scientists , and activists are \\ncreating impactful works that engage and educate diverse audiences.  \\nEducational Initiatives  \\nClimate Education in Schools  \\nIntegrating climate education into school curricula is essential for preparing future \\ngenerations to address climate challenges. Climate education should cover the science of'),\n",
       " Document(metadata={'source': '../data/Understanding_Climate_Change.pdf', 'page': 31}, page_content='Integrating climate education into school curricula is essential for preparing future \\ngenerations to address climate challenges. Climate education should cover the science of \\nclimate change, its impacts, and solutions. Experiential learning, such as outdoo r education \\nand hands -on projects, enhances understanding and engagement.  \\nPublic Awareness Campaigns  \\nPublic awareness campaigns aim to inform and educate the general public about climate \\nchange and encourage sustainable behaviors. Effective campaigns use clear messaging, \\nrelatable examples, and actionable tips. Collaboration with media, influencers, and \\ncommunity organizations enhances reach and impact.  \\nLifelong Learning  \\nLifelong learning initiatives provide opportunities for people of all ages to learn about \\nclimate change and sustainability. This includes adult education programs, online courses, \\nworkshops, and community events. Lifelong learning fosters a culture of con tinuous \\nimprovement and adaptability.'),\n",
       " Document(metadata={'source': '../data/Understanding_Climate_Change.pdf', 'page': 31}, page_content='workshops, and community events. Lifelong learning fosters a culture of con tinuous \\nimprovement and adaptability.  \\nIntergenerational Dialogue  \\nYouth Engagement  \\nEngaging youth in climate action is critical for long -term sustainability. Youth bring energy, \\ncreativity, and a sense of urgency to climate movements. Providing platforms for youth \\nvoices, supporting youth -led initiatives, and involving young people in de cision -making \\nprocesses are essential for meaningful engagement.  \\nIntergenerational Collaboration  \\nIntergenerational collaboration involves working together across age groups to address \\nclimate challenges. This includes mentorship programs, intergenerational projects, and \\ndialogue forums. Sharing knowledge and experiences between generations enhances \\ncollective capacity and resilience.'),\n",
       " Document(metadata={'source': '../data/Understanding_Climate_Change.pdf', 'page': 32}, page_content='Legacy and Responsibility  \\nRecognizing the responsibility to future generations is a fundamental aspect of climate action. \\nThis involves making decisions that protect the environment and ensure a sustainable future. \\nPromoting a sense of stewardship and legacy encourages long -term th inking and \\ncommitment.  \\nBy continuing to innovate, collaborate, and integrate diverse perspectives, we can address the \\ncomplex and urgent challenge of climate change. Our collective efforts will determine the \\nhealth and sustainability of our planet for generations to come. Togeth er, we can create a \\nresilient, equitable, and thriving world.')]"
      ]
     },
     "execution_count": 6,
     "metadata": {},
     "output_type": "execute_result"
    }
   ],
   "source": [
    "cleaned_texts"
   ]
  },
  {
   "cell_type": "code",
   "execution_count": null,
   "metadata": {},
   "outputs": [],
   "source": [
    "[doc.page_content.split() for doc in documents]"
   ]
  },
  {
   "cell_type": "markdown",
   "metadata": {},
   "source": [
    "### Create a bm25 index for retrieving documents by keywords\n",
    "- BM25는 TF-IDF와 유사하게 단어 빈도와 문서 내 단어의 희소성을 고려하지만, 두 가지 주요 개선점을 가지고 있습니다.\n",
    "\n",
    "1. 단어 빈도의 포화: TF-IDF에서는 단어가 문서에 많이 등장할수록 점수가 계속 증가합니다. 그러나 BM25에서는 빈도가 일정 수준 이상 높아지면 점수를 증가시키지 않습니다.\n",
    "2. 문서 길이 보정: BM25는 문서의 길이를 고려하여 짧은 문서와 긴 문서를 공정하게 평가합니다."
   ]
  },
  {
   "cell_type": "code",
   "execution_count": 9,
   "metadata": {},
   "outputs": [],
   "source": [
    "def create_bm25_index(documents: List[Document]) -> BM25Okapi:\n",
    "    \"\"\"\n",
    "    주어진 문서들로부터 BM25 인덱스를 생성합니다.\n",
    "\n",
    "    BM25 (Best Matching 25)는 정보 검색에서 사용되는 순위 함수입니다.\n",
    "    이는 확률적 검색 프레임워크를 기반으로 하며 TF-IDF의 개선된 버전입니다.\n",
    "\n",
    "    Args:\n",
    "    documents (List[Document]): 인덱싱할 문서들의 리스트.\n",
    "\n",
    "    Returns:\n",
    "    BM25Okapi: BM25 점수를 계산하는 데 사용할 수 있는 인덱스.\n",
    "    \"\"\"\n",
    "    # 각 문서를 공백을 기준으로 토크나이즈하여 나눕니다.\n",
    "    # 이는 간단한 접근 방식이며, 더 정교한 토크나이저를 사용하여 개선할 수 있습니다.\n",
    "    tokenized_docs = [doc.page_content.split() for doc in documents]\n",
    "\n",
    "    # BM25Okapi 인덱스를 반환하여 이후 검색에 사용할 수 있도록 합니다.\n",
    "    return BM25Okapi(tokenized_docs)\n"
   ]
  },
  {
   "cell_type": "code",
   "execution_count": 10,
   "metadata": {},
   "outputs": [],
   "source": [
    "bm25 = create_bm25_index(cleaned_texts) # Create BM25 index from the cleaned texts (chunks)"
   ]
  },
  {
   "cell_type": "markdown",
   "metadata": {},
   "source": [
    "### Define a function that retrieves both semantically and by keyword, normalizes the scores and gets the top k documents"
   ]
  },
  {
   "cell_type": "code",
   "execution_count": 13,
   "metadata": {},
   "outputs": [],
   "source": [
    "def fusion_retrieval(vectorstore, bm25, query: str, k: int = 5, alpha: float = 0.5) -> List[Document]:\n",
    "    \"\"\"\n",
    "    키워드 기반(BM25) 및 벡터 기반 검색을 결합하여 Fusion Retrieval을 수행합니다.\n",
    "\n",
    "    Args:\n",
    "    vectorstore (VectorStore): 벡터 스토어(FAISS) 인스턴스로 문서가 포함된 스토어.\n",
    "    bm25 (BM25Okapi): 사전에 계산된 BM25 인덱스.\n",
    "    query (str): 사용자 입력 쿼리 문자열.\n",
    "    k (int): 반환할 문서 개수.\n",
    "    alpha (float): 벡터 검색 점수의 가중치 (BM25 점수의 가중치는 1-alpha로 설정).\n",
    "\n",
    "    Returns:\n",
    "    List[Document]: 결합 점수를 기준으로 상위 k개의 문서.\n",
    "    \"\"\"\n",
    "    \n",
    "    # Step 1: 벡터 스토어에서 모든 문서 가져오기\n",
    "    # 모든 문서를 가져와야 결합 검색을 위해 BM25 점수와 벡터 검색 점수를 결합할 수 있음\n",
    "    all_docs = vectorstore.similarity_search(\"\", k=vectorstore.index.ntotal)\n",
    "\n",
    "    # Step 2: BM25 검색 수행\n",
    "    # BM25 인덱스를 사용하여 쿼리에 대한 키워드 기반 검색 점수를 계산\n",
    "    bm25_scores = bm25.get_scores(query.split())\n",
    "\n",
    "    # Step 3: 벡터 검색 수행\n",
    "    # 벡터 스토어에서 쿼리와 유사도가 높은 문서들의 점수를 가져옴\n",
    "    vector_results = vectorstore.similarity_search_with_score(query, k=len(all_docs))\n",
    "    \n",
    "    # Step 4: 점수 정규화\n",
    "    # 벡터 점수는 min-max sclaer 통해 0과 1 사이로 조정됨\n",
    "    vector_scores = np.array([score for _, score in vector_results])\n",
    "    vector_scores = 1 - (vector_scores - np.min(vector_scores)) / (np.max(vector_scores) - np.min(vector_scores))\n",
    "\n",
    "    # BM25 점수도 동일하게 min-max sclaer 통해 0과 1 사이로 조정\n",
    "    bm25_scores = (bm25_scores - np.min(bm25_scores)) / (np.max(bm25_scores) - np.min(bm25_scores))\n",
    "\n",
    "    # Step 5: 점수 결합\n",
    "    # 벡터 점수와 BM25 점수를 결합하여 최종 점수를 계산\n",
    "    # alpha는 벡터 점수의 가중치, (1 - alpha)는 BM25 점수의 가중치\n",
    "    combined_scores = alpha * vector_scores + (1 - alpha) * bm25_scores  \n",
    "\n",
    "    # Step 6: 문서 순위 정렬\n",
    "    # 결합된 점수를 기준으로 문서의 인덱스를 내림차순 정렬하여 상위 점수 문서부터 가져옴\n",
    "    sorted_indices = np.argsort(combined_scores)[::-1]\n",
    "    \n",
    "    # Step 7: 상위 k개의 문서 반환\n",
    "    # 정렬된 인덱스를 통해 상위 k개의 문서를 반환\n",
    "    return [all_docs[i] for i in sorted_indices[:k]]\n"
   ]
  },
  {
   "cell_type": "markdown",
   "metadata": {},
   "source": [
    "### Use Case example"
   ]
  },
  {
   "cell_type": "code",
   "execution_count": 14,
   "metadata": {},
   "outputs": [
    {
     "name": "stdout",
     "output_type": "stream",
     "text": [
      "Context 1:\n",
      "workshops, and community events. Lifelong learning fosters a culture of con tinuous \n",
      "improvement and adaptability.  \n",
      "Intergenerational Dialogue  \n",
      "Youth Engagement  \n",
      "Engaging youth in climate action is critical for long -term sustainability. Youth bring energy, \n",
      "creativity, and a sense of urgency to climate movements. Providing platforms for youth \n",
      "voices, supporting youth -led initiatives, and involving young people in de cision -making \n",
      "processes are essential for meaningful engagement.  \n",
      "Intergenerational Collaboration  \n",
      "Intergenerational collaboration involves working together across age groups to address \n",
      "climate challenges. This includes mentorship programs, intergenerational projects, and \n",
      "dialogue forums. Sharing knowledge and experiences between generations enhances \n",
      "collective capacity and resilience.\n",
      "\n",
      "\n",
      "Context 2:\n",
      "This vision includes a healthy planet, thriving ecosystems, and equitable societies. Working \n",
      "together towards this vision creates a sense of purpose and motivation . \n",
      "By embracing these principles and taking concerted action, we can address the urgent \n",
      "challenge of climate change and build a sustainable, resilient, and equitable world for all. The \n",
      "path forward requires courage, commitment, and collaboration, but the rewa rds are \n",
      "immense—a thriving planet and a prosperous future for generations to come.  \n",
      "Chapter 13: Climate Change and Social Justice  \n",
      "Climate Justice  \n",
      "Understanding Climate Justice  \n",
      "Climate justice emphasizes the ethical dimensions of climate change, recognizing that its \n",
      "impacts are not evenly distributed. Vulnerable populations, including low -income \n",
      "communities, indigenous peoples, and marginalized groups, often face the greatest ris ks \n",
      "while contributing the least to greenhouse gas emissions. Climate justice advocates for\n",
      "\n",
      "\n",
      "Context 3:\n",
      "Legacy and Responsibility  \n",
      "Recognizing the responsibility to future generations is a fundamental aspect of climate action. \n",
      "This involves making decisions that protect the environment and ensure a sustainable future. \n",
      "Promoting a sense of stewardship and legacy encourages long -term th inking and \n",
      "commitment.  \n",
      "By continuing to innovate, collaborate, and integrate diverse perspectives, we can address the \n",
      "complex and urgent challenge of climate change. Our collective efforts will determine the \n",
      "health and sustainability of our planet for generations to come. Togeth er, we can create a \n",
      "resilient, equitable, and thriving world.\n",
      "\n",
      "\n",
      "Context 4:\n",
      "Legacy for Future Generations  \n",
      "Our actions today shape the world for future generations. Ensuring a sustainable and resilient \n",
      "planet is our responsibility to future generations. By working together, we can create a legacy \n",
      "of environmental stewardship, social equity, and global solidarit y. \n",
      "Chapter 19: Climate Change and Policy  \n",
      "Policy Development and Implementation  \n",
      "National Climate Policies  \n",
      "Countries around the world are developing and implementing national climate policies to \n",
      "address climate change. These policies set emission reduction targets, promote renewable \n",
      "energy, and support adaptation measures. Effective policy implementation requir es\n",
      "\n",
      "\n",
      "Context 5:\n",
      "Vision for a Sustainable Future  \n",
      "Holistic Approach  \n",
      "Addressing climate change requires a holistic approach that integrates environmental, social, \n",
      "and economic dimensions. Sustainable development, circular economy, and ecological justice \n",
      "are key principles guiding this approach. Collaboration across sectors and scales is essential \n",
      "for achieving a sustainable future.  \n",
      "Innovation and Creativity  \n",
      "Innovation and creativity are vital for developing new solutions to climate challenges. This \n",
      "includes technological advancements, policy innovations, and creative approaches to \n",
      "education and communication. Fostering a culture of innovation supports continu ous \n",
      "improvement and adaptation.  \n",
      "Global Solidarity  \n",
      "Global solidarity and cooperation are fundamental for addressing the global challenge of \n",
      "climate change. This includes supporting vulnerable countries and communities, sharing \n",
      "resources and technologies, and promoting equitable solutions. Solidarity streng thens global\n",
      "\n",
      "\n"
     ]
    }
   ],
   "source": [
    "# Query\n",
    "query = \"What are the impacts of climate change on the environment?\"\n",
    "\n",
    "# Perform fusion retrieval\n",
    "top_docs = fusion_retrieval(vectorstore, bm25, query, k=5, alpha=0.5)\n",
    "docs_content = [doc.page_content for doc in top_docs]\n",
    "show_context(docs_content)"
   ]
  },
  {
   "cell_type": "markdown",
   "metadata": {},
   "source": [
    "### 내 생각 \n",
    "- 유사도를 구하는 방식을 두 가지로 나누어 계산\n",
    "- 계산한 값들을 가중치를 활용하여 재계산한 후 재랭킹하여 top-k만큼 뽑아낸다. "
   ]
  },
  {
   "cell_type": "code",
   "execution_count": null,
   "metadata": {},
   "outputs": [],
   "source": []
  }
 ],
 "metadata": {
  "kernelspec": {
   "display_name": "kmy_env",
   "language": "python",
   "name": "python3"
  },
  "language_info": {
   "codemirror_mode": {
    "name": "ipython",
    "version": 3
   },
   "file_extension": ".py",
   "mimetype": "text/x-python",
   "name": "python",
   "nbconvert_exporter": "python",
   "pygments_lexer": "ipython3",
   "version": "3.12.7"
  }
 },
 "nbformat": 4,
 "nbformat_minor": 2
}
