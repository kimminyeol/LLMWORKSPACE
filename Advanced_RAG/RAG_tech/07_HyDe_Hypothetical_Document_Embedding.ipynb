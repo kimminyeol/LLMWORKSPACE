{
 "cells": [
  {
   "cell_type": "markdown",
   "metadata": {},
   "source": [
    "# 문서 검색에서의 가설적 문서 임베딩 (HyDE)\n",
    "\n",
    "## 개요\n",
    "\n",
    "이 코드는 문서 검색을 위한 **가설적 문서 임베딩(Hypothetical Document Embedding, HyDE)** 시스템을 구현한 것입니다. HyDE는 쿼리 질문을 가설적 문서로 변환하여, 벡터 공간에서 쿼리와 문서 간의 분포 차이를 줄이는 혁신적인 접근 방식을 제공합니다. HyDE는 쿼리를 답을 포함한 가설적 문서로 확장함으로써 쿼리와 문서의 벡터 분포를 더욱 유사하게 만들어 검색의 정확도를 향상시키는 것을 목표로 합니다.\n",
    "\n",
    "---\n",
    "\n",
    "## 동기\n",
    "\n",
    "전통적인 검색 방법은 짧은 쿼리와 길고 상세한 문서 사이의 의미적 차이(semantic gap)로 인해 어려움을 겪는 경우가 많습니다. HyDE는 쿼리를 가설적 문서로 확장하여 쿼리 표현을 문서 표현과 유사하게 만들어 이 문제를 해결합니다. 이를 통해 벡터 공간에서의 쿼리와 문서 간의 관련성을 향상시킬 수 있습니다.\n",
    "\n",
    "---\n",
    "\n",
    "## 주요 구성 요소\n",
    "\n",
    "1. PDF 처리 및 텍스트 청크 분할\n",
    "2. FAISS와 OpenAI 임베딩을 사용한 벡터 스토어 생성\n",
    "3. 가설적 문서 생성을 위한 언어 모델(GPT-4)\n",
    "4. HyDE 기법을 구현한 **HyDERetriever** 클래스\n",
    "\n",
    "---\n",
    "\n",
    "## 방법 세부 사항\n",
    "\n",
    "### 문서 전처리 및 벡터 스토어 생성\n",
    "\n",
    "1. PDF 문서를 처리하고 작은 청크로 분할합니다.\n",
    "2. OpenAI 임베딩을 사용하여 FAISS 벡터 스토어를 생성하여 효율적인 유사성 검색을 수행합니다.\n",
    "\n",
    "### 가설적 문서 생성\n",
    "\n",
    "1. 언어 모델(GPT-4)을 사용하여 쿼리에 답변하는 가설적 문서를 생성합니다.\n",
    "2. 생성은 벡터 스토어의 청크 크기와 일치하는, 상세한 가설적 문서가 되도록 프롬프트 템플릿을 통해 조정됩니다.\n",
    "\n",
    "### 검색 프로세스\n",
    "\n",
    "**HyDERetriever** 클래스는 다음과 같은 단계로 검색을 수행합니다:\n",
    "\n",
    "1. 쿼리로부터 언어 모델을 사용하여 가설적 문서를 생성합니다.\n",
    "2. 생성된 가설적 문서를 벡터 스토어의 검색 쿼리로 사용합니다.\n",
    "3. 이 가설적 문서와 가장 유사한 문서들을 검색하여 반환합니다.\n",
    "\n",
    "---\n",
    "\n",
    "## 주요 특징\n",
    "\n",
    "1. **쿼리 확장**: 짧은 쿼리를 상세한 가설적 문서로 변환하여 검색 정확도를 높입니다.\n",
    "2. **유연한 구성**: 청크 크기, 중첩 범위, 검색할 문서 수를 조정할 수 있습니다.\n",
    "3. **OpenAI 모델과의 통합**: GPT-4를 사용해 가설적 문서를 생성하고 OpenAI 임베딩을 통해 벡터 표현을 만듭니다.\n",
    "\n",
    "---\n",
    "\n",
    "## 이 접근법의 이점\n",
    "\n",
    "1. **향상된 관련성**: 쿼리를 전체 문서로 확장함으로써 더 세부적이고 관련성 높은 검색 결과를 얻을 수 있습니다.\n",
    "2. **복잡한 쿼리 처리**: 복잡하거나 다면적인 쿼리에 대해 보다 적합한 검색 결과를 제공하는 데 유리합니다.\n",
    "3. **적응성**: 가설적 문서 생성은 다양한 유형의 쿼리 및 문서 도메인에 적응할 수 있습니다.\n",
    "4. **문맥 이해 능력 향상**: 확장된 쿼리는 원래 질문의 의도와 문맥을 더 잘 파악할 수 있게 합니다.\n",
    "\n",
    "---\n",
    "\n",
    "## 구현 세부 사항\n",
    "\n",
    "1. 가설적 문서 생성을 위해 OpenAI의 ChatGPT 모델을 사용합니다.\n",
    "2. 벡터 공간에서 효율적인 유사성 검색을 위해 FAISS를 사용합니다.\n",
    "3. 가설적 문서와 검색 결과를 쉽게 시각화할 수 있는 기능을 제공합니다.\n",
    "\n",
    "---\n",
    "\n",
    "## 결론\n",
    "\n",
    "**가설적 문서 임베딩(HyDE)**은 쿼리와 문서 간의 의미적 차이를 해결하는 혁신적인 문서 검색 접근법입니다. 고급 언어 모델을 활용하여 쿼리를 가설적 문서로 확장함으로써, HyDE는 검색 관련성을 크게 향상시킬 가능성을 가지고 있습니다. 특히 법률 연구, 학술 문헌 검토 또는 고급 정보 검색 시스템과 같이 쿼리 의도와 문맥 이해가 중요한 분야에서 매우 유용하게 사용될 수 있습니다.\n"
   ]
  },
  {
   "cell_type": "markdown",
   "metadata": {},
   "source": [
    "<div style=\"text-align: center;\">\n",
    "\n",
    "<img src=\"../images/HyDe.svg\" alt=\"HyDe\" style=\"width:40%; height:auto;\">\n",
    "</div>"
   ]
  },
  {
   "cell_type": "markdown",
   "metadata": {},
   "source": [
    "<div style=\"text-align: center;\">\n",
    "\n",
    "<img src=\"../images/hyde-advantages.svg\" alt=\"HyDe\" style=\"width:100%; height:auto;\">\n",
    "</div>"
   ]
  },
  {
   "cell_type": "markdown",
   "metadata": {},
   "source": [
    "### Import libraries"
   ]
  },
  {
   "cell_type": "code",
   "execution_count": 2,
   "metadata": {},
   "outputs": [],
   "source": [
    "import os\n",
    "import sys\n",
    "from dotenv import load_dotenv\n",
    "\n",
    "\n",
    "sys.path.append(os.path.abspath(os.path.join(os.getcwd(), '..'))) # Add the parent directory to the path sicnce we work with notebooks\n",
    "from helper_functions import *\n",
    "from evaluation.evalute_rag import *\n",
    "\n",
    "# Load environment variables from a .env file\n",
    "load_dotenv()\n",
    "\n",
    "# Set the OpenAI API key environment variable\n",
    "os.environ[\"OPENAI_API_KEY\"] = os.getenv('OPENAI_API_KEY')"
   ]
  },
  {
   "cell_type": "markdown",
   "metadata": {},
   "source": [
    "### Define document(s) path"
   ]
  },
  {
   "cell_type": "code",
   "execution_count": 3,
   "metadata": {},
   "outputs": [],
   "source": [
    "path = \"../data/Understanding_Climate_Change.pdf\""
   ]
  },
  {
   "cell_type": "markdown",
   "metadata": {},
   "source": [
    "### Define the HyDe retriever class - creating vector store, generating hypothetical document, and retrieving"
   ]
  },
  {
   "cell_type": "code",
   "execution_count": 4,
   "metadata": {},
   "outputs": [],
   "source": [
    "class HyDERetriever:\n",
    "    def __init__(self, files_path, chunk_size=500, chunk_overlap=100):\n",
    "        self.llm = ChatOpenAI(temperature=0, model_name=\"gpt-4o-mini\", max_tokens=4000)\n",
    "\n",
    "        self.embeddings = OpenAIEmbeddings()\n",
    "        self.chunk_size = chunk_size\n",
    "        self.chunk_overlap = chunk_overlap\n",
    "        self.vectorstore = encode_pdf(files_path, chunk_size=self.chunk_size, chunk_overlap=self.chunk_overlap)\n",
    "    \n",
    "        # prompt\n",
    "        # 쿼리가 주어졌을 때, 쿼리에 대한 답변을 직접적으로하는 가설문서를 만들어냄 , 세부적이고 청크사이즈 지켜야한다. \n",
    "        # 질문에 직접적으로 답변할 수 있을 정도의 문서를 만드는 것이 목표 \n",
    "        self.hyde_prompt = PromptTemplate(\n",
    "            input_variables=[\"query\", \"chunk_size\"],\n",
    "            template=\"\"\"Given the question '{query}', generate a hypothetical document that directly answers this question. The document should be detailed and in-depth.\n",
    "            the document size has be exactly {chunk_size} characters.\"\"\",\n",
    "        )\n",
    "        self.hyde_chain = self.hyde_prompt | self.llm\n",
    "\n",
    "    # 가설문서 만드는 함수 \n",
    "    def generate_hypothetical_document(self, query):\n",
    "        input_variables = {\"query\": query, \"chunk_size\": self.chunk_size}\n",
    "        return self.hyde_chain.invoke(input_variables).content\n",
    "\n",
    "    # 만든 가설문서 임베딩하여 topk 반환하는 함수\n",
    "    def retrieve(self, query, k=3):\n",
    "        hypothetical_doc = self.generate_hypothetical_document(query)\n",
    "        # 해당 가설문서와 유사한 것들을 벡터스토어에서 찾아낸다. => 아까 pdf에서 찾아낸다는 것 \n",
    "        similar_docs = self.vectorstore.similarity_search(hypothetical_doc, k=k)\n",
    "        return similar_docs, hypothetical_doc\n"
   ]
  },
  {
   "cell_type": "markdown",
   "metadata": {},
   "source": [
    "### Create a HyDe retriever instance"
   ]
  },
  {
   "cell_type": "code",
   "execution_count": 5,
   "metadata": {},
   "outputs": [],
   "source": [
    "retriever = HyDERetriever(path)"
   ]
  },
  {
   "cell_type": "markdown",
   "metadata": {},
   "source": [
    "### Demonstrate on a use case"
   ]
  },
  {
   "cell_type": "code",
   "execution_count": 6,
   "metadata": {},
   "outputs": [],
   "source": [
    "test_query = \"What is the main cause of climate change?\"\n",
    "results, hypothetical_doc = retriever.retrieve(test_query)"
   ]
  },
  {
   "cell_type": "code",
   "execution_count": 9,
   "metadata": {},
   "outputs": [
    {
     "data": {
      "text/plain": [
       "['**Title: Understanding the Main Cause of Climate Change**',\n",
       " '',\n",
       " 'Climate change primarily results from human activities, particularly the burning of fossil fuels such as coal, oil, and natural gas. This process releases significant amounts of carbon dioxide (CO2) and other greenhouse gases into the atmosphere. Deforestation exacerbates the issue by reducing the number of trees that can absorb CO2. Industrial processes, agriculture, and waste management also contribute to greenhouse gas emissions. The accumulation of these gases traps heat, leading to global warming and subsequent climate changes, impacting ecosystems and weather patterns worldwide.']"
      ]
     },
     "execution_count": 9,
     "metadata": {},
     "output_type": "execute_result"
    }
   ],
   "source": [
    "hypothetical_doc.split('\\n')"
   ]
  },
  {
   "cell_type": "markdown",
   "metadata": {},
   "source": [
    "### Plot the hypothetical document and the retrieved documnets "
   ]
  },
  {
   "cell_type": "code",
   "execution_count": 7,
   "metadata": {},
   "outputs": [
    {
     "name": "stdout",
     "output_type": "stream",
     "text": [
      "hypothetical_doc:\n",
      "\n",
      "**Title: Understanding the Main Cause of Climate Change**  Climate change primarily results from human activities,\n",
      "particularly the burning of fossil fuels such as coal, oil, and natural gas. This process releases significant amounts\n",
      "of carbon dioxide (CO2) and other greenhouse gases into the atmosphere. Deforestation exacerbates the issue by reducing\n",
      "the number of trees that can absorb CO2. Industrial processes, agriculture, and waste management also contribute to\n",
      "greenhouse gas emissions. The accumulation of these gases traps heat, leading to global warming and subsequent climate\n",
      "changes, impacting ecosystems and weather patterns worldwide.\n",
      "\n",
      "Context 1:\n",
      "predict future trends. The evidence overwhelmingly shows that recent changes are primarily \n",
      "driven by human activities, particularly the emission of greenhou se gases.  \n",
      "Chapter 2: Causes of Climate Change  \n",
      "Greenhouse Gases  \n",
      "The primary cause of recent climate change is the increase in greenhouse gases in the \n",
      "atmosphere. Greenhouse gases, such as carbon dioxide (CO2), methane (CH4), and nitrous \n",
      "oxide (N2O), trap heat from the sun, creating a \"greenhouse effect.\" This effect is  essential\n",
      "\n",
      "\n",
      "Context 2:\n",
      "oxide (N2O), trap heat from the sun, creating a \"greenhouse effect.\" This effect is  essential \n",
      "for life on Earth, as it keeps the planet warm enough to support life. However, human \n",
      "activities have intensified this natural process, leading to a warmer climate.  \n",
      "Fossil Fuels  \n",
      "Burning fossil fuels for energy releases large amounts of CO2. This includes coal, oil, and \n",
      "natural gas used for electricity, heating, and transportation. The industrial revolution marked\n",
      "\n",
      "\n",
      "Context 3:\n",
      "Understanding Climate Change  \n",
      "Chapter 1: Introduction to Climate Change  \n",
      "Climate change refers to significant, long -term changes in the global climate. The term \n",
      "\"global climate\" encompasses the planet's overall weather patterns, including temperature, \n",
      "precipitation, and wind patterns, over an extended period. Over the past cent ury, human \n",
      "activities, particularly the burning of fossil fuels and deforestation, have significantly \n",
      "contributed to climate change.  \n",
      "Historical Context\n",
      "\n",
      "\n"
     ]
    }
   ],
   "source": [
    "docs_content = [doc.page_content for doc in results]\n",
    "\n",
    "print(\"hypothetical_doc:\\n\")\n",
    "print(text_wrap(hypothetical_doc)+\"\\n\")\n",
    "show_context(docs_content)"
   ]
  },
  {
   "cell_type": "markdown",
   "metadata": {},
   "source": [
    "### 결론\n",
    "- 질문을 기반으로 질문에 대한 직접적인 답변을 할 수 있을 정도의 가설문서를 만들어낸다.\n",
    "- 해당 가설문서를 쿼리에 넣어 관련있는 문서를 찾아내는 것이 목표"
   ]
  }
 ],
 "metadata": {
  "kernelspec": {
   "display_name": "kmy_env",
   "language": "python",
   "name": "python3"
  },
  "language_info": {
   "codemirror_mode": {
    "name": "ipython",
    "version": 3
   },
   "file_extension": ".py",
   "mimetype": "text/x-python",
   "name": "python",
   "nbconvert_exporter": "python",
   "pygments_lexer": "ipython3",
   "version": "3.12.7"
  }
 },
 "nbformat": 4,
 "nbformat_minor": 2
}
