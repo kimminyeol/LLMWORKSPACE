{
 "cells": [
  {
   "cell_type": "markdown",
   "metadata": {},
   "source": [
    "# 문서 검색을 위한 컨텍스트 확장 윈도우\n",
    "\n",
    "## 개요\n",
    "\n",
    "이 문서에서는 벡터 데이터베이스에서 **컨텍스트 확장 윈도우 기법**을 활용한 문서 검색 방법을 설명합니다. 이 기법은 검색된 텍스트 청크에 주변 컨텍스트를 추가하여, 반환된 정보의 일관성과 완전성을 높이는 것을 목표로 합니다.\n",
    "\n",
    "## 동기\n",
    "\n",
    "기존의 벡터 기반 검색은 종종 개별 텍스트 청크만 반환하여 충분한 이해에 필요한 컨텍스트가 부족할 수 있습니다. 이 접근법은 관련 텍스트 청크에 인접한 텍스트를 추가함으로써 보다 포괄적인 정보를 제공하기 위해 고안되었습니다.\n",
    "\n",
    "## 주요 구성 요소\n",
    "\n",
    "1. PDF 처리 및 텍스트 청크 생성\n",
    "2. FAISS와 OpenAI 임베딩을 활용한 벡터 스토어 생성\n",
    "3. 컨텍스트 윈도우를 추가한 커스텀 검색 함수\n",
    "4. 일반 검색과 컨텍스트 확장 검색의 비교\n",
    "\n",
    "## 방법 세부 내용\n",
    "\n",
    "### 문서 전처리\n",
    "\n",
    "1. PDF 파일을 읽어 문자열로 변환합니다.\n",
    "2. 텍스트를 겹치도록 청크 단위로 나누고, 각 청크에 인덱스를 태깅합니다.\n",
    "\n",
    "### 벡터 스토어 생성\n",
    "\n",
    "1. OpenAI 임베딩을 사용하여 각 청크의 벡터 표현을 생성합니다.\n",
    "2. 생성된 임베딩을 바탕으로 FAISS 벡터 스토어를 만듭니다.\n",
    "\n",
    "### 컨텍스트 확장 검색\n",
    "\n",
    "1. `retrieve_with_context_overlap` 함수가 다음과 같은 방식으로 동작합니다:\n",
    "   - 쿼리에 따라 관련 청크를 검색합니다.\n",
    "   - 각 관련 청크에 대해 인접 청크를 가져옵니다.\n",
    "   - 청크를 겹치게 하여 연결하고, 확장된 컨텍스트를 반환합니다.\n",
    "\n",
    "### 검색 결과 비교\n",
    "\n",
    "노트북에는 일반 검색과 컨텍스트 확장 검색의 결과를 비교하는 섹션이 포함되어 있습니다.\n",
    "\n",
    "## 이 접근법의 장점\n",
    "\n",
    "1. 더 일관되고 풍부한 컨텍스트를 제공\n",
    "2. 벡터 검색의 장점을 유지하면서 개별 텍스트 조각의 한계를 극복\n",
    "3. 컨텍스트 윈도우 크기를 유연하게 조정 가능\n",
    "\n",
    "## 결론\n",
    "\n",
    "컨텍스트 확장 윈도우 기법은 벡터 기반 문서 검색 시스템에서 검색 정보의 품질을 높이는 효과적인 방법입니다. 주변 컨텍스트를 제공함으로써 검색된 정보의 일관성과 완전성을 유지하여, 질문 응답과 같은 후속 작업에서 더 정확하고 이해하기 쉬운 결과를 얻을 수 있습니다.\n"
   ]
  },
  {
   "cell_type": "markdown",
   "metadata": {},
   "source": [
    "<div style=\"text-align: center;\">\n",
    "\n",
    "<img src=\"../images/vector-search-comparison_context_enrichment.svg\" alt=\"context enrichment window\" style=\"width:70%; height:auto;\">\n",
    "</div>"
   ]
  },
  {
   "cell_type": "markdown",
   "metadata": {},
   "source": [
    "<div style=\"text-align: center;\">\n",
    "\n",
    "<img src=\"../images/context_enrichment_window.svg\" alt=\"context enrichment window\" style=\"width:70%; height:auto;\">\n",
    "</div>"
   ]
  },
  {
   "cell_type": "markdown",
   "metadata": {},
   "source": [
    "### Import libraries and environment variables"
   ]
  },
  {
   "cell_type": "code",
   "execution_count": 1,
   "metadata": {},
   "outputs": [
    {
     "name": "stderr",
     "output_type": "stream",
     "text": [
      "/var/folders/gl/6qlsk6x94klgs54qzsg9q1jm0000gn/T/ipykernel_6013/650983907.py:8: LangChainDeprecationWarning: As of langchain-core 0.3.0, LangChain uses pydantic v2 internally. The langchain_core.pydantic_v1 module was a compatibility shim for pydantic v1, and should no longer be used. Please update the code to import from Pydantic directly.\n",
      "\n",
      "For example, replace imports like: `from langchain_core.pydantic_v1 import BaseModel`\n",
      "with: `from pydantic import BaseModel`\n",
      "or the v1 compatibility namespace if you are working in a code base that has not been fully upgraded to pydantic 2 yet. \tfrom pydantic.v1 import BaseModel\n",
      "\n",
      "  from helper_functions import *\n",
      "/opt/anaconda3/envs/kmy_env/lib/python3.12/site-packages/deepeval/__init__.py:49: UserWarning: You are using deepeval version 1.4.5, however version 1.4.7 is available. You should consider upgrading via the \"pip install --upgrade deepeval\" command.\n",
      "  warnings.warn(\n"
     ]
    }
   ],
   "source": [
    "import os\n",
    "import sys\n",
    "from dotenv import load_dotenv\n",
    "from langchain.docstore.document import Document\n",
    "\n",
    "\n",
    "sys.path.append(os.path.abspath(os.path.join(os.getcwd(), '..'))) # Add the parent directory to the path sicnce we work with notebooks\n",
    "from helper_functions import *\n",
    "from evaluation.evalute_rag import *\n",
    "\n",
    "# Load environment variables from a .env file\n",
    "load_dotenv()\n",
    "\n",
    "# Set the OpenAI API key environment variable\n",
    "os.environ[\"OPENAI_API_KEY\"] = os.getenv('OPENAI_API_KEY')"
   ]
  },
  {
   "cell_type": "markdown",
   "metadata": {},
   "source": [
    "### Define path to PDF"
   ]
  },
  {
   "cell_type": "code",
   "execution_count": 2,
   "metadata": {},
   "outputs": [],
   "source": [
    "path = \"../data/Understanding_Climate_Change.pdf\""
   ]
  },
  {
   "cell_type": "markdown",
   "metadata": {},
   "source": [
    "### Read PDF to string"
   ]
  },
  {
   "cell_type": "code",
   "execution_count": 3,
   "metadata": {},
   "outputs": [],
   "source": [
    "content = read_pdf_to_string(path)"
   ]
  },
  {
   "cell_type": "markdown",
   "metadata": {},
   "source": [
    "### Function to split text into chunks with metadata of the chunk chronological index"
   ]
  },
  {
   "cell_type": "code",
   "execution_count": 4,
   "metadata": {},
   "outputs": [],
   "source": [
    "# 400개 청크 사이즈 설정 후 200개 중복설정하여 청킹하는 함수 \n",
    "def split_text_to_chunks_with_indices(text: str, chunk_size: int, chunk_overlap: int) -> List[Document]:\n",
    "    chunks = []\n",
    "    start = 0\n",
    "    while start < len(text):\n",
    "        end = start + chunk_size\n",
    "        chunk = text[start:end]\n",
    "        chunks.append(Document(page_content=chunk, metadata={\"index\": len(chunks), \"text\": text}))\n",
    "        start += chunk_size - chunk_overlap\n",
    "    return chunks"
   ]
  },
  {
   "cell_type": "markdown",
   "metadata": {},
   "source": [
    "### Split our document accordingly"
   ]
  },
  {
   "cell_type": "code",
   "execution_count": 5,
   "metadata": {},
   "outputs": [],
   "source": [
    "chunks_size = 400\n",
    "chunk_overlap = 200\n",
    "docs = split_text_to_chunks_with_indices(content, chunks_size, chunk_overlap)"
   ]
  },
  {
   "cell_type": "code",
   "execution_count": 12,
   "metadata": {},
   "outputs": [
    {
     "data": {
      "text/plain": [
       "Document(metadata={'index': 0, 'text': 'Understanding Climate Change \\nChapter 1: Introduction to Climate Change \\nClimate change refers to significant, long-term changes in the global climate. The term \\n\"global climate\" encompasses the planet\\'s overall weather patterns, including temperature, \\nprecipitation, and wind patterns, over an extended period. Over the past century, human \\nactivities, particularly the burning of fossil fuels and deforestation, have significantly \\ncontributed to climate change. \\nHistorical Context \\nThe Earth\\'s climate has changed throughout history. Over the past 650,000 years, there have \\nbeen seven cycles of glacial advance and retreat, with the abrupt end of the last ice age about \\n11,700 years ago marking the beginning of the modern climate era and human civilization. \\nMost of these climate changes are attributed to very small variations in Earth\\'s orbit that \\nchange the amount of solar energy our planet receives. During the Holocene epoch, which \\nbegan at the end of the last ice age, human societies flourished, but the industrial era has seen \\nunprecedented changes. \\nModern Observations \\nModern scientific observations indicate a rapid increase in global temperatures, sea levels, \\nand extreme weather events. The Intergovernmental Panel on Climate Change (IPCC) has \\ndocumented these changes extensively. Ice core samples, tree rings, and ocean sediments \\nprovide a historical record that scientists use to understand past climate conditions and \\npredict future trends. The evidence overwhelmingly shows that recent changes are primarily \\ndriven by human activities, particularly the emission of greenhouse gases. \\nChapter 2: Causes of Climate Change \\nGreenhouse Gases \\nThe primary cause of recent climate change is the increase in greenhouse gases in the \\natmosphere. Greenhouse gases, such as carbon dioxide (CO2), methane (CH4), and nitrous \\noxide (N2O), trap heat from the sun, creating a \"greenhouse effect.\" This effect is essential \\nfor life on Earth, as it keeps the planet warm enough to support life. However, human \\nactivities have intensified this natural process, leading to a warmer climate. \\nFossil Fuels \\nBurning fossil fuels for energy releases large amounts of CO2. This includes coal, oil, and \\nnatural gas used for electricity, heating, and transportation. The industrial revolution marked \\nthe beginning of a significant increase in fossil fuel consumption, which continues to rise \\ntoday. \\nCoal \\nCoal is the most carbon-intensive fossil fuel, and its use for electricity generation is a major \\nsource of CO2 emissions. Despite a decline in some regions, coal remains a significant \\nenergy source globally. It is mined extensively in countries like China, India, and the United \\nStates, contributing significantly to their energy supplies and CO2 footprints. \\nOil \\nOil is used primarily for transportation fuels, such as gasoline and diesel. The combustion of \\noil products releases significant amounts of CO2 and other pollutants, contributing to climate \\nchange and air quality issues. The global oil industry is vast, involving extraction, refining, \\nand distribution, with significant geopolitical and economic implications. \\nNatural Gas \\nNatural gas is the least carbon-intensive fossil fuel and is often seen as a \"bridge fuel\" to a \\nlower-carbon future. However, its extraction and use still contribute to greenhouse gas \\nemissions, particularly methane, which is a potent greenhouse gas. Innovations in fracking \\ntechnology have made natural gas more accessible, but this comes with environmental and \\nhealth concerns. \\nDeforestation \\nForests act as carbon sinks, absorbing CO2 from the atmosphere. When trees are cut down \\nfor timber or to clear land for agriculture, this stored carbon is released back into the \\natmosphere. Deforestation reduces the number of trees that can absorb CO2, exacerbating the \\ngreenhouse effect. \\nTropical Deforestation \\nTropical rainforests are particularly important for carbon storage. Deforestation in the \\nAmazon, Congo Basin, and Southeast Asia has significant impacts on global carbon cycles \\nand biodiversity. These regions are often cleared for agriculture, logging, and mining, leading \\nto habitat loss and species extinction. \\nBoreal Forests \\nBoreal forests, found in the northern regions of North America, Europe, and Asia, also play a \\ncrucial role in sequestering carbon. Logging and land-use changes in these regions contribute \\nto climate change. These forests are vital for regulating the Earth\\'s climate and supporting \\nindigenous communities and wildlife. \\nAgriculture \\nAgriculture contributes to climate change through methane emissions from livestock, rice \\npaddies, and the use of synthetic fertilizers. Methane is a potent greenhouse gas with a much \\nhigher heat-trapping capability than CO2, albeit in smaller quantities. \\nLivestock Emissions \\nRuminant animals, such as cows and sheep, produce methane during digestion. Manure \\nmanagement practices also contribute to methane and nitrous oxide emissions. Innovations in \\nlivestock feeding and waste management can help mitigate these emissions. \\nRice Cultivation \\nFlooded rice paddies create anaerobic conditions that lead to methane production. Improved \\nwater management and rice varieties can help reduce these emissions. Research into \\nsustainable rice farming practices is crucial for balancing food security and climate goals. \\nFertilizers \\nThe use of synthetic fertilizers in agriculture releases nitrous oxide, a potent greenhouse gas. \\nPractices such as precision farming and organic fertilizers can mitigate these emissions. The \\ndevelopment of eco-friendly fertilizers and farming techniques is essential for reducing the \\nagricultural sector\\'s carbon footprint. \\nChapter 3: Effects of Climate Change \\nThe effects of climate change are already being felt around the world and are projected to \\nintensify in the coming decades. These effects include: \\nRising Temperatures \\nGlobal temperatures have risen by about 1.2 degrees Celsius (2.2 degrees Fahrenheit) since \\nthe late 19th century. This warming is not uniform, with some regions experiencing more \\nsignificant increases than others. \\nHeatwaves \\nHeatwaves are becoming more frequent and severe, posing risks to human health, agriculture, \\nand infrastructure. Cities are particularly vulnerable due to the \"urban heat island\" effect. \\nHeatwaves can lead to heat-related illnesses and exacerbate existing health conditions. \\nChanging Seasons \\nClimate change is altering the timing and length of seasons, affecting ecosystems and human \\nactivities. For example, spring is arriving earlier, and winters are becoming shorter and \\nmilder in many regions. This shift disrupts plant and animal life cycles and agricultural \\npractices. \\nMelting Ice and Rising Sea Levels \\nWarmer temperatures are causing polar ice caps and glaciers to melt, contributing to rising \\nsea levels. Sea levels have risen by about 20 centimeters (8 inches) in the past century, \\nthreatening coastal communities and ecosystems. \\nPolar Ice Melt \\nThe Arctic is warming at more than twice the global average rate, leading to significant ice \\nloss. Antarctic ice sheets are also losing mass, contributing to sea level rise. This melting \\naffects global ocean currents and weather patterns. \\nGlacial Retreat \\nGlaciers around the world are retreating, affecting water supplies for millions of people. \\nRegions dependent on glacial meltwater, such as the Himalayas and the Andes, face \\nparticular risks. Glacial melt also impacts hydropower generation and agriculture. \\nCoastal Erosion \\nRising sea levels and increased storm surges are accelerating coastal erosion, threatening \\nhomes, infrastructure, and ecosystems. Low-lying islands and coastal regions are especially \\nvulnerable. Coastal communities must invest in adaptation measures like sea walls and \\nmanaged retreats. \\nExtreme Weather Events \\nClimate change is linked to an increase in the frequency and severity of extreme weather \\nevents, such as hurricanes, heatwaves, droughts, and heavy rainfall. These events can have \\ndevastating impacts on communities, economies, and ecosystems. \\nHurricanes and Typhoons \\nWarmer ocean temperatures can intensify hurricanes and typhoons, leading to more \\ndestructive storms. Coastal regions are at heightened risk of storm surge and flooding. Early \\nwarning systems and resilient infrastructure are critical for mitigating these risks. \\nDroughts \\nIncreased temperatures and changing precipitation patterns are contributing to more frequent \\nand severe droughts. This affects agriculture, water supply, and ecosystems, particularly in \\narid and semi-arid regions. Droughts can lead to food and water shortages and exacerbate \\nconflicts. \\nFlooding \\nHeavy rainfall events are becoming more common, leading to increased flooding. Urban \\nareas with poor drainage and infrastructure are particularly at risk. Flood management \\nstrategies include improved drainage systems, green infrastructure, and floodplain restoration. \\nOcean Acidification \\nIncreased CO2 levels in the atmosphere lead to higher concentrations of CO2 in the oceans. \\nThis causes the water to become more acidic, which can harm marine life, particularly \\norganisms with calcium carbonate shells or skeletons, such as corals and some shellfish. \\nCoral Reefs \\nCoral reefs are highly sensitive to changes in temperature and acidity. Ocean acidification \\nand warming waters contribute to coral bleaching and mortality, threatening biodiversity and \\nfisheries. Protecting and restoring coral reefs is essential for marine conservation. \\nMarine Ecosystems \\nAcidification affects the health and survival of various marine species, disrupting food webs \\nand ecosystems. This has implications for commercial fisheries and the livelihoods of people \\nwho depend on the ocean. Efforts to reduce CO2 emissions and enhance marine protected \\nareas are vital. \\nChapter 4: Mitigation and Adaptation \\nAddressing climate change requires a two-pronged approach: mitigation and adaptation. \\nMitigation involves reducing or preventing the emission of greenhouse gases, while \\nadaptation involves making adjustments to social, economic, and environmental practices to \\nminimize the damage caused by climate change. \\nRenewable Energy \\nTransitioning to renewable energy sources, such as wind, solar, and hydroelectric power, is \\ncrucial for reducing greenhouse gas emissions. These sources produce little to no emissions \\nand are sustainable in the long term. \\nSolar Power \\nSolar power harnesses energy from the sun using photovoltaic cells or solar thermal systems. \\nIt is a versatile and scalable solution for reducing carbon emissions. Advances in solar \\ntechnology and decreasing costs make it an attractive option for many regions. \\nWind Power \\nWind power generates electricity using wind turbines. It is one of the fastest-growing \\nrenewable energy sources and has significant potential for large-scale deployment. Offshore \\nwind farms offer substantial opportunities for expansion. \\nHydroelectric Power \\nHydroelectric power generates electricity by harnessing the energy of flowing water. It is a \\nmature and widely used technology, although it can have environmental impacts on river \\necosystems. Balancing energy needs with ecological conservation is essential. \\nEnergy Efficiency \\nImproving energy efficiency in buildings, transportation, and industry can significantly \\nreduce emissions. This includes using energy-efficient appliances, improving insulation, and \\ndeveloping more fuel-efficient vehicles. \\nBuilding Efficiency \\nEnergy-efficient buildings use less energy for heating, cooling, and lighting. This can be \\nachieved through better insulation, energy-efficient windows, and smart building \\ntechnologies. Retrofitting existing buildings is also crucial for enhancing efficiency. \\nTransportation Efficiency \\nImproving the fuel efficiency of vehicles, promoting public transportation, and supporting \\nelectric vehicles can reduce emissions from the transportation sector. Investments in \\nsustainable transport infrastructure are vital for reducing carbon footprints. \\nIndustrial Efficiency \\nEnhancing the energy efficiency of industrial processes and equipment can reduce emissions \\nand lower operating costs. This includes upgrading machinery, optimizing production \\nprocesses, and recovering waste heat. Innovations in industrial practices are key to achieving \\nsustainability goals. \\nReforestation and Afforestation \\nPlanting trees and restoring forests can help absorb CO2 from the atmosphere. Reforestation \\ninvolves replanting trees in deforested areas, while afforestation involves planting trees in \\nareas that were not previously forested. \\nReforestation Projects \\nReforestation projects aim to restore degraded lands and increase forest cover. These projects \\ncan provide additional benefits, such as biodiversity conservation and improved water \\nmanagement. Community involvement and sustainable practices are crucial for successful \\nreforestation. \\nAfforestation Initiatives \\nAfforestation initiatives involve creating new forests on lands that have not been forested for \\na long time. These projects can help sequester carbon and provide new habitats for wildlife. \\nStrategic planning and ecological considerations are essential for maximizing benefits. \\nClimate Policy \\nEffective climate policy is essential for driving large-scale change. International agreements, \\nsuch as the Paris Agreement, aim to limit global warming to well below 2 degrees Celsius \\nabove pre-industrial levels. National and local policies also play a critical role in \\nimplementing mitigation and adaptation strategies. \\nInternational Agreements \\nInternational climate agreements, such as the Kyoto Protocol and the Paris Agreement, set \\ntargets and frameworks for reducing greenhouse gas emissions globally. Cooperation and \\ncommitment from all countries are necessary for achieving climate goals. \\nNational Policies \\nCountries implement various policies to meet their climate goals, including carbon pricing, \\nrenewable energy incentives, and emissions regulations. National strategies must align with \\nglobal targets while addressing local needs and capacities. \\nLocal Initiatives \\nLocal governments and communities play a crucial role in climate action. Local initiatives \\ncan include urban planning, public transportation improvements, and community-based \\nconservation. Grassroots movements and public awareness campaigns are also important for \\ndriving change at the local level. \\nResearch and Innovation \\nContinuous research and innovation are vital for developing new technologies and strategies \\nto combat climate change. This includes advancements in renewable energy, carbon capture \\nand storage, and sustainable agriculture. Collaboration between governments, industries, and \\nacademia is essential for fostering innovation. \\nRenewable Energy Technology \\nInvesting in research and development of renewable energy technologies can lead to more \\nefficient and cost-effective solutions. Emerging technologies, such as advanced solar cells \\nand wind turbine designs, hold promise for the future. \\nCarbon Capture and Storage \\nCarbon capture and storage (CCS) technologies aim to capture CO2 emissions from industrial \\nsources and store them underground. These technologies are critical for reducing emissions \\nfrom hard-to-abate sectors and achieving net-zero targets. \\nSustainable Agriculture \\nInnovations in sustainable agriculture can help reduce emissions, enhance food security, and \\nprotect ecosystems. Practices such as agroforestry, precision farming, and regenerative \\nagriculture offer pathways to a more sustainable and resilient food system. \\nBy understanding the causes, effects, and potential solutions to climate change, we can take \\ninformed actions to protect our planet for future generations. Global cooperation, innovation, \\nand commitment are key to addressing this pressing challenge. \\n \\nChapter 5: The Role of Technology in Climate Change \\nMitigation \\nAdvanced Renewable Energy Solutions \\nNext-Generation Solar Technologies \\nNew advancements in solar technology, such as perovskite solar cells and solar paint, \\npromise higher efficiency and lower costs. These innovations could significantly enhance the \\nadoption of solar energy globally, making it a more viable option for a broader range of \\napplications, including residential, commercial, and industrial uses. \\nFloating Solar Farms \\nFloating solar farms, installed on water bodies, offer a way to generate solar power without \\nusing valuable land space. These systems can also reduce evaporation from water bodies and \\nimprove solar panel efficiency due to the cooling effect of water. \\nOffshore Wind Farms \\nOffshore wind farms have the potential to generate vast amounts of electricity. They are \\ntypically located far from shore, where winds are stronger and more consistent. Innovations \\nin turbine design and installation methods are making offshore wind an increasingly cost-\\ncompetitive option. \\nEnergy Storage and Grid Management \\nBattery Storage \\nAdvances in battery technology, particularly in lithium-ion and solid-state batteries, are \\nimproving energy storage capacity and efficiency. Large-scale battery storage systems can \\nhelp balance supply and demand, making renewable energy sources like solar and wind more \\nreliable. \\nSmart Grids \\nSmart grids use digital technology to manage electricity more efficiently. They can integrate \\nvarious renewable energy sources, respond to demand fluctuations, and reduce energy waste. \\nSmart meters, sensors, and advanced analytics play crucial roles in these systems. \\nPumped Hydro Storage \\nPumped hydro storage involves storing energy by moving water between two reservoirs at \\ndifferent elevations. During periods of high electricity demand, water is released from the \\nupper reservoir to generate electricity. This method provides a large-scale, long-duration \\nstorage solution. \\nCarbon Capture and Utilization \\nDirect Air Capture \\nDirect air capture (DAC) technology involves removing CO2 directly from the atmosphere. \\nThe captured CO2 can be stored underground or used in various industrial processes. DAC is \\nan emerging technology with the potential to play a significant role in achieving net-zero \\nemissions. \\nCarbon Utilization \\nCaptured CO2 can be used to produce building materials, synthetic fuels, and other products. \\nThis process not only reduces emissions but also creates value from waste CO2. Research \\ninto carbon utilization technologies is expanding rapidly, with promising applications in \\nmultiple industries. \\nSustainable Transportation \\nElectric Vehicles \\nElectric vehicles (EVs) produce zero tailpipe emissions and can be powered by renewable \\nenergy. Advances in battery technology are extending EV range and reducing costs, making \\nthem a more attractive option for consumers and businesses. Infrastructure development, such \\nas charging stations, is crucial for widespread EV adoption. \\nHydrogen Fuel Cells \\nHydrogen fuel cells generate electricity by combining hydrogen with oxygen, producing only \\nwater as a byproduct. Fuel cell vehicles (FCVs) offer a clean alternative to conventional \\nvehicles, particularly for heavy-duty applications like trucks and buses. Developing a robust \\nhydrogen infrastructure is essential for their success. \\nPublic Transportation Innovations \\nInvestments in efficient and reliable public transportation systems can reduce the number of \\nprivate vehicles on the road, lowering emissions. Innovations include electric buses, light rail \\nsystems, and bike-sharing programs. Urban planning that prioritizes public transportation and \\nnon-motorized transit is key. \\nSustainable Agriculture and Land Use \\nPrecision Agriculture \\nPrecision agriculture uses technology to monitor and manage crop production more \\neffectively. Techniques include GPS-guided equipment, soil sensors, and data analytics. \\nThese methods can optimize resource use, reduce emissions, and increase yields. \\nAgroforestry \\nAgroforestry integrates trees and shrubs into agricultural landscapes. This practice enhances \\nbiodiversity, improves soil health, and sequesters carbon. It offers a sustainable alternative to \\nconventional monoculture farming. \\nRegenerative Agriculture \\nRegenerative agriculture focuses on restoring soil health through practices like crop rotation, \\ncover cropping, and reduced tillage. Healthy soils store more carbon and support resilient \\necosystems. This approach can help mitigate climate change while improving farm \\nproductivity. \\nChapter 6: Global and Local Climate Action \\nInternational Collaboration \\nUnited Nations Framework Convention on Climate Change (UNFCCC) \\nThe UNFCCC is an international treaty aimed at addressing climate change. It provides a \\nframework for negotiating specific protocols and agreements, such as the Kyoto Protocol and \\nthe Paris Agreement. Global cooperation under the UNFCCC is crucial for coordinated \\nclimate action. \\nParis Agreement \\nThe Paris Agreement, adopted in 2015, aims to limit global warming to well below 2 degrees \\nCelsius above pre-industrial levels, with efforts to limit the increase to 1.5 degrees Celsius. \\nCountries submit nationally determined contributions (NDCs) outlining their climate action \\nplans and targets. \\nNational Strategies \\nCarbon Pricing \\nCarbon pricing mechanisms, such as carbon taxes and cap-and-trade systems, incentivize \\nemission reductions by assigning a cost to carbon emissions. These policies encourage \\nbusinesses and individuals to reduce their carbon footprints and invest in cleaner \\ntechnologies. \\nRenewable Energy Targets \\nMany countries have set ambitious targets for renewable energy adoption. These targets are \\nsupported by policies such as subsidies, tax incentives, and mandates for renewable energy \\nuse. Achieving these targets requires robust infrastructure and market development. \\nEmission Reduction Regulations \\nGovernments implement regulations to limit emissions from key sectors such as energy, \\ntransportation, and industry. These regulations can include efficiency standards, emission \\ncaps, and pollution controls. Enforcement and compliance are critical for their effectiveness. \\nLocal and Community Initiatives \\nUrban Climate Action \\nCities play a pivotal role in climate action due to their high population densities and \\neconomic activities. Urban climate initiatives include sustainable transportation systems, \\ngreen building standards, and climate-resilient infrastructure. Community engagement and \\nparticipatory planning are essential for successful implementation. \\nCommunity-Based Conservation \\nLocal communities are often on the front lines of climate impacts and can be powerful agents \\nof change. Community-based conservation projects involve residents in protecting and \\nrestoring natural resources, such as forests, wetlands, and coastal areas. These projects \\nenhance local resilience and biodiversity. \\nEducation and Awareness \\nRaising public awareness about climate change and sustainability is crucial for driving action. \\nEducational programs, media campaigns, and community events can inform and inspire \\nindividuals to adopt environmentally friendly practices. Schools, NGOs, and local \\ngovernments play key roles in these efforts. \\nChapter 7: The Economics of Climate Change \\nCosts of Inaction \\nEconomic Impacts of Climate Change \\nThe economic costs of climate change include damage to infrastructure, reduced agricultural \\nproductivity, health care costs, and lost labor productivity. Extreme weather events, such as \\nhurricanes and floods, can cause significant economic disruption. Investing in climate action \\nnow can prevent much higher costs in the future. \\nSocial and Environmental Costs \\nClimate change exacerbates social inequalities, with marginalized communities often bearing \\nthe brunt of its impacts. Environmental costs include loss of biodiversity, ecosystem \\ndegradation, and decreased availability of natural resources. Addressing these issues requires \\nintegrated, equitable solutions. \\nBenefits of Climate Action \\nEconomic Opportunities \\nInvesting in renewable energy, energy efficiency, and sustainable practices creates jobs and \\nstimulates economic growth. The transition to a green economy can drive innovation and \\ncompetitiveness. Sectors such as clean technology, sustainable agriculture, and green finance \\nare emerging as significant economic drivers. \\nHealth Benefits \\nReducing emissions and pollution improves public health by decreasing respiratory and \\ncardiovascular diseases. Cleaner air and water contribute to overall well-being and reduce \\nhealthcare costs. Healthier environments support more active lifestyles and community well-\\nbeing. \\nEcosystem Services \\nHealthy ecosystems provide services such as water filtration, pollination, and climate \\nregulation. Protecting and restoring ecosystems enhances their ability to support human life \\nand biodiversity. Ecosystem-based approaches to climate action can deliver multiple benefits. \\nChapter 8: Future Directions and Innovations \\nEmerging Technologies \\nArtificial Intelligence and Machine Learning \\nAI and machine learning can optimize energy use, predict climate patterns, and enhance \\nclimate resilience. Applications include smart grids, climate modeling, and precision \\nagriculture. These technologies can also improve disaster response and resource management. \\nBlockchain for Climate Action \\nBlockchain technology can enhance transparency and accountability in climate action efforts. \\nIt can be used for tracking carbon credits, verifying renewable energy transactions, and \\nensuring the integrity of supply chains. Blockchain-based solutions are being explored for \\nvarious climate-related applications. \\nBioengineering \\nBioengineering approaches, such as biochar production and algae cultivation, offer \\ninnovative solutions for carbon sequestration and sustainable resource management. These \\ntechnologies have the potential to enhance soil health, improve agricultural yields, and reduce \\nemissions. \\nPolicy and Governance \\nIntegrated Climate Policies \\nEffective climate policies integrate mitigation and adaptation strategies across sectors and \\nscales. Coordination between government agencies, businesses, and civil society is essential \\nfor comprehensive climate action. Policies must be flexible and responsive to evolving \\nscientific knowledge and socio-economic conditions. \\nInternational Cooperation \\nGlobal cooperation is crucial for addressing the transboundary nature of climate change. \\nStrengthening international institutions and agreements, sharing technology and knowledge, \\nand providing financial support to developing countries are key components of global climate \\ngovernance. \\nPublic-Private Partnerships \\nCollaborations between the public and private sectors can accelerate climate action. Public-\\nprivate partnerships (PPPs) can leverage resources, expertise, and innovation to implement \\nlarge-scale climate solutions. PPPs are particularly effective in areas such as infrastructure \\ndevelopment, renewable energy projects, and sustainable urban planning. \\nSocial and Cultural Change \\nBehavioral Shifts \\nChanging individual and collective behaviors is essential for achieving climate goals. \\nEncouraging sustainable lifestyles, reducing consumption, and promoting circular economy \\npractices can significantly reduce emissions. Public campaigns and educational initiatives \\nplay crucial roles in driving these behavioral shifts. \\nCultural Transformations \\nCultural values and norms influence how societies respond to climate change. Promoting a \\nculture of sustainability, resilience, and stewardship can foster long-term climate action. \\nEngaging artists, storytellers, and community leaders in climate conversations can help shift \\ncultural perceptions. \\nYouth Engagement \\nYouth are vital stakeholders in climate action. Empowering young people through education, \\nactivism, and leadership opportunities can drive transformative change. Youth movements, \\nsuch as Fridays for Future, demonstrate the power of young voices in advocating for a \\nsustainable future. \\nBy continuing to innovate, collaborate, and commit to sustainable practices, we can mitigate \\nthe impacts of climate change and build a resilient, equitable, and thriving world for future \\ngenerations. The journey ahead requires dedication, creativity, and collective effort from all \\nsectors of society. \\nChapter 9: Climate Change and Biodiversity \\nImpact on Ecosystems \\nTerrestrial Ecosystems \\nClimate change is altering terrestrial ecosystems by shifting habitat ranges, changing species \\ndistributions, and impacting ecosystem functions. Forests, grasslands, and deserts are \\nexperiencing shifts in plant and animal species composition. These changes can lead to a loss \\nof biodiversity and disrupt ecological balance. \\nMarine Ecosystems \\nMarine ecosystems are highly vulnerable to climate change. Rising sea temperatures, ocean \\nacidification, and changing currents affect marine biodiversity, from coral reefs to deep-sea \\nhabitats. Species migration and changes in reproductive cycles can disrupt marine food webs \\nand fisheries. \\nFreshwater Ecosystems \\nFreshwater ecosystems, including rivers, lakes, and wetlands, are affected by changes in \\nprecipitation patterns, temperature, and water flow. These changes can lead to altered water \\nquality, habitat loss, and reduced biodiversity. Freshwater species, including fish and \\namphibians, are particularly at risk. \\nConservation Strategies \\nProtected Areas \\nEstablishing and managing protected areas is crucial for conserving biodiversity. These areas \\nprovide refuges for species, help maintain ecosystem services, and offer opportunities for \\nscientific research and education. Expanding and connecting protected areas can enhance \\ntheir effectiveness. \\nHabitat Restoration \\nRestoring degraded habitats can help reverse biodiversity loss and improve ecosystem \\nresilience. Restoration efforts may include reforestation, wetland reconstruction, and soil \\nrehabilitation. Engaging local communities in restoration projects ensures sustainability and \\nlong-term success. \\nEx-Situ Conservation \\nEx-situ conservation involves protecting species outside their natural habitats, such as in \\nzoos, botanical gardens, and seed banks. These efforts can preserve genetic diversity, support \\nbreeding programs, and facilitate reintroduction into the wild. Ex-situ conservation \\ncomplements in-situ efforts. \\nIntegrating Biodiversity and Climate Action \\nNature-Based Solutions \\nNature-based solutions leverage natural processes to address climate change while enhancing \\nbiodiversity. Examples include reforestation, mangrove restoration, and sustainable \\nagriculture. These solutions provide multiple benefits, such as carbon sequestration, flood \\nprotection, and habitat creation. \\nClimate-Resilient Conservation \\nConservation strategies must account for climate change impacts to be effective. This \\nincludes identifying climate refugia, areas less affected by climate change, and prioritizing \\nthem for protection. Adaptive management practices ensure that conservation efforts remain \\neffective under changing conditions. \\nBiodiversity in Climate Policy \\nIncorporating biodiversity considerations into climate policies enhances their effectiveness. \\nProtecting and restoring ecosystems can contribute to climate mitigation and adaptation \\ngoals. Policies should promote synergies between biodiversity conservation and climate \\naction. \\nChapter 10: Climate Change and Human Health \\nHealth Impacts \\nHeat-Related Illnesses \\nRising temperatures and more frequent heatwaves increase the risk of heat-related illnesses, \\nsuch as heat exhaustion and heatstroke. Vulnerable populations, including the elderly, \\nchildren, and outdoor workers, are particularly at risk. Heat mitigation strategies, such as \\ncooling centers and public health campaigns, are essential. \\nVector-Borne Diseases \\nClimate change affects the distribution and prevalence of vector-borne diseases, such as \\nmalaria, dengue fever, and Lyme disease. Warmer temperatures and changing precipitation \\npatterns can expand the habitats of disease-carrying insects, increasing the risk of outbreaks. \\nIntegrated pest management and disease surveillance are critical for prevention and control. \\nRespiratory and Cardiovascular Diseases \\nAir pollution, exacerbated by climate change, contributes to respiratory and cardiovascular \\ndiseases. Increased levels of ground-level ozone and particulate matter can worsen conditions \\nlike asthma and heart disease. Reducing emissions from vehicles, industries, and power \\nplants improves air quality and public health. \\nFood and Water Security \\nClimate change affects food production and water availability, impacting nutrition and health. \\nDroughts, floods, and changing growing seasons can reduce crop yields and disrupt food \\nsupply chains. Ensuring food and water security requires resilient agricultural practices, \\nefficient water management, and emergency preparedness. \\nHealth Adaptation Strategies \\nPublic Health Infrastructure \\nStrengthening public health infrastructure is vital for adapting to climate change. This \\nincludes enhancing healthcare facilities, improving disease surveillance systems, and training \\nhealthcare professionals. Community health programs can increase resilience and \\npreparedness for climate-related health risks. \\nCommunity Engagement \\nEngaging communities in health adaptation efforts ensures that strategies are relevant and \\neffective. Public awareness campaigns, participatory planning, and local health initiatives \\nempower communities to take action. Building social cohesion and support networks \\nenhances community resilience. \\nClimate-Smart Healthcare \\nIntegrating climate considerations into healthcare planning and operations can reduce \\nvulnerabilities. This includes designing climate-resilient healthcare facilities, promoting \\nsustainable practices, and incorporating climate change into health education and policies. \\nClimate-smart healthcare improves both health outcomes and environmental sustainability. \\nGlobal Health Initiatives \\nInternational Collaboration \\nGlobal health organizations, such as the World Health Organization (WHO), play a crucial \\nrole in addressing climate-related health issues. International collaboration facilitates the \\nsharing of knowledge, resources, and best practices. Joint efforts can enhance global health \\nsecurity and resilience. \\nResearch and Innovation \\nInvesting in research and innovation is essential for understanding and addressing the health \\nimpacts of climate change. This includes studying the links between climate and health, \\ndeveloping new technologies and treatments, and improving health data systems. Research \\ninforms evidence-based policies and interventions. \\nChapter 11: Education and Advocacy \\nClimate Education \\nCurriculum Development \\nIntegrating climate change into educational curricula is essential for raising awareness and \\nbuilding knowledge. Schools, colleges, and universities can incorporate climate science, \\nsustainability, and environmental ethics into their programs. Educating the next generation \\nfosters informed and engaged citizens. \\nTeacher Training \\nProviding training and resources for educators helps them effectively teach about climate \\nchange. Professional development programs, workshops, and online courses can enhance \\nteachers\\' knowledge and skills. Supportive networks and communities of practice enable the \\nsharing of ideas and experiences. \\nCommunity Education \\nCommunity education initiatives raise awareness and promote action at the local level. \\nWorkshops, seminars, and public events can engage diverse audiences and encourage \\ncommunity involvement. Partnerships with local organizations, businesses, and governments \\nenhance the reach and impact of these efforts. \\nAdvocacy and Activism \\nGrassroots Movements \\nGrassroots movements, driven by passionate individuals and groups, play a critical role in \\nadvocating for climate action. These movements can raise awareness, influence policy, and \\nmobilize communities. Successful campaigns often use creative and innovative approaches to \\nengage and inspire. \\nPolicy Advocacy \\nAdvocating for strong climate policies at the local, national, and international levels is \\nessential for driving systemic change. This includes lobbying, public campaigns, and forming \\ncoalitions with like-minded organizations. Effective advocacy can lead to the adoption of \\nambitious and equitable climate policies. \\nYouth Leadership \\nYouth are powerful advocates for climate action. Empowering young people through \\neducation, mentorship, and leadership opportunities enables them to drive change. Youth-led \\ninitiatives, such as school strikes for climate, demonstrate the potential of young voices to \\ninfluence public opinion and policy. \\nMedia and Communication \\nClimate Communication \\nEffective climate communication is crucial for raising awareness and inspiring action. This \\ninvolves using clear, compelling messages tailored to different audiences. Storytelling, visual \\nmedia, and social media platforms can make complex information accessible and engaging. \\nJournalism and Media Coverage \\nJournalists and media organizations play a key role in informing the public about climate \\nchange. Investigative reporting, in-depth analysis, and human-interest stories can highlight \\nthe urgency and impacts of climate change. Media coverage can also hold policymakers and \\nbusinesses accountable. \\nPublic Engagement \\nPublic engagement initiatives, such as citizen science projects, forums, and dialogues, \\nencourage active participation in climate action. These initiatives provide platforms for \\nsharing knowledge, experiences, and ideas. Engaging the public fosters a sense of ownership \\nand responsibility. \\nChapter 12: The Path Forward \\nVision for a Sustainable Future \\nHolistic Approach \\nAddressing climate change requires a holistic approach that integrates environmental, social, \\nand economic dimensions. Sustainable development, circular economy, and ecological justice \\nare key principles guiding this approach. Collaboration across sectors and scales is essential \\nfor achieving a sustainable future. \\nInnovation and Creativity \\nInnovation and creativity are vital for developing new solutions to climate challenges. This \\nincludes technological advancements, policy innovations, and creative approaches to \\neducation and communication. Fostering a culture of innovation supports continuous \\nimprovement and adaptation. \\nGlobal Solidarity \\nGlobal solidarity and cooperation are fundamental for addressing the global challenge of \\nclimate change. This includes supporting vulnerable countries and communities, sharing \\nresources and technologies, and promoting equitable solutions. Solidarity strengthens global \\nresilience and ensures a just transition. \\nTaking Action \\nIndividual Actions \\nIndividuals can make a difference by adopting sustainable practices in their daily lives. This \\nincludes reducing energy consumption, minimizing waste, supporting renewable energy, and \\nadvocating for climate action. Collective individual actions contribute to broader systemic \\nchange. \\nCommunity Initiatives \\nCommunities can lead climate action through local projects and initiatives. This includes \\ncreating green spaces, promoting sustainable transportation, supporting local food systems, \\nand enhancing resilience. Community-led efforts build social cohesion and drive local \\nsustainability. \\nPolicy and Governance \\nEffective policies and governance are crucial for driving climate action. This includes setting \\nambitious targets, implementing robust regulations, and ensuring accountability. Participatory \\ngovernance and inclusive decision-making processes enhance policy effectiveness and public \\ntrust. \\nCommitment to Future Generations \\nIntergenerational Equity \\nEnsuring intergenerational equity means taking actions today that protect the rights and well-\\nbeing of future generations. This involves long-term thinking, sustainable resource \\nmanagement, and responsible stewardship. Committing to intergenerational equity aligns \\nwith principles of justice and fairness. \\nEducation and Empowerment \\nEducating and empowering young people equips them with the knowledge and skills to \\ntackle climate challenges. This includes integrating climate education into all levels of \\nschooling, supporting youth leadership, and fostering a culture of sustainability. Empowered \\nyouth are catalysts for positive change. \\nGlobal Vision \\nA shared global vision for a sustainable future inspires collective action and fosters hope. \\nThis vision includes a healthy planet, thriving ecosystems, and equitable societies. Working \\ntogether towards this vision creates a sense of purpose and motivation. \\nBy embracing these principles and taking concerted action, we can address the urgent \\nchallenge of climate change and build a sustainable, resilient, and equitable world for all. The \\npath forward requires courage, commitment, and collaboration, but the rewards are \\nimmense—a thriving planet and a prosperous future for generations to come. \\nChapter 13: Climate Change and Social Justice \\nClimate Justice \\nUnderstanding Climate Justice \\nClimate justice emphasizes the ethical dimensions of climate change, recognizing that its \\nimpacts are not evenly distributed. Vulnerable populations, including low-income \\ncommunities, indigenous peoples, and marginalized groups, often face the greatest risks \\nwhile contributing the least to greenhouse gas emissions. Climate justice advocates for \\nequitable solutions that address these disparities. \\nEnvironmental Racism \\nEnvironmental racism refers to the disproportionate exposure of communities of color to \\nenvironmental hazards, including those exacerbated by climate change. Addressing \\nenvironmental racism involves identifying and mitigating the sources of pollution and \\nensuring that all communities have access to clean air, water, and safe living conditions. \\nInclusive Policies \\nInclusive climate policies consider the needs and voices of all affected populations. This \\nincludes engaging diverse stakeholders in decision-making processes and designing policies \\nthat promote equity. Measures such as targeted support for vulnerable communities and \\nequitable access to climate adaptation resources are essential. \\nIndigenous Knowledge and Leadership \\nRole of Indigenous Knowledge \\nIndigenous knowledge systems offer valuable insights into sustainable land and resource \\nmanagement. Indigenous practices, such as controlled burning and agroforestry, have \\nsustained ecosystems for generations. Integrating indigenous knowledge into climate \\nstrategies enhances resilience and sustainability. \\nIndigenous Leadership \\nIndigenous communities are at the forefront of climate action, advocating for the protection \\nof their lands and rights. Indigenous leaders play a crucial role in global climate movements, \\nbringing attention to the impacts of climate change on their communities and promoting \\nholistic solutions. Supporting indigenous leadership is vital for effective climate action. \\nLand Rights and Protection \\nSecuring land rights for indigenous and local communities is essential for climate justice. \\nRecognizing and protecting these rights ensures that communities can manage their lands \\nsustainably and resist exploitation. Legal frameworks and international agreements must \\nuphold the rights of indigenous peoples. \\nGender and Climate Change \\nGendered Impacts \\nClimate change affects men and women differently, often exacerbating existing gender \\ninequalities. Women, particularly in developing countries, are more likely to experience the \\nadverse effects of climate change due to their roles in agriculture, water collection, and \\ncaregiving. Addressing these gendered impacts requires targeted interventions. \\nWomen\\'s Leadership \\nEmpowering women as leaders in climate action can drive transformative change. Women \\nbring unique perspectives and solutions to climate challenges, often prioritizing community \\nwell-being and sustainability. Promoting gender equality in climate governance ensures \\ndiverse and inclusive decision-making. \\nGender-Responsive Policies \\nGender-responsive climate policies address the specific needs and contributions of women. \\nThis includes ensuring women\\'s participation in climate decision-making, supporting female \\nfarmers and entrepreneurs, and providing access to education and resources. Gender equality \\nis a cornerstone of effective climate action. \\nChapter 14: Climate Change and the Economy \\nEconomic Transformation \\nGreen Economy \\nA green economy prioritizes sustainability and reduces environmental risks. It encompasses \\nrenewable energy, sustainable agriculture, green building, and low-carbon technologies. \\nTransitioning to a green economy involves restructuring industries, investing in clean \\ntechnologies, and promoting sustainable practices. \\nCircular Economy \\nThe circular economy model minimizes waste and maximizes resource efficiency by \\npromoting reuse, recycling, and remanufacturing. This approach contrasts with the traditional \\nlinear economy, which follows a take-make-dispose pattern. Circular economy strategies can \\nreduce environmental impact and create economic opportunities. \\nSustainable Finance \\nSustainable finance integrates environmental, social, and governance (ESG) criteria into \\ninvestment decisions. It supports projects and companies that contribute to sustainability and \\nclimate goals. Green bonds, climate funds, and impact investing are examples of sustainable \\nfinance instruments. \\nJob Creation and Workforce Development \\nGreen Jobs \\nThe transition to a green economy creates job opportunities in renewable energy, energy \\nefficiency, sustainable agriculture, and other sectors. Green jobs contribute to economic \\ngrowth and environmental sustainability. Ensuring just transition policies support workers in \\ntraditional industries moving to green jobs is crucial. \\nSkill Development \\nWorkforce development programs can equip workers with the skills needed for green jobs. \\nThis includes training in renewable energy technologies, sustainable farming practices, and \\nenvironmental management. Investing in education and vocational training supports \\neconomic resilience and adaptation. \\nEconomic Resilience \\nBuilding economic resilience involves creating diverse and sustainable economies that can \\nwithstand climate impacts. This includes supporting small businesses, fostering innovation, \\nand promoting local economic development. Resilient economies are better equipped to adapt \\nto changing conditions and recover from disruptions. \\nSustainable Business Practices \\nCorporate Responsibility \\nBusinesses play a significant role in addressing climate change through corporate social \\nresponsibility (CSR) initiatives. This includes reducing emissions, enhancing energy \\nefficiency, and adopting sustainable supply chain practices. Transparent reporting and \\naccountability are key to effective corporate climate action. \\nInnovation and Entrepreneurship \\nInnovation and entrepreneurship drive the development of new technologies and solutions for \\nclimate challenges. Startups and small businesses are often at the forefront of innovation, \\nbringing fresh ideas and approaches. Supporting a vibrant ecosystem of innovators can \\naccelerate climate solutions. \\nConsumer Choices \\nConsumers have the power to influence business practices through their purchasing decisions. \\nSupporting sustainable products and companies encourages businesses to adopt greener \\npractices. Consumer awareness campaigns can educate the public on the environmental \\nimpact of their choices. \\nChapter 15: Climate Change and Technology \\nClean Energy Technologies \\nSolar and Wind Energy \\nAdvancements in solar and wind energy technologies have made these sources more efficient \\nand cost-effective. Innovations such as bifacial solar panels, floating wind turbines, and \\nenergy storage systems are expanding the potential of renewable energy. Continued research \\nand development are essential for scaling these technologies. \\nEnergy Storage \\nEnergy storage technologies, such as batteries and pumped hydro storage, are crucial for \\nintegrating renewable energy into the grid. They provide flexibility and reliability, ensuring a \\nsteady supply of electricity even when the sun isn\\'t shining or the wind isn\\'t blowing. \\nAdvances in battery technology are reducing costs and increasing storage capacity. \\nHydrogen Energy \\nHydrogen energy has the potential to decarbonize sectors that are difficult to electrify, such \\nas heavy industry and long-haul transport. Electrolysis, which uses renewable electricity to \\nproduce hydrogen from water, is a promising method for generating green hydrogen. \\nDeveloping hydrogen infrastructure and reducing production costs are key challenges. \\nDigital Technologies \\nSmart Grids \\nSmart grids use digital technology to manage electricity distribution more efficiently. They \\nenable real-time monitoring, demand response, and integration of distributed energy \\nresources. Smart grids enhance grid reliability, reduce energy waste, and support the \\ntransition to renewable energy. \\nInternet of Things (IoT) \\nIoT devices can optimize energy use in homes, buildings, and industries. Smart thermostats, \\nlighting systems, and appliances can adjust their operation based on occupancy and usage \\npatterns, reducing energy consumption. IoT also enables predictive maintenance and efficient \\nresource management. \\nArtificial Intelligence (AI) \\nAI can analyze large datasets to optimize energy systems, predict climate impacts, and \\nenhance climate resilience. Applications include smart grid management, climate modeling, \\nand precision agriculture. AI-driven solutions can improve efficiency, reduce costs, and \\nsupport data-driven decision-making. \\nCarbon Capture and Utilization \\nCarbon Capture and Storage (CCS) \\nCCS technology captures CO2 emissions from industrial processes and power plants and \\nstores it underground. This technology is critical for reducing emissions from hard-to-abate \\nsectors. Developing cost-effective and scalable CCS solutions is essential for achieving \\nclimate goals. \\nCarbon Utilization \\nUtilizing captured CO2 to produce valuable products, such as synthetic fuels, chemicals, and \\nbuilding materials, can create economic opportunities and reduce emissions. Research into \\ncarbon utilization technologies is advancing, with potential applications in various industries. \\nDirect Air Capture (DAC) \\nDAC technology removes CO2 directly from the atmosphere, offering a way to achieve \\nnegative emissions. The captured CO2 can be stored or used in various applications. Scaling \\nDAC technology and reducing costs are critical for its widespread adoption. \\nChapter 16: Global Cooperation and Governance \\nInternational Agreements \\nParis Agreement \\nThe Paris Agreement is a landmark international accord that aims to limit global warming to \\nwell below 2 degrees Celsius above pre-industrial levels, with efforts to limit the increase to \\n1.5 degrees Celsius. Countries submit nationally determined contributions (NDCs) outlining \\ntheir climate action plans. Regular reviews and updates of NDCs are essential for meeting the \\nagreement\\'s goals. \\nKyoto Protocol \\nThe Kyoto Protocol, adopted in 1997, set binding emission reduction targets for developed \\ncountries. It was the first major international treaty to address climate change. The protocol \\nlaid the groundwork for subsequent agreements, highlighting the importance of collective \\naction. \\nMontreal Protocol \\nThe Montreal Protocol, designed to protect the ozone layer by phasing out ozone-depleting \\nsubstances, has also contributed to climate mitigation. The Kigali Amendment to the protocol \\ntargets hydrofluorocarbons (HFCs), potent greenhouse gases, demonstrating the treaty\\'s \\nevolving role in climate protection. \\nRegional and National Initiatives \\nEuropean Green Deal \\nThe European Green Deal is an ambitious plan to make Europe the first climate-neutral \\ncontinent by 2050. It includes measures to reduce emissions, promote clean energy, and \\nsupport sustainable agriculture and biodiversity. The deal also aims to create jobs and \\nenhance economic resilience. \\nUnited States Climate Action \\nThe United States has committed to rejoining the Paris Agreement and advancing domestic \\nclimate policies. Initiatives include setting emission reduction targets, investing in renewable \\nenergy, and promoting electric vehicles. State and local governments also play crucial roles \\nin climate action. \\nChina\\'s Climate Strategy \\nChina, the world\\'s largest emitter, has set ambitious targets to peak CO2 emissions before \\n2030 and achieve carbon neutrality by 2060. China\\'s strategy includes expanding renewable \\nenergy, improving energy efficiency, and investing in low-carbon technologies. International \\ncooperation and domestic policy alignment are key to achieving these goals. \\nGlobal Climate Finance \\nGreen Climate Fund \\nThe Green Climate Fund (GCF) supports climate mitigation and adaptation projects in \\ndeveloping countries. It provides financial resources to help vulnerable nations build \\nresilience, reduce emissions, and transition to sustainable development. Ensuring adequate \\nand predictable funding is critical for the GCF\\'s effectiveness. \\nClimate Bonds \\nClimate bonds finance projects that contribute to climate mitigation and adaptation. These \\nbonds attract private investment for renewable energy, energy efficiency, and sustainable \\ninfrastructure projects. Expanding the climate bond market can mobilize significant resources \\nfor climate action. \\nDevelopment Banks \\nMultilateral development banks (MDBs) play a crucial role in financing climate projects. \\nThey provide loans, grants, and technical assistance to support sustainable development and \\nclimate resilience. MDBs are increasingly integrating climate considerations into their \\ninvestment portfolios. \\nCapacity Building and Technology Transfer \\nCapacity Building \\nCapacity building enhances the ability of countries and communities to address climate \\nchange. This includes providing training, resources, and technical assistance to develop and \\nimplement climate policies and projects. Capacity building efforts should focus on vulnerable \\npopulations and regions. \\nTechnology Transfer \\nTransferring climate-friendly technologies to developing countries is essential for global \\nclimate action. This involves sharing knowledge, providing financial support, and creating \\nenabling environments for technology adoption. International cooperation and partnerships \\nare vital for effective technology transfer. \\nResearch and Development \\nInvesting in research and development (R&D) accelerates the discovery of new climate \\nsolutions. Collaboration between governments, academia, and the private sector can drive \\ninnovation and bring new technologies to market. Supporting R&D initiatives ensures \\ncontinuous progress in addressing climate challenges. \\nChapter 17: Building Climate Resilience \\nResilient Infrastructure \\nClimate-Resilient Design \\nDesigning infrastructure to withstand climate impacts is crucial for resilience. This includes \\nusing materials and construction methods that are durable and adaptable to changing \\nconditions. Resilient infrastructure reduces the risk of damage and ensures the continued \\nprovision of essential services. \\nGreen Infrastructure \\nGreen infrastructure, such as parks, wetlands, and green roofs, enhances urban resilience by \\nmanaging stormwater, reducing heat, and improving air quality. Integrating green \\ninfrastructure into urban planning supports ecosystem services and community well-being. \\nAdaptation Planning \\nAdaptation planning involves assessing climate risks and developing strategies to mitigate \\nthem. This includes conducting vulnerability assessments, implementing risk reduction \\nmeasures, and integrating adaptation into development plans. Adaptive management ensures \\nthat strategies remain effective under changing conditions. \\nCommunity Resilience \\nLocal Climate Action Plans \\nCommunities can develop local climate action plans to address specific risks and \\nopportunities. These plans involve setting targets, implementing projects, and engaging \\nstakeholders. Community-based approaches ensure that actions are relevant and inclusive. \\nEmergency Preparedness \\nPreparing for climate-related emergencies, such as floods, hurricanes, and heatwaves, \\nenhances community resilience. This includes developing early warning systems, conducting \\ndrills, and creating response plans. Building social networks and support systems is also \\nessential for effective emergency response. \\nSocial Equity \\nEnsuring social equity in resilience planning addresses the needs of vulnerable populations. \\nThis includes providing resources, support, and opportunities for marginalized groups. \\nEquitable resilience strategies promote social cohesion and reduce disparities. \\nNature-Based Solutions \\nEcosystem Restoration \\nRestoring degraded ecosystems enhances their ability to provide services such as flood \\nprotection, carbon sequestration, and habitat provision. Ecosystem restoration projects can \\ninvolve reforestation, wetland rehabilitation, and coral reef restoration. Engaging local \\ncommunities in restoration efforts ensures sustainability. \\nSustainable Land Management \\nSustainable land management practices, such as agroforestry, conservation agriculture, and \\nsustainable forestry, support ecosystem health and resilience. These practices improve soil \\nhealth, enhance biodiversity, and reduce greenhouse gas emissions. Integrating sustainable \\nland management into policies and programs is essential for climate resilience. \\nCoastal Protection \\nProtecting and restoring coastal ecosystems, such as mangroves, salt marshes, and seagrasses, \\nreduces the impacts of sea level rise and storm surges. These ecosystems act as natural \\nbarriers, protecting coastal communities and infrastructure. Coastal protection measures \\nshould combine natural and engineered solutions. \\nInnovative Adaptation Strategies \\nClimate-Resilient Agriculture \\nClimate-resilient agriculture involves adopting practices that enhance the ability of farming \\nsystems to withstand climate impacts. This includes diversifying crops, improving soil health, \\nand using water-efficient irrigation techniques. Supporting farmers with training, resources, \\nand technology is crucial for resilience. \\nWater Management \\nEffective water management strategies ensure reliable water supplies under changing climate \\nconditions. This includes enhancing water storage, improving distribution systems, and \\npromoting water conservation. Integrated water resource management supports sustainable \\nand equitable water use. \\nUrban Resilience \\nBuilding urban resilience involves creating cities that can adapt to and recover from climate \\nimpacts. This includes designing resilient infrastructure, enhancing green spaces, and \\npromoting sustainable transportation. Engaging residents in resilience planning fosters \\ncommunity ownership and action. \\nChapter 18: Moving Forward Together \\nCollective Action \\nGlobal Collaboration \\nGlobal collaboration is essential for addressing the interconnected and transboundary nature \\nof climate change. This includes participating in international agreements, sharing knowledge \\nand resources, and supporting climate action in developing countries. Collective action \\nstrengthens global resilience and ensures a more sustainable future. \\nInterdisciplinary Approaches \\nInterdisciplinary approaches integrate diverse perspectives and expertise to address climate \\nchallenges. This includes collaboration between scientists, policymakers, businesses, and \\ncommunities. Interdisciplinary research and solutions are more holistic and effective. \\nCitizen Science \\nCitizen science involves engaging the public in scientific research and data collection. This \\nempowers individuals to contribute to climate knowledge and action. Citizen science projects \\ncan enhance data accuracy, raise awareness, and foster community engagement. \\nHope and Inspiration \\nPositive Narratives \\nPositive narratives highlight the successes and opportunities in climate action. This includes \\nsharing stories of innovative solutions, resilient communities, and environmental stewardship. \\nInspiring narratives motivate individuals and communities to take action. \\nRole Models and Champions \\nRole models and champions in climate action, including activists, scientists, and community \\nleaders, inspire others to get involved. Recognizing and celebrating their contributions raises \\nawareness and encourages broader participation. Building a diverse network of climate \\nchampions strengthens the movement. \\nEmpowerment and Agency \\nEmpowering individuals and communities to take action fosters a sense of agency and \\nresponsibility. Providing education, resources, and support enables people to make \\nmeaningful contributions to climate solutions. Collective empowerment drives systemic \\nchange. \\nVision for the Future \\nSustainable Development Goals \\nThe Sustainable Development Goals (SDGs) provide a comprehensive framework for \\naddressing global challenges, including climate change. Achieving the SDGs requires \\nintegrating climate action with efforts to reduce poverty, improve health, and promote \\nequality. A holistic approach ensures sustainable and inclusive development. \\nResilient and Equitable World \\nA resilient and equitable world is one where all communities can thrive despite climate \\nchallenges. This vision includes healthy ecosystems, sustainable economies, and social \\njustice. Achieving this vision requires commitment, innovation, and collective effort. \\nLegacy for Future Generations \\nOur actions today shape the world for future generations. Ensuring a sustainable and resilient \\nplanet is our responsibility to future generations. By working together, we can create a legacy \\nof environmental stewardship, social equity, and global solidarity. \\nChapter 19: Climate Change and Policy \\nPolicy Development and Implementation \\nNational Climate Policies \\nCountries around the world are developing and implementing national climate policies to \\naddress climate change. These policies set emission reduction targets, promote renewable \\nenergy, and support adaptation measures. Effective policy implementation requires \\ncoordination across government agencies, stakeholder engagement, and regular monitoring \\nand evaluation. \\nPolicy Instruments \\nVarious policy instruments are used to address climate change, including regulations, market-\\nbased mechanisms, and voluntary agreements. Regulations set mandatory standards for \\nemissions and energy efficiency. Market-based mechanisms, such as carbon pricing and \\nemissions trading, create economic incentives for reducing emissions. Voluntary agreements \\nencourage businesses and industries to commit to sustainability goals. \\nMonitoring and Enforcement \\nEnsuring compliance with climate policies requires robust monitoring and enforcement \\nmechanisms. This includes tracking emissions, verifying data, and imposing penalties for \\nnon-compliance. Transparent reporting and accountability are essential for maintaining public \\ntrust and achieving policy objectives. \\nInternational Climate Negotiations \\nConference of the Parties (COP) \\nThe Conference of the Parties (COP) is the supreme decision-making body of the United \\nNations Framework Convention on Climate Change (UNFCCC). COP meetings bring \\ntogether representatives from all signatory countries to negotiate and review progress on \\nclimate agreements. These meetings play a crucial role in advancing global climate action. \\nClimate Finance Commitments \\nDeveloped countries have committed to providing financial support to developing countries \\nto help them mitigate and adapt to climate change. Climate finance is essential for \\nimplementing projects, building capacity, and fostering sustainable development. Ensuring \\nadequate and predictable funding is a key focus of international negotiations. \\nTechnology Transfer and Capacity Building \\nInternational agreements emphasize the importance of technology transfer and capacity \\nbuilding to support climate action in developing countries. This includes sharing climate-\\nfriendly technologies, providing technical assistance, and enhancing institutional capacities. \\nCollaborative efforts enhance global resilience and equity. \\nNational and Local Leadership \\nInnovative Policies and Programs \\nNational and local governments are implementing innovative policies and programs to \\naddress climate change. Examples include renewable energy mandates, green building codes, \\nand sustainable transportation initiatives. Local leadership is crucial for tailoring solutions to \\nspecific contexts and engaging communities in climate action. \\nPublic Participation \\nEngaging the public in climate policy development and implementation enhances \\ntransparency and effectiveness. Public participation ensures that policies reflect diverse \\nperspectives and address community needs. Mechanisms for public input, such as \\nconsultations, hearings, and participatory planning, foster inclusivity and ownership. \\nCross-Sector Collaboration \\nEffective climate action requires collaboration across sectors, including government, \\nbusiness, academia, and civil society. Cross-sector partnerships leverage resources, expertise, \\nand innovation to develop and implement comprehensive climate solutions. Building \\nnetworks and alliances strengthens climate resilience and sustainability. \\nChapter 20: Climate Change and Innovation \\nTechnological Innovation \\nRenewable Energy Innovations \\nContinuous advancements in renewable energy technologies are critical for reducing \\ngreenhouse gas emissions. Innovations in solar power, wind energy, and bioenergy are \\nmaking renewable energy more efficient and cost-competitive. Research and development \\nefforts are focused on improving energy storage, grid integration, and smart technologies. \\nCarbon Sequestration Technologies \\nInnovative carbon sequestration technologies capture and store CO2 emissions from \\nindustrial processes and power plants. These technologies include bioenergy with carbon \\ncapture and storage (BECCS), direct air capture, and mineral carbonation. Scaling up these \\ntechnologies is essential for achieving net-zero emissions. \\nAdvanced Materials \\nDeveloping advanced materials that enhance energy efficiency and reduce emissions is a key \\narea of innovation. Examples include high-performance insulation materials, lightweight \\ncomposites for transportation, and sustainable building materials. These innovations \\ncontribute to energy savings and lower carbon footprints. \\nSocial Innovation \\nBehavioral Change Programs \\nPrograms that encourage behavioral change towards more sustainable lifestyles are vital for \\nreducing emissions and promoting resilience. This includes initiatives that promote energy \\nconservation, sustainable consumption, and waste reduction. Behavioral change programs \\noften use social marketing, education, and incentives to influence actions. \\nCommunity-Based Solutions \\nCommunity-based solutions leverage local knowledge and resources to address climate \\nchallenges. Examples include community-led renewable energy projects, urban gardening, \\nand local conservation efforts. Empowering communities to develop and implement their \\nown solutions fosters ownership and sustainability. \\nInnovative Financing Models \\nNew financing models are emerging to support climate action and sustainable development. \\nExamples include green bonds, impact investing, and crowdfunding. These models mobilize \\nprivate capital for public goods and enable innovative projects to scale. Ensuring financial \\ninclusion and access to capital is crucial for widespread impact. \\nGovernance Innovation \\nAdaptive Governance \\nAdaptive governance involves flexible and responsive decision-making processes that can \\nadjust to changing conditions and new information. This approach is essential for managing \\nthe uncertainties and complexities of climate change. Adaptive governance emphasizes \\nlearning, experimentation, and stakeholder engagement. \\nParticipatory Governance \\nParticipatory governance involves actively engaging citizens and stakeholders in decision-\\nmaking processes. This approach enhances transparency, accountability, and inclusivity. \\nParticipatory governance can take various forms, such as citizen assemblies, participatory \\nbudgeting, and co-management of natural resources. \\nCollaborative Platforms \\nCollaborative platforms facilitate coordination and cooperation among diverse actors working \\non climate action. These platforms provide spaces for sharing knowledge, building \\npartnerships, and developing joint initiatives. Digital tools and online networks are \\nincreasingly used to support collaborative governance. \\nChapter 21: Climate Change and Cultural Shifts \\nChanging Cultural Narratives \\nClimate Stories \\nStorytelling is a powerful tool for changing cultural narratives around climate change. \\nPersonal stories, documentaries, and artistic expressions can humanize climate impacts and \\ninspire action. Climate stories highlight the experiences of individuals and communities, \\nfostering empathy and connection. \\nCultural Movements \\nCultural movements play a crucial role in mobilizing public support for climate action. \\nMovements such as Fridays for Future, Extinction Rebellion, and the Sunrise Movement have \\nbrought climate issues to the forefront of public discourse. These movements use creative \\ntactics, direct action, and grassroots organizing to drive change. \\nMedia and Arts \\nThe media and arts sectors have significant influence on public perceptions and attitudes \\ntowards climate change. Films, literature, music, and visual arts can raise awareness, provoke \\nthought, and inspire action. Collaborations between artists, scientists, and activists are \\ncreating impactful works that engage and educate diverse audiences. \\nEducational Initiatives \\nClimate Education in Schools \\nIntegrating climate education into school curricula is essential for preparing future \\ngenerations to address climate challenges. Climate education should cover the science of \\nclimate change, its impacts, and solutions. Experiential learning, such as outdoor education \\nand hands-on projects, enhances understanding and engagement. \\nPublic Awareness Campaigns \\nPublic awareness campaigns aim to inform and educate the general public about climate \\nchange and encourage sustainable behaviors. Effective campaigns use clear messaging, \\nrelatable examples, and actionable tips. Collaboration with media, influencers, and \\ncommunity organizations enhances reach and impact. \\nLifelong Learning \\nLifelong learning initiatives provide opportunities for people of all ages to learn about \\nclimate change and sustainability. This includes adult education programs, online courses, \\nworkshops, and community events. Lifelong learning fosters a culture of continuous \\nimprovement and adaptability. \\nIntergenerational Dialogue \\nYouth Engagement \\nEngaging youth in climate action is critical for long-term sustainability. Youth bring energy, \\ncreativity, and a sense of urgency to climate movements. Providing platforms for youth \\nvoices, supporting youth-led initiatives, and involving young people in decision-making \\nprocesses are essential for meaningful engagement. \\nIntergenerational Collaboration \\nIntergenerational collaboration involves working together across age groups to address \\nclimate challenges. This includes mentorship programs, intergenerational projects, and \\ndialogue forums. Sharing knowledge and experiences between generations enhances \\ncollective capacity and resilience. \\nLegacy and Responsibility \\nRecognizing the responsibility to future generations is a fundamental aspect of climate action. \\nThis involves making decisions that protect the environment and ensure a sustainable future. \\nPromoting a sense of stewardship and legacy encourages long-term thinking and \\ncommitment. \\nBy continuing to innovate, collaborate, and integrate diverse perspectives, we can address the \\ncomplex and urgent challenge of climate change. Our collective efforts will determine the \\nhealth and sustainability of our planet for generations to come. Together, we can create a \\nresilient, equitable, and thriving world. \\n \\n \\n'}, page_content='Understanding Climate Change \\nChapter 1: Introduction to Climate Change \\nClimate change refers to significant, long-term changes in the global climate. The term \\n\"global climate\" encompasses the planet\\'s overall weather patterns, including temperature, \\nprecipitation, and wind patterns, over an extended period. Over the past century, human \\nactivities, particularly the burning of fossil fuels and ')"
      ]
     },
     "execution_count": 12,
     "metadata": {},
     "output_type": "execute_result"
    }
   ],
   "source": [
    "docs[0]"
   ]
  },
  {
   "cell_type": "markdown",
   "metadata": {},
   "source": [
    "### Create vector store and retriever"
   ]
  },
  {
   "cell_type": "code",
   "execution_count": 6,
   "metadata": {},
   "outputs": [],
   "source": [
    "embeddings = OpenAIEmbeddings()\n",
    "vectorstore = FAISS.from_documents(docs, embeddings)\n",
    "chunks_query_retriever = vectorstore.as_retriever(search_kwargs={\"k\": 1})"
   ]
  },
  {
   "cell_type": "markdown",
   "metadata": {},
   "source": [
    "### Function to draw the k<sup>th</sup> chunk (in the original order) from the vector store \n"
   ]
  },
  {
   "cell_type": "code",
   "execution_count": 7,
   "metadata": {},
   "outputs": [],
   "source": [
    "def get_chunk_by_index(vectorstore, target_index: int) -> Document:\n",
    "    # This is a simplified version. In practice, you might need a more efficient method\n",
    "    # to retrieve chunks by index, depending on your vectorstore implementation.\n",
    "    all_docs = vectorstore.similarity_search(\"\", k=vectorstore.index.ntotal)\n",
    "    for doc in all_docs:\n",
    "        if doc.metadata.get('index') == target_index:\n",
    "            return doc\n",
    "    return None"
   ]
  },
  {
   "cell_type": "markdown",
   "metadata": {},
   "source": [
    "### Check the function\n",
    "- 타겟 인덱스와 같을 때 해당 인덱스의 doc을 반환하는 방식 "
   ]
  },
  {
   "cell_type": "code",
   "execution_count": 8,
   "metadata": {},
   "outputs": [
    {
     "name": "stdout",
     "output_type": "stream",
     "text": [
      "Understanding Climate Change \n",
      "Chapter 1: Introduction to Climate Change \n",
      "Climate change refers to significant, long-term changes in the global climate. The term \n",
      "\"global climate\" encompasses the planet's overall weather patterns, including temperature, \n",
      "precipitation, and wind patterns, over an extended period. Over the past century, human \n",
      "activities, particularly the burning of fossil fuels and \n"
     ]
    }
   ],
   "source": [
    "chunk = get_chunk_by_index(vectorstore, 0)\n",
    "print(chunk.page_content)"
   ]
  },
  {
   "cell_type": "markdown",
   "metadata": {},
   "source": [
    "### Function that retrieves from the vector stroe based on semantic similarity and then pads each retrieved chunk with its num_neighbors before and after, taking into account the chunk overlap to construct a meaningful wide window arround it"
   ]
  },
  {
   "cell_type": "code",
   "execution_count": 13,
   "metadata": {},
   "outputs": [],
   "source": [
    "def retrieve_with_context_overlap(vectorstore, retriever, query: str, num_neighbors: int = 1, chunk_size: int = 200, chunk_overlap: int = 20) -> List[str]:\n",
    "    \"\"\"\n",
    "Rvectorstore: 청크 데이터를 저장한 벡터 스토어 객체입니다. get_chunk_by_index 함수를 통해 청크를 인덱스별로 검색할 수 있어야 합니다.\n",
    "retriever: 검색 객체로, 쿼리를 바탕으로 관련 문서 또는 청크를 검색하는 데 사용됩니다.\n",
    "query: 검색할 쿼리로, 이를 통해 관련 청크를 가져옵니다.\n",
    "num_neighbors: 각 관련 청크를 중심으로 몇 개의 인접 청크를 추가로 가져올지를 설정합니다. 기본값은 1이며, 앞과 뒤의 1개씩 청크를 가져옵니다.\n",
    "chunk_size: 원래 텍스트를 나눈 각 청크의 크기입니다. 기본값은 200으로 설정되어 있습니다.\n",
    "chunk_overlap: 청크 간 겹치는 길이입니다. 기본값은 20으로 설정되어 있습니다.\n",
    "    \"\"\"\n",
    "    relevant_chunks = retriever.get_relevant_documents(query)\n",
    "    result_sequences = []\n",
    "\n",
    "    for chunk in relevant_chunks:\n",
    "        current_index = chunk.metadata.get('index')\n",
    "        if current_index is None:\n",
    "            continue\n",
    "\n",
    "        # 시작 인덱스부터 끝 인덱스 설정 -> 인접 인덱스까지 \n",
    "        # 앞 뒤 인덱스 뽑아옴 \n",
    "        start_index = max(0, current_index - num_neighbors) # -1 \n",
    "        end_index = current_index + num_neighbors + 1  # +1 because range is exclusive at the end\n",
    "\n",
    "        # 모든 범위에 해당하는 문서를 반환하여 리스트에 저장 \n",
    "        neighbor_chunks = []\n",
    "        for i in range(start_index, end_index):\n",
    "            neighbor_chunk = get_chunk_by_index(vectorstore, i)\n",
    "            if neighbor_chunk:\n",
    "                neighbor_chunks.append(neighbor_chunk)\n",
    "\n",
    "        # 인덱스를 기준으로 정렬 \n",
    "        neighbor_chunks.sort(key=lambda x: x.metadata.get('index', 0))\n",
    "\n",
    "        # 첫번째 청크의 문서 저장 \n",
    "        concatenated_text = neighbor_chunks[0].page_content\n",
    "        # 이후부터는 중복 부분을 삭제하면서 인접부분을 이어붙이기 \n",
    "        for i in range(1, len(neighbor_chunks)):\n",
    "            current_chunk = neighbor_chunks[i].page_content\n",
    "            overlap_start = max(0, len(concatenated_text) - chunk_overlap)\n",
    "            concatenated_text = concatenated_text[:overlap_start] + current_chunk\n",
    "\n",
    "        result_sequences.append(concatenated_text)\n",
    "\n",
    "    return result_sequences"
   ]
  },
  {
   "cell_type": "markdown",
   "metadata": {},
   "source": [
    "### Comparing regular retrival and retrival with context window"
   ]
  },
  {
   "cell_type": "code",
   "execution_count": 14,
   "metadata": {},
   "outputs": [
    {
     "name": "stderr",
     "output_type": "stream",
     "text": [
      "/var/folders/gl/6qlsk6x94klgs54qzsg9q1jm0000gn/T/ipykernel_6013/4249643572.py:3: LangChainDeprecationWarning: The method `BaseRetriever.get_relevant_documents` was deprecated in langchain-core 0.1.46 and will be removed in 1.0. Use :meth:`~invoke` instead.\n",
      "  baseline_chunk = chunks_query_retriever.get_relevant_documents(query\n"
     ]
    },
    {
     "name": "stdout",
     "output_type": "stream",
     "text": [
      "Baseline Chunk:\n",
      "ntribute \n",
      "to climate change. These forests are vital for regulating the Earth's climate and supporting \n",
      "indigenous communities and wildlife. \n",
      "Agriculture \n",
      "Agriculture contributes to climate change through methane emissions from livestock, rice \n",
      "paddies, and the use of synthetic fertilizers. Methane is a potent greenhouse gas with a much \n",
      "higher heat-trapping capability than CO2, albeit in smaller \n",
      "\n",
      "Enriched Chunks:\n",
      "n. \n",
      "Boreal Forests \n",
      "Boreal forests, found in the northern regions of North America, Europe, and Asia, also play a \n",
      "crucial role in sequestering carbon. Logging and land-use changes in these regions contribute \n",
      "to climate change. These forests are vital for regulating the Earth's climate and supporting \n",
      "indigenous communities and wildlife. \n",
      "Agriculture \n",
      "Agriculture contributes to climate change through methane emissions from livestock, rice \n",
      "paddies, and the use of synthetic fertilizers. Methane is a potent greenhouse gas with a much \n",
      "higher heat-trapping capability than CO2, albeit in smaller quantities. \n",
      "Livestock Emissions \n",
      "Ruminant animals, such as cows and sheep, produce methane during digestion. Manure \n",
      "management practices also contribute to methane and nitrous oxide emissions. Innov\n"
     ]
    }
   ],
   "source": [
    "# Baseline approach\n",
    "query = \"Explain the role of deforestation and fossil fuels in climate change.\"\n",
    "baseline_chunk = chunks_query_retriever.get_relevant_documents(query\n",
    "    ,\n",
    "    k=1\n",
    ")\n",
    "# Focused context enrichment approach\n",
    "enriched_chunks = retrieve_with_context_overlap(\n",
    "    vectorstore,\n",
    "    chunks_query_retriever,\n",
    "    query,\n",
    "    num_neighbors=1,\n",
    "    chunk_size=400,\n",
    "    chunk_overlap=200\n",
    ")\n",
    "\n",
    "print(\"Baseline Chunk:\")\n",
    "print(baseline_chunk[0].page_content)\n",
    "print(\"\\nEnriched Chunks:\")\n",
    "print(enriched_chunks[0])"
   ]
  },
  {
   "cell_type": "markdown",
   "metadata": {},
   "source": [
    "### An example that showcases the superiority of additional context window"
   ]
  },
  {
   "cell_type": "code",
   "execution_count": 15,
   "metadata": {},
   "outputs": [
    {
     "name": "stdout",
     "output_type": "stream",
     "text": [
      "Regular retrieval:\n",
      "\n",
      "Context 1:\n",
      "\n",
      "Deep Learning, a subset of machine learning using neural networks with many layers, began to show promising results in the early 2010s. The breakthrough came in 2012 when a deep neural network significantly outperformed other machine learning method\n",
      "\n",
      "\n",
      "\n",
      "Retrieval with context enrichment:\n",
      "\n",
      "Context 1:\n",
      "ng multi-layer networks during this time.\n",
      "\n",
      "The late 1990s and 2000s marked the rise of machine learning approaches. Support Vector Machines (SVMs) and Random Forests became popular for various classification and regression tasks.\n",
      "\n",
      "Deep Learning, a subset of machine learning using neural networks with many layers, began to show promising results in the early 2010s. The breakthrough came in 2012 when a deep neural network significantly outperformed other machine learning methods in the ImageNet competition.\n",
      "\n",
      "Since then, deep learning has revolutionized many AI applications, including image and speech recognition, natural language processing, and game playing. In 2016, Google's AlphaGo defeated a world c\n",
      "\n",
      "\n"
     ]
    }
   ],
   "source": [
    "\n",
    "document_content = \"\"\"\n",
    "Artificial Intelligence (AI) has a rich history dating back to the mid-20th century. The term \"Artificial Intelligence\" was coined in 1956 at the Dartmouth Conference, marking the field's official beginning.\n",
    "\n",
    "In the 1950s and 1960s, AI research focused on symbolic methods and problem-solving. The Logic Theorist, created in 1955 by Allen Newell and Herbert A. Simon, is often considered the first AI program.\n",
    "\n",
    "The 1960s saw the development of expert systems, which used predefined rules to solve complex problems. DENDRAL, created in 1965, was one of the first expert systems, designed to analyze chemical compounds.\n",
    "\n",
    "However, the 1970s brought the first \"AI Winter,\" a period of reduced funding and interest in AI research, largely due to overpromised capabilities and underdelivered results.\n",
    "\n",
    "The 1980s saw a resurgence with the popularization of expert systems in corporations. The Japanese government's Fifth Generation Computer Project also spurred increased investment in AI research globally.\n",
    "\n",
    "Neural networks gained prominence in the 1980s and 1990s. The backpropagation algorithm, although discovered earlier, became widely used for training multi-layer networks during this time.\n",
    "\n",
    "The late 1990s and 2000s marked the rise of machine learning approaches. Support Vector Machines (SVMs) and Random Forests became popular for various classification and regression tasks.\n",
    "\n",
    "Deep Learning, a subset of machine learning using neural networks with many layers, began to show promising results in the early 2010s. The breakthrough came in 2012 when a deep neural network significantly outperformed other machine learning methods in the ImageNet competition.\n",
    "\n",
    "Since then, deep learning has revolutionized many AI applications, including image and speech recognition, natural language processing, and game playing. In 2016, Google's AlphaGo defeated a world champion Go player, a landmark achievement in AI.\n",
    "\n",
    "The current era of AI is characterized by the integration of deep learning with other AI techniques, the development of more efficient and powerful hardware, and the ethical considerations surrounding AI deployment.\n",
    "\n",
    "Transformers, introduced in 2017, have become a dominant architecture in natural language processing, enabling models like GPT (Generative Pre-trained Transformer) to generate human-like text.\n",
    "\n",
    "As AI continues to evolve, new challenges and opportunities arise. Explainable AI, robust and fair machine learning, and artificial general intelligence (AGI) are among the key areas of current and future research in the field.\n",
    "\"\"\"\n",
    "\n",
    "chunks_size = 250\n",
    "chunk_overlap = 20\n",
    "document_chunks = split_text_to_chunks_with_indices(document_content, chunks_size, chunk_overlap)\n",
    "document_vectorstore = FAISS.from_documents(document_chunks, embeddings)\n",
    "document_retriever = document_vectorstore.as_retriever(search_kwargs={\"k\": 1})\n",
    "\n",
    "query = \"When did deep learning become prominent in AI?\"\n",
    "context = document_retriever.get_relevant_documents(query)\n",
    "context_pages_content = [doc.page_content for doc in context]\n",
    "\n",
    "print(\"Regular retrieval:\\n\")\n",
    "show_context(context_pages_content)\n",
    "\n",
    "sequences = retrieve_with_context_overlap(document_vectorstore, document_retriever, query, num_neighbors=1)\n",
    "print(\"\\nRetrieval with context enrichment:\\n\")\n",
    "show_context(sequences)"
   ]
  },
  {
   "cell_type": "markdown",
   "metadata": {},
   "source": [
    "### 내 생각\n",
    "- retireve 된 문서들과 인접해 있는 앞 뒤 문서들을 뽑아서 반환하는 형태의 코드 "
   ]
  },
  {
   "cell_type": "markdown",
   "metadata": {},
   "source": []
  }
 ],
 "metadata": {
  "kernelspec": {
   "display_name": "kmy_env",
   "language": "python",
   "name": "python3"
  },
  "language_info": {
   "codemirror_mode": {
    "name": "ipython",
    "version": 3
   },
   "file_extension": ".py",
   "mimetype": "text/x-python",
   "name": "python",
   "nbconvert_exporter": "python",
   "pygments_lexer": "ipython3",
   "version": "3.12.7"
  }
 },
 "nbformat": 4,
 "nbformat_minor": 2
}
