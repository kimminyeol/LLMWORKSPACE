{
 "cells": [
  {
   "cell_type": "markdown",
   "metadata": {},
   "source": [
    "# 문서 검색에서의 문맥 기반 압축 (Contextual Compression in Document Retrieval)\n",
    "\n",
    "## 개요\n",
    "이 코드는 LangChain과 OpenAI의 언어 모델을 이용해 문서 검색 시스템에서 **문맥 기반 압축**을 구현하는 방법을 설명한다.  \n",
    "이 기술은 쿼리의 문맥에 맞춰 문서에서 **가장 관련성 높은 부분만을 추출**해 검색 정확도와 응답의 간결성을 높이는 것을 목표로 한다.\n",
    "\n",
    "기존 검색 시스템은 **전체 청크**나 **문서 전체**를 반환하는 경우가 많아 불필요한 정보가 포함되기 쉽다.  \n",
    "**문맥 기반 압축**은 관련성 높은 정보만을 추출하여 집중적이고 효율적인 정보 검색을 가능하게 한다.\n",
    "\n",
    "\n",
    "## 주요 구성 요소\n",
    "- **PDF 문서 벡터 스토어 생성**  \n",
    "- **기본 검색기 (Retriever) 설정**  \n",
    "- **LLM 기반 문맥 압축기** (`LLMChainExtractor`)  \n",
    "- **압축된 검색기 (`ContextualCompressionRetriever`) 생성**  \n",
    "- **질문-응답 체인 (`RetrievalQA`) 통합**  \n",
    "\n",
    "\n",
    "## 방법론\n",
    "\n",
    "1. 문서 전처리 및 벡터 스토어 생성\n",
    "- PDF 문서는 `encode_pdf` 함수를 통해 벡터 스토어로 인코딩한다.\n",
    "\n",
    "2. 검색기 및 압축기 설정\n",
    "- 기본 검색기는 벡터 스토어 기반으로 생성한다.  \n",
    "- **GPT-4**를 사용해 LLM 기반 문맥 압축기 (`LLMChainExtractor`)를 초기화한다.\n",
    "\n",
    "3. 문맥 기반 압축 검색기 생성\n",
    "- 기본 검색기와 압축기를 결합해 **`ContextualCompressionRetriever`**를 생성한다.  \n",
    "- 이 검색기는 다음 단계를 수행한다:  \n",
    "  1. **기본 검색기**로 문서를 검색한다.  \n",
    "  2. 검색한 문서에 **압축기**를 적용해 **가장 관련성 높은 정보만**을 추출한다.\n",
    "\n",
    "4. 질문-응답 체인 생성\n",
    "- 압축된 검색기를 통합한 **`RetrievalQA` 체인**을 구성한다.  \n",
    "- 압축된 정보만을 사용해 LLM이 최종 답변을 생성한다.\n",
    "\n",
    "## 장점\n",
    "- **관련성 향상**: 쿼리에 맞는 가장 관련성 높은 정보만 반환한다.  \n",
    "- **효율성 강화**: 압축된 청크만을 사용해 LLM이 처리해야 할 데이터 양을 줄인다.  \n",
    "- **문맥 이해도 개선**: LLM 기반 압축기가 문맥을 이해해 더 정확한 정보를 추출한다.  \n",
    "- **유연성**: 다양한 문서 유형과 쿼리에 적응할 수 있다.  \n"
   ]
  },
  {
   "cell_type": "markdown",
   "metadata": {},
   "source": [
    "<div style=\"text-align: center;\">\n",
    "\n",
    "<img src=\"../images/contextual_compression.svg\" alt=\"contextual compression\" style=\"width:70%; height:auto;\">\n",
    "</div>"
   ]
  },
  {
   "cell_type": "markdown",
   "metadata": {},
   "source": [
    "### Import libraries"
   ]
  },
  {
   "cell_type": "code",
   "execution_count": 2,
   "metadata": {},
   "outputs": [],
   "source": [
    "import os\n",
    "import sys\n",
    "from dotenv import load_dotenv\n",
    "from langchain.retrievers.document_compressors import LLMChainExtractor\n",
    "from langchain.retrievers import ContextualCompressionRetriever\n",
    "from langchain.chains import RetrievalQA\n",
    "\n",
    "\n",
    "sys.path.append(os.path.abspath(os.path.join(os.getcwd(), '..'))) # Add the parent directory to the path sicnce we work with notebooks\n",
    "from helper_functions import *\n",
    "from evaluation.evalute_rag import *\n",
    "\n",
    "# Load environment variables from a .env file\n",
    "load_dotenv()\n",
    "\n",
    "# Set the OpenAI API key environment variable\n",
    "os.environ[\"OPENAI_API_KEY\"] = os.getenv('OPENAI_API_KEY')"
   ]
  },
  {
   "cell_type": "markdown",
   "metadata": {},
   "source": [
    "### Define document's path"
   ]
  },
  {
   "cell_type": "code",
   "execution_count": 3,
   "metadata": {},
   "outputs": [],
   "source": [
    "path = \"../data/Understanding_Climate_Change.pdf\""
   ]
  },
  {
   "cell_type": "markdown",
   "metadata": {},
   "source": [
    "### Create a vector store"
   ]
  },
  {
   "cell_type": "code",
   "execution_count": 4,
   "metadata": {},
   "outputs": [],
   "source": [
    "vector_store = encode_pdf(path)"
   ]
  },
  {
   "cell_type": "markdown",
   "metadata": {},
   "source": [
    "### Create a retriever + contexual compressor + combine them "
   ]
  },
  {
   "cell_type": "code",
   "execution_count": 5,
   "metadata": {},
   "outputs": [],
   "source": [
    "# Create a retriever\n",
    "retriever = vector_store.as_retriever()\n",
    "\n",
    "\n",
    "#Create a contextual compressor\n",
    "llm = ChatOpenAI(temperature=0, model_name=\"gpt-4o-mini\", max_tokens=4000)\n",
    "compressor = LLMChainExtractor.from_llm(llm)\n",
    "\n",
    "#Combine the retriever with the compressor\n",
    "compression_retriever = ContextualCompressionRetriever(\n",
    "    base_compressor=compressor,\n",
    "    base_retriever=retriever\n",
    ")\n",
    "\n",
    "# Create a QA chain with the compressed retriever\n",
    "qa_chain = RetrievalQA.from_chain_type(\n",
    "    llm=llm,\n",
    "    retriever=compression_retriever,\n",
    "    return_source_documents=True\n",
    ")"
   ]
  },
  {
   "cell_type": "markdown",
   "metadata": {},
   "source": [
    "### Example usage"
   ]
  },
  {
   "cell_type": "code",
   "execution_count": 6,
   "metadata": {},
   "outputs": [
    {
     "name": "stdout",
     "output_type": "stream",
     "text": [
      "The main topic of the document is climate change, focusing on its impacts on human health, the importance of international collaboration and policy development, and the ethical dimensions of climate justice. It discusses various aspects such as health impacts, global agreements like the Paris Agreement, national climate policies, and the need for sustainable and equitable solutions for future generations.\n",
      "Source documents: [Document(metadata={'source': '../data/Understanding_Climate_Change.pdf', 'page': 14}, page_content='Chapter 10: Climate Change and Human Health  \\nHealth Impacts  \\nHeat -Related Illnesses  \\nRising temperatures and more frequent heatwaves increase the risk of heat -related illnesses, such as heat exhaustion and heatstroke. Vulnerable populations, including the elderly, children, and outdoor workers, are particularly at risk. Heat mitigation str ategies, such as cooling centers and public health campaigns, are essential.  \\nVector -Borne Diseases  \\nClimate change affects the distribution and prevalence of vector -borne diseases, such as malaria, dengue fever, and Lyme disease. Warmer temperatures and changing precipitation patterns can expand the habitats of disease -carrying insects, increasing the ri sk of outbreaks.  \\nRespiratory and Cardiovascular Diseases'), Document(metadata={'source': '../data/Understanding_Climate_Change.pdf', 'page': 9}, page_content='Chapter 6: Global and Local Climate Action  \\nInternational Collaboration  \\nUnited Nations Framework Convention on Climate Change (UNFCCC)  \\nThe UNFCCC is an international treaty aimed at addressing climate change. It provides a \\nframework for negotiating specific protocols and agreements, such as the Kyoto Protocol and \\nthe Paris Agreement. Global cooperation under the UNFCCC is crucial for coordinated \\nclimate action.  \\nParis Agreement  \\nThe Paris Agreement, adopted in 2015, aims to limit global warming to well below 2 degrees \\nCelsius above pre-industrial levels, with efforts to limit the increase to 1.5 degrees Celsius. \\nCountries submit nationally determined contributions (NDCs) outlining their climate action \\nplans and targets.  \\nNational Strategies  \\nCarbon Pricing  \\nCarbon pricing mechanisms, such as carbon taxes and cap-and-trade systems, incentivize \\nemission reductions by assigning a cost to carbon emissions. These policies encourage'), Document(metadata={'source': '../data/Understanding_Climate_Change.pdf', 'page': 27}, page_content='Legacy for Future Generations  \\nOur actions today shape the world for future generations. Ensuring a sustainable and resilient \\nplanet is our responsibility to future generations. By working together, we can create a legacy \\nof environmental stewardship, social equity, and global solidarity.  \\nChapter 19: Climate Change and Policy  \\nPolicy Development and Implementation  \\nNational Climate Policies  \\nCountries around the world are developing and implementing national climate policies to \\naddress climate change. These policies set emission reduction targets, promote renewable \\nenergy, and support adaptation measures. Effective policy implementation requires'), Document(metadata={'source': '../data/Understanding_Climate_Change.pdf', 'page': 18}, page_content='This vision includes a healthy planet, thriving ecosystems, and equitable societies. Working together towards this vision creates a sense of purpose and motivation . By embracing these principles and taking concerted action, we can address the urgent challenge of climate change and build a sustainable, resilient, and equitable world for all. The path forward requires courage, commitment, and collaboration, but the rewa rds are immense—a thriving planet and a prosperous future for generations to come.  \\nChapter 13: Climate Change and Social Justice  \\nClimate Justice  \\nUnderstanding Climate Justice  \\nClimate justice emphasizes the ethical dimensions of climate change, recognizing that its impacts are not evenly distributed. Vulnerable populations, including low -income communities, indigenous peoples, and marginalized groups, often face the greatest ris ks while contributing the least to greenhouse gas emissions. Climate justice advocates for')]\n"
     ]
    }
   ],
   "source": [
    "query = \"What is the main topic of the document?\"\n",
    "result = qa_chain.invoke({\"query\": query})\n",
    "print(result[\"result\"])\n",
    "print(\"Source documents:\", result[\"source_documents\"])"
   ]
  },
  {
   "cell_type": "markdown",
   "metadata": {},
   "source": [
    "## 예시"
   ]
  },
  {
   "cell_type": "code",
   "execution_count": 8,
   "metadata": {},
   "outputs": [
    {
     "name": "stderr",
     "output_type": "stream",
     "text": [
      "/var/folders/gl/6qlsk6x94klgs54qzsg9q1jm0000gn/T/ipykernel_3302/1143730304.py:5: LangChainDeprecationWarning: The method `BaseRetriever.get_relevant_documents` was deprecated in langchain-core 0.1.46 and will be removed in 1.0. Use :meth:`~invoke` instead.\n",
      "  retrieved_docs = retriever.get_relevant_documents(query)\n"
     ]
    },
    {
     "name": "stdout",
     "output_type": "stream",
     "text": [
      "Retrieved Documents:\n",
      "Document 1:\n",
      " goals. Policies should promote synergies between biodiversity conservation and climate \n",
      "action.  \n",
      "Chapter 10: Climate Change and Human Health  \n",
      "Health Impacts  \n",
      "Heat -Related Illnesses  \n",
      "Rising temperatures and more frequent heatwaves increase the risk of heat -related illnesses, \n",
      "such as heat exhaustion and heatstroke. Vulnerable populations, including the elderly, \n",
      "children, and outdoor workers, are particularly at risk. Heat mitigation str ategies, such as \n",
      "cooling centers and public health campaigns, are essential.  \n",
      "Vector -Borne Diseases  \n",
      "Climate change affects the distribution and prevalence of vector -borne diseases, such as \n",
      "malaria, dengue fever, and Lyme disease. Warmer temperatures and changing precipitation \n",
      "patterns can expand the habitats of disease -carrying insects, increasing the ri sk of outbreaks. \n",
      "Integrated pest management and disease surveillance are critical for prevention and control.  \n",
      "Respiratory and Cardiovascular Diseases\n",
      "================================================================================\n",
      "Document 2:\n",
      " Chapter 6: Global and Local Climate Action  \n",
      "International Collaboration  \n",
      "United Nations Framework Convention on Climate Change (UNFCCC)  \n",
      "The UNFCCC is an international treaty aimed at addressing climate change. It provides a \n",
      "framework for negotiating specific protocols and agreements, such as the Kyoto Protocol and \n",
      "the Paris Agreement. Global cooperation under the UNFCCC is crucial for coor dinated \n",
      "climate action.  \n",
      "Paris Agreement  \n",
      "The Paris Agreement, adopted in 2015, aims to limit global warming to well below 2 degrees \n",
      "Celsius above pre -industrial levels, with efforts to limit the increase to 1.5 degrees Celsius. \n",
      "Countries submit nationally determined contributions (NDCs) outlining  their climate action \n",
      "plans and targets.  \n",
      "National Strategies  \n",
      "Carbon Pricing  \n",
      "Carbon pricing mechanisms, such as carbon taxes and cap -and-trade systems, incentivize \n",
      "emission reductions by assigning a cost to carbon emissions. These policies encourage\n",
      "================================================================================\n",
      "Document 3:\n",
      " Legacy for Future Generations  \n",
      "Our actions today shape the world for future generations. Ensuring a sustainable and resilient \n",
      "planet is our responsibility to future generations. By working together, we can create a legacy \n",
      "of environmental stewardship, social equity, and global solidarit y. \n",
      "Chapter 19: Climate Change and Policy  \n",
      "Policy Development and Implementation  \n",
      "National Climate Policies  \n",
      "Countries around the world are developing and implementing national climate policies to \n",
      "address climate change. These policies set emission reduction targets, promote renewable \n",
      "energy, and support adaptation measures. Effective policy implementation requir es\n",
      "================================================================================\n",
      "Document 4:\n",
      " This vision includes a healthy planet, thriving ecosystems, and equitable societies. Working \n",
      "together towards this vision creates a sense of purpose and motivation . \n",
      "By embracing these principles and taking concerted action, we can address the urgent \n",
      "challenge of climate change and build a sustainable, resilient, and equitable world for all. The \n",
      "path forward requires courage, commitment, and collaboration, but the rewa rds are \n",
      "immense—a thriving planet and a prosperous future for generations to come.  \n",
      "Chapter 13: Climate Change and Social Justice  \n",
      "Climate Justice  \n",
      "Understanding Climate Justice  \n",
      "Climate justice emphasizes the ethical dimensions of climate change, recognizing that its \n",
      "impacts are not evenly distributed. Vulnerable populations, including low -income \n",
      "communities, indigenous peoples, and marginalized groups, often face the greatest ris ks \n",
      "while contributing the least to greenhouse gas emissions. Climate justice advocates for\n",
      "================================================================================\n"
     ]
    }
   ],
   "source": [
    "# 기본 검색기로 검색된 문서에서 압축기만을 직접 사용하는 코드 예제\n",
    "\n",
    "# 먼저, 쿼리를 통해 기본 검색기로부터 문서 검색\n",
    "query = \"What is the main topic of the document?\"\n",
    "retrieved_docs = retriever.get_relevant_documents(query)\n",
    "\n",
    "# 검색된 문서 목록 출력\n",
    "print(\"Retrieved Documents:\")\n",
    "for i, doc in enumerate(retrieved_docs):\n",
    "    print(f\"Document {i + 1}:\\n\", doc.page_content)\n",
    "    print(\"=\" * 80)"
   ]
  },
  {
   "cell_type": "code",
   "execution_count": 10,
   "metadata": {},
   "outputs": [
    {
     "name": "stdout",
     "output_type": "stream",
     "text": [
      "\n",
      "Compressed Documents:\n",
      "Compressed Document 1:\n",
      " Chapter 10: Climate Change and Human Health  \n",
      "Health Impacts  \n",
      "Heat -Related Illnesses  \n",
      "Rising temperatures and more frequent heatwaves increase the risk of heat -related illnesses, such as heat exhaustion and heatstroke. Vulnerable populations, including the elderly, children, and outdoor workers, are particularly at risk. Heat mitigation str ategies, such as cooling centers and public health campaigns, are essential.  \n",
      "Vector -Borne Diseases  \n",
      "Climate change affects the distribution and prevalence of vector -borne diseases, such as malaria, dengue fever, and Lyme disease. Warmer temperatures and changing precipitation patterns can expand the habitats of disease -carrying insects, increasing the ri sk of outbreaks.  \n",
      "Respiratory and Cardiovascular Diseases\n",
      "================================================================================\n",
      "Compressed Document 2:\n",
      " Chapter 6: Global and Local Climate Action  \n",
      "International Collaboration  \n",
      "United Nations Framework Convention on Climate Change (UNFCCC)  \n",
      "The UNFCCC is an international treaty aimed at addressing climate change. It provides a \n",
      "framework for negotiating specific protocols and agreements, such as the Kyoto Protocol and \n",
      "the Paris Agreement. Global cooperation under the UNFCCC is crucial for coordinated \n",
      "climate action.  \n",
      "Paris Agreement  \n",
      "The Paris Agreement, adopted in 2015, aims to limit global warming to well below 2 degrees \n",
      "Celsius above pre-industrial levels, with efforts to limit the increase to 1.5 degrees Celsius. \n",
      "Countries submit nationally determined contributions (NDCs) outlining their climate action \n",
      "plans and targets.  \n",
      "National Strategies  \n",
      "Carbon Pricing  \n",
      "Carbon pricing mechanisms, such as carbon taxes and cap-and-trade systems, incentivize \n",
      "emission reductions by assigning a cost to carbon emissions. These policies encourage\n",
      "================================================================================\n",
      "Compressed Document 3:\n",
      " Legacy for Future Generations  \n",
      "Our actions today shape the world for future generations. Ensuring a sustainable and resilient \n",
      "planet is our responsibility to future generations. By working together, we can create a legacy \n",
      "of environmental stewardship, social equity, and global solidarity.  \n",
      "Chapter 19: Climate Change and Policy  \n",
      "Policy Development and Implementation  \n",
      "National Climate Policies  \n",
      "Countries around the world are developing and implementing national climate policies to \n",
      "address climate change. These policies set emission reduction targets, promote renewable \n",
      "energy, and support adaptation measures. Effective policy implementation requires\n",
      "================================================================================\n",
      "Compressed Document 4:\n",
      " This vision includes a healthy planet, thriving ecosystems, and equitable societies. Working together towards this vision creates a sense of purpose and motivation . By embracing these principles and taking concerted action, we can address the urgent challenge of climate change and build a sustainable, resilient, and equitable world for all. The path forward requires courage, commitment, and collaboration, but the rewa rds are immense—a thriving planet and a prosperous future for generations to come.  \n",
      "Chapter 13: Climate Change and Social Justice  \n",
      "Climate Justice  \n",
      "Understanding Climate Justice  \n",
      "Climate justice emphasizes the ethical dimensions of climate change, recognizing that its impacts are not evenly distributed. Vulnerable populations, including low -income communities, indigenous peoples, and marginalized groups, often face the greatest ris ks while contributing the least to greenhouse gas emissions. Climate justice advocates for\n",
      "================================================================================\n"
     ]
    }
   ],
   "source": [
    "# 압축기 적용: 검색된 문서들에서 가장 관련성 높은 부분만 추출\n",
    "compressed_docs = compressor.compress_documents(\n",
    "    documents=retrieved_docs,\n",
    "    query=query\n",
    ")\n",
    "\n",
    "# 압축된 결과 출력\n",
    "print(\"\\nCompressed Documents:\")\n",
    "for i, compressed_doc in enumerate(compressed_docs):\n",
    "    print(f\"Compressed Document {i + 1}:\\n\", compressed_doc.page_content)  # \"page_content\"에 압축된 텍스트가 담김\n",
    "    print(\"=\" * 80)\n"
   ]
  },
  {
   "cell_type": "markdown",
   "metadata": {},
   "source": [
    "## 내 생각 \n",
    "- retriever로 쿼리와 관련된 문서를 1차적으로 검색한 후\n",
    "- 검색한 문서를 압축기를 통해 2차적으로 쿼리와 관련된 내용만 압축하는 방법 "
   ]
  }
 ],
 "metadata": {
  "kernelspec": {
   "display_name": "kmy_env",
   "language": "python",
   "name": "python3"
  },
  "language_info": {
   "codemirror_mode": {
    "name": "ipython",
    "version": 3
   },
   "file_extension": ".py",
   "mimetype": "text/x-python",
   "name": "python",
   "nbconvert_exporter": "python",
   "pygments_lexer": "ipython3",
   "version": "3.12.7"
  }
 },
 "nbformat": 4,
 "nbformat_minor": 2
}
