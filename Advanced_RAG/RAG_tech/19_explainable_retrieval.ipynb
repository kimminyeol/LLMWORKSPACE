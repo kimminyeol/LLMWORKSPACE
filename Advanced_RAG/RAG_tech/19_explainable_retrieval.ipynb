{
 "cells": [
  {
   "cell_type": "markdown",
   "metadata": {},
   "source": [
    "# 문서 검색에서의 설명 가능한 검색 (Explainable Retrieval)\n",
    "\n",
    "## 개요\n",
    "\n",
    "이 코드는 설명 가능한 검색 시스템(Explainable Retriever)을 구현하여, 쿼리에 기반해 관련 문서를 검색할 뿐만 아니라 **각 검색 결과에 대한 설명**도 제공합니다. 벡터 기반 유사성 검색과 자연어 설명을 결합하여 검색 과정의 투명성과 해석 가능성을 높이는 것이 목표입니다.\n",
    "\n",
    "## 동기\n",
    "\n",
    "기존 문서 검색 시스템은 종종 결과를 제공하지만, **선택 이유에 대한 설명이 부족한 블랙 박스**로 작동하는 경우가 많습니다. 이로 인해 결과를 이해하는 것이 중요한 시나리오에서는 문제가 될 수 있습니다. 설명 가능한 검색 시스템은 **각 검색 결과가 왜 관련성이 있는지를 사용자에게 설명**하여 투명성과 이해도를 높입니다.\n",
    "\n",
    "## 주요 구성 요소\n",
    "\n",
    "1. 입력 텍스트로부터 벡터 스토어 생성\n",
    "2. 효율적인 유사성 검색을 위한 FAISS 기반의 기본 검색기\n",
    "3. 설명을 생성하는 언어 모델(LLM)\n",
    "4. 검색 및 설명 생성을 결합한 `ExplainableRetriever` 클래스\n",
    "\n",
    "## 방법 설명\n",
    "\n",
    "### 문서 전처리 및 벡터 스토어 생성\n",
    "\n",
    "1. 입력 텍스트를 OpenAI 임베딩 모델을 사용해 임베딩으로 변환합니다.\n",
    "2. FAISS 벡터 스토어를 생성하여 유사성 검색의 효율성을 높입니다.\n",
    "\n",
    "### 검색기 설정\n",
    "\n",
    "1. 벡터 스토어를 기반으로 기본 검색기를 생성하며, 상위 5개의 유사한 문서를 반환하도록 구성합니다.\n",
    "\n",
    "### 설명 생성\n",
    "\n",
    "1. GPT-4 모델과 같은 LLM을 사용하여 검색 결과에 대한 설명을 생성합니다.\n",
    "2. 검색 결과가 쿼리와 관련이 있는 이유를 설명하도록 LLM에 지시하는 맞춤 프롬프트 템플릿을 정의합니다.\n",
    "\n",
    "### ExplainableRetriever 클래스\"\n",
    "\n",
    "1. 기본 검색기와 설명 생성을 결합한 단일 인터페이스를 제공합니다.\n",
    "2. `retrieve_and_explain` 메서드:\n",
    "   - 기본 검색기를 통해 관련 문서를 검색합니다.\n",
    "   - 각 검색된 문서에 대해 쿼리와의 관련성을 설명합니다.\n",
    "   - 문서 내용과 설명이 담긴 사전 리스트를 반환합니다.\n",
    "\n",
    "## 이 접근 방식의 이점\n",
    "\n",
    "1. **투명성**: 사용자는 특정 문서가 검색된 이유를 이해할 수 있습니다.\n",
    "2. **신뢰도 향상**: 설명을 통해 시스템 결과에 대한 사용자 신뢰도가 높아집니다.\n",
    "3. **학습 효과**: 사용자에게 쿼리와 문서 간의 관계에 대한 인사이트를 제공합니다.\n",
    "4. **디버깅 용이**: 검색 과정에서 발생하는 문제를 식별하고 수정하기 쉬워집니다.\n",
    "5. **맞춤화 가능**: 설명 프롬프트를 사용 사례나 분야에 맞게 조정할 수 있습니다.\n",
    "\n",
    "## 결론\n",
    "\n",
    "설명 가능한 검색 시스템은 **더 해석 가능하고 신뢰할 수 있는 정보 검색 시스템**을 만드는 중요한 단계입니다. 검색된 문서와 함께 자연어 설명을 제공함으로써 강력한 벡터 기반 검색 기술과 인간의 이해 사이의 간극을 좁힙니다. 법률 연구, 의료 정보 시스템, 교육 도구와 같이 **검색의 이유가 중요한 분야**에서 활용될 잠재력을 가지고 있습니다.\n"
   ]
  },
  {
   "cell_type": "markdown",
   "metadata": {},
   "source": [
    " ### Import libraries"
   ]
  },
  {
   "cell_type": "code",
   "execution_count": 1,
   "metadata": {},
   "outputs": [
    {
     "name": "stderr",
     "output_type": "stream",
     "text": [
      "/var/folders/gl/6qlsk6x94klgs54qzsg9q1jm0000gn/T/ipykernel_6911/2996950230.py:7: LangChainDeprecationWarning: As of langchain-core 0.3.0, LangChain uses pydantic v2 internally. The langchain_core.pydantic_v1 module was a compatibility shim for pydantic v1, and should no longer be used. Please update the code to import from Pydantic directly.\n",
      "\n",
      "For example, replace imports like: `from langchain_core.pydantic_v1 import BaseModel`\n",
      "with: `from pydantic import BaseModel`\n",
      "or the v1 compatibility namespace if you are working in a code base that has not been fully upgraded to pydantic 2 yet. \tfrom pydantic.v1 import BaseModel\n",
      "\n",
      "  from helper_functions import *\n",
      "/opt/anaconda3/envs/kmy_env/lib/python3.12/site-packages/deepeval/__init__.py:49: UserWarning: You are using deepeval version 1.4.5, however version 1.4.7 is available. You should consider upgrading via the \"pip install --upgrade deepeval\" command.\n",
      "  warnings.warn(\n"
     ]
    }
   ],
   "source": [
    "import os\n",
    "import sys\n",
    "from dotenv import load_dotenv\n",
    "\n",
    "\n",
    "sys.path.append(os.path.abspath(os.path.join(os.getcwd(), '..'))) # Add the parent directory to the path sicnce we work with notebooks\n",
    "from helper_functions import *\n",
    "from evaluation.evalute_rag import *\n",
    "\n",
    "# Load environment variables from a .env file\n",
    "load_dotenv()\n",
    "\n",
    "# Set the OpenAI API key environment variable\n",
    "os.environ[\"OPENAI_API_KEY\"] = os.getenv('OPENAI_API_KEY')"
   ]
  },
  {
   "cell_type": "markdown",
   "metadata": {},
   "source": [
    "### Define the explainable retriever class "
   ]
  },
  {
   "cell_type": "code",
   "execution_count": 2,
   "metadata": {},
   "outputs": [],
   "source": [
    "class ExplainableRetriever:\n",
    "    def __init__(self, texts):\n",
    "        self.embeddings = OpenAIEmbeddings()\n",
    "\n",
    "        self.vectorstore = FAISS.from_texts(texts, self.embeddings)\n",
    "        self.llm = ChatOpenAI(temperature=0, model_name=\"gpt-4o-mini\", max_tokens=4000)\n",
    "\n",
    "        \n",
    "        # top5개 관련 문서 추출하는 리트리버\n",
    "        self.retriever = self.vectorstore.as_retriever(search_kwargs={\"k\": 5})\n",
    "        \n",
    "        # 쿼리와 반환된 문서들의 관계를 분석한다.\n",
    "        # 왜 해당 반환된 문서가 커리와 연관있는지 , 얼마나 쿼리를 답변하는데 도움을 주는지 설명하는 프롬프트 \n",
    "        explain_prompt = PromptTemplate(\n",
    "            input_variables=[\"query\", \"context\"],\n",
    "            template=\"\"\"\n",
    "            Analyze the relationship between the following query and the retrieved context.\n",
    "            Explain why this context is relevant to the query and how it might help answer the query.\n",
    "            \n",
    "            Query: {query}\n",
    "            \n",
    "            Context: {context}\n",
    "            \n",
    "            Explanation:\n",
    "            \"\"\"\n",
    "        )\n",
    "        self.explain_chain = explain_prompt | self.llm\n",
    "\n",
    "    def retrieve_and_explain(self, query):\n",
    "        # 쿼리와 관련된 문서 5개 추출 \n",
    "        docs = self.retriever.get_relevant_documents(query)\n",
    "        \n",
    "        explained_results = []\n",
    "        \n",
    "        # 쿼리와 문맥이 들어가고 설명을 함 \n",
    "        for doc in docs:\n",
    "            # Generate explanation\n",
    "            input_data = {\"query\": query, \"context\": doc.page_content}\n",
    "            explanation = self.explain_chain.invoke(input_data).content\n",
    "            # 리스트에 반환된 문서와 설명을 담아서 내보냄 \n",
    "            explained_results.append({\n",
    "                \"content\": doc.page_content,\n",
    "                \"explanation\": explanation\n",
    "            })\n",
    "        \n",
    "        return explained_results\n",
    "\n"
   ]
  },
  {
   "cell_type": "markdown",
   "metadata": {},
   "source": [
    "### Create a mock example and explainable retriever instance"
   ]
  },
  {
   "cell_type": "code",
   "execution_count": 3,
   "metadata": {},
   "outputs": [],
   "source": [
    "\n",
    "# Usage\n",
    "texts = [\n",
    "    \"The sky is blue because of the way sunlight interacts with the atmosphere.\",\n",
    "    \"Photosynthesis is the process by which plants use sunlight to produce energy.\",\n",
    "    \"Global warming is caused by the increase of greenhouse gases in Earth's atmosphere.\"\n",
    "]\n",
    "\n",
    "explainable_retriever = ExplainableRetriever(texts)\n"
   ]
  },
  {
   "cell_type": "markdown",
   "metadata": {},
   "source": [
    "### Show the results"
   ]
  },
  {
   "cell_type": "code",
   "execution_count": 5,
   "metadata": {},
   "outputs": [
    {
     "name": "stderr",
     "output_type": "stream",
     "text": [
      "/var/folders/gl/6qlsk6x94klgs54qzsg9q1jm0000gn/T/ipykernel_6911/1069776825.py:30: LangChainDeprecationWarning: The method `BaseRetriever.get_relevant_documents` was deprecated in langchain-core 0.1.46 and will be removed in 1.0. Use :meth:`~invoke` instead.\n",
      "  docs = self.retriever.get_relevant_documents(query)\n"
     ]
    },
    {
     "name": "stdout",
     "output_type": "stream",
     "text": [
      "Result 1:\n",
      "Content: The sky is blue because of the way sunlight interacts with the atmosphere.\n",
      "Explanation: The context provided directly addresses the query by explaining the reason behind the blue color of the sky. It highlights the interaction between sunlight and the atmosphere, which is a fundamental aspect of why we perceive the sky as blue.\n",
      "\n",
      "This context is relevant to the query for several reasons:\n",
      "\n",
      "1. **Direct Answer**: The context provides a straightforward answer to the question, indicating that the phenomenon is due to the interaction of sunlight with atmospheric elements.\n",
      "\n",
      "2. **Scientific Basis**: The mention of sunlight and the atmosphere suggests a scientific explanation, which is likely what the person asking the question is seeking. It implies that the answer is grounded in physics and atmospheric science.\n",
      "\n",
      "3. **Foundation for Further Exploration**: While the context is concise, it opens the door for further exploration into related topics, such as Rayleigh scattering, which is the specific phenomenon that causes the sky to appear blue. This could lead to a deeper understanding of atmospheric optics.\n",
      "\n",
      "4. **Clarity and Relevance**: The context is clear and directly relevant to the query, making it easy for the reader to grasp the concept without unnecessary information.\n",
      "\n",
      "In summary, the context effectively answers the query by providing a clear and relevant explanation of why the sky appears blue, which can help the inquirer understand the underlying scientific principles involved.\n",
      "\n",
      "Result 2:\n",
      "Content: Global warming is caused by the increase of greenhouse gases in Earth's atmosphere.\n",
      "Explanation: The context provided, which discusses global warming and greenhouse gases, is not directly relevant to the query about why the sky is blue. The query seeks an explanation of the phenomenon of the blue sky, which is primarily due to Rayleigh scattering of sunlight by the Earth's atmosphere. \n",
      "\n",
      "To answer the query effectively, relevant context would include information about the scattering of light, the composition of the atmosphere, and how different wavelengths of light are affected by this scattering. \n",
      "\n",
      "While the context about global warming touches on atmospheric conditions, it does not address the specific scientific principles that explain the color of the sky. Therefore, it does not help answer the query about why the sky appears blue. \n",
      "\n",
      "In summary, the context is not relevant to the query, as it does not provide the necessary information to explain the phenomenon in question.\n",
      "\n",
      "Result 3:\n",
      "Content: Photosynthesis is the process by which plants use sunlight to produce energy.\n",
      "Explanation: The context provided, which discusses photosynthesis, is not directly relevant to the query \"Why is the sky blue?\" The query seeks to understand the scientific explanation behind the color of the sky, which is primarily due to Rayleigh scattering of sunlight by the Earth's atmosphere. \n",
      "\n",
      "In contrast, the context about photosynthesis focuses on how plants convert sunlight into energy, which is a different topic related to the use of sunlight rather than its scattering and the resulting color of the sky. \n",
      "\n",
      "To effectively answer the query, relevant context would need to include information about light scattering, the composition of the atmosphere, and how different wavelengths of light are affected by atmospheric particles. Therefore, while the context provided is informative in its own right, it does not help answer the query about the color of the sky.\n",
      "\n"
     ]
    }
   ],
   "source": [
    "query = \"Why is the sky blue?\"\n",
    "# 쿼리에 대한 5가지 문서에 대해 왜 추출했는지 설명하는 결과\n",
    "results = explainable_retriever.retrieve_and_explain(query)\n",
    "\n",
    "for i, result in enumerate(results, 1):\n",
    "    print(f\"Result {i}:\")\n",
    "    print(f\"Content: {result['content']}\")\n",
    "    print(f\"Explanation: {result['explanation']}\")\n",
    "    print()"
   ]
  },
  {
   "cell_type": "code",
   "execution_count": 12,
   "metadata": {},
   "outputs": [
    {
     "data": {
      "text/plain": [
       "[\"The context provided, which discusses global warming and greenhouse gases, is not directly relevant to the query about why the sky is blue. The query seeks an explanation of the phenomenon of the blue sky, which is primarily due to Rayleigh scattering of sunlight by the Earth's atmosphere. \",\n",
       " 'To answer the query effectively, relevant context would include information about the scattering of light, the composition of the atmosphere, and how different wavelengths of light are affected by this scattering. ',\n",
       " 'While the context about global warming touches on atmospheric conditions, it does not address the specific scientific principles that explain the color of the sky. Therefore, it does not help answer the query about why the sky appears blue. ',\n",
       " 'In summary, the context is not relevant to the query, as it does not provide the necessary information to explain the phenomenon in question.']"
      ]
     },
     "execution_count": 12,
     "metadata": {},
     "output_type": "execute_result"
    }
   ],
   "source": [
    "# 왜 이렇게 retrive했는지에 대한 설명 \n",
    "results[1]['explanation'].split('\\n\\n')"
   ]
  },
  {
   "cell_type": "markdown",
   "metadata": {},
   "source": [
    "## 내 생각 \n",
    "- 반환된 문서에 대해 왜 반환되었는지 설명을 하도록 llm에게 역할을 부여함 \n",
    "- 해당 설명을 통해 해석가능하고 신뢰할 수 있는 검색 시스템을 만든는 것\n",
    "- 이해를 시켜주는 것 -> 법률, 의료와 같이 검색의 이유가 중요할 때 활용됨 "
   ]
  },
  {
   "cell_type": "code",
   "execution_count": null,
   "metadata": {},
   "outputs": [],
   "source": []
  }
 ],
 "metadata": {
  "kernelspec": {
   "display_name": "kmy_env",
   "language": "python",
   "name": "python3"
  },
  "language_info": {
   "codemirror_mode": {
    "name": "ipython",
    "version": 3
   },
   "file_extension": ".py",
   "mimetype": "text/x-python",
   "name": "python",
   "nbconvert_exporter": "python",
   "pygments_lexer": "ipython3",
   "version": "3.12.7"
  }
 },
 "nbformat": 4,
 "nbformat_minor": 2
}
