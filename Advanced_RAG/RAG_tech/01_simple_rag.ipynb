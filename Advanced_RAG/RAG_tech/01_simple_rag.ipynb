{
 "cells": [
  {
   "cell_type": "markdown",
   "metadata": {},
   "source": [
    "# Simple RAG (Retrieval-Augmented Generation) System\n",
    "\n",
    "## Overview\n",
    "\n",
    "This code implements a basic Retrieval-Augmented Generation (RAG) system for processing and querying PDF documents. The system encodes the document content into a vector store, which can then be queried to retrieve relevant information.\n",
    "\n",
    "## Key Components\n",
    "\n",
    "1. PDF processing and text extraction\n",
    "2. Text chunking for manageable processing\n",
    "3. Vector store creation using [FAISS](https://engineering.fb.com/2017/03/29/data-infrastructure/faiss-a-library-for-efficient-similarity-search/) and OpenAI embeddings\n",
    "4. Retriever setup for querying the processed documents\n",
    "5. Evaluation of the RAG system\n",
    "\n",
    "## Method Details\n",
    "\n",
    "### Document Preprocessing\n",
    "\n",
    "1. The PDF is loaded using PyPDFLoader.\n",
    "2. The text is split into chunks using RecursiveCharacterTextSplitter with specified chunk size and overlap.\n",
    "\n",
    "### Text Cleaning\n",
    "\n",
    "A custom function `replace_t_with_space` is applied to clean the text chunks. This likely addresses specific formatting issues in the PDF.\n",
    "\n",
    "### Vector Store Creation\n",
    "\n",
    "1. OpenAI embeddings are used to create vector representations of the text chunks.\n",
    "2. A FAISS vector store is created from these embeddings for efficient similarity search.\n",
    "\n",
    "### Retriever Setup\n",
    "\n",
    "1. A retriever is configured to fetch the top 2 most relevant chunks for a given query.\n",
    "\n",
    "### Encoding Function\n",
    "\n",
    "The `encode_pdf` function encapsulates the entire process of loading, chunking, cleaning, and encoding the PDF into a vector store.\n",
    "\n",
    "## Key Features\n",
    "\n",
    "1. Modular Design: The encoding process is encapsulated in a single function for easy reuse.\n",
    "2. Configurable Chunking: Allows adjustment of chunk size and overlap.\n",
    "3. Efficient Retrieval: Uses FAISS for fast similarity search.\n",
    "4. Evaluation: Includes a function to evaluate the RAG system's performance.\n",
    "\n",
    "## Usage Example\n",
    "\n",
    "The code includes a test query: \"What is the main cause of climate change?\". This demonstrates how to use the retriever to fetch relevant context from the processed document.\n",
    "\n",
    "## Evaluation\n",
    "\n",
    "The system includes an `evaluate_rag` function to assess the performance of the retriever, though the specific metrics used are not detailed in the provided code.\n",
    "\n",
    "## Benefits of this Approach\n",
    "\n",
    "1. Scalability: Can handle large documents by processing them in chunks.\n",
    "2. Flexibility: Easy to adjust parameters like chunk size and number of retrieved results.\n",
    "3. Efficiency: Utilizes FAISS for fast similarity search in high-dimensional spaces.\n",
    "4. Integration with Advanced NLP: Uses OpenAI embeddings for state-of-the-art text representation.\n",
    "\n",
    "## Conclusion\n",
    "\n",
    "This simple RAG system provides a solid foundation for building more complex information retrieval and question-answering systems. By encoding document content into a searchable vector store, it enables efficient retrieval of relevant information in response to queries. This approach is particularly useful for applications requiring quick access to specific information within large documents or document collections."
   ]
  },
  {
   "cell_type": "markdown",
   "metadata": {},
   "source": [
    "### Function to evaluate metrics for each chunk size"
   ]
  },
  {
   "cell_type": "markdown",
   "metadata": {},
   "source": [
    "### Import libraries and environment variables"
   ]
  },
  {
   "cell_type": "code",
   "execution_count": 2,
   "metadata": {},
   "outputs": [],
   "source": [
    "import os\n",
    "import sys\n",
    "from dotenv import load_dotenv\n",
    "\n",
    "\n",
    "sys.path.append(os.path.abspath(os.path.join(os.getcwd(), '..'))) # Add the parent directory to the path since we work with notebooks\n",
    "from helper_functions import *\n",
    "from evaluation.evalute_rag import *\n",
    "\n",
    "# Load environment variables from a .env file\n",
    "load_dotenv()\n",
    "\n",
    "# Set the OpenAI API key environment variable\n",
    "os.environ[\"OPENAI_API_KEY\"] = os.getenv('OPENAI_API_KEY')"
   ]
  },
  {
   "cell_type": "markdown",
   "metadata": {},
   "source": [
    "### Read Docs"
   ]
  },
  {
   "cell_type": "code",
   "execution_count": 3,
   "metadata": {},
   "outputs": [],
   "source": [
    "path = \"../data/Understanding_Climate_Change.pdf\""
   ]
  },
  {
   "cell_type": "markdown",
   "metadata": {},
   "source": [
    "### Encode document"
   ]
  },
  {
   "cell_type": "code",
   "execution_count": 12,
   "metadata": {},
   "outputs": [],
   "source": [
    "def encode_pdf(path, chunk_size=1000, chunk_overlap=200):\n",
    "    \"\"\"\n",
    "    Encodes a PDF book into a vector store using OpenAI embeddings.\n",
    "\n",
    "    Args:\n",
    "        path: The path to the PDF file.\n",
    "        chunk_size: The desired size of each text chunk.\n",
    "        chunk_overlap: The amount of overlap between consecutive chunks.\n",
    "\n",
    "    Returns:\n",
    "        A FAISS vector store containing the encoded book content.\n",
    "    \"\"\"\n",
    "\n",
    "    # Load PDF documents\n",
    "    loader = PyPDFLoader(path)\n",
    "    documents = loader.load()\n",
    "\n",
    "    # Split documents into chunks\n",
    "    text_splitter = RecursiveCharacterTextSplitter(\n",
    "        chunk_size=chunk_size, chunk_overlap=chunk_overlap, length_function=len\n",
    "    )\n",
    "    texts = text_splitter.split_documents(documents)\n",
    "    cleaned_texts = replace_t_with_space(texts)\n",
    "\n",
    "    # Create embeddings and vector store\n",
    "    embeddings = OpenAIEmbeddings()\n",
    "    vectorstore = FAISS.from_documents(cleaned_texts, embeddings)\n",
    "\n",
    "    return vectorstore"
   ]
  },
  {
   "cell_type": "code",
   "execution_count": 16,
   "metadata": {},
   "outputs": [
    {
     "name": "stdout",
     "output_type": "stream",
     "text": [
      "Requirement already satisfied: pypdf in /opt/anaconda3/envs/kmy_env/lib/python3.12/site-packages (5.0.1)\n",
      "Collecting faiss-cpu\n",
      "  Using cached faiss_cpu-1.9.0-cp312-cp312-macosx_11_0_arm64.whl.metadata (4.4 kB)\n",
      "Requirement already satisfied: numpy<3.0,>=1.25.0 in /opt/anaconda3/envs/kmy_env/lib/python3.12/site-packages (from faiss-cpu) (1.26.4)\n",
      "Requirement already satisfied: packaging in /opt/anaconda3/envs/kmy_env/lib/python3.12/site-packages (from faiss-cpu) (24.1)\n",
      "Using cached faiss_cpu-1.9.0-cp312-cp312-macosx_11_0_arm64.whl (3.2 MB)\n",
      "Installing collected packages: faiss-cpu\n",
      "Successfully installed faiss-cpu-1.9.0\n"
     ]
    }
   ],
   "source": [
    "! pip install pypdf\n",
    "! pip install faiss-cpu"
   ]
  },
  {
   "cell_type": "code",
   "execution_count": 17,
   "metadata": {},
   "outputs": [],
   "source": [
    "chunks_vector_store = encode_pdf(path, chunk_size=1000, chunk_overlap=200)"
   ]
  },
  {
   "cell_type": "markdown",
   "metadata": {},
   "source": [
    "### Create retriever"
   ]
  },
  {
   "cell_type": "code",
   "execution_count": 18,
   "metadata": {},
   "outputs": [],
   "source": [
    "chunks_query_retriever = chunks_vector_store.as_retriever(search_kwargs={\"k\": 2})"
   ]
  },
  {
   "cell_type": "markdown",
   "metadata": {},
   "source": [
    "### Test retriever"
   ]
  },
  {
   "cell_type": "code",
   "execution_count": 6,
   "metadata": {},
   "outputs": [
    {
     "name": "stderr",
     "output_type": "stream",
     "text": [
      "c:\\Users\\N7\\PycharmProjects\\llm_tasks\\RAG_TECHNIQUES\\.venv\\Lib\\site-packages\\langchain_core\\_api\\deprecation.py:139: LangChainDeprecationWarning: The method `BaseRetriever.get_relevant_documents` was deprecated in langchain-core 0.1.46 and will be removed in 0.3.0. Use invoke instead.\n",
      "  warn_deprecated(\n"
     ]
    },
    {
     "name": "stdout",
     "output_type": "stream",
     "text": [
      "Context 1:\n",
      "driven by human activities, particularly the emission of greenhou se gases.  \n",
      "Chapter 2: Causes of Climate Change  \n",
      "Greenhouse Gases  \n",
      "The primary cause of recent climate change is the increase in greenhouse gases in the \n",
      "atmosphere. Greenhouse gases, such as carbon dioxide (CO2), methane (CH4), and nitrous \n",
      "oxide (N2O), trap heat from the sun, creating a \"greenhouse effect.\" This effect is  essential \n",
      "for life on Earth, as it keeps the planet warm enough to support life. However, human \n",
      "activities have intensified this natural process, leading to a warmer climate.  \n",
      "Fossil Fuels  \n",
      "Burning fossil fuels for energy releases large amounts of CO2. This includes coal, oil, and \n",
      "natural gas used for electricity, heating, and transportation. The industrial revolution marked \n",
      "the beginning of a significant increase in fossil fuel consumption, which continues to rise \n",
      "today.  \n",
      "Coal\n",
      "\n",
      "\n",
      "Context 2:\n",
      "Most of these climate changes are attributed to very small variations in Earth's orbit that \n",
      "change the amount of solar energy our planet receives. During the Holocene epoch, which \n",
      "began at the end of the last ice age, human societies f lourished, but the industrial era has seen \n",
      "unprecedented changes.  \n",
      "Modern Observations  \n",
      "Modern scientific observations indicate a rapid increase in global temperatures, sea levels, \n",
      "and extreme weather events. The Intergovernmental Panel on Climate Change (IPCC) has \n",
      "documented these changes extensively. Ice core samples, tree rings, and ocean sediments \n",
      "provide a historical record that scientists use to understand past climate conditions and \n",
      "predict future trends. The evidence overwhelmingly shows that recent changes are primarily \n",
      "driven by human activities, particularly the emission of greenhou se gases.  \n",
      "Chapter 2: Causes of Climate Change  \n",
      "Greenhouse Gases\n",
      "\n",
      "\n"
     ]
    }
   ],
   "source": [
    "test_query = \"What is the main cause of climate change?\"\n",
    "context = retrieve_context_per_question(test_query, chunks_query_retriever)\n",
    "show_context(context)"
   ]
  },
  {
   "cell_type": "markdown",
   "metadata": {},
   "source": [
    "### Evaluate results"
   ]
  },
  {
   "cell_type": "code",
   "execution_count": 23,
   "metadata": {},
   "outputs": [
    {
     "name": "stderr",
     "output_type": "stream",
     "text": [
      "/Users/mac/AIworkspace/LLMWORKSPACE/RAG_Techniques/helper_functions.py:142: LangChainDeprecationWarning: The method `BaseRetriever.get_relevant_documents` was deprecated in langchain-core 0.1.46 and will be removed in 1.0. Use :meth:`~invoke` instead.\n",
      "  docs = chunks_query_retriever.get_relevant_documents(question)\n"
     ]
    },
    {
     "name": "stdout",
     "output_type": "stream",
     "text": [
      "Answering the question from the retrieved context...\n",
      "Answering the question from the retrieved context...\n",
      "Answering the question from the retrieved context...\n",
      "Answering the question from the retrieved context...\n",
      "Answering the question from the retrieved context...\n"
     ]
    },
    {
     "data": {
      "text/html": [
       "<pre style=\"white-space:pre;overflow-x:auto;line-height:normal;font-family:Menlo,'DejaVu Sans Mono',consolas,'Courier New',monospace\">✨ You're running DeepEval's latest <span style=\"color: #6a00ff; text-decoration-color: #6a00ff\">Correctness </span><span style=\"color: #6a00ff; text-decoration-color: #6a00ff; font-weight: bold\">(</span><span style=\"color: #6a00ff; text-decoration-color: #6a00ff\">GEval</span><span style=\"color: #6a00ff; text-decoration-color: #6a00ff; font-weight: bold\">)</span><span style=\"color: #6a00ff; text-decoration-color: #6a00ff\"> Metric</span>! <span style=\"color: #374151; text-decoration-color: #374151; font-weight: bold\">(</span><span style=\"color: #374151; text-decoration-color: #374151\">using gpt-4o, </span><span style=\"color: #374151; text-decoration-color: #374151\">strict</span><span style=\"color: #374151; text-decoration-color: #374151\">=</span><span style=\"color: #374151; text-decoration-color: #374151; font-style: italic\">False</span><span style=\"color: #374151; text-decoration-color: #374151\">, </span><span style=\"color: #374151; text-decoration-color: #374151\">async_mode</span><span style=\"color: #374151; text-decoration-color: #374151\">=</span><span style=\"color: #374151; text-decoration-color: #374151; font-style: italic\">True</span><span style=\"color: #374151; text-decoration-color: #374151; font-weight: bold\">)</span><span style=\"color: #374151; text-decoration-color: #374151\">...</span>\n",
       "</pre>\n"
      ],
      "text/plain": [
       "✨ You're running DeepEval's latest \u001b[38;2;106;0;255mCorrectness \u001b[0m\u001b[1;38;2;106;0;255m(\u001b[0m\u001b[38;2;106;0;255mGEval\u001b[0m\u001b[1;38;2;106;0;255m)\u001b[0m\u001b[38;2;106;0;255m Metric\u001b[0m! \u001b[1;38;2;55;65;81m(\u001b[0m\u001b[38;2;55;65;81musing gpt-4o, \u001b[0m\u001b[38;2;55;65;81mstrict\u001b[0m\u001b[38;2;55;65;81m=\u001b[0m\u001b[3;38;2;55;65;81mFalse\u001b[0m\u001b[38;2;55;65;81m, \u001b[0m\u001b[38;2;55;65;81masync_mode\u001b[0m\u001b[38;2;55;65;81m=\u001b[0m\u001b[3;38;2;55;65;81mTrue\u001b[0m\u001b[1;38;2;55;65;81m)\u001b[0m\u001b[38;2;55;65;81m...\u001b[0m\n"
      ]
     },
     "metadata": {},
     "output_type": "display_data"
    },
    {
     "data": {
      "text/html": [
       "<pre style=\"white-space:pre;overflow-x:auto;line-height:normal;font-family:Menlo,'DejaVu Sans Mono',consolas,'Courier New',monospace\">✨ You're running DeepEval's latest <span style=\"color: #6a00ff; text-decoration-color: #6a00ff\">Faithfulness Metric</span>! <span style=\"color: #374151; text-decoration-color: #374151; font-weight: bold\">(</span><span style=\"color: #374151; text-decoration-color: #374151\">using gpt-</span><span style=\"color: #374151; text-decoration-color: #374151; font-weight: bold\">4</span><span style=\"color: #374151; text-decoration-color: #374151\">, </span><span style=\"color: #374151; text-decoration-color: #374151\">strict</span><span style=\"color: #374151; text-decoration-color: #374151\">=</span><span style=\"color: #374151; text-decoration-color: #374151; font-style: italic\">False</span><span style=\"color: #374151; text-decoration-color: #374151\">, </span><span style=\"color: #374151; text-decoration-color: #374151\">async_mode</span><span style=\"color: #374151; text-decoration-color: #374151\">=</span><span style=\"color: #374151; text-decoration-color: #374151; font-style: italic\">True</span><span style=\"color: #374151; text-decoration-color: #374151; font-weight: bold\">)</span><span style=\"color: #374151; text-decoration-color: #374151\">...</span>\n",
       "</pre>\n"
      ],
      "text/plain": [
       "✨ You're running DeepEval's latest \u001b[38;2;106;0;255mFaithfulness Metric\u001b[0m! \u001b[1;38;2;55;65;81m(\u001b[0m\u001b[38;2;55;65;81musing gpt-\u001b[0m\u001b[1;38;2;55;65;81m4\u001b[0m\u001b[38;2;55;65;81m, \u001b[0m\u001b[38;2;55;65;81mstrict\u001b[0m\u001b[38;2;55;65;81m=\u001b[0m\u001b[3;38;2;55;65;81mFalse\u001b[0m\u001b[38;2;55;65;81m, \u001b[0m\u001b[38;2;55;65;81masync_mode\u001b[0m\u001b[38;2;55;65;81m=\u001b[0m\u001b[3;38;2;55;65;81mTrue\u001b[0m\u001b[1;38;2;55;65;81m)\u001b[0m\u001b[38;2;55;65;81m...\u001b[0m\n"
      ]
     },
     "metadata": {},
     "output_type": "display_data"
    },
    {
     "data": {
      "text/html": [
       "<pre style=\"white-space:pre;overflow-x:auto;line-height:normal;font-family:Menlo,'DejaVu Sans Mono',consolas,'Courier New',monospace\">✨ You're running DeepEval's latest <span style=\"color: #6a00ff; text-decoration-color: #6a00ff\">Contextual Relevancy Metric</span>! <span style=\"color: #374151; text-decoration-color: #374151; font-weight: bold\">(</span><span style=\"color: #374151; text-decoration-color: #374151\">using gpt-</span><span style=\"color: #374151; text-decoration-color: #374151; font-weight: bold\">4</span><span style=\"color: #374151; text-decoration-color: #374151\">, </span><span style=\"color: #374151; text-decoration-color: #374151\">strict</span><span style=\"color: #374151; text-decoration-color: #374151\">=</span><span style=\"color: #374151; text-decoration-color: #374151; font-style: italic\">False</span><span style=\"color: #374151; text-decoration-color: #374151\">, </span><span style=\"color: #374151; text-decoration-color: #374151\">async_mode</span><span style=\"color: #374151; text-decoration-color: #374151\">=</span><span style=\"color: #374151; text-decoration-color: #374151; font-style: italic\">True</span><span style=\"color: #374151; text-decoration-color: #374151; font-weight: bold\">)</span><span style=\"color: #374151; text-decoration-color: #374151\">...</span>\n",
       "</pre>\n"
      ],
      "text/plain": [
       "✨ You're running DeepEval's latest \u001b[38;2;106;0;255mContextual Relevancy Metric\u001b[0m! \u001b[1;38;2;55;65;81m(\u001b[0m\u001b[38;2;55;65;81musing gpt-\u001b[0m\u001b[1;38;2;55;65;81m4\u001b[0m\u001b[38;2;55;65;81m, \u001b[0m\u001b[38;2;55;65;81mstrict\u001b[0m\u001b[38;2;55;65;81m=\u001b[0m\u001b[3;38;2;55;65;81mFalse\u001b[0m\u001b[38;2;55;65;81m, \u001b[0m\u001b[38;2;55;65;81masync_mode\u001b[0m\u001b[38;2;55;65;81m=\u001b[0m\u001b[3;38;2;55;65;81mTrue\u001b[0m\u001b[1;38;2;55;65;81m)\u001b[0m\u001b[38;2;55;65;81m...\u001b[0m\n"
      ]
     },
     "metadata": {},
     "output_type": "display_data"
    },
    {
     "name": "stdout",
     "output_type": "stream",
     "text": [
      "Event loop is already running. Applying nest_asyncio patch to allow async execution...\n"
     ]
    },
    {
     "name": "stderr",
     "output_type": "stream",
     "text": [
      "Evaluating 5 test case(s) in parallel: |          |  0% (0/5) [Time Taken: 00:00, ?test case/s]0.00s - Debugger warning: It seems that frozen modules are being used, which may\n",
      "0.00s - make the debugger miss breakpoints. Please pass -Xfrozen_modules=off\n",
      "0.00s - to python to disable frozen modules.\n",
      "0.00s - Note: Debugging will proceed. Set PYDEVD_DISABLE_FILE_VALIDATION=1 to disable this validation.\n"
     ]
    },
    {
     "name": "stdout",
     "output_type": "stream",
     "text": [
      "None\n",
      "None\n",
      "None\n",
      "None\n",
      "None\n"
     ]
    },
    {
     "name": "stderr",
     "output_type": "stream",
     "text": [
      "ERROR:root:OpenAI rate limit exceeded. Retrying: 1 time(s)...\n",
      "ERROR:root:OpenAI rate limit exceeded. Retrying: 1 time(s)...\n",
      "ERROR:root:OpenAI rate limit exceeded. Retrying: 1 time(s)...\n",
      "ERROR:root:OpenAI rate limit exceeded. Retrying: 1 time(s)...\n",
      "ERROR:root:OpenAI rate limit exceeded. Retrying: 1 time(s)...\n",
      "ERROR:root:OpenAI rate limit exceeded. Retrying: 2 time(s)...\n",
      "ERROR:root:OpenAI rate limit exceeded. Retrying: 1 time(s)...\n",
      "ERROR:root:OpenAI rate limit exceeded. Retrying: 1 time(s)...\n",
      "ERROR:root:OpenAI rate limit exceeded. Retrying: 1 time(s)...\n",
      "ERROR:root:OpenAI rate limit exceeded. Retrying: 1 time(s)...\n",
      "ERROR:root:OpenAI rate limit exceeded. Retrying: 2 time(s)...\n",
      "ERROR:root:OpenAI rate limit exceeded. Retrying: 1 time(s)...\n",
      "ERROR:root:OpenAI rate limit exceeded. Retrying: 1 time(s)...\n",
      "ERROR:root:OpenAI rate limit exceeded. Retrying: 2 time(s)...\n",
      "ERROR:root:OpenAI rate limit exceeded. Retrying: 2 time(s)...\n",
      "ERROR:root:OpenAI rate limit exceeded. Retrying: 2 time(s)...\n",
      "ERROR:root:OpenAI rate limit exceeded. Retrying: 2 time(s)...\n",
      "ERROR:root:OpenAI rate limit exceeded. Retrying: 2 time(s)...\n",
      "ERROR:root:OpenAI rate limit exceeded. Retrying: 3 time(s)...\n",
      "ERROR:root:OpenAI rate limit exceeded. Retrying: 2 time(s)...\n",
      "ERROR:root:OpenAI rate limit exceeded. Retrying: 3 time(s)...\n",
      "Evaluating 5 test case(s) in parallel: |██        | 20% (1/5) [Time Taken: 00:44, 44.20s/test case]ERROR:root:OpenAI rate limit exceeded. Retrying: 3 time(s)...\n",
      "ERROR:root:OpenAI rate limit exceeded. Retrying: 3 time(s)...\n",
      "Evaluating 5 test case(s) in parallel: |██████████|100% (5/5) [Time Taken: 01:07, 13.59s/test case]"
     ]
    },
    {
     "name": "stdout",
     "output_type": "stream",
     "text": [
      "\n",
      "======================================================================\n",
      "\n",
      "Metrics Summary\n",
      "\n",
      "  - ✅ Correctness (GEval) (score: 1.0, threshold: 0.5, strict: False, evaluation model: gpt-4o, reason: The actual output is factually correct and matches the expected output exactly., error: None)\n",
      "  - ✅ Faithfulness (score: 1.0, threshold: 0.7, strict: False, evaluation model: gpt-4, reason: None, error: None)\n",
      "  - ❌ Contextual Relevancy (score: 0.5, threshold: 1.0, strict: False, evaluation model: gpt-4, reason: The score is 0.50 because while the context does contain relevant information about the 'beginning of the modern climate era and human civilization,' particularly in the statement 'Over the past 650,000 years, there have been seven cycles of glacial advance and retreat, with the abrupt end of the last ice age about 11,700 years ago marking the beginning of the modern climate era and human civilization', several statements are irrelevant as they don't directly address the input query, such as 'Most of these climate changes are attributed to very small variations in Earth's orbit that change the amount of solar energy our planet receives'., error: None)\n",
      "\n",
      "For test case:\n",
      "\n",
      "  - input: What marked the beginning of the modern climate era and human civilization?\n",
      "  - actual output: The abrupt end of the last ice age about 11,700 years ago marked the beginning of the modern climate era and human civilization.\n",
      "  - expected output: The abrupt end of the last ice age about 11,700 years ago marked the beginning of the modern climate era and human civilization.\n",
      "  - context: None\n",
      "  - retrieval context: [\"Most of these climate changes are attributed to very small variations in Earth's orbit that \\nchange the amount of solar energy our planet receives. During the Holocene epoch, which \\nbegan at the end of the last ice age, human societies f lourished, but the industrial era has seen \\nunprecedented changes.  \\nModern Observations  \\nModern scientific observations indicate a rapid increase in global temperatures, sea levels, \\nand extreme weather events. The Intergovernmental Panel on Climate Change (IPCC) has \\ndocumented these changes extensively. Ice core samples, tree rings, and ocean sediments \\nprovide a historical record that scientists use to understand past climate conditions and \\npredict future trends. The evidence overwhelmingly shows that recent changes are primarily \\ndriven by human activities, particularly the emission of greenhou se gases.  \\nChapter 2: Causes of Climate Change  \\nGreenhouse Gases\", 'Understanding Climate Change  \\nChapter 1: Introduction to Climate Change  \\nClimate change refers to significant, long -term changes in the global climate. The term \\n\"global climate\" encompasses the planet\\'s overall weather patterns, including temperature, \\nprecipitation, and wind patterns, over an extended period. Over the past cent ury, human \\nactivities, particularly the burning of fossil fuels and deforestation, have significantly \\ncontributed to climate change.  \\nHistorical Context  \\nThe Earth\\'s climate has changed throughout history. Over the past 650,000 years, there have \\nbeen seven cycles of glacial advance and retreat, with the abrupt end of the last ice age about \\n11,700 years ago marking the beginning of the modern climate era and  human civilization. \\nMost of these climate changes are attributed to very small variations in Earth\\'s orbit that \\nchange the amount of solar energy our planet receives. During the Holocene epoch, which']\n",
      "\n",
      "======================================================================\n",
      "\n",
      "Metrics Summary\n",
      "\n",
      "  - ✅ Correctness (GEval) (score: 0.9424597734956451, threshold: 0.5, strict: False, evaluation model: gpt-4o, reason: The actual output accurately reflects the meaning of the expected output by correctly describing the components of global climate., error: None)\n",
      "  - ✅ Faithfulness (score: 1.0, threshold: 0.7, strict: False, evaluation model: gpt-4, reason: None, error: None)\n",
      "  - ❌ Contextual Relevancy (score: 0.6, threshold: 1.0, strict: False, evaluation model: gpt-4, reason: The score is 0.60 because while the context does include relevant information on what encompasses the planet's overall weather patterns, such as 'The term 'global climate' encompasses the planet's overall weather patterns, including temperature, precipitation, and wind patterns, over an extended period.' and impacts of climate change, it also includes unrelated information about the causes and history of climate change., error: None)\n",
      "\n",
      "For test case:\n",
      "\n",
      "  - input: What encompasses the planet's overall weather patterns?\n",
      "  - actual output: The planet's overall weather patterns, including temperature, precipitation, and wind patterns, over an extended period, encompass the global climate.\n",
      "  - expected output: The term 'global climate' encompasses the planet's overall weather patterns, including temperature, precipitation, and wind patterns, over an extended period.\n",
      "  - context: None\n",
      "  - retrieval context: ['Understanding Climate Change  \\nChapter 1: Introduction to Climate Change  \\nClimate change refers to significant, long -term changes in the global climate. The term \\n\"global climate\" encompasses the planet\\'s overall weather patterns, including temperature, \\nprecipitation, and wind patterns, over an extended period. Over the past cent ury, human \\nactivities, particularly the burning of fossil fuels and deforestation, have significantly \\ncontributed to climate change.  \\nHistorical Context  \\nThe Earth\\'s climate has changed throughout history. Over the past 650,000 years, there have \\nbeen seven cycles of glacial advance and retreat, with the abrupt end of the last ice age about \\n11,700 years ago marking the beginning of the modern climate era and  human civilization. \\nMost of these climate changes are attributed to very small variations in Earth\\'s orbit that \\nchange the amount of solar energy our planet receives. During the Holocene epoch, which', 'Changing Seasons  \\nClimate change is altering the timing and length of seasons, affecting ecosystems and human \\nactivities. For example, spring is arriving earlier, and winters are becoming shorter and \\nmilder in many regions. This shift disrupts plant and animal life cycles a nd agricultural \\npractices.  \\nMelting Ice and Rising Sea Levels  \\nWarmer temperatures are causing polar ice caps and glaciers to melt, contributing to rising \\nsea levels. Sea levels have risen by about 20 centimeters (8 inches) in the past century, \\nthreatening coastal communities and ecosystems.  \\nPolar Ice Melt']\n",
      "\n",
      "======================================================================\n",
      "\n",
      "Metrics Summary\n",
      "\n",
      "  - ❌ Correctness (GEval) (score: 0.015367229651732161, threshold: 0.5, strict: False, evaluation model: gpt-4o, reason: The actual output lacks factual information about the number of glacial cycles, which is specified as seven in the expected output., error: None)\n",
      "  - ✅ Faithfulness (score: 1.0, threshold: 0.7, strict: False, evaluation model: gpt-4, reason: None, error: None)\n",
      "  - ❌ Contextual Relevancy (score: 0.0, threshold: 1.0, strict: False, evaluation model: gpt-4, reason: The score is 0.00 because all statements in the retrieval context, which mainly focus on topics like 'Arctic warming', 'Antarctic ice sheets losing mass', 'Rising sea levels and increased storm surges', 'Climate change linked to extreme weather', etc., do not provide any information about the 'cycles of glacial advance and retreat over the past 650,000 years.' There were no relevant statements found in the retrieval context to answer the input question., error: None)\n",
      "\n",
      "For test case:\n",
      "\n",
      "  - input: How many cycles of glacial advance and retreat have occurred over the past 650,000 years?\n",
      "  - actual output: The context does not provide specific information on the number of cycles of glacial advance and retreat over the past 650,000 years.\n",
      "  - expected output: There have been seven cycles of glacial advance and retreat over the past 650,000 years.\n",
      "  - context: None\n",
      "  - retrieval context: ['The Arctic is warming at more than twice the global average rate, leading to significant ice \\nloss. Antarctic ice sheets are also losing mass, contributing to sea level rise. This melting \\naffects global ocean currents and weather patterns.  \\nGlacial Retreat  \\nGlaciers around the world are retreating, affecting water supplies for millions of people. \\nRegions dependent on glacial meltwater, such as the Himalayas and the Andes, face \\nparticular risks. Glacial melt also impacts hydropower generation and agriculture.  \\nCoastal Erosion  \\nRising sea levels and increased storm surges are accelerating coastal erosion, threatening \\nhomes, infrastructure, and ecosystems. Low -lying islands and coastal regions are especially \\nvulnerable. Coastal communities must invest in adaptation measures like s ea walls and \\nmanaged retreats.  \\nExtreme Weather Events  \\nClimate change is linked to an increase in the frequency and severity of extreme weather', \"Most of these climate changes are attributed to very small variations in Earth's orbit that \\nchange the amount of solar energy our planet receives. During the Holocene epoch, which \\nbegan at the end of the last ice age, human societies f lourished, but the industrial era has seen \\nunprecedented changes.  \\nModern Observations  \\nModern scientific observations indicate a rapid increase in global temperatures, sea levels, \\nand extreme weather events. The Intergovernmental Panel on Climate Change (IPCC) has \\ndocumented these changes extensively. Ice core samples, tree rings, and ocean sediments \\nprovide a historical record that scientists use to understand past climate conditions and \\npredict future trends. The evidence overwhelmingly shows that recent changes are primarily \\ndriven by human activities, particularly the emission of greenhou se gases.  \\nChapter 2: Causes of Climate Change  \\nGreenhouse Gases\"]\n",
      "\n",
      "======================================================================\n",
      "\n",
      "Metrics Summary\n",
      "\n",
      "  - ✅ Correctness (GEval) (score: 0.8967742144114386, threshold: 0.5, strict: False, evaluation model: gpt-4o, reason: The actual output accurately identifies human activities and burning of fossil fuels as significant contributors to climate change, aligning with the expected output, but omits deforestation., error: None)\n",
      "  - ✅ Faithfulness (score: 1.0, threshold: 0.7, strict: False, evaluation model: gpt-4, reason: None, error: None)\n",
      "  - ✅ Contextual Relevancy (score: 1.0, threshold: 1.0, strict: False, evaluation model: gpt-4, reason: The score is 1.00 because all the statements provided in the retrieval context are highly relevant to the input. They discuss human activities and their impact on climate change, the role of greenhouse gases, the industrial revolution and its effects, and evidence supporting these phenomena. There are no irrelevant context mentioned., error: None)\n",
      "\n",
      "For test case:\n",
      "\n",
      "  - input: What activities have significantly contributed to climate change over the past century?\n",
      "  - actual output: The significant contributors to climate change over the past century are human activities, particularly the burning of fossil fuels such as coal, oil, and natural gas for energy, which release large amounts of carbon dioxide (CO2) and other greenhouse gases into the atmosphere.\n",
      "  - expected output: Human activities, particularly the burning of fossil fuels and deforestation, have significantly contributed to climate change.\n",
      "  - context: None\n",
      "  - retrieval context: ['driven by human activities, particularly the emission of greenhou se gases.  \\nChapter 2: Causes of Climate Change  \\nGreenhouse Gases  \\nThe primary cause of recent climate change is the increase in greenhouse gases in the \\natmosphere. Greenhouse gases, such as carbon dioxide (CO2), methane (CH4), and nitrous \\noxide (N2O), trap heat from the sun, creating a \"greenhouse effect.\" This effect is  essential \\nfor life on Earth, as it keeps the planet warm enough to support life. However, human \\nactivities have intensified this natural process, leading to a warmer climate.  \\nFossil Fuels  \\nBurning fossil fuels for energy releases large amounts of CO2. This includes coal, oil, and \\nnatural gas used for electricity, heating, and transportation. The industrial revolution marked \\nthe beginning of a significant increase in fossil fuel consumption, which continues to rise \\ntoday.  \\nCoal', \"Most of these climate changes are attributed to very small variations in Earth's orbit that \\nchange the amount of solar energy our planet receives. During the Holocene epoch, which \\nbegan at the end of the last ice age, human societies f lourished, but the industrial era has seen \\nunprecedented changes.  \\nModern Observations  \\nModern scientific observations indicate a rapid increase in global temperatures, sea levels, \\nand extreme weather events. The Intergovernmental Panel on Climate Change (IPCC) has \\ndocumented these changes extensively. Ice core samples, tree rings, and ocean sediments \\nprovide a historical record that scientists use to understand past climate conditions and \\npredict future trends. The evidence overwhelmingly shows that recent changes are primarily \\ndriven by human activities, particularly the emission of greenhou se gases.  \\nChapter 2: Causes of Climate Change  \\nGreenhouse Gases\"]\n",
      "\n",
      "======================================================================\n",
      "\n",
      "Metrics Summary\n",
      "\n",
      "  - ✅ Correctness (GEval) (score: 0.9519643029939322, threshold: 0.5, strict: False, evaluation model: gpt-4o, reason: The actual output is factually correct and aligns with the expected output by providing additional relevant details about climate change., error: None)\n",
      "  - ✅ Faithfulness (score: 1.0, threshold: 0.7, strict: False, evaluation model: gpt-4, reason: None, error: None)\n",
      "  - ❌ Contextual Relevancy (score: 0.5454545454545454, threshold: 1.0, strict: False, evaluation model: gpt-4, reason: The score is 0.55 because while there are detailed explanations of what climate change refers to, there are also statements in the retrieval context like 'managed retreats', 'Extreme Weather Events', 'Hurricanes and Typhoons', 'Droughts', and 'Flooding' that are not directly explaining what climate change refers to. These irrelevant statements are potentially lowering the contextual relevancy score., error: None)\n",
      "\n",
      "For test case:\n",
      "\n",
      "  - input: What does climate change refer to?\n",
      "  - actual output: Climate change refers to significant, long-term changes in the global climate, including alterations in temperature, precipitation, and wind patterns over an extended period.\n",
      "  - expected output: Climate change refers to significant, long-term changes in the global climate.\n",
      "  - context: None\n",
      "  - retrieval context: ['Understanding Climate Change  \\nChapter 1: Introduction to Climate Change  \\nClimate change refers to significant, long -term changes in the global climate. The term \\n\"global climate\" encompasses the planet\\'s overall weather patterns, including temperature, \\nprecipitation, and wind patterns, over an extended period. Over the past cent ury, human \\nactivities, particularly the burning of fossil fuels and deforestation, have significantly \\ncontributed to climate change.  \\nHistorical Context  \\nThe Earth\\'s climate has changed throughout history. Over the past 650,000 years, there have \\nbeen seven cycles of glacial advance and retreat, with the abrupt end of the last ice age about \\n11,700 years ago marking the beginning of the modern climate era and  human civilization. \\nMost of these climate changes are attributed to very small variations in Earth\\'s orbit that \\nchange the amount of solar energy our planet receives. During the Holocene epoch, which', 'managed retreats.  \\nExtreme Weather Events  \\nClimate change is linked to an increase in the frequency and severity of extreme weather \\nevents, such as hurricanes, heatwaves, droughts, and heavy rainfall. These events can have \\ndevastating impacts on communities, economies, and ecosystems.  \\nHurricanes and Typhoons  \\nWarmer ocean temperatures can intensify hurricanes and typhoons, leading to more \\ndestructive storms. Coastal regions are at heightened risk of storm surge and flooding. Early \\nwarning systems and resilient infrastructure are critical for mitigating these ri sks. \\nDroughts  \\nIncreased temperatures and changing precipitation patterns are contributing to more frequent \\nand severe droughts. This affects agriculture, water supply, and ecosystems, particularly in \\narid and semi -arid regions. Droughts can lead to food and water shorta ges and exacerbate \\nconflicts.  \\nFlooding  \\nHeavy rainfall events are becoming more common, leading to increased flooding. Urban']\n",
      "\n",
      "======================================================================\n",
      "\n",
      "Overall Metric Pass Rates\n",
      "\n",
      "Correctness (GEval): 80.00% pass rate\n",
      "Faithfulness: 100.00% pass rate\n",
      "Contextual Relevancy: 20.00% pass rate\n",
      "\n",
      "======================================================================\n",
      "\n"
     ]
    },
    {
     "name": "stderr",
     "output_type": "stream",
     "text": [
      "\n"
     ]
    },
    {
     "data": {
      "text/html": [
       "<pre style=\"white-space:pre;overflow-x:auto;line-height:normal;font-family:Menlo,'DejaVu Sans Mono',consolas,'Courier New',monospace\"><span style=\"color: #05f58d; text-decoration-color: #05f58d\">✓</span> Tests finished 🎉! Run <span style=\"color: #008000; text-decoration-color: #008000\">'deepeval login'</span> to save and analyze evaluation results on Confident AI. \n",
       "‼️  Friendly reminder 😇: You can also run evaluations with ALL of deepeval's metrics directly on Confident AI \n",
       "instead.\n",
       "</pre>\n"
      ],
      "text/plain": [
       "\u001b[38;2;5;245;141m✓\u001b[0m Tests finished 🎉! Run \u001b[32m'deepeval login'\u001b[0m to save and analyze evaluation results on Confident AI. \n",
       "‼️  Friendly reminder 😇: You can also run evaluations with ALL of deepeval's metrics directly on Confident AI \n",
       "instead.\n"
      ]
     },
     "metadata": {},
     "output_type": "display_data"
    }
   ],
   "source": [
    "evaluate_rag(chunks_query_retriever)"
   ]
  }
 ],
 "metadata": {
  "kernelspec": {
   "display_name": "kmy_env",
   "language": "python",
   "name": "python3"
  },
  "language_info": {
   "codemirror_mode": {
    "name": "ipython",
    "version": 3
   },
   "file_extension": ".py",
   "mimetype": "text/x-python",
   "name": "python",
   "nbconvert_exporter": "python",
   "pygments_lexer": "ipython3",
   "version": "3.12.7"
  }
 },
 "nbformat": 4,
 "nbformat_minor": 2
}
