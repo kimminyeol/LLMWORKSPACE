{
 "cells": [
  {
   "cell_type": "markdown",
   "metadata": {},
   "source": [
    "# 문서 검색에서의 계층적 인덱스 (Hierarchical Indices)\n",
    "\n",
    "## 개요\n",
    "계층적 인덱스는 문서 검색의 **효율성**과 **관련성**을 높이기 위한 접근 방식이다.  \n",
    "이 방식은 다음 두 단계로 구성된다:  \n",
    "1. **문서 수준 요약 검색** → 관련 문서 섹션을 빠르게 식별  \n",
    "2. **상세 청크 검색** → 해당 섹션에서만 세부 정보를 추출  \n",
    "\n",
    "이 방법은 특히 **대규모 문서 집합**에서 유리하며, 기존의 평면적 검색이 놓치기 쉬운 **문맥**을 보존한다.\n",
    "\n",
    "---\n",
    "\n",
    "## 주요 구성 요소\n",
    "- **PDF 처리 및 텍스트 청크 분할**  \n",
    "- **GPT-4를 이용한 비동기 문서 요약**  \n",
    "- **요약 및 상세 청크용 벡터 스토어 생성 (FAISS + OpenAI 임베딩)**  \n",
    "- **계층적 검색 함수 (`retrieve_hierarchical`)**  \n",
    "\n",
    "\n",
    "## 방법론\n",
    "1. 문서 전처리 및 인코딩\n",
    "- PDF 파일을 로드한 후, **문서 단위**와 **세부 청크 단위**로 분할한다.  \n",
    "- **GPT-4**를 사용해 각 문서를 비동기적으로 요약한다.  \n",
    "- 요약과 청크를 각각 벡터화하여 두 개의 벡터 스토어를 생성한다:  \n",
    "  - **요약 벡터 스토어** → 문서 수준 검색  \n",
    "  - **상세 청크 벡터 스토어** → 세부 정보 검색  \n",
    "\n",
    "2. 비동기 처리 및 속도 제한\n",
    "- **`asyncio`**를 이용해 병렬 처리로 속도를 최적화한다.  \n",
    "- API 속도 제한을 관리하기 위해 **배치 처리** 및 **지수 백오프**를 적용한다.  \n",
    "\n",
    "3. 계층적 검색 (`retrieve_hierarchical`)\n",
    "이 함수는 다음 단계를 거친다:\n",
    "\n",
    "- **요약 검색** → 관련 문서 섹션을 빠르게 식별  \n",
    "- **상세 청크 검색** → 식별된 섹션 내에서만 세부 정보 검색  \n",
    "\n",
    "이 방식을 통해 **세부 정보**가 불필요한 문서에서 검색되는 문제를 방지한다.  \n",
    "\n",
    "---\n",
    "\n",
    "## 장점\n",
    "✅ **검색 효율성** → 관련 문서 섹션만을 대상으로 하므로 검색 속도가 빨라진다.  \n",
    "✅ **컨텍스트 보존** → 요약을 통해 검색된 문서의 핵심 내용을 유지한다.  \n",
    "✅ **확장성** → 대규모 문서 집합에서도 빠르고 정확한 검색이 가능하다.  \n",
    "✅ **유연성** → 검색 시 반환할 요약 및 청크 수를 조절해 다양한 요구에 대응한다.  \n",
    "\n",
    "## 결론\n",
    "계층적 인덱싱은 **대규모 문서**, **복잡한 콘텐츠**, **심화 정보 검색**에 적합한 강력한 검색 기법이다.  \n",
    "문서 수준 요약과 세부 청크 검색을 결합해 **검색 정확도**와 **문맥 유지**를 동시에 실현한다.  \n",
    "이 방법은 법률 분석, 학술 연구, 대규모 데이터 검색 등 다양한 분야에서 효율적인 검색 성능을 제공한다.\n"
   ]
  },
  {
   "cell_type": "markdown",
   "metadata": {},
   "source": [
    "<div style=\"text-align: center;\">\n",
    "\n",
    "<img src=\"../images/hierarchical_indices.svg\" alt=\"hierarchical_indices\" style=\"width:50%; height:auto;\">\n",
    "</div>"
   ]
  },
  {
   "cell_type": "markdown",
   "metadata": {},
   "source": [
    "<div style=\"text-align: center;\">\n",
    "\n",
    "<img src=\"../images/hierarchical_indices_example.svg\" alt=\"hierarchical_indices\" style=\"width:100%; height:auto;\">\n",
    "</div>"
   ]
  },
  {
   "cell_type": "markdown",
   "metadata": {},
   "source": [
    "### Import libraries "
   ]
  },
  {
   "cell_type": "code",
   "execution_count": 1,
   "metadata": {},
   "outputs": [
    {
     "name": "stderr",
     "output_type": "stream",
     "text": [
      "/var/folders/gl/6qlsk6x94klgs54qzsg9q1jm0000gn/T/ipykernel_4545/75755112.py:10: LangChainDeprecationWarning: As of langchain-core 0.3.0, LangChain uses pydantic v2 internally. The langchain_core.pydantic_v1 module was a compatibility shim for pydantic v1, and should no longer be used. Please update the code to import from Pydantic directly.\n",
      "\n",
      "For example, replace imports like: `from langchain_core.pydantic_v1 import BaseModel`\n",
      "with: `from pydantic import BaseModel`\n",
      "or the v1 compatibility namespace if you are working in a code base that has not been fully upgraded to pydantic 2 yet. \tfrom pydantic.v1 import BaseModel\n",
      "\n",
      "  from helper_functions import *\n",
      "/opt/anaconda3/envs/kmy_env/lib/python3.12/site-packages/deepeval/__init__.py:49: UserWarning: You are using deepeval version 1.4.5, however version 1.4.7 is available. You should consider upgrading via the \"pip install --upgrade deepeval\" command.\n",
      "  warnings.warn(\n"
     ]
    }
   ],
   "source": [
    "import asyncio\n",
    "import os\n",
    "import sys\n",
    "from dotenv import load_dotenv\n",
    "from langchain_openai import ChatOpenAI\n",
    "from langchain.chains.summarize.chain import load_summarize_chain\n",
    "from langchain.docstore.document import Document\n",
    "\n",
    "sys.path.append(os.path.abspath(os.path.join(os.getcwd(), '..'))) # Add the parent directory to the path sicnce we work with notebooks\n",
    "from helper_functions import *\n",
    "from evaluation.evalute_rag import *\n",
    "from helper_functions import encode_pdf, encode_from_string\n",
    "\n",
    "# Load environment variables from a .env file\n",
    "load_dotenv()\n",
    "\n",
    "# Set the OpenAI API key environment variable\n",
    "os.environ[\"OPENAI_API_KEY\"] = os.getenv('OPENAI_API_KEY')"
   ]
  },
  {
   "cell_type": "markdown",
   "metadata": {},
   "source": [
    "### Define document path"
   ]
  },
  {
   "cell_type": "code",
   "execution_count": 2,
   "metadata": {},
   "outputs": [],
   "source": [
    "path = \"../data/Understanding_Climate_Change.pdf\""
   ]
  },
  {
   "cell_type": "markdown",
   "metadata": {},
   "source": [
    "### Function to encode to both summary and chunk levels, sharing the page metadata"
   ]
  },
  {
   "cell_type": "code",
   "execution_count": 3,
   "metadata": {},
   "outputs": [],
   "source": [
    "async def encode_pdf_hierarchical(path, chunk_size=1000, chunk_overlap=200, is_string=False):\n",
    "    \"\"\"\n",
    "    PDF 책을 계층적 벡터 스토어로 비동기적으로 인코딩합니다. OpenAI 임베딩을 사용하며,\n",
    "    지수 백오프를 통해 속도 제한을 처리합니다.\n",
    "\n",
    "    Args:\n",
    "        path: PDF 파일의 경로.\n",
    "        chunk_size: 각 텍스트 청크의 원하는 크기.\n",
    "        chunk_overlap: 연속적인 청크 간의 겹침 크기.\n",
    "        \n",
    "    Returns:\n",
    "        두 개의 FAISS 벡터 스토어를 포함하는 튜플:\n",
    "        1. 문서 수준 요약 벡터 스토어\n",
    "        2. 상세 청크 벡터 스토어\n",
    "    \"\"\"\n",
    "    \n",
    "    # Step 1: PDF 문서 로드\n",
    "    if not is_string: # 파일일 경우 비동기 처리 -> pdf 파일을 읽고 문서 객체로 변환하는 과정 \n",
    "        # PDF 경로에서 문서를 로드\n",
    "        loader = PyPDFLoader(path)\n",
    "        # 비동기적으로 로드 작업을 수행하여 I/O를 비동기화 => 다른 작업 처리할 수 있도록함 \n",
    "        documents = await asyncio.to_thread(loader.load) \n",
    "    # 파일 경로가 아니면 문자열이기 때문에 직접 분할 \n",
    "    else:\n",
    "        # 텍스트 청크 분할기 설정, 텍스트에서 문서를 생성할 때 사용\n",
    "        text_splitter = RecursiveCharacterTextSplitter(\n",
    "            chunk_size=chunk_size,\n",
    "            chunk_overlap=chunk_overlap,\n",
    "            length_function=len,\n",
    "            is_separator_regex=False,\n",
    "        )\n",
    "        # 문자열로 전달된 경우 텍스트를 청크로 분할\n",
    "        documents = text_splitter.create_documents([path])\n",
    "\n",
    "    # Step 2: 문서 수준 요약 생성\n",
    "    # GPT-4를 사용하여 요약 체인을 설정\n",
    "    summary_llm = ChatOpenAI(temperature=0, model_name=\"gpt-4o-mini\", max_tokens=4000)\n",
    "    summary_chain = load_summarize_chain(summary_llm, chain_type=\"map_reduce\")\n",
    "    \n",
    "\n",
    "    # 문서를 넣으면 요약하는 함수 \n",
    "    async def summarize_doc(doc):\n",
    "        \"\"\"\n",
    "        단일 문서를 요약하며 속도 제한을 처리합니다.\n",
    "        \n",
    "        Args:\n",
    "            doc: 요약할 문서.\n",
    "            \n",
    "        Returns:\n",
    "            요약된 Document 객체.\n",
    "        \"\"\"\n",
    "        # 지수 백오프를 통해 요약 호출을 재시도\n",
    "        summary_output = await retry_with_exponential_backoff(summary_chain.ainvoke([doc]))\n",
    "        summary = summary_output['output_text']\n",
    "        return Document(\n",
    "            page_content=summary,\n",
    "            metadata={\"source\": path, \"page\": doc.metadata[\"page\"], \"summary\": True}\n",
    "        )\n",
    "\n",
    "    # Step 3: 문서들을 작은 배치로 처리하여 속도 제한 방지 -> 요약한 내용을 \n",
    "    batch_size = 5  # API 속도 제한에 따라 조정 가능\n",
    "    summaries = []\n",
    "    # 문서를 배치로 나누어 요약을 수행\n",
    "    for i in range(0, len(documents), batch_size):\n",
    "        batch = documents[i:i+batch_size]\n",
    "        # 각 문서에 대해 요약 작업을 비동기로 수행\n",
    "        batch_summaries = await asyncio.gather(*[summarize_doc(doc) for doc in batch])\n",
    "        summaries.extend(batch_summaries)\n",
    "        await asyncio.sleep(1)  # 각 배치 간에 잠시 대기\n",
    "\n",
    "    # Step 4: 상세 청크로 문서 분할\n",
    "    text_splitter = RecursiveCharacterTextSplitter(\n",
    "        chunk_size=chunk_size, chunk_overlap=chunk_overlap, length_function=len\n",
    "    )\n",
    "    # 문서를 비동기적으로 청크로 분할\n",
    "    detailed_chunks = await asyncio.to_thread(text_splitter.split_documents, documents)\n",
    "\n",
    "    # Step 5: 상세 청크에 메타데이터 업데이트\n",
    "    for i, chunk in enumerate(detailed_chunks):\n",
    "        # 각 청크에 청크 ID, 요약 여부, 페이지 번호 등 메타데이터 추가 -> 요약하지 않음 \n",
    "        chunk.metadata.update({\n",
    "            \"chunk_id\": i,\n",
    "            \"summary\": False,\n",
    "            \"page\": int(chunk.metadata.get(\"page\", 0))\n",
    "        })\n",
    "\n",
    "    # Step 6: 임베딩 생성\n",
    "    embeddings = OpenAIEmbeddings()\n",
    "\n",
    "    # 벡터 스토어 생성 함수 정의 -> 요약이나 상세 청크 분할한 것을 벡터 스토어에 넣음 \n",
    "    async def create_vectorstore(docs):\n",
    "        \"\"\"\n",
    "        주어진 문서 목록으로부터 벡터 스토어를 생성하며 속도 제한을 처리합니다.\n",
    "        \n",
    "        Args:\n",
    "            docs: 임베딩할 문서 목록.\n",
    "            \n",
    "        Returns:\n",
    "            임베딩된 문서들이 포함된 FAISS 벡터 스토어.\n",
    "        \"\"\"\n",
    "        # 지수 백오프를 통해 벡터 스토어 생성 호출을 재시도\n",
    "        return await retry_with_exponential_backoff(\n",
    "            asyncio.to_thread(FAISS.from_documents, docs, embeddings)\n",
    "        )\n",
    "\n",
    "    # Step 7: 요약 및 상세 청크에 대한 벡터 스토어를 비동기로 동시에 생성\n",
    "    summary_vectorstore, detailed_vectorstore = await asyncio.gather(\n",
    "        create_vectorstore(summaries),\n",
    "        create_vectorstore(detailed_chunks)\n",
    "    )\n",
    "\n",
    "    # 요약 벡터 스토어와 상세 청크 벡터 스토어 반환\n",
    "    return summary_vectorstore, detailed_vectorstore\n"
   ]
  },
  {
   "cell_type": "markdown",
   "metadata": {},
   "source": [
    "##### 요약한 문서 -> 페이지 존재 , 디테일 청크 -> 페이지 넘버 존재 \n",
    "##### 그러므로, 요약한 문서를 바탕으로 먼저 리트리버하고, 해당 페이지 넘버와 일치하는 디테일 청크를 뽑아내는 방식 "
   ]
  },
  {
   "cell_type": "markdown",
   "metadata": {},
   "source": [
    "### 요약과 디테일 청크 반환"
   ]
  },
  {
   "cell_type": "code",
   "execution_count": 4,
   "metadata": {},
   "outputs": [],
   "source": [
    "# pdf를 요약 벡터 스토어, detail 벡터 스토어로 만듦 \n",
    "if os.path.exists(\"../vector_stores/summary_store\") and os.path.exists(\"../vector_stores/detailed_store\"):\n",
    "   embeddings = OpenAIEmbeddings()\n",
    "   summary_store = FAISS.load_local(\"../vector_stores/summary_store\", embeddings, allow_dangerous_deserialization=True)\n",
    "   detailed_store = FAISS.load_local(\"../vector_stores/detailed_store\", embeddings, allow_dangerous_deserialization=True)\n",
    "\n",
    "else:\n",
    "    summary_store, detailed_store = await encode_pdf_hierarchical(path)\n",
    "    summary_store.save_local(\"../vector_stores/summary_store\")\n",
    "    detailed_store.save_local(\"../vector_stores/detailed_store\")\n"
   ]
  },
  {
   "cell_type": "markdown",
   "metadata": {},
   "source": [
    "### Retrieve information according to summary level, and then retrieve information from the chunk level vector store and filter according to the summary level pages"
   ]
  },
  {
   "cell_type": "code",
   "execution_count": 5,
   "metadata": {},
   "outputs": [],
   "source": [
    "# 요약에서 topk만큼 쿼리와 유사한 것 뽑고\n",
    "# 뽑은 것에 해당하는 pdf 페이지 넘버 받은 후에\n",
    "# detail chunk에서 topk만큼 유사한 것 뽑기 \n",
    "def retrieve_hierarchical(query, summary_vectorstore, detailed_vectorstore, k_summaries=3, k_chunks=5):\n",
    "\n",
    "    # top 요약\n",
    "    top_summaries = summary_vectorstore.similarity_search(query, k=k_summaries)\n",
    "    \n",
    "    relevant_chunks = []\n",
    "    for summary in top_summaries:\n",
    "        # 요약된 페이지 번호를 가져와서 해당 페이지의 청크를 가져옴\n",
    "        page_number = summary.metadata[\"page\"]\n",
    "        page_filter = lambda metadata: metadata[\"page\"] == page_number\n",
    "        page_chunks = detailed_vectorstore.similarity_search(\n",
    "            query, \n",
    "            k=k_chunks, \n",
    "            filter=page_filter\n",
    "        )\n",
    "        relevant_chunks.extend(page_chunks)\n",
    "    \n",
    "    return relevant_chunks"
   ]
  },
  {
   "cell_type": "markdown",
   "metadata": {},
   "source": [
    "### Demonstrate on a use case"
   ]
  },
  {
   "cell_type": "code",
   "execution_count": 6,
   "metadata": {},
   "outputs": [
    {
     "name": "stdout",
     "output_type": "stream",
     "text": [
      "Page: 0\n",
      "Content: driven by human activities, particularly the emission of greenhou se gases.  \n",
      "Chapter 2: Causes of Climate Change  \n",
      "Greenhouse Gases  \n",
      "The primary cause of recent climate change is the increase in greenhouse gases in the \n",
      "atmosphere. Greenhouse gases, such as carbon dioxide (CO2), methane (CH4), and nitrous \n",
      "oxide (N2O), trap heat from the sun, creating a \"greenhouse effect.\" This effect is  essential \n",
      "for life on Earth, as it keeps the planet warm enough to support life. However, human \n",
      "activities have intensified this natural process, leading to a warmer climate.  \n",
      "Fossil Fuels  \n",
      "Burning fossil fuels for energy releases large amounts of CO2. This includes coal, oil, and \n",
      "natural gas used for electricity, heating, and transportation. The industrial revolution marked \n",
      "the beginning of a significant increase in fossil fuel consumption, which continues to rise \n",
      "today.  \n",
      "Coal...\n",
      "---\n",
      "Page: 0\n",
      "Content: Most of these climate changes are attributed to very small variations in Earth's orbit that \n",
      "change the amount of solar energy our planet receives. During the Holocene epoch, which \n",
      "began at the end of the last ice age, human societies f lourished, but the industrial era has seen \n",
      "unprecedented changes.  \n",
      "Modern Observations  \n",
      "Modern scientific observations indicate a rapid increase in global temperatures, sea levels, \n",
      "and extreme weather events. The Intergovernmental Panel on Climate Change (IPCC) has \n",
      "documented these changes extensively. Ice core samples, tree rings, and ocean sediments \n",
      "provide a historical record that scientists use to understand past climate conditions and \n",
      "predict future trends. The evidence overwhelmingly shows that recent changes are primarily \n",
      "driven by human activities, particularly the emission of greenhou se gases.  \n",
      "Chapter 2: Causes of Climate Change  \n",
      "Greenhouse Gases...\n",
      "---\n",
      "Page: 0\n",
      "Content: Understanding Climate Change  \n",
      "Chapter 1: Introduction to Climate Change  \n",
      "Climate change refers to significant, long -term changes in the global climate. The term \n",
      "\"global climate\" encompasses the planet's overall weather patterns, including temperature, \n",
      "precipitation, and wind patterns, over an extended period. Over the past cent ury, human \n",
      "activities, particularly the burning of fossil fuels and deforestation, have significantly \n",
      "contributed to climate change.  \n",
      "Historical Context  \n",
      "The Earth's climate has changed throughout history. Over the past 650,000 years, there have \n",
      "been seven cycles of glacial advance and retreat, with the abrupt end of the last ice age about \n",
      "11,700 years ago marking the beginning of the modern climate era and  human civilization. \n",
      "Most of these climate changes are attributed to very small variations in Earth's orbit that \n",
      "change the amount of solar energy our planet receives. During the Holocene epoch, which...\n",
      "---\n",
      "Page: 1\n",
      "Content: Natural gas is the least carbon -intensive fossil fuel and is often seen as a \"bridge fuel\" to a \n",
      "lower -carbon future. However, its extraction and use still contribute to greenhouse gas \n",
      "emissions, particularly methane, which is a potent greenhouse gas. Innov ations in fracking \n",
      "technology have made natural gas more accessible, but this comes with environmental and \n",
      "health concerns.  \n",
      "Deforestation  \n",
      "Forests act as carbon sinks, absorbing CO2 from the atmosphere. When trees are cut down \n",
      "for timber or to clear land for agriculture, this stored carbon is released back into the \n",
      "atmosphere. Deforestation reduces the number of trees that can absorb CO2, exa cerbating the \n",
      "greenhouse effect.  \n",
      "Tropical Deforestation  \n",
      "Tropical rainforests are particularly important for carbon storage. Deforestation in the \n",
      "Amazon, Congo Basin, and Southeast Asia has significant impacts on global carbon cycles...\n",
      "---\n"
     ]
    }
   ],
   "source": [
    "query = \"What is the greenhouse effect?\"\n",
    "results = retrieve_hierarchical(query, summary_store, detailed_store)\n",
    "\n",
    "# Print results\n",
    "for chunk in results:\n",
    "    print(f\"Page: {chunk.metadata['page']}\")\n",
    "    print(f\"Content: {chunk.page_content}...\")  # Print first 100 characters\n",
    "    print(\"---\")"
   ]
  },
  {
   "cell_type": "code",
   "execution_count": 7,
   "metadata": {},
   "outputs": [
    {
     "data": {
      "text/plain": [
       "[Document(metadata={'source': '../data/Understanding_Climate_Change.pdf', 'page': 0, 'chunk_id': 2, 'summary': False}, page_content='driven by human activities, particularly the emission of greenhou se gases.  \\nChapter 2: Causes of Climate Change  \\nGreenhouse Gases  \\nThe primary cause of recent climate change is the increase in greenhouse gases in the \\natmosphere. Greenhouse gases, such as carbon dioxide (CO2), methane (CH4), and nitrous \\noxide (N2O), trap heat from the sun, creating a \"greenhouse effect.\" This effect is  essential \\nfor life on Earth, as it keeps the planet warm enough to support life. However, human \\nactivities have intensified this natural process, leading to a warmer climate.  \\nFossil Fuels  \\nBurning fossil fuels for energy releases large amounts of CO2. This includes coal, oil, and \\nnatural gas used for electricity, heating, and transportation. The industrial revolution marked \\nthe beginning of a significant increase in fossil fuel consumption, which continues to rise \\ntoday.  \\nCoal'),\n",
       " Document(metadata={'source': '../data/Understanding_Climate_Change.pdf', 'page': 0, 'chunk_id': 1, 'summary': False}, page_content=\"Most of these climate changes are attributed to very small variations in Earth's orbit that \\nchange the amount of solar energy our planet receives. During the Holocene epoch, which \\nbegan at the end of the last ice age, human societies f lourished, but the industrial era has seen \\nunprecedented changes.  \\nModern Observations  \\nModern scientific observations indicate a rapid increase in global temperatures, sea levels, \\nand extreme weather events. The Intergovernmental Panel on Climate Change (IPCC) has \\ndocumented these changes extensively. Ice core samples, tree rings, and ocean sediments \\nprovide a historical record that scientists use to understand past climate conditions and \\npredict future trends. The evidence overwhelmingly shows that recent changes are primarily \\ndriven by human activities, particularly the emission of greenhou se gases.  \\nChapter 2: Causes of Climate Change  \\nGreenhouse Gases\"),\n",
       " Document(metadata={'source': '../data/Understanding_Climate_Change.pdf', 'page': 0, 'chunk_id': 0, 'summary': False}, page_content='Understanding Climate Change  \\nChapter 1: Introduction to Climate Change  \\nClimate change refers to significant, long -term changes in the global climate. The term \\n\"global climate\" encompasses the planet\\'s overall weather patterns, including temperature, \\nprecipitation, and wind patterns, over an extended period. Over the past cent ury, human \\nactivities, particularly the burning of fossil fuels and deforestation, have significantly \\ncontributed to climate change.  \\nHistorical Context  \\nThe Earth\\'s climate has changed throughout history. Over the past 650,000 years, there have \\nbeen seven cycles of glacial advance and retreat, with the abrupt end of the last ice age about \\n11,700 years ago marking the beginning of the modern climate era and  human civilization. \\nMost of these climate changes are attributed to very small variations in Earth\\'s orbit that \\nchange the amount of solar energy our planet receives. During the Holocene epoch, which'),\n",
       " Document(metadata={'source': '../data/Understanding_Climate_Change.pdf', 'page': 1, 'chunk_id': 4, 'summary': False}, page_content='Natural gas is the least carbon -intensive fossil fuel and is often seen as a \"bridge fuel\" to a \\nlower -carbon future. However, its extraction and use still contribute to greenhouse gas \\nemissions, particularly methane, which is a potent greenhouse gas. Innov ations in fracking \\ntechnology have made natural gas more accessible, but this comes with environmental and \\nhealth concerns.  \\nDeforestation  \\nForests act as carbon sinks, absorbing CO2 from the atmosphere. When trees are cut down \\nfor timber or to clear land for agriculture, this stored carbon is released back into the \\natmosphere. Deforestation reduces the number of trees that can absorb CO2, exa cerbating the \\ngreenhouse effect.  \\nTropical Deforestation  \\nTropical rainforests are particularly important for carbon storage. Deforestation in the \\nAmazon, Congo Basin, and Southeast Asia has significant impacts on global carbon cycles')]"
      ]
     },
     "execution_count": 7,
     "metadata": {},
     "output_type": "execute_result"
    }
   ],
   "source": [
    "results"
   ]
  },
  {
   "cell_type": "markdown",
   "metadata": {},
   "source": [
    "## 내 생각\n",
    "1. 문서 수준의 요약본 \n",
    "2. 문서 그대로의 디테일 청크 \n",
    "-> 위를 동시에 저장하여 벡터스토어 생성\n",
    "3. 요약한 문서를 기반으로 1차 검색\n",
    "4. 1차 검색된 페이지를 기반으로 해당 페이지에 속해있는 detail chunk에서 2차 검색\n"
   ]
  }
 ],
 "metadata": {
  "kernelspec": {
   "display_name": "kmy_env",
   "language": "python",
   "name": "python3"
  },
  "language_info": {
   "codemirror_mode": {
    "name": "ipython",
    "version": 3
   },
   "file_extension": ".py",
   "mimetype": "text/x-python",
   "name": "python",
   "nbconvert_exporter": "python",
   "pygments_lexer": "ipython3",
   "version": "3.12.7"
  }
 },
 "nbformat": 4,
 "nbformat_minor": 2
}
