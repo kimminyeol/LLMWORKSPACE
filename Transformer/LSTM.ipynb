{
 "cells": [
  {
   "cell_type": "code",
   "execution_count": 1,
   "metadata": {},
   "outputs": [],
   "source": [
    "import numpy as np\n",
    "import tensorflow as tf\n",
    "from tensorflow.keras.layers import SimpleRNN, LSTM, Bidirectional\n"
   ]
  },
  {
   "cell_type": "code",
   "execution_count": 4,
   "metadata": {},
   "outputs": [],
   "source": [
    "X_train=np.random.random((1,4,5))\n",
    "# 문장의 길이가 4이고 단어의 벡터가 5인 경우 \n",
    "# 즉, 4번의 시점이 존재하고, 각 시점마다 5차원의 단어벡터가 입력으로 사용됨 \n",
    "# batch_size가 1"
   ]
  },
  {
   "cell_type": "markdown",
   "metadata": {},
   "source": [
    "## RNN"
   ]
  },
  {
   "cell_type": "code",
   "execution_count": 6,
   "metadata": {},
   "outputs": [
    {
     "name": "stdout",
     "output_type": "stream",
     "text": [
      "tf.Tensor([[0.35173148 0.84430665 0.96924275]], shape=(1, 3), dtype=float32)\n"
     ]
    },
    {
     "data": {
      "text/plain": [
       "TensorShape([1, 3])"
      ]
     },
     "execution_count": 6,
     "metadata": {},
     "output_type": "execute_result"
    }
   ],
   "source": [
    "rnn= SimpleRNN(3) # 은닉 상태를 3으로 지정\n",
    "hidden_state=rnn(X_train)\n",
    "print(hidden_state)\n",
    "hidden_state.shape"
   ]
  },
  {
   "cell_type": "code",
   "execution_count": 9,
   "metadata": {},
   "outputs": [
    {
     "name": "stdout",
     "output_type": "stream",
     "text": [
      "tf.Tensor(\n",
      "[[[-0.60711676  0.5254308  -0.7699579 ]\n",
      "  [-0.96744573 -0.5893576  -0.8123448 ]\n",
      "  [-0.9827054   0.6804485  -0.8937508 ]\n",
      "  [-0.9809829  -0.87479895 -0.87841606]]], shape=(1, 4, 3), dtype=float32)\n"
     ]
    },
    {
     "data": {
      "text/plain": [
       "TensorShape([1, 4, 3])"
      ]
     },
     "execution_count": 9,
     "metadata": {},
     "output_type": "execute_result"
    }
   ],
   "source": [
    "# 모든 시점의 은닉 상태 출력 \n",
    "rnn= SimpleRNN(3,return_sequences=True) # 은닉 상태를 3으로 지정\n",
    "hidden_state=rnn(X_train)\n",
    "print(hidden_state)\n",
    "hidden_state.shape"
   ]
  },
  {
   "cell_type": "code",
   "execution_count": 12,
   "metadata": {},
   "outputs": [
    {
     "data": {
      "text/plain": [
       "(<tf.Tensor: shape=(1, 4, 3), dtype=float32, numpy=\n",
       " array([[[ 0.2825431 , -0.61816096, -0.1304721 ],\n",
       "         [ 0.5001664 , -0.0368742 ,  0.5530929 ],\n",
       "         [ 0.85117483, -0.9208489 , -0.4091828 ],\n",
       "         [ 0.93318224, -0.16590558, -0.26191142]]], dtype=float32)>,\n",
       " <tf.Tensor: shape=(1, 3), dtype=float32, numpy=array([[ 0.93318224, -0.16590558, -0.26191142]], dtype=float32)>)"
      ]
     },
     "execution_count": 12,
     "metadata": {},
     "output_type": "execute_result"
    }
   ],
   "source": [
    "# 모든 시점의 은닉 상태 출력 \n",
    "rnn= SimpleRNN(3,return_state=True,return_sequences=True) # 은닉 상태를 3으로 지정\n",
    "hidden_state=rnn(X_train)\n",
    "hidden_state # 마지막, 모든 시점 모두 출력 "
   ]
  },
  {
   "cell_type": "markdown",
   "metadata": {},
   "source": [
    "## LSTM\n",
    "- 마지막 은닉\n",
    "- 모든 은닉 \n",
    "- 마지막 cell state"
   ]
  },
  {
   "cell_type": "code",
   "execution_count": 14,
   "metadata": {},
   "outputs": [
    {
     "name": "stdout",
     "output_type": "stream",
     "text": [
      "hidden states : [[[ 0.08797897 -0.03385496  0.1893196 ]\n",
      "  [ 0.05482988 -0.01693342  0.29554683]\n",
      "  [ 0.07788294 -0.04160867  0.36548486]\n",
      "  [ 0.1319064  -0.02133337  0.47830945]]], shape: (1, 4, 3)\n",
      "last hidden state : [[ 0.1319064  -0.02133337  0.47830945]], shape: (1, 3)\n",
      "last cell state : [[ 0.31160527 -0.06836465  1.0957663 ]], shape: (1, 3)\n"
     ]
    }
   ],
   "source": [
    "lstm = LSTM(3, return_sequences=True, return_state=True)\n",
    "hidden_states, last_hidden_state, last_cell_state = lstm(X_train)\n",
    "\n",
    "print('hidden states : {}, shape: {}'.format(hidden_states, hidden_states.shape))\n",
    "print('last hidden state : {}, shape: {}'.format(last_hidden_state, last_hidden_state.shape))\n",
    "print('last cell state : {}, shape: {}'.format(last_cell_state, last_cell_state.shape))\n"
   ]
  },
  {
   "cell_type": "code",
   "execution_count": null,
   "metadata": {},
   "outputs": [],
   "source": []
  }
 ],
 "metadata": {
  "kernelspec": {
   "display_name": "Python 3",
   "language": "python",
   "name": "python3"
  },
  "language_info": {
   "codemirror_mode": {
    "name": "ipython",
    "version": 3
   },
   "file_extension": ".py",
   "mimetype": "text/x-python",
   "name": "python",
   "nbconvert_exporter": "python",
   "pygments_lexer": "ipython3",
   "version": "3.12.7"
  }
 },
 "nbformat": 4,
 "nbformat_minor": 2
}
